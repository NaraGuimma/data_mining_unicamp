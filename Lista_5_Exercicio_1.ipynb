{
  "nbformat": 4,
  "nbformat_minor": 0,
  "metadata": {
    "colab": {
      "name": "Lista_5_Exercicio_1.ipynb",
      "provenance": [],
      "collapsed_sections": [],
      "toc_visible": true
    },
    "kernelspec": {
      "name": "python3",
      "display_name": "Python 3"
    },
    "language_info": {
      "name": "python"
    }
  },
  "cells": [
    {
      "cell_type": "code",
      "metadata": {
        "id": "USYY2Nb1y9gD"
      },
      "source": [
        "# libraries \n",
        "\n",
        "\n",
        "import numpy as np\n",
        "import pandas as pd\n",
        "from sklearn.metrics import pairwise_distances\n",
        "from sklearn.metrics.pairwise import cosine_similarity\n",
        "from sklearn.metrics.pairwise import euclidean_distances\n",
        "from sklearn.metrics.pairwise import linear_kernel\n",
        "from scipy import spatial\n",
        "from scipy.stats.stats import pearsonr\n",
        "from sklearn.metrics import jaccard_score\n",
        "from numpy import dot\n",
        "from numpy.linalg import norm\n"
      ],
      "execution_count": 60,
      "outputs": []
    },
    {
      "cell_type": "markdown",
      "metadata": {
        "id": "g9OjfSktwYm1"
      },
      "source": [
        "# Cosine"
      ]
    },
    {
      "cell_type": "code",
      "metadata": {
        "id": "P9H2WeNyieei"
      },
      "source": [
        "def cosine1 (vet1, vet2):\n",
        "  result = cosine_similarity(vet1, vet2)\n",
        "  return result"
      ],
      "execution_count": 2,
      "outputs": []
    },
    {
      "cell_type": "code",
      "metadata": {
        "id": "yubEJOn2yk2O"
      },
      "source": [
        "def cosine2(vet1, vet2):\n",
        "  result = 1 - spatial.distance.cosine(vet1, vet2)\n",
        "  return result"
      ],
      "execution_count": 3,
      "outputs": []
    },
    {
      "cell_type": "code",
      "metadata": {
        "id": "t4BD9VLB2DfU"
      },
      "source": [
        "def cosine3(vet1, vet2):\n",
        "  result = dot(vet1, vet2)/(norm(vet1)*norm(vet2))\n",
        "  return result"
      ],
      "execution_count": 4,
      "outputs": []
    },
    {
      "cell_type": "markdown",
      "metadata": {
        "id": "PN6xaTlLwcwz"
      },
      "source": [
        "# Correlação"
      ]
    },
    {
      "cell_type": "code",
      "metadata": {
        "id": "_NQI50B4rFo-"
      },
      "source": [
        "def correlation(vet1, vet2):\n",
        "  return pearsonr(vet1, vet2)\n"
      ],
      "execution_count": 36,
      "outputs": []
    },
    {
      "cell_type": "markdown",
      "metadata": {
        "id": "xFrZWyUzvWEg"
      },
      "source": [
        "# Jaccard"
      ]
    },
    {
      "cell_type": "code",
      "metadata": {
        "id": "9_t-KWDmr40k"
      },
      "source": [
        "def jaccard(vet1, vet2):\n",
        "  return jaccard_score(vet1, vet2, average='samples')"
      ],
      "execution_count": 71,
      "outputs": []
    },
    {
      "cell_type": "markdown",
      "metadata": {
        "id": "YQOdlBsc3nSm"
      },
      "source": [
        "# Item a"
      ]
    },
    {
      "cell_type": "code",
      "metadata": {
        "colab": {
          "base_uri": "https://localhost:8080/"
        },
        "id": "QoTdLCWD3se7",
        "outputId": "f7bc02e6-bae9-4787-d8a1-59565c4e85f6"
      },
      "source": [
        "#Cosseno\n",
        "a = np.array([[1, 1, 1, 1]])\n",
        "b = np.array([[2, 2, 2, 2]])\n",
        "print(cosine1(a,b))"
      ],
      "execution_count": 69,
      "outputs": [
        {
          "output_type": "stream",
          "name": "stdout",
          "text": [
            "[[1.]]\n"
          ]
        }
      ]
    },
    {
      "cell_type": "code",
      "metadata": {
        "colab": {
          "base_uri": "https://localhost:8080/"
        },
        "id": "uZuhTdbV84Yn",
        "outputId": "5c98624e-8077-4d0a-8b5a-92c1b8ddc2ae"
      },
      "source": [
        "#Cosseno\n",
        "print(cosine2(a,b))"
      ],
      "execution_count": 38,
      "outputs": [
        {
          "output_type": "stream",
          "name": "stdout",
          "text": [
            "1.0\n"
          ]
        }
      ]
    },
    {
      "cell_type": "code",
      "metadata": {
        "colab": {
          "base_uri": "https://localhost:8080/"
        },
        "id": "Qgr_WFdQ_Vqs",
        "outputId": "366e1398-39b8-4f56-c14a-d4d1f69f72f8"
      },
      "source": [
        "#Cosseno\n",
        "x = [1, 1, 1, 1]\n",
        "y = [2, 2, 2, 2]\n",
        "\n",
        "print(cosine3(x,y))"
      ],
      "execution_count": 39,
      "outputs": [
        {
          "output_type": "stream",
          "name": "stdout",
          "text": [
            "1.0\n"
          ]
        }
      ]
    },
    {
      "cell_type": "code",
      "metadata": {
        "colab": {
          "base_uri": "https://localhost:8080/"
        },
        "id": "f7Lr1q-mCuK0",
        "outputId": "e52e8a61-57a9-4279-e2f3-d679870f0258"
      },
      "source": [
        "#Distância Euclidiana\n",
        "c = [[1, 2],[1, 2], [1, 2], [1,2]]\n",
        "print(euclidean_distances(c,c))"
      ],
      "execution_count": 40,
      "outputs": [
        {
          "output_type": "stream",
          "name": "stdout",
          "text": [
            "[[0. 0. 0. 0.]\n",
            " [0. 0. 0. 0.]\n",
            " [0. 0. 0. 0.]\n",
            " [0. 0. 0. 0.]]\n"
          ]
        }
      ]
    },
    {
      "cell_type": "code",
      "metadata": {
        "colab": {
          "base_uri": "https://localhost:8080/"
        },
        "id": "ehR1wCL_OCgg",
        "outputId": "b39e4653-a153-41a9-cd4b-21a6bf4cbf42"
      },
      "source": [
        "#Correlação linear\n",
        "print(correlation(x,y))"
      ],
      "execution_count": 44,
      "outputs": [
        {
          "output_type": "stream",
          "name": "stdout",
          "text": [
            "(nan, nan)\n"
          ]
        },
        {
          "output_type": "stream",
          "name": "stderr",
          "text": [
            "/usr/local/lib/python3.7/dist-packages/scipy/stats/stats.py:3508: PearsonRConstantInputWarning: An input array is constant; the correlation coefficent is not defined.\n",
            "  warnings.warn(PearsonRConstantInputWarning())\n"
          ]
        }
      ]
    },
    {
      "cell_type": "markdown",
      "metadata": {
        "id": "h8xlSMvtANH4"
      },
      "source": [
        "# Item b"
      ]
    },
    {
      "cell_type": "code",
      "metadata": {
        "colab": {
          "base_uri": "https://localhost:8080/"
        },
        "id": "GY44-txo_9mY",
        "outputId": "87e7c741-f464-40af-e3c1-3223ac2c3d2d"
      },
      "source": [
        "#Cosseno\n",
        "a = np.array([[0, 1, 0, 1]])\n",
        "b = np.array([[1, 0, 1, 0]])\n",
        "print(cosine1(a,b))"
      ],
      "execution_count": 73,
      "outputs": [
        {
          "output_type": "stream",
          "name": "stdout",
          "text": [
            "[[0.]]\n"
          ]
        }
      ]
    },
    {
      "cell_type": "code",
      "metadata": {
        "colab": {
          "base_uri": "https://localhost:8080/"
        },
        "id": "2FqM10VyA36i",
        "outputId": "645a70ae-0222-4a92-fc8e-12324a695619"
      },
      "source": [
        "#Cosseno\n",
        "print(cosine2(a,b))"
      ],
      "execution_count": 46,
      "outputs": [
        {
          "output_type": "stream",
          "name": "stdout",
          "text": [
            "0.0\n"
          ]
        }
      ]
    },
    {
      "cell_type": "code",
      "metadata": {
        "colab": {
          "base_uri": "https://localhost:8080/"
        },
        "id": "hq-3DmCuBFTP",
        "outputId": "340583bf-ef37-405c-fe95-993d26a576de"
      },
      "source": [
        "#Cosseno\n",
        "x = np.array([0, 1, 0, 1])\n",
        "y = np.array([1, 0, 1, 0])\n",
        "\n",
        "print(cosine3(x,y))"
      ],
      "execution_count": 47,
      "outputs": [
        {
          "output_type": "stream",
          "name": "stdout",
          "text": [
            "0.0\n"
          ]
        }
      ]
    },
    {
      "cell_type": "code",
      "metadata": {
        "colab": {
          "base_uri": "https://localhost:8080/"
        },
        "id": "ayQuM3baCzrE",
        "outputId": "03a4eb37-3f23-4e1e-9258-d10fb6561983"
      },
      "source": [
        "#Distância Euclidiana\n",
        "c = [[0, 1],[1,0], [0,1], [1,0]]\n",
        "print(euclidean_distances(c,c))"
      ],
      "execution_count": 48,
      "outputs": [
        {
          "output_type": "stream",
          "name": "stdout",
          "text": [
            "[[0.         1.41421356 0.         1.41421356]\n",
            " [1.41421356 0.         1.41421356 0.        ]\n",
            " [0.         1.41421356 0.         1.41421356]\n",
            " [1.41421356 0.         1.41421356 0.        ]]\n"
          ]
        }
      ]
    },
    {
      "cell_type": "code",
      "metadata": {
        "colab": {
          "base_uri": "https://localhost:8080/"
        },
        "id": "S8xGs2P9OmSv",
        "outputId": "cd7d5874-000f-47da-c7e9-b666c18ee94b"
      },
      "source": [
        "#Correlação linear\n",
        "print(correlation(x,y))"
      ],
      "execution_count": 51,
      "outputs": [
        {
          "output_type": "stream",
          "name": "stdout",
          "text": [
            "(-1.0, 0.0)\n"
          ]
        }
      ]
    },
    {
      "cell_type": "code",
      "metadata": {
        "colab": {
          "base_uri": "https://localhost:8080/"
        },
        "id": "q0q-kvTnUnsO",
        "outputId": "69321f7f-0612-4a3b-8a67-46e8129eeda6"
      },
      "source": [
        "#Jaccard\n",
        "print(jaccard(a,b))"
      ],
      "execution_count": 74,
      "outputs": [
        {
          "output_type": "stream",
          "name": "stdout",
          "text": [
            "0.0\n"
          ]
        }
      ]
    },
    {
      "cell_type": "markdown",
      "metadata": {
        "id": "ld4_TOo7Aj-A"
      },
      "source": [
        "# Item c"
      ]
    },
    {
      "cell_type": "code",
      "metadata": {
        "colab": {
          "base_uri": "https://localhost:8080/"
        },
        "id": "ZtNQ5CIlAmjI",
        "outputId": "9dcf4e8c-9d1a-4649-ac00-de91c84b57b5"
      },
      "source": [
        "#Cosseno\n",
        "a = np.array([[0, -1, 0, 1]])\n",
        "b = np.array([[1, 0, -1, 0]])\n",
        "print(cosine1(a,b))"
      ],
      "execution_count": 14,
      "outputs": [
        {
          "output_type": "stream",
          "name": "stdout",
          "text": [
            "[[0.]]\n"
          ]
        }
      ]
    },
    {
      "cell_type": "code",
      "metadata": {
        "colab": {
          "base_uri": "https://localhost:8080/"
        },
        "id": "vse4I-V9A4sq",
        "outputId": "6a17fa83-3e79-4353-8919-9120594662a0"
      },
      "source": [
        "#Cosseno\n",
        "print(cosine2(a,b))"
      ],
      "execution_count": 15,
      "outputs": [
        {
          "output_type": "stream",
          "name": "stdout",
          "text": [
            "0.0\n"
          ]
        }
      ]
    },
    {
      "cell_type": "code",
      "metadata": {
        "colab": {
          "base_uri": "https://localhost:8080/"
        },
        "id": "7eXmjl5BBGTq",
        "outputId": "a23490f0-8469-4463-e181-f95452f4ae99"
      },
      "source": [
        "#Cosseno\n",
        "x = np.array([0, -1, 0, 1])\n",
        "y = np.array([1, 0, -1, 0])\n",
        "\n",
        "print(cosine3(x,y))"
      ],
      "execution_count": 52,
      "outputs": [
        {
          "output_type": "stream",
          "name": "stdout",
          "text": [
            "0.0\n"
          ]
        }
      ]
    },
    {
      "cell_type": "code",
      "metadata": {
        "colab": {
          "base_uri": "https://localhost:8080/"
        },
        "id": "uNWKd8I8C34g",
        "outputId": "b5a89d14-c15e-4a0f-a374-3bb9cf4596af"
      },
      "source": [
        "#Distância Euclidiana\n",
        "c = [[0, 1],[-1,0], [0,-1], [1,0]]\n",
        "print(euclidean_distances(c,c))"
      ],
      "execution_count": 35,
      "outputs": [
        {
          "output_type": "stream",
          "name": "stdout",
          "text": [
            "[[0.         1.41421356 2.         1.41421356]\n",
            " [1.41421356 0.         1.41421356 2.        ]\n",
            " [2.         1.41421356 0.         1.41421356]\n",
            " [1.41421356 2.         1.41421356 0.        ]]\n"
          ]
        }
      ]
    },
    {
      "cell_type": "code",
      "metadata": {
        "colab": {
          "base_uri": "https://localhost:8080/"
        },
        "id": "rF4l7r6vO0So",
        "outputId": "0b2b9e9e-f492-475d-98ac-4c54b49754a3"
      },
      "source": [
        "#Correlação\n",
        "print(correlation(x,y))"
      ],
      "execution_count": 53,
      "outputs": [
        {
          "output_type": "stream",
          "name": "stdout",
          "text": [
            "(0.0, 1.0)\n"
          ]
        }
      ]
    },
    {
      "cell_type": "markdown",
      "metadata": {
        "id": "3Bx-VogaAm7K"
      },
      "source": [
        "# Item d"
      ]
    },
    {
      "cell_type": "code",
      "metadata": {
        "colab": {
          "base_uri": "https://localhost:8080/"
        },
        "id": "qZSTIH1mApM6",
        "outputId": "5ca5dc1d-7f02-43d1-9489-4b4d342668e1"
      },
      "source": [
        "#Cosseno\n",
        "a = np.array([[1, 1, 0, 1, 0, 1]])\n",
        "b = np.array([[1, 1, 1, 0, 0, 1]])\n",
        "print(cosine1(a,b))"
      ],
      "execution_count": 75,
      "outputs": [
        {
          "output_type": "stream",
          "name": "stdout",
          "text": [
            "[[0.75]]\n"
          ]
        }
      ]
    },
    {
      "cell_type": "code",
      "metadata": {
        "colab": {
          "base_uri": "https://localhost:8080/"
        },
        "id": "CX2q5-LTBCGv",
        "outputId": "bb7b592a-1fee-465f-9989-5025889733a0"
      },
      "source": [
        "#Cosseno\n",
        "print(cosine2(a,b))"
      ],
      "execution_count": 42,
      "outputs": [
        {
          "output_type": "stream",
          "name": "stdout",
          "text": [
            "0.75\n"
          ]
        }
      ]
    },
    {
      "cell_type": "code",
      "metadata": {
        "colab": {
          "base_uri": "https://localhost:8080/"
        },
        "id": "VqP54UfeBHTO",
        "outputId": "682963a7-9c3d-4816-e65e-00d60eb1db32"
      },
      "source": [
        "#Cosseno\n",
        "x = np.array([1, 1, 0, 1, 0, 1])\n",
        "y = np.array([1, 1, 1, 0, 0, 1])\n",
        "\n",
        "print(cosine3(x,y))"
      ],
      "execution_count": 54,
      "outputs": [
        {
          "output_type": "stream",
          "name": "stdout",
          "text": [
            "0.75\n"
          ]
        }
      ]
    },
    {
      "cell_type": "code",
      "metadata": {
        "colab": {
          "base_uri": "https://localhost:8080/"
        },
        "id": "QbDLzewjO4fr",
        "outputId": "a92d6272-5dac-4372-81f0-a271df9d87f4"
      },
      "source": [
        "#Correlação linear\n",
        "print(correlation(x,y))"
      ],
      "execution_count": 55,
      "outputs": [
        {
          "output_type": "stream",
          "name": "stdout",
          "text": [
            "(0.24999999999999997, 0.6328125)\n"
          ]
        }
      ]
    },
    {
      "cell_type": "code",
      "metadata": {
        "colab": {
          "base_uri": "https://localhost:8080/"
        },
        "id": "OFytMBFuU5wr",
        "outputId": "635590cf-f24e-4a99-9aa5-ab7649273074"
      },
      "source": [
        "#Jaccard\n",
        "print(jaccard(a,b))"
      ],
      "execution_count": 76,
      "outputs": [
        {
          "output_type": "stream",
          "name": "stdout",
          "text": [
            "0.6\n"
          ]
        }
      ]
    },
    {
      "cell_type": "markdown",
      "metadata": {
        "id": "0--zH5ZyApki"
      },
      "source": [
        "# Item e"
      ]
    },
    {
      "cell_type": "code",
      "metadata": {
        "colab": {
          "base_uri": "https://localhost:8080/"
        },
        "id": "PAxnQHSJAsmz",
        "outputId": "508a5d03-cde5-486d-b65b-f462597542e2"
      },
      "source": [
        "#Cosseno\n",
        "a = np.array([[2, -1, 0, 2, 0, -3]])\n",
        "b = np.array([[-1, 1, -1, 0, 0, -1]])\n",
        "print(cosine1(a,b))"
      ],
      "execution_count": 45,
      "outputs": [
        {
          "output_type": "stream",
          "name": "stdout",
          "text": [
            "[[0.]]\n"
          ]
        }
      ]
    },
    {
      "cell_type": "code",
      "metadata": {
        "colab": {
          "base_uri": "https://localhost:8080/"
        },
        "id": "tqc0f8STBC91",
        "outputId": "48f87575-cdc4-4669-eed2-545b73720491"
      },
      "source": [
        "#Cosseno\n",
        "print(cosine2(a,b))"
      ],
      "execution_count": 46,
      "outputs": [
        {
          "output_type": "stream",
          "name": "stdout",
          "text": [
            "0.0\n"
          ]
        }
      ]
    },
    {
      "cell_type": "code",
      "metadata": {
        "colab": {
          "base_uri": "https://localhost:8080/"
        },
        "id": "9afzxWxBBISI",
        "outputId": "ea7bd099-5f7c-4e45-91c9-d4e2f3036d04"
      },
      "source": [
        "#Cosseno\n",
        "x = np.array([2, -1, 0, 2, 0, -3])\n",
        "y = np.array([-1, 1, -1, 0, 0, -1])\n",
        "\n",
        "print(cosine3(x,y))"
      ],
      "execution_count": 56,
      "outputs": [
        {
          "output_type": "stream",
          "name": "stdout",
          "text": [
            "0.0\n"
          ]
        }
      ]
    },
    {
      "cell_type": "code",
      "metadata": {
        "colab": {
          "base_uri": "https://localhost:8080/"
        },
        "id": "BVP0IOHyUhcJ",
        "outputId": "feee1a20-4f3c-4418-f506-a9709f4f99be"
      },
      "source": [
        "#Correlação Linear\n",
        "print(correlation(x,y))"
      ],
      "execution_count": 57,
      "outputs": [
        {
          "output_type": "stream",
          "name": "stdout",
          "text": [
            "(1.0916061966652067e-17, 1.0)\n"
          ]
        }
      ]
    },
    {
      "cell_type": "code",
      "metadata": {
        "colab": {
          "base_uri": "https://localhost:8080/"
        },
        "id": "6S90Yg1sPQpV",
        "outputId": "ac35918f-acff-471d-d943-2241b0b5a90f"
      },
      "source": [
        "#Correlação Linear\n",
        "data = np.array([[2,-1], [-1, 1], [0, -1], [2,0], [0, 0], [-3, -1]])\n",
        "df = pd.DataFrame({'x': data[:,0], 'y': data[:,1]})\n",
        "df['x'].corr(df['y'])"
      ],
      "execution_count": 77,
      "outputs": [
        {
          "output_type": "execute_result",
          "data": {
            "text/plain": [
              "-2.866583523299505e-17"
            ]
          },
          "metadata": {},
          "execution_count": 77
        }
      ]
    }
  ]
}