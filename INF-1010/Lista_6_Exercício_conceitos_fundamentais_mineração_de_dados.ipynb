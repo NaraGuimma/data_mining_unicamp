{
  "nbformat": 4,
  "nbformat_minor": 0,
  "metadata": {
    "kernelspec": {
      "display_name": "dmclass",
      "language": "python",
      "name": "dmclass"
    },
    "language_info": {
      "codemirror_mode": {
        "name": "ipython",
        "version": 3
      },
      "file_extension": ".py",
      "mimetype": "text/x-python",
      "name": "python",
      "nbconvert_exporter": "python",
      "pygments_lexer": "ipython3",
      "version": "3.8.3"
    },
    "colab": {
      "name": "Lista-6_Exercício_conceitos_fundamentais_mineração_de_dados.ipynb",
      "provenance": [],
      "collapsed_sections": []
    }
  },
  "cells": [
    {
      "cell_type": "markdown",
      "metadata": {
        "id": "uKxqS9sXXoMO"
      },
      "source": [
        "## **Utilize o dataset Iris para a computar a matriz de distância entre todos os os objetos, considerando todas as features. Utilize a distância euclideana para essa tarefa.**"
      ]
    },
    {
      "cell_type": "code",
      "metadata": {
        "id": "VtglBC6DXoMR"
      },
      "source": [
        "import pandas as pd\n",
        "import numpy as np \n",
        "from sklearn import datasets\n",
        "from sklearn.metrics import pairwise_distances\n",
        "from sklearn.metrics.pairwise import euclidean_distances\n",
        "import seaborn as sns\n",
        "from sklearn import preprocessing\n",
        "from sklearn.metrics.pairwise import cosine_similarity\n",
        "from sklearn.metrics.pairwise import euclidean_distances\n",
        "from scipy import spatial\n",
        "from scipy.spatial.distance import pdist, squareform\n",
        "from sklearn.decomposition import PCA"
      ],
      "execution_count": 72,
      "outputs": []
    },
    {
      "cell_type": "code",
      "metadata": {
        "colab": {
          "base_uri": "https://localhost:8080/",
          "height": 402
        },
        "id": "nNu06VdrzAW-",
        "outputId": "dfb34b0f-0fbb-4b68-dbda-d5c88eab8ef2"
      },
      "source": [
        "iris = datasets.load_iris()\n",
        "iris_df = pd.DataFrame(iris.data, columns=iris.feature_names)\n",
        "iris_df"
      ],
      "execution_count": 2,
      "outputs": [
        {
          "output_type": "execute_result",
          "data": {
            "text/html": [
              "<div>\n",
              "<style scoped>\n",
              "    .dataframe tbody tr th:only-of-type {\n",
              "        vertical-align: middle;\n",
              "    }\n",
              "\n",
              "    .dataframe tbody tr th {\n",
              "        vertical-align: top;\n",
              "    }\n",
              "\n",
              "    .dataframe thead th {\n",
              "        text-align: right;\n",
              "    }\n",
              "</style>\n",
              "<table border=\"1\" class=\"dataframe\">\n",
              "  <thead>\n",
              "    <tr style=\"text-align: right;\">\n",
              "      <th></th>\n",
              "      <th>sepal length (cm)</th>\n",
              "      <th>sepal width (cm)</th>\n",
              "      <th>petal length (cm)</th>\n",
              "      <th>petal width (cm)</th>\n",
              "    </tr>\n",
              "  </thead>\n",
              "  <tbody>\n",
              "    <tr>\n",
              "      <th>0</th>\n",
              "      <td>5.1</td>\n",
              "      <td>3.5</td>\n",
              "      <td>1.4</td>\n",
              "      <td>0.2</td>\n",
              "    </tr>\n",
              "    <tr>\n",
              "      <th>1</th>\n",
              "      <td>4.9</td>\n",
              "      <td>3.0</td>\n",
              "      <td>1.4</td>\n",
              "      <td>0.2</td>\n",
              "    </tr>\n",
              "    <tr>\n",
              "      <th>2</th>\n",
              "      <td>4.7</td>\n",
              "      <td>3.2</td>\n",
              "      <td>1.3</td>\n",
              "      <td>0.2</td>\n",
              "    </tr>\n",
              "    <tr>\n",
              "      <th>3</th>\n",
              "      <td>4.6</td>\n",
              "      <td>3.1</td>\n",
              "      <td>1.5</td>\n",
              "      <td>0.2</td>\n",
              "    </tr>\n",
              "    <tr>\n",
              "      <th>4</th>\n",
              "      <td>5.0</td>\n",
              "      <td>3.6</td>\n",
              "      <td>1.4</td>\n",
              "      <td>0.2</td>\n",
              "    </tr>\n",
              "    <tr>\n",
              "      <th>...</th>\n",
              "      <td>...</td>\n",
              "      <td>...</td>\n",
              "      <td>...</td>\n",
              "      <td>...</td>\n",
              "    </tr>\n",
              "    <tr>\n",
              "      <th>145</th>\n",
              "      <td>6.7</td>\n",
              "      <td>3.0</td>\n",
              "      <td>5.2</td>\n",
              "      <td>2.3</td>\n",
              "    </tr>\n",
              "    <tr>\n",
              "      <th>146</th>\n",
              "      <td>6.3</td>\n",
              "      <td>2.5</td>\n",
              "      <td>5.0</td>\n",
              "      <td>1.9</td>\n",
              "    </tr>\n",
              "    <tr>\n",
              "      <th>147</th>\n",
              "      <td>6.5</td>\n",
              "      <td>3.0</td>\n",
              "      <td>5.2</td>\n",
              "      <td>2.0</td>\n",
              "    </tr>\n",
              "    <tr>\n",
              "      <th>148</th>\n",
              "      <td>6.2</td>\n",
              "      <td>3.4</td>\n",
              "      <td>5.4</td>\n",
              "      <td>2.3</td>\n",
              "    </tr>\n",
              "    <tr>\n",
              "      <th>149</th>\n",
              "      <td>5.9</td>\n",
              "      <td>3.0</td>\n",
              "      <td>5.1</td>\n",
              "      <td>1.8</td>\n",
              "    </tr>\n",
              "  </tbody>\n",
              "</table>\n",
              "<p>150 rows × 4 columns</p>\n",
              "</div>"
            ],
            "text/plain": [
              "     sepal length (cm)  sepal width (cm)  petal length (cm)  petal width (cm)\n",
              "0                  5.1               3.5                1.4               0.2\n",
              "1                  4.9               3.0                1.4               0.2\n",
              "2                  4.7               3.2                1.3               0.2\n",
              "3                  4.6               3.1                1.5               0.2\n",
              "4                  5.0               3.6                1.4               0.2\n",
              "..                 ...               ...                ...               ...\n",
              "145                6.7               3.0                5.2               2.3\n",
              "146                6.3               2.5                5.0               1.9\n",
              "147                6.5               3.0                5.2               2.0\n",
              "148                6.2               3.4                5.4               2.3\n",
              "149                5.9               3.0                5.1               1.8\n",
              "\n",
              "[150 rows x 4 columns]"
            ]
          },
          "metadata": {},
          "execution_count": 2
        }
      ]
    },
    {
      "cell_type": "code",
      "metadata": {
        "colab": {
          "base_uri": "https://localhost:8080/"
        },
        "id": "GN5N3Ac67fJg",
        "outputId": "25ed3a6c-72e3-40f3-bf5e-0739ab890272"
      },
      "source": [
        "pairwise_distances(iris_df, metric='euclidean')"
      ],
      "execution_count": 3,
      "outputs": [
        {
          "output_type": "execute_result",
          "data": {
            "text/plain": [
              "array([[0.00000000e+00, 5.38516481e-01, 5.09901951e-01, ...,\n",
              "        4.45982062e+00, 4.65080638e+00, 4.14004831e+00],\n",
              "       [5.38516481e-01, 0.00000000e+00, 3.00000000e-01, ...,\n",
              "        4.49888875e+00, 4.71805044e+00, 4.15331193e+00],\n",
              "       [5.09901951e-01, 3.00000000e-01, 0.00000000e+00, ...,\n",
              "        4.66154481e+00, 4.84871117e+00, 4.29883705e+00],\n",
              "       ...,\n",
              "       [4.45982062e+00, 4.49888875e+00, 4.66154481e+00, ...,\n",
              "        0.00000000e+00, 6.16441400e-01, 6.40312424e-01],\n",
              "       [4.65080638e+00, 4.71805044e+00, 4.84871117e+00, ...,\n",
              "        6.16441400e-01, 0.00000000e+00, 7.68114575e-01],\n",
              "       [4.14004831e+00, 4.15331193e+00, 4.29883705e+00, ...,\n",
              "        6.40312424e-01, 7.68114575e-01, 1.68587394e-07]])"
            ]
          },
          "metadata": {},
          "execution_count": 3
        }
      ]
    },
    {
      "cell_type": "code",
      "metadata": {
        "colab": {
          "base_uri": "https://localhost:8080/"
        },
        "id": "CLLOmCDXHNz2",
        "outputId": "e9410651-7b19-4dd6-9554-646839e3e568"
      },
      "source": [
        "euclidean_distances(iris_df)"
      ],
      "execution_count": 4,
      "outputs": [
        {
          "output_type": "execute_result",
          "data": {
            "text/plain": [
              "array([[0.        , 0.53851648, 0.50990195, ..., 4.45982062, 4.65080638,\n",
              "        4.14004831],\n",
              "       [0.53851648, 0.        , 0.3       , ..., 4.49888875, 4.71805044,\n",
              "        4.15331193],\n",
              "       [0.50990195, 0.3       , 0.        , ..., 4.66154481, 4.84871117,\n",
              "        4.29883705],\n",
              "       ...,\n",
              "       [4.45982062, 4.49888875, 4.66154481, ..., 0.        , 0.6164414 ,\n",
              "        0.64031242],\n",
              "       [4.65080638, 4.71805044, 4.84871117, ..., 0.6164414 , 0.        ,\n",
              "        0.76811457],\n",
              "       [4.14004831, 4.15331193, 4.29883705, ..., 0.64031242, 0.76811457,\n",
              "        0.        ]])"
            ]
          },
          "metadata": {},
          "execution_count": 4
        }
      ]
    },
    {
      "cell_type": "code",
      "metadata": {
        "colab": {
          "base_uri": "https://localhost:8080/",
          "height": 402
        },
        "id": "gJ74rk3gi4_0",
        "outputId": "13a090ba-79fa-46ba-b71d-93e075e7275c"
      },
      "source": [
        "iris_sns = sns.load_dataset('iris')\n",
        "iris_sns"
      ],
      "execution_count": 5,
      "outputs": [
        {
          "output_type": "execute_result",
          "data": {
            "text/html": [
              "<div>\n",
              "<style scoped>\n",
              "    .dataframe tbody tr th:only-of-type {\n",
              "        vertical-align: middle;\n",
              "    }\n",
              "\n",
              "    .dataframe tbody tr th {\n",
              "        vertical-align: top;\n",
              "    }\n",
              "\n",
              "    .dataframe thead th {\n",
              "        text-align: right;\n",
              "    }\n",
              "</style>\n",
              "<table border=\"1\" class=\"dataframe\">\n",
              "  <thead>\n",
              "    <tr style=\"text-align: right;\">\n",
              "      <th></th>\n",
              "      <th>sepal_length</th>\n",
              "      <th>sepal_width</th>\n",
              "      <th>petal_length</th>\n",
              "      <th>petal_width</th>\n",
              "      <th>species</th>\n",
              "    </tr>\n",
              "  </thead>\n",
              "  <tbody>\n",
              "    <tr>\n",
              "      <th>0</th>\n",
              "      <td>5.1</td>\n",
              "      <td>3.5</td>\n",
              "      <td>1.4</td>\n",
              "      <td>0.2</td>\n",
              "      <td>setosa</td>\n",
              "    </tr>\n",
              "    <tr>\n",
              "      <th>1</th>\n",
              "      <td>4.9</td>\n",
              "      <td>3.0</td>\n",
              "      <td>1.4</td>\n",
              "      <td>0.2</td>\n",
              "      <td>setosa</td>\n",
              "    </tr>\n",
              "    <tr>\n",
              "      <th>2</th>\n",
              "      <td>4.7</td>\n",
              "      <td>3.2</td>\n",
              "      <td>1.3</td>\n",
              "      <td>0.2</td>\n",
              "      <td>setosa</td>\n",
              "    </tr>\n",
              "    <tr>\n",
              "      <th>3</th>\n",
              "      <td>4.6</td>\n",
              "      <td>3.1</td>\n",
              "      <td>1.5</td>\n",
              "      <td>0.2</td>\n",
              "      <td>setosa</td>\n",
              "    </tr>\n",
              "    <tr>\n",
              "      <th>4</th>\n",
              "      <td>5.0</td>\n",
              "      <td>3.6</td>\n",
              "      <td>1.4</td>\n",
              "      <td>0.2</td>\n",
              "      <td>setosa</td>\n",
              "    </tr>\n",
              "    <tr>\n",
              "      <th>...</th>\n",
              "      <td>...</td>\n",
              "      <td>...</td>\n",
              "      <td>...</td>\n",
              "      <td>...</td>\n",
              "      <td>...</td>\n",
              "    </tr>\n",
              "    <tr>\n",
              "      <th>145</th>\n",
              "      <td>6.7</td>\n",
              "      <td>3.0</td>\n",
              "      <td>5.2</td>\n",
              "      <td>2.3</td>\n",
              "      <td>virginica</td>\n",
              "    </tr>\n",
              "    <tr>\n",
              "      <th>146</th>\n",
              "      <td>6.3</td>\n",
              "      <td>2.5</td>\n",
              "      <td>5.0</td>\n",
              "      <td>1.9</td>\n",
              "      <td>virginica</td>\n",
              "    </tr>\n",
              "    <tr>\n",
              "      <th>147</th>\n",
              "      <td>6.5</td>\n",
              "      <td>3.0</td>\n",
              "      <td>5.2</td>\n",
              "      <td>2.0</td>\n",
              "      <td>virginica</td>\n",
              "    </tr>\n",
              "    <tr>\n",
              "      <th>148</th>\n",
              "      <td>6.2</td>\n",
              "      <td>3.4</td>\n",
              "      <td>5.4</td>\n",
              "      <td>2.3</td>\n",
              "      <td>virginica</td>\n",
              "    </tr>\n",
              "    <tr>\n",
              "      <th>149</th>\n",
              "      <td>5.9</td>\n",
              "      <td>3.0</td>\n",
              "      <td>5.1</td>\n",
              "      <td>1.8</td>\n",
              "      <td>virginica</td>\n",
              "    </tr>\n",
              "  </tbody>\n",
              "</table>\n",
              "<p>150 rows × 5 columns</p>\n",
              "</div>"
            ],
            "text/plain": [
              "     sepal_length  sepal_width  petal_length  petal_width    species\n",
              "0             5.1          3.5           1.4          0.2     setosa\n",
              "1             4.9          3.0           1.4          0.2     setosa\n",
              "2             4.7          3.2           1.3          0.2     setosa\n",
              "3             4.6          3.1           1.5          0.2     setosa\n",
              "4             5.0          3.6           1.4          0.2     setosa\n",
              "..            ...          ...           ...          ...        ...\n",
              "145           6.7          3.0           5.2          2.3  virginica\n",
              "146           6.3          2.5           5.0          1.9  virginica\n",
              "147           6.5          3.0           5.2          2.0  virginica\n",
              "148           6.2          3.4           5.4          2.3  virginica\n",
              "149           5.9          3.0           5.1          1.8  virginica\n",
              "\n",
              "[150 rows x 5 columns]"
            ]
          },
          "metadata": {},
          "execution_count": 5
        }
      ]
    },
    {
      "cell_type": "code",
      "metadata": {
        "colab": {
          "base_uri": "https://localhost:8080/"
        },
        "id": "H3iRmboxEGBO",
        "outputId": "152e43b0-1859-4bfd-98ba-88821e015627"
      },
      "source": [
        "euclidean_distances(iris_sns.iloc[:,:4])"
      ],
      "execution_count": 6,
      "outputs": [
        {
          "output_type": "execute_result",
          "data": {
            "text/plain": [
              "array([[0.        , 0.53851648, 0.50990195, ..., 4.45982062, 4.65080638,\n",
              "        4.14004831],\n",
              "       [0.53851648, 0.        , 0.3       , ..., 4.49888875, 4.71805044,\n",
              "        4.15331193],\n",
              "       [0.50990195, 0.3       , 0.        , ..., 4.66154481, 4.84871117,\n",
              "        4.29883705],\n",
              "       ...,\n",
              "       [4.45982062, 4.49888875, 4.66154481, ..., 0.        , 0.6164414 ,\n",
              "        0.64031242],\n",
              "       [4.65080638, 4.71805044, 4.84871117, ..., 0.6164414 , 0.        ,\n",
              "        0.76811457],\n",
              "       [4.14004831, 4.15331193, 4.29883705, ..., 0.64031242, 0.76811457,\n",
              "        0.        ]])"
            ]
          },
          "metadata": {},
          "execution_count": 6
        }
      ]
    },
    {
      "cell_type": "markdown",
      "metadata": {
        "id": "FDIDN2PqYHVD"
      },
      "source": [
        "#####Resultado Esperado\n",
        "<pre>\n",
        "SepalLengthCm  SepalWidthCm  PetalLengthCm  PetalWidthCm         Species\n",
        "Id                                                                           \n",
        "1              5.1           3.5            1.4           0.2     Iris-setosa\n",
        "2              4.9           3.0            1.4           0.2     Iris-setosa\n",
        "3              4.7           3.2            1.3           0.2     Iris-setosa\n",
        "4              4.6           3.1            1.5           0.2     Iris-setosa\n",
        "5              5.0           3.6            1.4           0.2     Iris-setosa\n",
        "..             ...           ...            ...           ...             ...\n",
        "146            6.7           3.0            5.2           2.3  Iris-virginica\n",
        "147            6.3           2.5            5.0           1.9  Iris-virginica\n",
        "148            6.5           3.0            5.2           2.0  Iris-virginica\n",
        "149            6.2           3.4            5.4           2.3  Iris-virginica\n",
        "150            5.9           3.0            5.1           1.8  Iris-virginica\n",
        "\n",
        "[150 rows x 5 columns]\n",
        "</pre>\n",
        "\n",
        "Distâncias:\n",
        "<pre>\n",
        "array([[0.        , 0.53851648, 0.50990195, ..., 4.45982062, 4.65080638,\n",
        "        4.14004831],\n",
        "       [0.53851648, 0.        , 0.3       , ..., 4.49888875, 4.71805044,\n",
        "        4.15331193],\n",
        "       [0.50990195, 0.3       , 0.        , ..., 4.66154481, 4.84871117,\n",
        "        4.29883705],\n",
        "       ...,\n",
        "       [4.45982062, 4.49888875, 4.66154481, ..., 0.        , 0.6164414 ,\n",
        "        0.64031242],\n",
        "       [4.65080638, 4.71805044, 4.84871117, ..., 0.6164414 , 0.        ,\n",
        "        0.76811457],\n",
        "       [4.14004831, 4.15331193, 4.29883705, ..., 0.64031242, 0.76811457,\n",
        "        0.        ]])\n",
        "</pre>"
      ]
    },
    {
      "cell_type": "markdown",
      "metadata": {
        "id": "odiCc1T7XoMT"
      },
      "source": [
        "## **Utilize o dataset Titanic e faça o que se pede.**\n",
        "\n",
        "\n",
        "* a) Identifique quais colunas possuem dados nulos (ou NaN).\n",
        "\n",
        "* b) Remova todas as colunas que possuem dados nulos (ou NaN).\n",
        "\n",
        "* c) Calcule a similaridade do cosseno para todos os objetos. Lembre-se de fazer o devido tratamento para os tipos de dados presentes nesse dataset. Você também pode desconsiderar a coluna survived.\n",
        "\n",
        "* d) Calcule a distância euclideana para todos os objetos. Você também pode desconsiderar a coluna survived.\n"
      ]
    },
    {
      "cell_type": "code",
      "metadata": {
        "id": "FQyzn6EiXoMU",
        "colab": {
          "base_uri": "https://localhost:8080/",
          "height": 402
        },
        "outputId": "eb7225a9-b5a7-4954-ef0a-173a8c0ebceb"
      },
      "source": [
        "titanic = sns.load_dataset('titanic')\n",
        "titanic"
      ],
      "execution_count": 7,
      "outputs": [
        {
          "output_type": "execute_result",
          "data": {
            "text/html": [
              "<div>\n",
              "<style scoped>\n",
              "    .dataframe tbody tr th:only-of-type {\n",
              "        vertical-align: middle;\n",
              "    }\n",
              "\n",
              "    .dataframe tbody tr th {\n",
              "        vertical-align: top;\n",
              "    }\n",
              "\n",
              "    .dataframe thead th {\n",
              "        text-align: right;\n",
              "    }\n",
              "</style>\n",
              "<table border=\"1\" class=\"dataframe\">\n",
              "  <thead>\n",
              "    <tr style=\"text-align: right;\">\n",
              "      <th></th>\n",
              "      <th>survived</th>\n",
              "      <th>pclass</th>\n",
              "      <th>sex</th>\n",
              "      <th>age</th>\n",
              "      <th>sibsp</th>\n",
              "      <th>parch</th>\n",
              "      <th>fare</th>\n",
              "      <th>embarked</th>\n",
              "      <th>class</th>\n",
              "      <th>who</th>\n",
              "      <th>adult_male</th>\n",
              "      <th>deck</th>\n",
              "      <th>embark_town</th>\n",
              "      <th>alive</th>\n",
              "      <th>alone</th>\n",
              "    </tr>\n",
              "  </thead>\n",
              "  <tbody>\n",
              "    <tr>\n",
              "      <th>0</th>\n",
              "      <td>0</td>\n",
              "      <td>3</td>\n",
              "      <td>male</td>\n",
              "      <td>22.0</td>\n",
              "      <td>1</td>\n",
              "      <td>0</td>\n",
              "      <td>7.2500</td>\n",
              "      <td>S</td>\n",
              "      <td>Third</td>\n",
              "      <td>man</td>\n",
              "      <td>True</td>\n",
              "      <td>NaN</td>\n",
              "      <td>Southampton</td>\n",
              "      <td>no</td>\n",
              "      <td>False</td>\n",
              "    </tr>\n",
              "    <tr>\n",
              "      <th>1</th>\n",
              "      <td>1</td>\n",
              "      <td>1</td>\n",
              "      <td>female</td>\n",
              "      <td>38.0</td>\n",
              "      <td>1</td>\n",
              "      <td>0</td>\n",
              "      <td>71.2833</td>\n",
              "      <td>C</td>\n",
              "      <td>First</td>\n",
              "      <td>woman</td>\n",
              "      <td>False</td>\n",
              "      <td>C</td>\n",
              "      <td>Cherbourg</td>\n",
              "      <td>yes</td>\n",
              "      <td>False</td>\n",
              "    </tr>\n",
              "    <tr>\n",
              "      <th>2</th>\n",
              "      <td>1</td>\n",
              "      <td>3</td>\n",
              "      <td>female</td>\n",
              "      <td>26.0</td>\n",
              "      <td>0</td>\n",
              "      <td>0</td>\n",
              "      <td>7.9250</td>\n",
              "      <td>S</td>\n",
              "      <td>Third</td>\n",
              "      <td>woman</td>\n",
              "      <td>False</td>\n",
              "      <td>NaN</td>\n",
              "      <td>Southampton</td>\n",
              "      <td>yes</td>\n",
              "      <td>True</td>\n",
              "    </tr>\n",
              "    <tr>\n",
              "      <th>3</th>\n",
              "      <td>1</td>\n",
              "      <td>1</td>\n",
              "      <td>female</td>\n",
              "      <td>35.0</td>\n",
              "      <td>1</td>\n",
              "      <td>0</td>\n",
              "      <td>53.1000</td>\n",
              "      <td>S</td>\n",
              "      <td>First</td>\n",
              "      <td>woman</td>\n",
              "      <td>False</td>\n",
              "      <td>C</td>\n",
              "      <td>Southampton</td>\n",
              "      <td>yes</td>\n",
              "      <td>False</td>\n",
              "    </tr>\n",
              "    <tr>\n",
              "      <th>4</th>\n",
              "      <td>0</td>\n",
              "      <td>3</td>\n",
              "      <td>male</td>\n",
              "      <td>35.0</td>\n",
              "      <td>0</td>\n",
              "      <td>0</td>\n",
              "      <td>8.0500</td>\n",
              "      <td>S</td>\n",
              "      <td>Third</td>\n",
              "      <td>man</td>\n",
              "      <td>True</td>\n",
              "      <td>NaN</td>\n",
              "      <td>Southampton</td>\n",
              "      <td>no</td>\n",
              "      <td>True</td>\n",
              "    </tr>\n",
              "    <tr>\n",
              "      <th>...</th>\n",
              "      <td>...</td>\n",
              "      <td>...</td>\n",
              "      <td>...</td>\n",
              "      <td>...</td>\n",
              "      <td>...</td>\n",
              "      <td>...</td>\n",
              "      <td>...</td>\n",
              "      <td>...</td>\n",
              "      <td>...</td>\n",
              "      <td>...</td>\n",
              "      <td>...</td>\n",
              "      <td>...</td>\n",
              "      <td>...</td>\n",
              "      <td>...</td>\n",
              "      <td>...</td>\n",
              "    </tr>\n",
              "    <tr>\n",
              "      <th>886</th>\n",
              "      <td>0</td>\n",
              "      <td>2</td>\n",
              "      <td>male</td>\n",
              "      <td>27.0</td>\n",
              "      <td>0</td>\n",
              "      <td>0</td>\n",
              "      <td>13.0000</td>\n",
              "      <td>S</td>\n",
              "      <td>Second</td>\n",
              "      <td>man</td>\n",
              "      <td>True</td>\n",
              "      <td>NaN</td>\n",
              "      <td>Southampton</td>\n",
              "      <td>no</td>\n",
              "      <td>True</td>\n",
              "    </tr>\n",
              "    <tr>\n",
              "      <th>887</th>\n",
              "      <td>1</td>\n",
              "      <td>1</td>\n",
              "      <td>female</td>\n",
              "      <td>19.0</td>\n",
              "      <td>0</td>\n",
              "      <td>0</td>\n",
              "      <td>30.0000</td>\n",
              "      <td>S</td>\n",
              "      <td>First</td>\n",
              "      <td>woman</td>\n",
              "      <td>False</td>\n",
              "      <td>B</td>\n",
              "      <td>Southampton</td>\n",
              "      <td>yes</td>\n",
              "      <td>True</td>\n",
              "    </tr>\n",
              "    <tr>\n",
              "      <th>888</th>\n",
              "      <td>0</td>\n",
              "      <td>3</td>\n",
              "      <td>female</td>\n",
              "      <td>NaN</td>\n",
              "      <td>1</td>\n",
              "      <td>2</td>\n",
              "      <td>23.4500</td>\n",
              "      <td>S</td>\n",
              "      <td>Third</td>\n",
              "      <td>woman</td>\n",
              "      <td>False</td>\n",
              "      <td>NaN</td>\n",
              "      <td>Southampton</td>\n",
              "      <td>no</td>\n",
              "      <td>False</td>\n",
              "    </tr>\n",
              "    <tr>\n",
              "      <th>889</th>\n",
              "      <td>1</td>\n",
              "      <td>1</td>\n",
              "      <td>male</td>\n",
              "      <td>26.0</td>\n",
              "      <td>0</td>\n",
              "      <td>0</td>\n",
              "      <td>30.0000</td>\n",
              "      <td>C</td>\n",
              "      <td>First</td>\n",
              "      <td>man</td>\n",
              "      <td>True</td>\n",
              "      <td>C</td>\n",
              "      <td>Cherbourg</td>\n",
              "      <td>yes</td>\n",
              "      <td>True</td>\n",
              "    </tr>\n",
              "    <tr>\n",
              "      <th>890</th>\n",
              "      <td>0</td>\n",
              "      <td>3</td>\n",
              "      <td>male</td>\n",
              "      <td>32.0</td>\n",
              "      <td>0</td>\n",
              "      <td>0</td>\n",
              "      <td>7.7500</td>\n",
              "      <td>Q</td>\n",
              "      <td>Third</td>\n",
              "      <td>man</td>\n",
              "      <td>True</td>\n",
              "      <td>NaN</td>\n",
              "      <td>Queenstown</td>\n",
              "      <td>no</td>\n",
              "      <td>True</td>\n",
              "    </tr>\n",
              "  </tbody>\n",
              "</table>\n",
              "<p>891 rows × 15 columns</p>\n",
              "</div>"
            ],
            "text/plain": [
              "     survived  pclass     sex   age  ...  deck  embark_town  alive  alone\n",
              "0           0       3    male  22.0  ...   NaN  Southampton     no  False\n",
              "1           1       1  female  38.0  ...     C    Cherbourg    yes  False\n",
              "2           1       3  female  26.0  ...   NaN  Southampton    yes   True\n",
              "3           1       1  female  35.0  ...     C  Southampton    yes  False\n",
              "4           0       3    male  35.0  ...   NaN  Southampton     no   True\n",
              "..        ...     ...     ...   ...  ...   ...          ...    ...    ...\n",
              "886         0       2    male  27.0  ...   NaN  Southampton     no   True\n",
              "887         1       1  female  19.0  ...     B  Southampton    yes   True\n",
              "888         0       3  female   NaN  ...   NaN  Southampton     no  False\n",
              "889         1       1    male  26.0  ...     C    Cherbourg    yes   True\n",
              "890         0       3    male  32.0  ...   NaN   Queenstown     no   True\n",
              "\n",
              "[891 rows x 15 columns]"
            ]
          },
          "metadata": {},
          "execution_count": 7
        }
      ]
    },
    {
      "cell_type": "code",
      "metadata": {
        "colab": {
          "base_uri": "https://localhost:8080/"
        },
        "id": "QlgNLntcFTGQ",
        "outputId": "585709bd-8e9e-478f-92fc-1dcc23629f62"
      },
      "source": [
        "titanic.isna().sum()"
      ],
      "execution_count": 8,
      "outputs": [
        {
          "output_type": "execute_result",
          "data": {
            "text/plain": [
              "survived         0\n",
              "pclass           0\n",
              "sex              0\n",
              "age            177\n",
              "sibsp            0\n",
              "parch            0\n",
              "fare             0\n",
              "embarked         2\n",
              "class            0\n",
              "who              0\n",
              "adult_male       0\n",
              "deck           688\n",
              "embark_town      2\n",
              "alive            0\n",
              "alone            0\n",
              "dtype: int64"
            ]
          },
          "metadata": {},
          "execution_count": 8
        }
      ]
    },
    {
      "cell_type": "code",
      "metadata": {
        "colab": {
          "base_uri": "https://localhost:8080/"
        },
        "id": "KTqJePfvFoOb",
        "outputId": "32bdfb34-3831-4657-f81d-3fb2ebab250c"
      },
      "source": [
        "titanic.isnull().any()"
      ],
      "execution_count": 9,
      "outputs": [
        {
          "output_type": "execute_result",
          "data": {
            "text/plain": [
              "survived       False\n",
              "pclass         False\n",
              "sex            False\n",
              "age             True\n",
              "sibsp          False\n",
              "parch          False\n",
              "fare           False\n",
              "embarked        True\n",
              "class          False\n",
              "who            False\n",
              "adult_male     False\n",
              "deck            True\n",
              "embark_town     True\n",
              "alive          False\n",
              "alone          False\n",
              "dtype: bool"
            ]
          },
          "metadata": {},
          "execution_count": 9
        }
      ]
    },
    {
      "cell_type": "markdown",
      "metadata": {
        "id": "O2YRQVRPYvX5"
      },
      "source": [
        "#####2a\n",
        "\n",
        "<pre>\n",
        "survived       False\n",
        "pclass         False\n",
        "sex            False\n",
        "age             True\n",
        "sibsp          False\n",
        "parch          False\n",
        "fare           False\n",
        "embarked        True\n",
        "class          False\n",
        "who            False\n",
        "adult_male     False\n",
        "deck            True\n",
        "embark_town     True\n",
        "alive          False\n",
        "alone          False\n",
        "dtype: bool\n",
        "</pre>"
      ]
    },
    {
      "cell_type": "code",
      "metadata": {
        "id": "t7ylvqL-XoMU",
        "colab": {
          "base_uri": "https://localhost:8080/",
          "height": 402
        },
        "outputId": "db7ae277-4cf2-4c26-de38-f67217bffab5"
      },
      "source": [
        "titanic_cleaned=titanic.dropna(axis=1,how='any')\n",
        "titanic_cleaned"
      ],
      "execution_count": 10,
      "outputs": [
        {
          "output_type": "execute_result",
          "data": {
            "text/html": [
              "<div>\n",
              "<style scoped>\n",
              "    .dataframe tbody tr th:only-of-type {\n",
              "        vertical-align: middle;\n",
              "    }\n",
              "\n",
              "    .dataframe tbody tr th {\n",
              "        vertical-align: top;\n",
              "    }\n",
              "\n",
              "    .dataframe thead th {\n",
              "        text-align: right;\n",
              "    }\n",
              "</style>\n",
              "<table border=\"1\" class=\"dataframe\">\n",
              "  <thead>\n",
              "    <tr style=\"text-align: right;\">\n",
              "      <th></th>\n",
              "      <th>survived</th>\n",
              "      <th>pclass</th>\n",
              "      <th>sex</th>\n",
              "      <th>sibsp</th>\n",
              "      <th>parch</th>\n",
              "      <th>fare</th>\n",
              "      <th>class</th>\n",
              "      <th>who</th>\n",
              "      <th>adult_male</th>\n",
              "      <th>alive</th>\n",
              "      <th>alone</th>\n",
              "    </tr>\n",
              "  </thead>\n",
              "  <tbody>\n",
              "    <tr>\n",
              "      <th>0</th>\n",
              "      <td>0</td>\n",
              "      <td>3</td>\n",
              "      <td>male</td>\n",
              "      <td>1</td>\n",
              "      <td>0</td>\n",
              "      <td>7.2500</td>\n",
              "      <td>Third</td>\n",
              "      <td>man</td>\n",
              "      <td>True</td>\n",
              "      <td>no</td>\n",
              "      <td>False</td>\n",
              "    </tr>\n",
              "    <tr>\n",
              "      <th>1</th>\n",
              "      <td>1</td>\n",
              "      <td>1</td>\n",
              "      <td>female</td>\n",
              "      <td>1</td>\n",
              "      <td>0</td>\n",
              "      <td>71.2833</td>\n",
              "      <td>First</td>\n",
              "      <td>woman</td>\n",
              "      <td>False</td>\n",
              "      <td>yes</td>\n",
              "      <td>False</td>\n",
              "    </tr>\n",
              "    <tr>\n",
              "      <th>2</th>\n",
              "      <td>1</td>\n",
              "      <td>3</td>\n",
              "      <td>female</td>\n",
              "      <td>0</td>\n",
              "      <td>0</td>\n",
              "      <td>7.9250</td>\n",
              "      <td>Third</td>\n",
              "      <td>woman</td>\n",
              "      <td>False</td>\n",
              "      <td>yes</td>\n",
              "      <td>True</td>\n",
              "    </tr>\n",
              "    <tr>\n",
              "      <th>3</th>\n",
              "      <td>1</td>\n",
              "      <td>1</td>\n",
              "      <td>female</td>\n",
              "      <td>1</td>\n",
              "      <td>0</td>\n",
              "      <td>53.1000</td>\n",
              "      <td>First</td>\n",
              "      <td>woman</td>\n",
              "      <td>False</td>\n",
              "      <td>yes</td>\n",
              "      <td>False</td>\n",
              "    </tr>\n",
              "    <tr>\n",
              "      <th>4</th>\n",
              "      <td>0</td>\n",
              "      <td>3</td>\n",
              "      <td>male</td>\n",
              "      <td>0</td>\n",
              "      <td>0</td>\n",
              "      <td>8.0500</td>\n",
              "      <td>Third</td>\n",
              "      <td>man</td>\n",
              "      <td>True</td>\n",
              "      <td>no</td>\n",
              "      <td>True</td>\n",
              "    </tr>\n",
              "    <tr>\n",
              "      <th>...</th>\n",
              "      <td>...</td>\n",
              "      <td>...</td>\n",
              "      <td>...</td>\n",
              "      <td>...</td>\n",
              "      <td>...</td>\n",
              "      <td>...</td>\n",
              "      <td>...</td>\n",
              "      <td>...</td>\n",
              "      <td>...</td>\n",
              "      <td>...</td>\n",
              "      <td>...</td>\n",
              "    </tr>\n",
              "    <tr>\n",
              "      <th>886</th>\n",
              "      <td>0</td>\n",
              "      <td>2</td>\n",
              "      <td>male</td>\n",
              "      <td>0</td>\n",
              "      <td>0</td>\n",
              "      <td>13.0000</td>\n",
              "      <td>Second</td>\n",
              "      <td>man</td>\n",
              "      <td>True</td>\n",
              "      <td>no</td>\n",
              "      <td>True</td>\n",
              "    </tr>\n",
              "    <tr>\n",
              "      <th>887</th>\n",
              "      <td>1</td>\n",
              "      <td>1</td>\n",
              "      <td>female</td>\n",
              "      <td>0</td>\n",
              "      <td>0</td>\n",
              "      <td>30.0000</td>\n",
              "      <td>First</td>\n",
              "      <td>woman</td>\n",
              "      <td>False</td>\n",
              "      <td>yes</td>\n",
              "      <td>True</td>\n",
              "    </tr>\n",
              "    <tr>\n",
              "      <th>888</th>\n",
              "      <td>0</td>\n",
              "      <td>3</td>\n",
              "      <td>female</td>\n",
              "      <td>1</td>\n",
              "      <td>2</td>\n",
              "      <td>23.4500</td>\n",
              "      <td>Third</td>\n",
              "      <td>woman</td>\n",
              "      <td>False</td>\n",
              "      <td>no</td>\n",
              "      <td>False</td>\n",
              "    </tr>\n",
              "    <tr>\n",
              "      <th>889</th>\n",
              "      <td>1</td>\n",
              "      <td>1</td>\n",
              "      <td>male</td>\n",
              "      <td>0</td>\n",
              "      <td>0</td>\n",
              "      <td>30.0000</td>\n",
              "      <td>First</td>\n",
              "      <td>man</td>\n",
              "      <td>True</td>\n",
              "      <td>yes</td>\n",
              "      <td>True</td>\n",
              "    </tr>\n",
              "    <tr>\n",
              "      <th>890</th>\n",
              "      <td>0</td>\n",
              "      <td>3</td>\n",
              "      <td>male</td>\n",
              "      <td>0</td>\n",
              "      <td>0</td>\n",
              "      <td>7.7500</td>\n",
              "      <td>Third</td>\n",
              "      <td>man</td>\n",
              "      <td>True</td>\n",
              "      <td>no</td>\n",
              "      <td>True</td>\n",
              "    </tr>\n",
              "  </tbody>\n",
              "</table>\n",
              "<p>891 rows × 11 columns</p>\n",
              "</div>"
            ],
            "text/plain": [
              "     survived  pclass     sex  sibsp  ...    who  adult_male alive  alone\n",
              "0           0       3    male      1  ...    man        True    no  False\n",
              "1           1       1  female      1  ...  woman       False   yes  False\n",
              "2           1       3  female      0  ...  woman       False   yes   True\n",
              "3           1       1  female      1  ...  woman       False   yes  False\n",
              "4           0       3    male      0  ...    man        True    no   True\n",
              "..        ...     ...     ...    ...  ...    ...         ...   ...    ...\n",
              "886         0       2    male      0  ...    man        True    no   True\n",
              "887         1       1  female      0  ...  woman       False   yes   True\n",
              "888         0       3  female      1  ...  woman       False    no  False\n",
              "889         1       1    male      0  ...    man        True   yes   True\n",
              "890         0       3    male      0  ...    man        True    no   True\n",
              "\n",
              "[891 rows x 11 columns]"
            ]
          },
          "metadata": {},
          "execution_count": 10
        }
      ]
    },
    {
      "cell_type": "code",
      "metadata": {
        "colab": {
          "base_uri": "https://localhost:8080/"
        },
        "id": "pv-Aq_MxLbkg",
        "outputId": "1e957b1a-b981-428a-fa3c-d36c0076cc2c"
      },
      "source": [
        "titanic_cleaned.isna().sum()"
      ],
      "execution_count": 11,
      "outputs": [
        {
          "output_type": "execute_result",
          "data": {
            "text/plain": [
              "survived      0\n",
              "pclass        0\n",
              "sex           0\n",
              "sibsp         0\n",
              "parch         0\n",
              "fare          0\n",
              "class         0\n",
              "who           0\n",
              "adult_male    0\n",
              "alive         0\n",
              "alone         0\n",
              "dtype: int64"
            ]
          },
          "metadata": {},
          "execution_count": 11
        }
      ]
    },
    {
      "cell_type": "markdown",
      "metadata": {
        "id": "pYgmWWWqa39G"
      },
      "source": [
        "####2b"
      ]
    },
    {
      "cell_type": "markdown",
      "metadata": {
        "id": "jZ13HOT_Y5d1"
      },
      "source": [
        "![image.png](data:image/png;base64,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)"
      ]
    },
    {
      "cell_type": "code",
      "metadata": {
        "id": "5aKSb0m3XoMV",
        "colab": {
          "base_uri": "https://localhost:8080/",
          "height": 402
        },
        "outputId": "d8dd2754-4985-498d-e212-73ab8cf35e37"
      },
      "source": [
        "titanic_fitered = titanic_cleaned.iloc[:, 1:]\n",
        "titanic_fitered"
      ],
      "execution_count": 12,
      "outputs": [
        {
          "output_type": "execute_result",
          "data": {
            "text/html": [
              "<div>\n",
              "<style scoped>\n",
              "    .dataframe tbody tr th:only-of-type {\n",
              "        vertical-align: middle;\n",
              "    }\n",
              "\n",
              "    .dataframe tbody tr th {\n",
              "        vertical-align: top;\n",
              "    }\n",
              "\n",
              "    .dataframe thead th {\n",
              "        text-align: right;\n",
              "    }\n",
              "</style>\n",
              "<table border=\"1\" class=\"dataframe\">\n",
              "  <thead>\n",
              "    <tr style=\"text-align: right;\">\n",
              "      <th></th>\n",
              "      <th>pclass</th>\n",
              "      <th>sex</th>\n",
              "      <th>sibsp</th>\n",
              "      <th>parch</th>\n",
              "      <th>fare</th>\n",
              "      <th>class</th>\n",
              "      <th>who</th>\n",
              "      <th>adult_male</th>\n",
              "      <th>alive</th>\n",
              "      <th>alone</th>\n",
              "    </tr>\n",
              "  </thead>\n",
              "  <tbody>\n",
              "    <tr>\n",
              "      <th>0</th>\n",
              "      <td>3</td>\n",
              "      <td>male</td>\n",
              "      <td>1</td>\n",
              "      <td>0</td>\n",
              "      <td>7.2500</td>\n",
              "      <td>Third</td>\n",
              "      <td>man</td>\n",
              "      <td>True</td>\n",
              "      <td>no</td>\n",
              "      <td>False</td>\n",
              "    </tr>\n",
              "    <tr>\n",
              "      <th>1</th>\n",
              "      <td>1</td>\n",
              "      <td>female</td>\n",
              "      <td>1</td>\n",
              "      <td>0</td>\n",
              "      <td>71.2833</td>\n",
              "      <td>First</td>\n",
              "      <td>woman</td>\n",
              "      <td>False</td>\n",
              "      <td>yes</td>\n",
              "      <td>False</td>\n",
              "    </tr>\n",
              "    <tr>\n",
              "      <th>2</th>\n",
              "      <td>3</td>\n",
              "      <td>female</td>\n",
              "      <td>0</td>\n",
              "      <td>0</td>\n",
              "      <td>7.9250</td>\n",
              "      <td>Third</td>\n",
              "      <td>woman</td>\n",
              "      <td>False</td>\n",
              "      <td>yes</td>\n",
              "      <td>True</td>\n",
              "    </tr>\n",
              "    <tr>\n",
              "      <th>3</th>\n",
              "      <td>1</td>\n",
              "      <td>female</td>\n",
              "      <td>1</td>\n",
              "      <td>0</td>\n",
              "      <td>53.1000</td>\n",
              "      <td>First</td>\n",
              "      <td>woman</td>\n",
              "      <td>False</td>\n",
              "      <td>yes</td>\n",
              "      <td>False</td>\n",
              "    </tr>\n",
              "    <tr>\n",
              "      <th>4</th>\n",
              "      <td>3</td>\n",
              "      <td>male</td>\n",
              "      <td>0</td>\n",
              "      <td>0</td>\n",
              "      <td>8.0500</td>\n",
              "      <td>Third</td>\n",
              "      <td>man</td>\n",
              "      <td>True</td>\n",
              "      <td>no</td>\n",
              "      <td>True</td>\n",
              "    </tr>\n",
              "    <tr>\n",
              "      <th>...</th>\n",
              "      <td>...</td>\n",
              "      <td>...</td>\n",
              "      <td>...</td>\n",
              "      <td>...</td>\n",
              "      <td>...</td>\n",
              "      <td>...</td>\n",
              "      <td>...</td>\n",
              "      <td>...</td>\n",
              "      <td>...</td>\n",
              "      <td>...</td>\n",
              "    </tr>\n",
              "    <tr>\n",
              "      <th>886</th>\n",
              "      <td>2</td>\n",
              "      <td>male</td>\n",
              "      <td>0</td>\n",
              "      <td>0</td>\n",
              "      <td>13.0000</td>\n",
              "      <td>Second</td>\n",
              "      <td>man</td>\n",
              "      <td>True</td>\n",
              "      <td>no</td>\n",
              "      <td>True</td>\n",
              "    </tr>\n",
              "    <tr>\n",
              "      <th>887</th>\n",
              "      <td>1</td>\n",
              "      <td>female</td>\n",
              "      <td>0</td>\n",
              "      <td>0</td>\n",
              "      <td>30.0000</td>\n",
              "      <td>First</td>\n",
              "      <td>woman</td>\n",
              "      <td>False</td>\n",
              "      <td>yes</td>\n",
              "      <td>True</td>\n",
              "    </tr>\n",
              "    <tr>\n",
              "      <th>888</th>\n",
              "      <td>3</td>\n",
              "      <td>female</td>\n",
              "      <td>1</td>\n",
              "      <td>2</td>\n",
              "      <td>23.4500</td>\n",
              "      <td>Third</td>\n",
              "      <td>woman</td>\n",
              "      <td>False</td>\n",
              "      <td>no</td>\n",
              "      <td>False</td>\n",
              "    </tr>\n",
              "    <tr>\n",
              "      <th>889</th>\n",
              "      <td>1</td>\n",
              "      <td>male</td>\n",
              "      <td>0</td>\n",
              "      <td>0</td>\n",
              "      <td>30.0000</td>\n",
              "      <td>First</td>\n",
              "      <td>man</td>\n",
              "      <td>True</td>\n",
              "      <td>yes</td>\n",
              "      <td>True</td>\n",
              "    </tr>\n",
              "    <tr>\n",
              "      <th>890</th>\n",
              "      <td>3</td>\n",
              "      <td>male</td>\n",
              "      <td>0</td>\n",
              "      <td>0</td>\n",
              "      <td>7.7500</td>\n",
              "      <td>Third</td>\n",
              "      <td>man</td>\n",
              "      <td>True</td>\n",
              "      <td>no</td>\n",
              "      <td>True</td>\n",
              "    </tr>\n",
              "  </tbody>\n",
              "</table>\n",
              "<p>891 rows × 10 columns</p>\n",
              "</div>"
            ],
            "text/plain": [
              "     pclass     sex  sibsp  parch  ...    who adult_male alive  alone\n",
              "0         3    male      1      0  ...    man       True    no  False\n",
              "1         1  female      1      0  ...  woman      False   yes  False\n",
              "2         3  female      0      0  ...  woman      False   yes   True\n",
              "3         1  female      1      0  ...  woman      False   yes  False\n",
              "4         3    male      0      0  ...    man       True    no   True\n",
              "..      ...     ...    ...    ...  ...    ...        ...   ...    ...\n",
              "886       2    male      0      0  ...    man       True    no   True\n",
              "887       1  female      0      0  ...  woman      False   yes   True\n",
              "888       3  female      1      2  ...  woman      False    no  False\n",
              "889       1    male      0      0  ...    man       True   yes   True\n",
              "890       3    male      0      0  ...    man       True    no   True\n",
              "\n",
              "[891 rows x 10 columns]"
            ]
          },
          "metadata": {},
          "execution_count": 12
        }
      ]
    },
    {
      "cell_type": "code",
      "metadata": {
        "colab": {
          "base_uri": "https://localhost:8080/"
        },
        "id": "-KIV-PmCSD1N",
        "outputId": "dfeef74d-612d-4855-ec8c-d1aaaa9e5a28"
      },
      "source": [
        "titanic_fitered.dtypes"
      ],
      "execution_count": 13,
      "outputs": [
        {
          "output_type": "execute_result",
          "data": {
            "text/plain": [
              "pclass           int64\n",
              "sex             object\n",
              "sibsp            int64\n",
              "parch            int64\n",
              "fare           float64\n",
              "class         category\n",
              "who             object\n",
              "adult_male        bool\n",
              "alive           object\n",
              "alone             bool\n",
              "dtype: object"
            ]
          },
          "metadata": {},
          "execution_count": 13
        }
      ]
    },
    {
      "cell_type": "code",
      "metadata": {
        "colab": {
          "base_uri": "https://localhost:8080/"
        },
        "id": "DntIfK7UVzhA",
        "outputId": "2ac4eb58-9953-43dd-c07f-2bfd467d2b47"
      },
      "source": [
        "titanic_fitered['alive'] = titanic_fitered['alive'].map(lambda s :1  if s == 'yes' else 0)\n",
        "pd.unique(titanic_fitered['alive'])"
      ],
      "execution_count": 14,
      "outputs": [
        {
          "output_type": "execute_result",
          "data": {
            "text/plain": [
              "array([0, 1])"
            ]
          },
          "metadata": {},
          "execution_count": 14
        }
      ]
    },
    {
      "cell_type": "code",
      "metadata": {
        "colab": {
          "base_uri": "https://localhost:8080/"
        },
        "id": "zM7P4qAucHVg",
        "outputId": "0f7a61e6-5296-4aa3-eb11-60ccc4f78e4c"
      },
      "source": [
        "titanic_fitered['adult_male'] = titanic_fitered['adult_male'].map(lambda s :1  if s == True else 0)\n",
        "pd.unique(titanic_fitered['adult_male'])"
      ],
      "execution_count": 15,
      "outputs": [
        {
          "output_type": "execute_result",
          "data": {
            "text/plain": [
              "array([1, 0])"
            ]
          },
          "metadata": {},
          "execution_count": 15
        }
      ]
    },
    {
      "cell_type": "code",
      "metadata": {
        "colab": {
          "base_uri": "https://localhost:8080/"
        },
        "id": "9nJbW61Fifla",
        "outputId": "12c6b196-8405-40cd-faf9-2134fa8d0f8e"
      },
      "source": [
        "titanic_fitered['alone'] = titanic_fitered['alone'].map(lambda s :1  if s == True else 0)\n",
        "pd.unique(titanic_fitered['alone'])"
      ],
      "execution_count": 16,
      "outputs": [
        {
          "output_type": "execute_result",
          "data": {
            "text/plain": [
              "array([0, 1])"
            ]
          },
          "metadata": {},
          "execution_count": 16
        }
      ]
    },
    {
      "cell_type": "code",
      "metadata": {
        "colab": {
          "base_uri": "https://localhost:8080/",
          "height": 402
        },
        "id": "vmzXHpB-ikMS",
        "outputId": "4b60d239-08fb-4834-be2a-2d467823a49f"
      },
      "source": [
        "titanic_fitered"
      ],
      "execution_count": 17,
      "outputs": [
        {
          "output_type": "execute_result",
          "data": {
            "text/html": [
              "<div>\n",
              "<style scoped>\n",
              "    .dataframe tbody tr th:only-of-type {\n",
              "        vertical-align: middle;\n",
              "    }\n",
              "\n",
              "    .dataframe tbody tr th {\n",
              "        vertical-align: top;\n",
              "    }\n",
              "\n",
              "    .dataframe thead th {\n",
              "        text-align: right;\n",
              "    }\n",
              "</style>\n",
              "<table border=\"1\" class=\"dataframe\">\n",
              "  <thead>\n",
              "    <tr style=\"text-align: right;\">\n",
              "      <th></th>\n",
              "      <th>pclass</th>\n",
              "      <th>sex</th>\n",
              "      <th>sibsp</th>\n",
              "      <th>parch</th>\n",
              "      <th>fare</th>\n",
              "      <th>class</th>\n",
              "      <th>who</th>\n",
              "      <th>adult_male</th>\n",
              "      <th>alive</th>\n",
              "      <th>alone</th>\n",
              "    </tr>\n",
              "  </thead>\n",
              "  <tbody>\n",
              "    <tr>\n",
              "      <th>0</th>\n",
              "      <td>3</td>\n",
              "      <td>male</td>\n",
              "      <td>1</td>\n",
              "      <td>0</td>\n",
              "      <td>7.2500</td>\n",
              "      <td>Third</td>\n",
              "      <td>man</td>\n",
              "      <td>1</td>\n",
              "      <td>0</td>\n",
              "      <td>0</td>\n",
              "    </tr>\n",
              "    <tr>\n",
              "      <th>1</th>\n",
              "      <td>1</td>\n",
              "      <td>female</td>\n",
              "      <td>1</td>\n",
              "      <td>0</td>\n",
              "      <td>71.2833</td>\n",
              "      <td>First</td>\n",
              "      <td>woman</td>\n",
              "      <td>0</td>\n",
              "      <td>1</td>\n",
              "      <td>0</td>\n",
              "    </tr>\n",
              "    <tr>\n",
              "      <th>2</th>\n",
              "      <td>3</td>\n",
              "      <td>female</td>\n",
              "      <td>0</td>\n",
              "      <td>0</td>\n",
              "      <td>7.9250</td>\n",
              "      <td>Third</td>\n",
              "      <td>woman</td>\n",
              "      <td>0</td>\n",
              "      <td>1</td>\n",
              "      <td>1</td>\n",
              "    </tr>\n",
              "    <tr>\n",
              "      <th>3</th>\n",
              "      <td>1</td>\n",
              "      <td>female</td>\n",
              "      <td>1</td>\n",
              "      <td>0</td>\n",
              "      <td>53.1000</td>\n",
              "      <td>First</td>\n",
              "      <td>woman</td>\n",
              "      <td>0</td>\n",
              "      <td>1</td>\n",
              "      <td>0</td>\n",
              "    </tr>\n",
              "    <tr>\n",
              "      <th>4</th>\n",
              "      <td>3</td>\n",
              "      <td>male</td>\n",
              "      <td>0</td>\n",
              "      <td>0</td>\n",
              "      <td>8.0500</td>\n",
              "      <td>Third</td>\n",
              "      <td>man</td>\n",
              "      <td>1</td>\n",
              "      <td>0</td>\n",
              "      <td>1</td>\n",
              "    </tr>\n",
              "    <tr>\n",
              "      <th>...</th>\n",
              "      <td>...</td>\n",
              "      <td>...</td>\n",
              "      <td>...</td>\n",
              "      <td>...</td>\n",
              "      <td>...</td>\n",
              "      <td>...</td>\n",
              "      <td>...</td>\n",
              "      <td>...</td>\n",
              "      <td>...</td>\n",
              "      <td>...</td>\n",
              "    </tr>\n",
              "    <tr>\n",
              "      <th>886</th>\n",
              "      <td>2</td>\n",
              "      <td>male</td>\n",
              "      <td>0</td>\n",
              "      <td>0</td>\n",
              "      <td>13.0000</td>\n",
              "      <td>Second</td>\n",
              "      <td>man</td>\n",
              "      <td>1</td>\n",
              "      <td>0</td>\n",
              "      <td>1</td>\n",
              "    </tr>\n",
              "    <tr>\n",
              "      <th>887</th>\n",
              "      <td>1</td>\n",
              "      <td>female</td>\n",
              "      <td>0</td>\n",
              "      <td>0</td>\n",
              "      <td>30.0000</td>\n",
              "      <td>First</td>\n",
              "      <td>woman</td>\n",
              "      <td>0</td>\n",
              "      <td>1</td>\n",
              "      <td>1</td>\n",
              "    </tr>\n",
              "    <tr>\n",
              "      <th>888</th>\n",
              "      <td>3</td>\n",
              "      <td>female</td>\n",
              "      <td>1</td>\n",
              "      <td>2</td>\n",
              "      <td>23.4500</td>\n",
              "      <td>Third</td>\n",
              "      <td>woman</td>\n",
              "      <td>0</td>\n",
              "      <td>0</td>\n",
              "      <td>0</td>\n",
              "    </tr>\n",
              "    <tr>\n",
              "      <th>889</th>\n",
              "      <td>1</td>\n",
              "      <td>male</td>\n",
              "      <td>0</td>\n",
              "      <td>0</td>\n",
              "      <td>30.0000</td>\n",
              "      <td>First</td>\n",
              "      <td>man</td>\n",
              "      <td>1</td>\n",
              "      <td>1</td>\n",
              "      <td>1</td>\n",
              "    </tr>\n",
              "    <tr>\n",
              "      <th>890</th>\n",
              "      <td>3</td>\n",
              "      <td>male</td>\n",
              "      <td>0</td>\n",
              "      <td>0</td>\n",
              "      <td>7.7500</td>\n",
              "      <td>Third</td>\n",
              "      <td>man</td>\n",
              "      <td>1</td>\n",
              "      <td>0</td>\n",
              "      <td>1</td>\n",
              "    </tr>\n",
              "  </tbody>\n",
              "</table>\n",
              "<p>891 rows × 10 columns</p>\n",
              "</div>"
            ],
            "text/plain": [
              "     pclass     sex  sibsp  parch  ...    who adult_male alive  alone\n",
              "0         3    male      1      0  ...    man          1     0      0\n",
              "1         1  female      1      0  ...  woman          0     1      0\n",
              "2         3  female      0      0  ...  woman          0     1      1\n",
              "3         1  female      1      0  ...  woman          0     1      0\n",
              "4         3    male      0      0  ...    man          1     0      1\n",
              "..      ...     ...    ...    ...  ...    ...        ...   ...    ...\n",
              "886       2    male      0      0  ...    man          1     0      1\n",
              "887       1  female      0      0  ...  woman          0     1      1\n",
              "888       3  female      1      2  ...  woman          0     0      0\n",
              "889       1    male      0      0  ...    man          1     1      1\n",
              "890       3    male      0      0  ...    man          1     0      1\n",
              "\n",
              "[891 rows x 10 columns]"
            ]
          },
          "metadata": {},
          "execution_count": 17
        }
      ]
    },
    {
      "cell_type": "code",
      "metadata": {
        "colab": {
          "base_uri": "https://localhost:8080/"
        },
        "id": "Q6PN9NNSmE7T",
        "outputId": "95d1a84e-e13b-4abe-f979-71dc642d7708"
      },
      "source": [
        "titanic_fitered['class'] = titanic_fitered['class'].map(lambda s :1  if s == 'First' else (2  if s == 'Second' else 3))\n",
        "pd.unique(titanic_fitered['class'])"
      ],
      "execution_count": 18,
      "outputs": [
        {
          "output_type": "execute_result",
          "data": {
            "text/plain": [
              "[3, 1, 2]\n",
              "Categories (3, int64): [3, 1, 2]"
            ]
          },
          "metadata": {},
          "execution_count": 18
        }
      ]
    },
    {
      "cell_type": "code",
      "metadata": {
        "colab": {
          "base_uri": "https://localhost:8080/"
        },
        "id": "uJvHMCC4pSMf",
        "outputId": "9ccef723-a15a-442b-8ff0-7919a00fdbf5"
      },
      "source": [
        "titanic_fitered['who'] = titanic_fitered['who'].map(lambda s :1  if s == 'child' else (2  if s == 'woman' else 3))\n",
        "pd.unique(titanic_fitered['who'])"
      ],
      "execution_count": 19,
      "outputs": [
        {
          "output_type": "execute_result",
          "data": {
            "text/plain": [
              "array([3, 2, 1])"
            ]
          },
          "metadata": {},
          "execution_count": 19
        }
      ]
    },
    {
      "cell_type": "code",
      "metadata": {
        "colab": {
          "base_uri": "https://localhost:8080/"
        },
        "id": "RuliE72Ku6Nr",
        "outputId": "4ead6faf-e217-467e-b436-b82b1c6d6ca6"
      },
      "source": [
        "titanic_fitered['sex'] = titanic_fitered['sex'].map(lambda s :1  if s == 'female' else 0)\n",
        "pd.unique(titanic_fitered['sex'])"
      ],
      "execution_count": 20,
      "outputs": [
        {
          "output_type": "execute_result",
          "data": {
            "text/plain": [
              "array([0, 1])"
            ]
          },
          "metadata": {},
          "execution_count": 20
        }
      ]
    },
    {
      "cell_type": "code",
      "metadata": {
        "id": "bs9LcxIGPRX6"
      },
      "source": [
        "titanic_fitered['class'] = titanic_fitered['class'].astype('category').astype(int)"
      ],
      "execution_count": 21,
      "outputs": []
    },
    {
      "cell_type": "code",
      "metadata": {
        "colab": {
          "base_uri": "https://localhost:8080/"
        },
        "id": "WLoz1FQiJm7R",
        "outputId": "a9fc1abe-967a-4b24-c31c-498eb250a041"
      },
      "source": [
        "titanic_discrete = titanic_fitered\n",
        "titanic_discrete.dtypes"
      ],
      "execution_count": 22,
      "outputs": [
        {
          "output_type": "execute_result",
          "data": {
            "text/plain": [
              "pclass          int64\n",
              "sex             int64\n",
              "sibsp           int64\n",
              "parch           int64\n",
              "fare          float64\n",
              "class           int64\n",
              "who             int64\n",
              "adult_male      int64\n",
              "alive           int64\n",
              "alone           int64\n",
              "dtype: object"
            ]
          },
          "metadata": {},
          "execution_count": 22
        }
      ]
    },
    {
      "cell_type": "code",
      "metadata": {
        "colab": {
          "base_uri": "https://localhost:8080/"
        },
        "id": "eckg55arXH_J",
        "outputId": "ca927f16-ea3e-467a-8907-fc8714d071b7"
      },
      "source": [
        "titanic_discrete.columns"
      ],
      "execution_count": 23,
      "outputs": [
        {
          "output_type": "execute_result",
          "data": {
            "text/plain": [
              "Index(['pclass', 'sex', 'sibsp', 'parch', 'fare', 'class', 'who', 'adult_male',\n",
              "       'alive', 'alone'],\n",
              "      dtype='object')"
            ]
          },
          "metadata": {},
          "execution_count": 23
        }
      ]
    },
    {
      "cell_type": "code",
      "metadata": {
        "colab": {
          "base_uri": "https://localhost:8080/"
        },
        "id": "S6eDQrS0cf2J",
        "outputId": "bd727066-e631-424a-894a-d962b0d5b13e"
      },
      "source": [
        "#Sem a normalização\n",
        "cosine_similarity(titanic_discrete)"
      ],
      "execution_count": 24,
      "outputs": [
        {
          "output_type": "execute_result",
          "data": {
            "text/plain": [
              "array([[1.        , 0.82223856, 0.96253821, ..., 0.89823485, 0.85520164,\n",
              "        0.9877679 ],\n",
              "       [0.82223856, 1.        , 0.86294372, ..., 0.98160748, 0.99560669,\n",
              "        0.83830598],\n",
              "       [0.96253821, 0.86294372, 1.        , ..., 0.92710266, 0.88865914,\n",
              "        0.9772358 ],\n",
              "       ...,\n",
              "       [0.89823485, 0.98160748, 0.92710266, ..., 1.        , 0.98448534,\n",
              "        0.90685684],\n",
              "       [0.85520164, 0.99560669, 0.88865914, ..., 0.98448534, 1.        ,\n",
              "        0.87448026],\n",
              "       [0.9877679 , 0.83830598, 0.9772358 , ..., 0.90685684, 0.87448026,\n",
              "        1.        ]])"
            ]
          },
          "metadata": {},
          "execution_count": 24
        }
      ]
    },
    {
      "cell_type": "code",
      "metadata": {
        "colab": {
          "base_uri": "https://localhost:8080/"
        },
        "id": "sn9ksgZQd4Uf",
        "outputId": "078e490b-4c3b-40ae-a3e7-a39e98ca4a5f"
      },
      "source": [
        "#Sem a normalização\n",
        "euclidean_distances(titanic_discrete)"
      ],
      "execution_count": 25,
      "outputs": [
        {
          "output_type": "execute_result",
          "data": {
            "text/plain": [
              "array([[ 0.        , 64.12693279,  2.5407922 , ..., 16.41462762,\n",
              "        22.99048716,  1.5       ],\n",
              "       [64.12693279,  0.        , 63.43716717, ..., 47.96899612,\n",
              "        41.34381282, 63.64338307],\n",
              "       [ 2.5407922 , 63.43716717,  0.        , ..., 15.74882932,\n",
              "        22.32276025,  2.00764165],\n",
              "       ...,\n",
              "       [16.41462762, 47.96899612, 15.74882932, ...,  0.        ,\n",
              "         7.80400538, 15.98405455],\n",
              "       [22.99048716, 41.34381282, 22.32276025, ...,  7.80400538,\n",
              "         0.        , 22.45133626],\n",
              "       [ 1.5       , 63.64338307,  2.00764165, ..., 15.98405455,\n",
              "        22.45133626,  0.        ]])"
            ]
          },
          "metadata": {},
          "execution_count": 25
        }
      ]
    },
    {
      "cell_type": "code",
      "metadata": {
        "colab": {
          "base_uri": "https://localhost:8080/"
        },
        "id": "rs-0XqjD8VFQ",
        "outputId": "e9544852-078d-4ea7-eb94-f338203b6c85"
      },
      "source": [
        "# O metodo 'pdist' recebe como entrada um numpy.array.\n",
        "# O atributo 'values' de um pandas.DataFrame retorna\n",
        "# seus valores em tal formato.\n",
        "dados = titanic_discrete.values\n",
        "dados.shape"
      ],
      "execution_count": 55,
      "outputs": [
        {
          "output_type": "execute_result",
          "data": {
            "text/plain": [
              "(891, 10)"
            ]
          },
          "metadata": {},
          "execution_count": 55
        }
      ]
    },
    {
      "cell_type": "code",
      "metadata": {
        "colab": {
          "base_uri": "https://localhost:8080/"
        },
        "id": "XBBkYNix7Fab",
        "outputId": "e7483634-e643-4d7a-9101-643e4e19a19a"
      },
      "source": [
        "# 'pdist' calcula as distancias entre todos os pares\n",
        "# possiveis de objetos. O parametro 'metric' define\n",
        "# qual medida de (dis)similaridade sera calculada.\n",
        "distancias = pdist(dados, metric='euclidean')\n",
        "distancias"
      ],
      "execution_count": 56,
      "outputs": [
        {
          "output_type": "execute_result",
          "data": {
            "text/plain": [
              "array([64.12693279,  2.5407922 , 45.98067529, ...,  7.80400538,\n",
              "       15.98405455, 22.45133626])"
            ]
          },
          "metadata": {},
          "execution_count": 56
        }
      ]
    },
    {
      "cell_type": "code",
      "metadata": {
        "colab": {
          "base_uri": "https://localhost:8080/"
        },
        "id": "6aDowGdi7eTY",
        "outputId": "b2d7e74e-4dee-448f-8ae0-c8a95dc24880"
      },
      "source": [
        "# O metodo 'pdist' retorna um numpy.array contendo\n",
        "# n * (n - 1) / 2 elementos. Para transforma-lo em\n",
        "# um numpy.array de dimensao n x n pode-se utilizar\n",
        "# o metodo 'squareform'.\n",
        "distancias_2 = squareform(distancias)\n",
        "distancias_2"
      ],
      "execution_count": 57,
      "outputs": [
        {
          "output_type": "execute_result",
          "data": {
            "text/plain": [
              "array([[ 0.        , 64.12693279,  2.5407922 , ..., 16.41462762,\n",
              "        22.99048716,  1.5       ],\n",
              "       [64.12693279,  0.        , 63.43716717, ..., 47.96899612,\n",
              "        41.34381282, 63.64338307],\n",
              "       [ 2.5407922 , 63.43716717,  0.        , ..., 15.74882932,\n",
              "        22.32276025,  2.00764165],\n",
              "       ...,\n",
              "       [16.41462762, 47.96899612, 15.74882932, ...,  0.        ,\n",
              "         7.80400538, 15.98405455],\n",
              "       [22.99048716, 41.34381282, 22.32276025, ...,  7.80400538,\n",
              "         0.        , 22.45133626],\n",
              "       [ 1.5       , 63.64338307,  2.00764165, ..., 15.98405455,\n",
              "        22.45133626,  0.        ]])"
            ]
          },
          "metadata": {},
          "execution_count": 57
        }
      ]
    },
    {
      "cell_type": "markdown",
      "metadata": {
        "id": "jqn4jZdEWSbm"
      },
      "source": [
        "# Normalização"
      ]
    },
    {
      "cell_type": "markdown",
      "metadata": {
        "id": "PTNClKXZWfnf"
      },
      "source": [
        "## Z-Score"
      ]
    },
    {
      "cell_type": "code",
      "metadata": {
        "colab": {
          "base_uri": "https://localhost:8080/",
          "height": 402
        },
        "id": "rylAD3t_WRn7",
        "outputId": "77103aab-8aa8-4d99-e172-4112d98e1922"
      },
      "source": [
        "#define a forma de normalização\n",
        "std_scaler = preprocessing.StandardScaler()\n",
        "\n",
        "#realiza a normalização\n",
        "zscoreNorm = std_scaler.fit_transform(titanic_discrete)\n",
        "\n",
        "dfZscore = pd.DataFrame(zscoreNorm, columns = ['pclass', 'sex', 'sibsp', 'parch', 'fare', 'class', 'who', 'adult_male','alive', 'alone'])\n",
        "\n",
        "dfZscore"
      ],
      "execution_count": 26,
      "outputs": [
        {
          "output_type": "execute_result",
          "data": {
            "text/html": [
              "<div>\n",
              "<style scoped>\n",
              "    .dataframe tbody tr th:only-of-type {\n",
              "        vertical-align: middle;\n",
              "    }\n",
              "\n",
              "    .dataframe tbody tr th {\n",
              "        vertical-align: top;\n",
              "    }\n",
              "\n",
              "    .dataframe thead th {\n",
              "        text-align: right;\n",
              "    }\n",
              "</style>\n",
              "<table border=\"1\" class=\"dataframe\">\n",
              "  <thead>\n",
              "    <tr style=\"text-align: right;\">\n",
              "      <th></th>\n",
              "      <th>pclass</th>\n",
              "      <th>sex</th>\n",
              "      <th>sibsp</th>\n",
              "      <th>parch</th>\n",
              "      <th>fare</th>\n",
              "      <th>class</th>\n",
              "      <th>who</th>\n",
              "      <th>adult_male</th>\n",
              "      <th>alive</th>\n",
              "      <th>alone</th>\n",
              "    </tr>\n",
              "  </thead>\n",
              "  <tbody>\n",
              "    <tr>\n",
              "      <th>0</th>\n",
              "      <td>0.827377</td>\n",
              "      <td>-0.737695</td>\n",
              "      <td>0.432793</td>\n",
              "      <td>-0.473674</td>\n",
              "      <td>-0.502445</td>\n",
              "      <td>0.827377</td>\n",
              "      <td>0.742596</td>\n",
              "      <td>0.811922</td>\n",
              "      <td>-0.789272</td>\n",
              "      <td>-1.231645</td>\n",
              "    </tr>\n",
              "    <tr>\n",
              "      <th>1</th>\n",
              "      <td>-1.566107</td>\n",
              "      <td>1.355574</td>\n",
              "      <td>0.432793</td>\n",
              "      <td>-0.473674</td>\n",
              "      <td>0.786845</td>\n",
              "      <td>-1.566107</td>\n",
              "      <td>-0.771484</td>\n",
              "      <td>-1.231645</td>\n",
              "      <td>1.266990</td>\n",
              "      <td>-1.231645</td>\n",
              "    </tr>\n",
              "    <tr>\n",
              "      <th>2</th>\n",
              "      <td>0.827377</td>\n",
              "      <td>1.355574</td>\n",
              "      <td>-0.474545</td>\n",
              "      <td>-0.473674</td>\n",
              "      <td>-0.488854</td>\n",
              "      <td>0.827377</td>\n",
              "      <td>-0.771484</td>\n",
              "      <td>-1.231645</td>\n",
              "      <td>1.266990</td>\n",
              "      <td>0.811922</td>\n",
              "    </tr>\n",
              "    <tr>\n",
              "      <th>3</th>\n",
              "      <td>-1.566107</td>\n",
              "      <td>1.355574</td>\n",
              "      <td>0.432793</td>\n",
              "      <td>-0.473674</td>\n",
              "      <td>0.420730</td>\n",
              "      <td>-1.566107</td>\n",
              "      <td>-0.771484</td>\n",
              "      <td>-1.231645</td>\n",
              "      <td>1.266990</td>\n",
              "      <td>-1.231645</td>\n",
              "    </tr>\n",
              "    <tr>\n",
              "      <th>4</th>\n",
              "      <td>0.827377</td>\n",
              "      <td>-0.737695</td>\n",
              "      <td>-0.474545</td>\n",
              "      <td>-0.473674</td>\n",
              "      <td>-0.486337</td>\n",
              "      <td>0.827377</td>\n",
              "      <td>0.742596</td>\n",
              "      <td>0.811922</td>\n",
              "      <td>-0.789272</td>\n",
              "      <td>0.811922</td>\n",
              "    </tr>\n",
              "    <tr>\n",
              "      <th>...</th>\n",
              "      <td>...</td>\n",
              "      <td>...</td>\n",
              "      <td>...</td>\n",
              "      <td>...</td>\n",
              "      <td>...</td>\n",
              "      <td>...</td>\n",
              "      <td>...</td>\n",
              "      <td>...</td>\n",
              "      <td>...</td>\n",
              "      <td>...</td>\n",
              "    </tr>\n",
              "    <tr>\n",
              "      <th>886</th>\n",
              "      <td>-0.369365</td>\n",
              "      <td>-0.737695</td>\n",
              "      <td>-0.474545</td>\n",
              "      <td>-0.473674</td>\n",
              "      <td>-0.386671</td>\n",
              "      <td>-0.369365</td>\n",
              "      <td>0.742596</td>\n",
              "      <td>0.811922</td>\n",
              "      <td>-0.789272</td>\n",
              "      <td>0.811922</td>\n",
              "    </tr>\n",
              "    <tr>\n",
              "      <th>887</th>\n",
              "      <td>-1.566107</td>\n",
              "      <td>1.355574</td>\n",
              "      <td>-0.474545</td>\n",
              "      <td>-0.473674</td>\n",
              "      <td>-0.044381</td>\n",
              "      <td>-1.566107</td>\n",
              "      <td>-0.771484</td>\n",
              "      <td>-1.231645</td>\n",
              "      <td>1.266990</td>\n",
              "      <td>0.811922</td>\n",
              "    </tr>\n",
              "    <tr>\n",
              "      <th>888</th>\n",
              "      <td>0.827377</td>\n",
              "      <td>1.355574</td>\n",
              "      <td>0.432793</td>\n",
              "      <td>2.008933</td>\n",
              "      <td>-0.176263</td>\n",
              "      <td>0.827377</td>\n",
              "      <td>-0.771484</td>\n",
              "      <td>-1.231645</td>\n",
              "      <td>-0.789272</td>\n",
              "      <td>-1.231645</td>\n",
              "    </tr>\n",
              "    <tr>\n",
              "      <th>889</th>\n",
              "      <td>-1.566107</td>\n",
              "      <td>-0.737695</td>\n",
              "      <td>-0.474545</td>\n",
              "      <td>-0.473674</td>\n",
              "      <td>-0.044381</td>\n",
              "      <td>-1.566107</td>\n",
              "      <td>0.742596</td>\n",
              "      <td>0.811922</td>\n",
              "      <td>1.266990</td>\n",
              "      <td>0.811922</td>\n",
              "    </tr>\n",
              "    <tr>\n",
              "      <th>890</th>\n",
              "      <td>0.827377</td>\n",
              "      <td>-0.737695</td>\n",
              "      <td>-0.474545</td>\n",
              "      <td>-0.473674</td>\n",
              "      <td>-0.492378</td>\n",
              "      <td>0.827377</td>\n",
              "      <td>0.742596</td>\n",
              "      <td>0.811922</td>\n",
              "      <td>-0.789272</td>\n",
              "      <td>0.811922</td>\n",
              "    </tr>\n",
              "  </tbody>\n",
              "</table>\n",
              "<p>891 rows × 10 columns</p>\n",
              "</div>"
            ],
            "text/plain": [
              "       pclass       sex     sibsp  ...  adult_male     alive     alone\n",
              "0    0.827377 -0.737695  0.432793  ...    0.811922 -0.789272 -1.231645\n",
              "1   -1.566107  1.355574  0.432793  ...   -1.231645  1.266990 -1.231645\n",
              "2    0.827377  1.355574 -0.474545  ...   -1.231645  1.266990  0.811922\n",
              "3   -1.566107  1.355574  0.432793  ...   -1.231645  1.266990 -1.231645\n",
              "4    0.827377 -0.737695 -0.474545  ...    0.811922 -0.789272  0.811922\n",
              "..        ...       ...       ...  ...         ...       ...       ...\n",
              "886 -0.369365 -0.737695 -0.474545  ...    0.811922 -0.789272  0.811922\n",
              "887 -1.566107  1.355574 -0.474545  ...   -1.231645  1.266990  0.811922\n",
              "888  0.827377  1.355574  0.432793  ...   -1.231645 -0.789272 -1.231645\n",
              "889 -1.566107 -0.737695 -0.474545  ...    0.811922  1.266990  0.811922\n",
              "890  0.827377 -0.737695 -0.474545  ...    0.811922 -0.789272  0.811922\n",
              "\n",
              "[891 rows x 10 columns]"
            ]
          },
          "metadata": {},
          "execution_count": 26
        }
      ]
    },
    {
      "cell_type": "code",
      "metadata": {
        "colab": {
          "base_uri": "https://localhost:8080/"
        },
        "id": "z4cUquDCZU7i",
        "outputId": "6db32590-a7c0-4a4f-8091-0792dbaa2bdf"
      },
      "source": [
        "lista = ['pclass', 'sex', 'sibsp', 'parch', 'fare', 'class', 'who', 'adult_male','alive', 'alone']\n",
        "for i in lista:\n",
        "  print(f\"A média para a coluna {i} é igual a {dfZscore[i].mean()} e desvio padrão {dfZscore[i].std()}\\n\")"
      ],
      "execution_count": 27,
      "outputs": [
        {
          "output_type": "stream",
          "name": "stdout",
          "text": [
            "A média para a coluna pclass é igual a -2.03104773304041e-16 e desvio padrão 1.00056164003304\n",
            "\n",
            "A média para a coluna sex é igual a 3.1624534640837794e-16 e desvio padrão 1.000561640033043\n",
            "\n",
            "A média para a coluna sibsp é igual a 3.456519270830734e-16 e desvio padrão 1.000561640033047\n",
            "\n",
            "A média para a coluna parch é igual a 6.71616397612749e-17 e desvio padrão 1.0005616400330388\n",
            "\n",
            "A média para a coluna fare é igual a -4.37360585458395e-17 e desvio padrão 1.0005616400330462\n",
            "\n",
            "A média para a coluna class é igual a -2.03104773304041e-16 e desvio padrão 1.00056164003304\n",
            "\n",
            "A média para a coluna who é igual a -4.886974974837109e-16 e desvio padrão 1.0005616400330481\n",
            "\n",
            "A média para a coluna adult_male é igual a -1.7793473391298806e-16 e desvio padrão 1.000561640033047\n",
            "\n",
            "A média para a coluna alive é igual a -2.287732293166989e-16 e desvio padrão 1.0005616400330464\n",
            "\n",
            "A média para a coluna alone é igual a -2.561861435049744e-16 e desvio padrão 1.000561640033047\n",
            "\n"
          ]
        }
      ]
    },
    {
      "cell_type": "code",
      "metadata": {
        "colab": {
          "base_uri": "https://localhost:8080/"
        },
        "id": "EOG9zo1pXd18",
        "outputId": "ee0217f4-3717-4a44-eeda-f66350f4e83b"
      },
      "source": [
        "# Como esperado média 0 e desvio padrão igual a 1\n",
        "lista = ['pclass', 'sex', 'sibsp', 'parch', 'fare', 'class', 'who', 'adult_male','alive', 'alone']\n",
        "for i in lista:\n",
        "  print(f\"A média para a coluna {i} é igual a {round(dfZscore[i].mean(),3)} e desvio padrão {round(dfZscore[i].std(),3)}\\n\")\n"
      ],
      "execution_count": 28,
      "outputs": [
        {
          "output_type": "stream",
          "name": "stdout",
          "text": [
            "A média para a coluna pclass é igual a -0.0 e desvio padrão 1.001\n",
            "\n",
            "A média para a coluna sex é igual a 0.0 e desvio padrão 1.001\n",
            "\n",
            "A média para a coluna sibsp é igual a 0.0 e desvio padrão 1.001\n",
            "\n",
            "A média para a coluna parch é igual a 0.0 e desvio padrão 1.001\n",
            "\n",
            "A média para a coluna fare é igual a -0.0 e desvio padrão 1.001\n",
            "\n",
            "A média para a coluna class é igual a -0.0 e desvio padrão 1.001\n",
            "\n",
            "A média para a coluna who é igual a -0.0 e desvio padrão 1.001\n",
            "\n",
            "A média para a coluna adult_male é igual a -0.0 e desvio padrão 1.001\n",
            "\n",
            "A média para a coluna alive é igual a -0.0 e desvio padrão 1.001\n",
            "\n",
            "A média para a coluna alone é igual a -0.0 e desvio padrão 1.001\n",
            "\n"
          ]
        }
      ]
    },
    {
      "cell_type": "code",
      "metadata": {
        "colab": {
          "base_uri": "https://localhost:8080/"
        },
        "id": "BQQqxn97cRO7",
        "outputId": "f2aed77a-c0bf-4ef1-d00c-7556009d71b8"
      },
      "source": [
        "cosine_similarity(dfZscore)"
      ],
      "execution_count": 29,
      "outputs": [
        {
          "output_type": "execute_result",
          "data": {
            "text/plain": [
              "array([[ 1.        , -0.52738437, -0.41973194, ...,  0.0312502 ,\n",
              "        -0.37494849,  0.54812875],\n",
              "       [-0.52738437,  1.        ,  0.15403231, ...,  0.07876048,\n",
              "         0.26456358, -0.92501196],\n",
              "       [-0.41973194,  0.15403231,  1.        , ...,  0.22838561,\n",
              "        -0.27577555, -0.13155643],\n",
              "       ...,\n",
              "       [ 0.0312502 ,  0.07876048,  0.22838561, ...,  1.        ,\n",
              "        -0.79330439, -0.34306321],\n",
              "       [-0.37494849,  0.26456358, -0.27577555, ..., -0.79330439,\n",
              "         1.        , -0.10211838],\n",
              "       [ 0.54812875, -0.92501196, -0.13155643, ..., -0.34306321,\n",
              "        -0.10211838,  1.        ]])"
            ]
          },
          "metadata": {},
          "execution_count": 29
        }
      ]
    },
    {
      "cell_type": "code",
      "metadata": {
        "colab": {
          "base_uri": "https://localhost:8080/"
        },
        "id": "KrCsrUg8oeXX",
        "outputId": "15a3f78b-72af-4fa1-8d9e-e601bca7f6e0"
      },
      "source": [
        "euclidean_distances(dfZscore)"
      ],
      "execution_count": 30,
      "outputs": [
        {
          "output_type": "execute_result",
          "data": {
            "text/plain": [
              "array([[0.        , 5.3102163 , 4.48087149, ..., 4.13764576, 4.5711049 ,\n",
              "        2.23596325],\n",
              "       [5.3102163 , 0.        , 4.25257247, ..., 4.77249016, 4.06703182,\n",
              "        5.75951121],\n",
              "       [4.48087149, 4.25257247, 0.        , ..., 3.93556792, 4.74399302,\n",
              "        3.88311817],\n",
              "       ...,\n",
              "       [4.13764576, 4.77249016, 3.93556792, ..., 0.        , 6.1413588 ,\n",
              "        4.7024543 ],\n",
              "       [4.5711049 , 4.06703182, 4.74399302, ..., 6.1413588 , 0.        ,\n",
              "        3.98578073],\n",
              "       [2.23596325, 5.75951121, 3.88311817, ..., 4.7024543 , 3.98578073,\n",
              "        0.        ]])"
            ]
          },
          "metadata": {},
          "execution_count": 30
        }
      ]
    },
    {
      "cell_type": "markdown",
      "metadata": {
        "id": "aHqt4lNaZviI"
      },
      "source": [
        "## Min-Max"
      ]
    },
    {
      "cell_type": "code",
      "metadata": {
        "colab": {
          "base_uri": "https://localhost:8080/",
          "height": 402
        },
        "id": "gvCxNqxjZ1rX",
        "outputId": "027a32d4-5353-4c93-9cef-6cb00c2be3f7"
      },
      "source": [
        "minmax_scaler = preprocessing.MinMaxScaler()\n",
        "minmax = minmax_scaler.fit_transform(titanic_discrete)\n",
        "\n",
        "dfMinmax = pd.DataFrame(minmax, columns = ['pclass', 'sex', 'sibsp', 'parch', 'fare', 'class', 'who', 'adult_male','alive', 'alone'])\n",
        "\n",
        "dfMinmax"
      ],
      "execution_count": 31,
      "outputs": [
        {
          "output_type": "execute_result",
          "data": {
            "text/html": [
              "<div>\n",
              "<style scoped>\n",
              "    .dataframe tbody tr th:only-of-type {\n",
              "        vertical-align: middle;\n",
              "    }\n",
              "\n",
              "    .dataframe tbody tr th {\n",
              "        vertical-align: top;\n",
              "    }\n",
              "\n",
              "    .dataframe thead th {\n",
              "        text-align: right;\n",
              "    }\n",
              "</style>\n",
              "<table border=\"1\" class=\"dataframe\">\n",
              "  <thead>\n",
              "    <tr style=\"text-align: right;\">\n",
              "      <th></th>\n",
              "      <th>pclass</th>\n",
              "      <th>sex</th>\n",
              "      <th>sibsp</th>\n",
              "      <th>parch</th>\n",
              "      <th>fare</th>\n",
              "      <th>class</th>\n",
              "      <th>who</th>\n",
              "      <th>adult_male</th>\n",
              "      <th>alive</th>\n",
              "      <th>alone</th>\n",
              "    </tr>\n",
              "  </thead>\n",
              "  <tbody>\n",
              "    <tr>\n",
              "      <th>0</th>\n",
              "      <td>1.0</td>\n",
              "      <td>0.0</td>\n",
              "      <td>0.125</td>\n",
              "      <td>0.000000</td>\n",
              "      <td>0.014151</td>\n",
              "      <td>1.0</td>\n",
              "      <td>1.0</td>\n",
              "      <td>1.0</td>\n",
              "      <td>0.0</td>\n",
              "      <td>0.0</td>\n",
              "    </tr>\n",
              "    <tr>\n",
              "      <th>1</th>\n",
              "      <td>0.0</td>\n",
              "      <td>1.0</td>\n",
              "      <td>0.125</td>\n",
              "      <td>0.000000</td>\n",
              "      <td>0.139136</td>\n",
              "      <td>0.0</td>\n",
              "      <td>0.5</td>\n",
              "      <td>0.0</td>\n",
              "      <td>1.0</td>\n",
              "      <td>0.0</td>\n",
              "    </tr>\n",
              "    <tr>\n",
              "      <th>2</th>\n",
              "      <td>1.0</td>\n",
              "      <td>1.0</td>\n",
              "      <td>0.000</td>\n",
              "      <td>0.000000</td>\n",
              "      <td>0.015469</td>\n",
              "      <td>1.0</td>\n",
              "      <td>0.5</td>\n",
              "      <td>0.0</td>\n",
              "      <td>1.0</td>\n",
              "      <td>1.0</td>\n",
              "    </tr>\n",
              "    <tr>\n",
              "      <th>3</th>\n",
              "      <td>0.0</td>\n",
              "      <td>1.0</td>\n",
              "      <td>0.125</td>\n",
              "      <td>0.000000</td>\n",
              "      <td>0.103644</td>\n",
              "      <td>0.0</td>\n",
              "      <td>0.5</td>\n",
              "      <td>0.0</td>\n",
              "      <td>1.0</td>\n",
              "      <td>0.0</td>\n",
              "    </tr>\n",
              "    <tr>\n",
              "      <th>4</th>\n",
              "      <td>1.0</td>\n",
              "      <td>0.0</td>\n",
              "      <td>0.000</td>\n",
              "      <td>0.000000</td>\n",
              "      <td>0.015713</td>\n",
              "      <td>1.0</td>\n",
              "      <td>1.0</td>\n",
              "      <td>1.0</td>\n",
              "      <td>0.0</td>\n",
              "      <td>1.0</td>\n",
              "    </tr>\n",
              "    <tr>\n",
              "      <th>...</th>\n",
              "      <td>...</td>\n",
              "      <td>...</td>\n",
              "      <td>...</td>\n",
              "      <td>...</td>\n",
              "      <td>...</td>\n",
              "      <td>...</td>\n",
              "      <td>...</td>\n",
              "      <td>...</td>\n",
              "      <td>...</td>\n",
              "      <td>...</td>\n",
              "    </tr>\n",
              "    <tr>\n",
              "      <th>886</th>\n",
              "      <td>0.5</td>\n",
              "      <td>0.0</td>\n",
              "      <td>0.000</td>\n",
              "      <td>0.000000</td>\n",
              "      <td>0.025374</td>\n",
              "      <td>0.5</td>\n",
              "      <td>1.0</td>\n",
              "      <td>1.0</td>\n",
              "      <td>0.0</td>\n",
              "      <td>1.0</td>\n",
              "    </tr>\n",
              "    <tr>\n",
              "      <th>887</th>\n",
              "      <td>0.0</td>\n",
              "      <td>1.0</td>\n",
              "      <td>0.000</td>\n",
              "      <td>0.000000</td>\n",
              "      <td>0.058556</td>\n",
              "      <td>0.0</td>\n",
              "      <td>0.5</td>\n",
              "      <td>0.0</td>\n",
              "      <td>1.0</td>\n",
              "      <td>1.0</td>\n",
              "    </tr>\n",
              "    <tr>\n",
              "      <th>888</th>\n",
              "      <td>1.0</td>\n",
              "      <td>1.0</td>\n",
              "      <td>0.125</td>\n",
              "      <td>0.333333</td>\n",
              "      <td>0.045771</td>\n",
              "      <td>1.0</td>\n",
              "      <td>0.5</td>\n",
              "      <td>0.0</td>\n",
              "      <td>0.0</td>\n",
              "      <td>0.0</td>\n",
              "    </tr>\n",
              "    <tr>\n",
              "      <th>889</th>\n",
              "      <td>0.0</td>\n",
              "      <td>0.0</td>\n",
              "      <td>0.000</td>\n",
              "      <td>0.000000</td>\n",
              "      <td>0.058556</td>\n",
              "      <td>0.0</td>\n",
              "      <td>1.0</td>\n",
              "      <td>1.0</td>\n",
              "      <td>1.0</td>\n",
              "      <td>1.0</td>\n",
              "    </tr>\n",
              "    <tr>\n",
              "      <th>890</th>\n",
              "      <td>1.0</td>\n",
              "      <td>0.0</td>\n",
              "      <td>0.000</td>\n",
              "      <td>0.000000</td>\n",
              "      <td>0.015127</td>\n",
              "      <td>1.0</td>\n",
              "      <td>1.0</td>\n",
              "      <td>1.0</td>\n",
              "      <td>0.0</td>\n",
              "      <td>1.0</td>\n",
              "    </tr>\n",
              "  </tbody>\n",
              "</table>\n",
              "<p>891 rows × 10 columns</p>\n",
              "</div>"
            ],
            "text/plain": [
              "     pclass  sex  sibsp     parch  ...  who  adult_male  alive  alone\n",
              "0       1.0  0.0  0.125  0.000000  ...  1.0         1.0    0.0    0.0\n",
              "1       0.0  1.0  0.125  0.000000  ...  0.5         0.0    1.0    0.0\n",
              "2       1.0  1.0  0.000  0.000000  ...  0.5         0.0    1.0    1.0\n",
              "3       0.0  1.0  0.125  0.000000  ...  0.5         0.0    1.0    0.0\n",
              "4       1.0  0.0  0.000  0.000000  ...  1.0         1.0    0.0    1.0\n",
              "..      ...  ...    ...       ...  ...  ...         ...    ...    ...\n",
              "886     0.5  0.0  0.000  0.000000  ...  1.0         1.0    0.0    1.0\n",
              "887     0.0  1.0  0.000  0.000000  ...  0.5         0.0    1.0    1.0\n",
              "888     1.0  1.0  0.125  0.333333  ...  0.5         0.0    0.0    0.0\n",
              "889     0.0  0.0  0.000  0.000000  ...  1.0         1.0    1.0    1.0\n",
              "890     1.0  0.0  0.000  0.000000  ...  1.0         1.0    0.0    1.0\n",
              "\n",
              "[891 rows x 10 columns]"
            ]
          },
          "metadata": {},
          "execution_count": 31
        }
      ]
    },
    {
      "cell_type": "code",
      "metadata": {
        "colab": {
          "base_uri": "https://localhost:8080/"
        },
        "id": "CAfXf3pbaHdP",
        "outputId": "8695f299-a371-4978-c470-12284e3561fa"
      },
      "source": [
        "lista = ['pclass', 'sex', 'sibsp', 'parch', 'fare', 'class', 'who', 'adult_male','alive', 'alone']\n",
        "for i in lista:\n",
        "  print(f\"O valor mínimo para a coluna {i} é igual a {dfMinmax[i].min()} e o máximo {dfMinmax[i].max()}\\n\")"
      ],
      "execution_count": 32,
      "outputs": [
        {
          "output_type": "stream",
          "name": "stdout",
          "text": [
            "O valor mínimo para a coluna pclass é igual a 0.0 e o máximo 1.0\n",
            "\n",
            "O valor mínimo para a coluna sex é igual a 0.0 e o máximo 1.0\n",
            "\n",
            "O valor mínimo para a coluna sibsp é igual a 0.0 e o máximo 1.0\n",
            "\n",
            "O valor mínimo para a coluna parch é igual a 0.0 e o máximo 1.0\n",
            "\n",
            "O valor mínimo para a coluna fare é igual a 0.0 e o máximo 1.0\n",
            "\n",
            "O valor mínimo para a coluna class é igual a 0.0 e o máximo 1.0\n",
            "\n",
            "O valor mínimo para a coluna who é igual a 0.0 e o máximo 1.0\n",
            "\n",
            "O valor mínimo para a coluna adult_male é igual a 0.0 e o máximo 1.0\n",
            "\n",
            "O valor mínimo para a coluna alive é igual a 0.0 e o máximo 1.0\n",
            "\n",
            "O valor mínimo para a coluna alone é igual a 0.0 e o máximo 1.0\n",
            "\n"
          ]
        }
      ]
    },
    {
      "cell_type": "code",
      "metadata": {
        "colab": {
          "base_uri": "https://localhost:8080/"
        },
        "id": "Up-zhCZKaV7u",
        "outputId": "5c6643fc-8233-4baf-99ec-137bf1465652"
      },
      "source": [
        "lista = ['pclass', 'sex', 'sibsp', 'parch', 'fare', 'class', 'who', 'adult_male','alive', 'alone']\n",
        "for i in lista:\n",
        "  print(f\"A média para a coluna {i} é igual a {round(dfMinmax[i].mean(),3)} e desvio padrão {round(dfMinmax[i].std(),3)}\\n\")"
      ],
      "execution_count": 33,
      "outputs": [
        {
          "output_type": "stream",
          "name": "stdout",
          "text": [
            "A média para a coluna pclass é igual a 0.654 e desvio padrão 0.418\n",
            "\n",
            "A média para a coluna sex é igual a 0.352 e desvio padrão 0.478\n",
            "\n",
            "A média para a coluna sibsp é igual a 0.065 e desvio padrão 0.138\n",
            "\n",
            "A média para a coluna parch é igual a 0.064 e desvio padrão 0.134\n",
            "\n",
            "A média para a coluna fare é igual a 0.063 e desvio padrão 0.097\n",
            "\n",
            "A média para a coluna class é igual a 0.654 e desvio padrão 0.418\n",
            "\n",
            "A média para a coluna who é igual a 0.755 e desvio padrão 0.33\n",
            "\n",
            "A média para a coluna adult_male é igual a 0.603 e desvio padrão 0.49\n",
            "\n",
            "A média para a coluna alive é igual a 0.384 e desvio padrão 0.487\n",
            "\n",
            "A média para a coluna alone é igual a 0.603 e desvio padrão 0.49\n",
            "\n"
          ]
        }
      ]
    },
    {
      "cell_type": "code",
      "metadata": {
        "colab": {
          "base_uri": "https://localhost:8080/"
        },
        "id": "PIZR-4nScW2b",
        "outputId": "a64d6921-79fd-4b9b-e4f6-4be12731c673"
      },
      "source": [
        "cosine_similarity(dfMinmax)"
      ],
      "execution_count": 34,
      "outputs": [
        {
          "output_type": "execute_result",
          "data": {
            "text/plain": [
              "array([[1.        , 0.17086779, 0.54450401, ..., 0.68310437, 0.49900677,\n",
              "        0.89269045],\n",
              "       [0.17086779, 1.        , 0.65022945, ..., 0.45778343, 0.49863887,\n",
              "        0.14854492],\n",
              "       [0.54450401, 0.65022945, 1.        , ..., 0.7718007 , 0.5454962 ,\n",
              "        0.68314452],\n",
              "       ...,\n",
              "       [0.68310437, 0.45778343, 0.7718007 , ..., 1.        , 0.13667607,\n",
              "        0.60839003],\n",
              "       [0.49900677, 0.49863887, 0.5454962 , ..., 0.13667607, 1.        ,\n",
              "        0.6707157 ],\n",
              "       [0.89269045, 0.14854492, 0.68314452, ..., 0.60839003, 0.6707157 ,\n",
              "        1.        ]])"
            ]
          },
          "metadata": {},
          "execution_count": 34
        }
      ]
    },
    {
      "cell_type": "code",
      "metadata": {
        "colab": {
          "base_uri": "https://localhost:8080/"
        },
        "id": "LXnbOuD4oZk5",
        "outputId": "27962572-36e3-485e-9ad4-557be5c1a409"
      },
      "source": [
        "euclidean_distances(dfMinmax)"
      ],
      "execution_count": 35,
      "outputs": [
        {
          "output_type": "execute_result",
          "data": {
            "text/plain": [
              "array([[0.        , 2.29469413, 2.06533938, ..., 1.53691605, 2.00439437,\n",
              "        1.00778269],\n",
              "       [2.29469413, 0.        , 1.74095335, ..., 1.76630349, 1.80889969,\n",
              "        2.50619296],\n",
              "       [2.06533938, 1.74095335, 0.        , ..., 1.45864813, 2.06200304,\n",
              "        1.80277567],\n",
              "       ...,\n",
              "       [1.53691605, 1.76630349, 1.45864813, ..., 0.        , 2.52525238,\n",
              "        1.83784526],\n",
              "       [2.00439437, 1.80889969, 2.06200304, ..., 2.52525238, 0.        ,\n",
              "        1.73259519],\n",
              "       [1.00778269, 2.50619296, 1.80277567, ..., 1.83784526, 1.73259519,\n",
              "        0.        ]])"
            ]
          },
          "metadata": {},
          "execution_count": 35
        }
      ]
    },
    {
      "cell_type": "markdown",
      "metadata": {
        "id": "P0Pj-R1dLtyu"
      },
      "source": [
        "## Standard Scaler"
      ]
    },
    {
      "cell_type": "code",
      "metadata": {
        "colab": {
          "base_uri": "https://localhost:8080/",
          "height": 402
        },
        "id": "QNc3BAvPLwEH",
        "outputId": "73c6017b-1dc3-4e1a-d713-3dd2b4bbc22b"
      },
      "source": [
        "std_scaler = preprocessing.StandardScaler()\n",
        "\n",
        "dfAllFeatures_norm = std_scaler.fit_transform(titanic_discrete)\n",
        "\n",
        "dfStandScaler = pd.DataFrame(dfAllFeatures_norm, columns = ['pclass', 'sex', 'sibsp', 'parch', 'fare', 'class', 'who', 'adult_male','alive', 'alone'])\n",
        "\n",
        "dfStandScaler"
      ],
      "execution_count": 68,
      "outputs": [
        {
          "output_type": "execute_result",
          "data": {
            "text/html": [
              "<div>\n",
              "<style scoped>\n",
              "    .dataframe tbody tr th:only-of-type {\n",
              "        vertical-align: middle;\n",
              "    }\n",
              "\n",
              "    .dataframe tbody tr th {\n",
              "        vertical-align: top;\n",
              "    }\n",
              "\n",
              "    .dataframe thead th {\n",
              "        text-align: right;\n",
              "    }\n",
              "</style>\n",
              "<table border=\"1\" class=\"dataframe\">\n",
              "  <thead>\n",
              "    <tr style=\"text-align: right;\">\n",
              "      <th></th>\n",
              "      <th>pclass</th>\n",
              "      <th>sex</th>\n",
              "      <th>sibsp</th>\n",
              "      <th>parch</th>\n",
              "      <th>fare</th>\n",
              "      <th>class</th>\n",
              "      <th>who</th>\n",
              "      <th>adult_male</th>\n",
              "      <th>alive</th>\n",
              "      <th>alone</th>\n",
              "    </tr>\n",
              "  </thead>\n",
              "  <tbody>\n",
              "    <tr>\n",
              "      <th>0</th>\n",
              "      <td>0.827377</td>\n",
              "      <td>-0.737695</td>\n",
              "      <td>0.432793</td>\n",
              "      <td>-0.473674</td>\n",
              "      <td>-0.502445</td>\n",
              "      <td>0.827377</td>\n",
              "      <td>0.742596</td>\n",
              "      <td>0.811922</td>\n",
              "      <td>-0.789272</td>\n",
              "      <td>-1.231645</td>\n",
              "    </tr>\n",
              "    <tr>\n",
              "      <th>1</th>\n",
              "      <td>-1.566107</td>\n",
              "      <td>1.355574</td>\n",
              "      <td>0.432793</td>\n",
              "      <td>-0.473674</td>\n",
              "      <td>0.786845</td>\n",
              "      <td>-1.566107</td>\n",
              "      <td>-0.771484</td>\n",
              "      <td>-1.231645</td>\n",
              "      <td>1.266990</td>\n",
              "      <td>-1.231645</td>\n",
              "    </tr>\n",
              "    <tr>\n",
              "      <th>2</th>\n",
              "      <td>0.827377</td>\n",
              "      <td>1.355574</td>\n",
              "      <td>-0.474545</td>\n",
              "      <td>-0.473674</td>\n",
              "      <td>-0.488854</td>\n",
              "      <td>0.827377</td>\n",
              "      <td>-0.771484</td>\n",
              "      <td>-1.231645</td>\n",
              "      <td>1.266990</td>\n",
              "      <td>0.811922</td>\n",
              "    </tr>\n",
              "    <tr>\n",
              "      <th>3</th>\n",
              "      <td>-1.566107</td>\n",
              "      <td>1.355574</td>\n",
              "      <td>0.432793</td>\n",
              "      <td>-0.473674</td>\n",
              "      <td>0.420730</td>\n",
              "      <td>-1.566107</td>\n",
              "      <td>-0.771484</td>\n",
              "      <td>-1.231645</td>\n",
              "      <td>1.266990</td>\n",
              "      <td>-1.231645</td>\n",
              "    </tr>\n",
              "    <tr>\n",
              "      <th>4</th>\n",
              "      <td>0.827377</td>\n",
              "      <td>-0.737695</td>\n",
              "      <td>-0.474545</td>\n",
              "      <td>-0.473674</td>\n",
              "      <td>-0.486337</td>\n",
              "      <td>0.827377</td>\n",
              "      <td>0.742596</td>\n",
              "      <td>0.811922</td>\n",
              "      <td>-0.789272</td>\n",
              "      <td>0.811922</td>\n",
              "    </tr>\n",
              "    <tr>\n",
              "      <th>...</th>\n",
              "      <td>...</td>\n",
              "      <td>...</td>\n",
              "      <td>...</td>\n",
              "      <td>...</td>\n",
              "      <td>...</td>\n",
              "      <td>...</td>\n",
              "      <td>...</td>\n",
              "      <td>...</td>\n",
              "      <td>...</td>\n",
              "      <td>...</td>\n",
              "    </tr>\n",
              "    <tr>\n",
              "      <th>886</th>\n",
              "      <td>-0.369365</td>\n",
              "      <td>-0.737695</td>\n",
              "      <td>-0.474545</td>\n",
              "      <td>-0.473674</td>\n",
              "      <td>-0.386671</td>\n",
              "      <td>-0.369365</td>\n",
              "      <td>0.742596</td>\n",
              "      <td>0.811922</td>\n",
              "      <td>-0.789272</td>\n",
              "      <td>0.811922</td>\n",
              "    </tr>\n",
              "    <tr>\n",
              "      <th>887</th>\n",
              "      <td>-1.566107</td>\n",
              "      <td>1.355574</td>\n",
              "      <td>-0.474545</td>\n",
              "      <td>-0.473674</td>\n",
              "      <td>-0.044381</td>\n",
              "      <td>-1.566107</td>\n",
              "      <td>-0.771484</td>\n",
              "      <td>-1.231645</td>\n",
              "      <td>1.266990</td>\n",
              "      <td>0.811922</td>\n",
              "    </tr>\n",
              "    <tr>\n",
              "      <th>888</th>\n",
              "      <td>0.827377</td>\n",
              "      <td>1.355574</td>\n",
              "      <td>0.432793</td>\n",
              "      <td>2.008933</td>\n",
              "      <td>-0.176263</td>\n",
              "      <td>0.827377</td>\n",
              "      <td>-0.771484</td>\n",
              "      <td>-1.231645</td>\n",
              "      <td>-0.789272</td>\n",
              "      <td>-1.231645</td>\n",
              "    </tr>\n",
              "    <tr>\n",
              "      <th>889</th>\n",
              "      <td>-1.566107</td>\n",
              "      <td>-0.737695</td>\n",
              "      <td>-0.474545</td>\n",
              "      <td>-0.473674</td>\n",
              "      <td>-0.044381</td>\n",
              "      <td>-1.566107</td>\n",
              "      <td>0.742596</td>\n",
              "      <td>0.811922</td>\n",
              "      <td>1.266990</td>\n",
              "      <td>0.811922</td>\n",
              "    </tr>\n",
              "    <tr>\n",
              "      <th>890</th>\n",
              "      <td>0.827377</td>\n",
              "      <td>-0.737695</td>\n",
              "      <td>-0.474545</td>\n",
              "      <td>-0.473674</td>\n",
              "      <td>-0.492378</td>\n",
              "      <td>0.827377</td>\n",
              "      <td>0.742596</td>\n",
              "      <td>0.811922</td>\n",
              "      <td>-0.789272</td>\n",
              "      <td>0.811922</td>\n",
              "    </tr>\n",
              "  </tbody>\n",
              "</table>\n",
              "<p>891 rows × 10 columns</p>\n",
              "</div>"
            ],
            "text/plain": [
              "       pclass       sex     sibsp  ...  adult_male     alive     alone\n",
              "0    0.827377 -0.737695  0.432793  ...    0.811922 -0.789272 -1.231645\n",
              "1   -1.566107  1.355574  0.432793  ...   -1.231645  1.266990 -1.231645\n",
              "2    0.827377  1.355574 -0.474545  ...   -1.231645  1.266990  0.811922\n",
              "3   -1.566107  1.355574  0.432793  ...   -1.231645  1.266990 -1.231645\n",
              "4    0.827377 -0.737695 -0.474545  ...    0.811922 -0.789272  0.811922\n",
              "..        ...       ...       ...  ...         ...       ...       ...\n",
              "886 -0.369365 -0.737695 -0.474545  ...    0.811922 -0.789272  0.811922\n",
              "887 -1.566107  1.355574 -0.474545  ...   -1.231645  1.266990  0.811922\n",
              "888  0.827377  1.355574  0.432793  ...   -1.231645 -0.789272 -1.231645\n",
              "889 -1.566107 -0.737695 -0.474545  ...    0.811922  1.266990  0.811922\n",
              "890  0.827377 -0.737695 -0.474545  ...    0.811922 -0.789272  0.811922\n",
              "\n",
              "[891 rows x 10 columns]"
            ]
          },
          "metadata": {},
          "execution_count": 68
        }
      ]
    },
    {
      "cell_type": "code",
      "metadata": {
        "colab": {
          "base_uri": "https://localhost:8080/"
        },
        "id": "P2O2Lka-MLcm",
        "outputId": "abc857a9-d189-4b9d-9ba8-edb594116b97"
      },
      "source": [
        "lista = ['pclass', 'sex', 'sibsp', 'parch', 'fare', 'class', 'who', 'adult_male','alive', 'alone']\n",
        "for i in lista:\n",
        "  print(f\"O valor média para a coluna {i} é igual a {dfStandScaler[i].mean()} e o desvio padrão {dfStandScaler[i].std()}\\n\")"
      ],
      "execution_count": 71,
      "outputs": [
        {
          "output_type": "stream",
          "name": "stdout",
          "text": [
            "O valor média para a coluna pclass é igual a -2.03104773304041e-16 e o desvio padrão 1.00056164003304\n",
            "\n",
            "O valor média para a coluna sex é igual a 3.1624534640837794e-16 e o desvio padrão 1.000561640033043\n",
            "\n",
            "O valor média para a coluna sibsp é igual a 3.456519270830734e-16 e o desvio padrão 1.000561640033047\n",
            "\n",
            "O valor média para a coluna parch é igual a 6.71616397612749e-17 e o desvio padrão 1.0005616400330388\n",
            "\n",
            "O valor média para a coluna fare é igual a -4.37360585458395e-17 e o desvio padrão 1.0005616400330462\n",
            "\n",
            "O valor média para a coluna class é igual a -2.03104773304041e-16 e o desvio padrão 1.00056164003304\n",
            "\n",
            "O valor média para a coluna who é igual a -4.886974974837109e-16 e o desvio padrão 1.0005616400330481\n",
            "\n",
            "O valor média para a coluna adult_male é igual a -1.7793473391298806e-16 e o desvio padrão 1.000561640033047\n",
            "\n",
            "O valor média para a coluna alive é igual a -2.287732293166989e-16 e o desvio padrão 1.0005616400330464\n",
            "\n",
            "O valor média para a coluna alone é igual a -2.561861435049744e-16 e o desvio padrão 1.000561640033047\n",
            "\n"
          ]
        }
      ]
    },
    {
      "cell_type": "markdown",
      "metadata": {
        "id": "RTGrbk9SY8lM"
      },
      "source": [
        "####2c\n",
        "<pre>\n",
        "<class 'pandas.core.frame.DataFrame'>\n",
        "RangeIndex: 891 entries, 0 to 890\n",
        "Data columns (total 11 columns):\n",
        " #   Column      Non-Null Count  Dtype  \n",
        "---  ------      --------------  -----  \n",
        " 0   survived    891 non-null    int64  \n",
        " 1   pclass      891 non-null    int64  \n",
        " 2   sex         891 non-null    int8   \n",
        " 3   sibsp       891 non-null    int64  \n",
        " 4   parch       891 non-null    int64  \n",
        " 5   fare        891 non-null    float64\n",
        " 6   class       891 non-null    int8   \n",
        " 7   who         891 non-null    int8   \n",
        " 8   adult_male  891 non-null    bool   \n",
        " 9   alive       891 non-null    int8   \n",
        " 10  alone       891 non-null    bool   \n",
        "dtypes: bool(2), float64(1), int64(4), int8(4)\n",
        "memory usage: 40.2 KB\n",
        "\n",
        "---\n",
        "\n",
        "\n",
        "</pre>"
      ]
    },
    {
      "cell_type": "code",
      "metadata": {
        "id": "gozidlNuXoMW"
      },
      "source": [
        "#############################\n",
        "### Escreva o código aqui ### - Solução acima\n",
        "#############################"
      ],
      "execution_count": 36,
      "outputs": []
    },
    {
      "cell_type": "markdown",
      "metadata": {
        "id": "xwSQCQosZQuF"
      },
      "source": [
        "Similaridade:\n",
        "\n",
        "<pre>\n",
        "array([[1.        , 0.87874834, 0.96049847, ..., 0.93259598, 0.8902784 ,\n",
        "        0.9859454 ],\n",
        "       [0.87874834, 1.        , 0.88800576, ..., 0.98459228, 0.99786042,\n",
        "        0.89021353],\n",
        "       [0.96049847, 0.88800576, 1.        , ..., 0.9377859 , 0.89901517,\n",
        "        0.97506378],\n",
        "       ...,\n",
        "       [0.93259598, 0.98459228, 0.9377859 , ..., 1.        , 0.98427116,\n",
        "        0.93714028],\n",
        "       [0.8902784 , 0.99786042, 0.89901517, ..., 0.98427116, 1.        ,\n",
        "        0.90639995],\n",
        "       [0.9859454 , 0.89021353, 0.97506378, ..., 0.93714028, 0.90639995,\n",
        "        1.        ]])\n",
        "</pre>"
      ]
    },
    {
      "cell_type": "code",
      "metadata": {
        "id": "KmyFIhXWXoMX"
      },
      "source": [
        "#############################\n",
        "### Escreva o código aqui ### - Solução acima\n",
        "#############################"
      ],
      "execution_count": null,
      "outputs": []
    },
    {
      "cell_type": "markdown",
      "metadata": {
        "id": "E1VXEvkvZW5_"
      },
      "source": [
        "####2d\n",
        "\n",
        "<pre>\n",
        "array([[ 0.        , 64.12693279,  2.5407922 , ..., 16.41462762,\n",
        "        22.99048716,  1.5       ],\n",
        "       [64.12693279,  0.        , 63.43716717, ..., 47.96899612,\n",
        "        41.34381282, 63.64338307],\n",
        "       [ 2.5407922 , 63.43716717,  0.        , ..., 15.74882932,\n",
        "        22.32276025,  2.00764165],\n",
        "       ...,\n",
        "       [16.41462762, 47.96899612, 15.74882932, ...,  0.        ,\n",
        "         7.80400538, 15.98405455],\n",
        "       [22.99048716, 41.34381282, 22.32276025, ...,  7.80400538,\n",
        "         0.        , 22.45133626],\n",
        "       [ 1.5       , 63.64338307,  2.00764165, ..., 15.98405455,\n",
        "        22.45133626,  0.        ]])\n",
        "</pre>"
      ]
    },
    {
      "cell_type": "markdown",
      "metadata": {
        "id": "-7vQTVjpXoMX"
      },
      "source": [
        "# **De posse da matrizes obtidas nas questões 2c e 2d, faça o que se pede.**\n",
        "\n",
        "* a) Mostre os valores de similaridade de cosseno do objeto 0 para o 3 e 200.\n",
        "\n",
        "* b) Mostre os valores de distância Euclideana do objeto 0 para o 3 e 200.\n",
        "\n",
        "* c) Analise os dados originais para esses objetos. A similaridade do cosseno e a distância euclideana fazem sentido para você nesses resultados? Explique a sua resposta.\n"
      ]
    },
    {
      "cell_type": "markdown",
      "metadata": {
        "id": "O013u2fo4Kg7"
      },
      "source": [
        "Para os objetos 0 e 3 "
      ]
    },
    {
      "cell_type": "code",
      "metadata": {
        "id": "CyUtwCmoXoMY",
        "colab": {
          "base_uri": "https://localhost:8080/"
        },
        "outputId": "33881611-1120-477f-8ff9-a41e71976d1c"
      },
      "source": [
        "print(cosine_similarity([titanic_discrete.iloc[0,:]], [titanic_discrete.iloc[3,:]]))"
      ],
      "execution_count": 40,
      "outputs": [
        {
          "output_type": "stream",
          "name": "stdout",
          "text": [
            "[[0.82856005]]\n"
          ]
        }
      ]
    },
    {
      "cell_type": "code",
      "metadata": {
        "colab": {
          "base_uri": "https://localhost:8080/"
        },
        "id": "oAPcbYSW3wS1",
        "outputId": "4b2b6951-9cb4-4e45-a93d-5df3544cd11a"
      },
      "source": [
        "dataSetI = titanic_discrete.iloc[0,:]\n",
        "dataSetII = titanic_discrete.iloc[3,:]\n",
        "result = 1 - spatial.distance.cosine(dataSetI, dataSetII)\n",
        "result"
      ],
      "execution_count": 59,
      "outputs": [
        {
          "output_type": "execute_result",
          "data": {
            "text/plain": [
              "0.8285600523941751"
            ]
          },
          "metadata": {},
          "execution_count": 59
        }
      ]
    },
    {
      "cell_type": "markdown",
      "metadata": {
        "id": "0Lq1Dwgj4QPD"
      },
      "source": [
        "Para os objetos 0 e 200"
      ]
    },
    {
      "cell_type": "code",
      "metadata": {
        "colab": {
          "base_uri": "https://localhost:8080/"
        },
        "id": "eYcu7kF34Pmq",
        "outputId": "249103c4-150d-4d39-c239-48799d9fa9a7"
      },
      "source": [
        "print(cosine_similarity([titanic_discrete.iloc[0,:]], [titanic_discrete.iloc[200,:]]))"
      ],
      "execution_count": 47,
      "outputs": [
        {
          "output_type": "stream",
          "name": "stdout",
          "text": [
            "[[0.98228442]]\n"
          ]
        }
      ]
    },
    {
      "cell_type": "code",
      "metadata": {
        "colab": {
          "base_uri": "https://localhost:8080/"
        },
        "id": "T8WqueVl5Y2p",
        "outputId": "a3887570-009b-4953-b5fe-a59fb4e1f380"
      },
      "source": [
        "dataSetI = titanic_discrete.iloc[0,:]\n",
        "dataSetII = titanic_discrete.iloc[200,:]\n",
        "result = 1 - spatial.distance.cosine(dataSetI, dataSetII)\n",
        "result"
      ],
      "execution_count": 48,
      "outputs": [
        {
          "output_type": "execute_result",
          "data": {
            "text/plain": [
              "0.9822844231363212"
            ]
          },
          "metadata": {},
          "execution_count": 48
        }
      ]
    },
    {
      "cell_type": "markdown",
      "metadata": {
        "id": "H0fsBd5SZmJj"
      },
      "source": [
        "<pre>\n",
        "0.8817154522100574\n",
        "0.9826379798988352\n",
        "</pre>"
      ]
    },
    {
      "cell_type": "markdown",
      "metadata": {
        "id": "wdbTCGHTApvO"
      },
      "source": [
        "Para os objetos 0 e 3"
      ]
    },
    {
      "cell_type": "code",
      "metadata": {
        "id": "dCohjtZmXoMY",
        "colab": {
          "base_uri": "https://localhost:8080/"
        },
        "outputId": "1c79879e-968f-4de7-b9a4-2f32130a3846"
      },
      "source": [
        "dataSetI = titanic_discrete.iloc[0,:]\n",
        "dataSetII = titanic_discrete.iloc[3,:]\n",
        "result = spatial.distance.euclidean(dataSetI, dataSetII)\n",
        "result "
      ],
      "execution_count": 62,
      "outputs": [
        {
          "output_type": "execute_result",
          "data": {
            "text/plain": [
              "45.98067528864708"
            ]
          },
          "metadata": {},
          "execution_count": 62
        }
      ]
    },
    {
      "cell_type": "markdown",
      "metadata": {
        "id": "aKlNyKtPA7y7"
      },
      "source": [
        "Para os objetos 0 e 200"
      ]
    },
    {
      "cell_type": "code",
      "metadata": {
        "colab": {
          "base_uri": "https://localhost:8080/"
        },
        "id": "Ti493udZA7Bd",
        "outputId": "fb5b4d66-d57d-4510-d487-3672e73cad22"
      },
      "source": [
        "dataSetI = titanic_discrete.iloc[0,:]\n",
        "dataSetII = titanic_discrete.iloc[200,:]\n",
        "result = spatial.distance.euclidean(dataSetI, dataSetII)\n",
        "result "
      ],
      "execution_count": 63,
      "outputs": [
        {
          "output_type": "execute_result",
          "data": {
            "text/plain": [
              "2.6575364531836625"
            ]
          },
          "metadata": {},
          "execution_count": 63
        }
      ]
    },
    {
      "cell_type": "markdown",
      "metadata": {
        "id": "5LmegT3CZppW"
      },
      "source": [
        "<pre>\n",
        "45.98067528864708\n",
        "2.6575364531836625\n",
        "</pre>"
      ]
    },
    {
      "cell_type": "code",
      "metadata": {
        "id": "HuksmE2cXoMZ",
        "colab": {
          "base_uri": "https://localhost:8080/"
        },
        "outputId": "638cb7d5-8356-4ac8-c5d6-b04c225b1d25"
      },
      "source": [
        "print(titanic.iloc[0,:])"
      ],
      "execution_count": 65,
      "outputs": [
        {
          "output_type": "stream",
          "name": "stdout",
          "text": [
            "survived                 0\n",
            "pclass                   3\n",
            "sex                   male\n",
            "age                     22\n",
            "sibsp                    1\n",
            "parch                    0\n",
            "fare                  7.25\n",
            "embarked                 S\n",
            "class                Third\n",
            "who                    man\n",
            "adult_male            True\n",
            "deck                   NaN\n",
            "embark_town    Southampton\n",
            "alive                   no\n",
            "alone                False\n",
            "Name: 0, dtype: object\n"
          ]
        }
      ]
    },
    {
      "cell_type": "code",
      "metadata": {
        "colab": {
          "base_uri": "https://localhost:8080/"
        },
        "id": "FSMdCk29D3HP",
        "outputId": "51deeac3-ef0a-4856-98ec-a2ccf3cacc9d"
      },
      "source": [
        "print(titanic.iloc[3,:])"
      ],
      "execution_count": 66,
      "outputs": [
        {
          "output_type": "stream",
          "name": "stdout",
          "text": [
            "survived                 1\n",
            "pclass                   1\n",
            "sex                 female\n",
            "age                     35\n",
            "sibsp                    1\n",
            "parch                    0\n",
            "fare                  53.1\n",
            "embarked                 S\n",
            "class                First\n",
            "who                  woman\n",
            "adult_male           False\n",
            "deck                     C\n",
            "embark_town    Southampton\n",
            "alive                  yes\n",
            "alone                False\n",
            "Name: 3, dtype: object\n"
          ]
        }
      ]
    },
    {
      "cell_type": "code",
      "metadata": {
        "colab": {
          "base_uri": "https://localhost:8080/"
        },
        "id": "GfA8Zw1GD7to",
        "outputId": "1acaef01-f0ee-40de-ae71-795df70b14d4"
      },
      "source": [
        "print(titanic.iloc[200,:])"
      ],
      "execution_count": 67,
      "outputs": [
        {
          "output_type": "stream",
          "name": "stdout",
          "text": [
            "survived                 0\n",
            "pclass                   3\n",
            "sex                   male\n",
            "age                     28\n",
            "sibsp                    0\n",
            "parch                    0\n",
            "fare                   9.5\n",
            "embarked                 S\n",
            "class                Third\n",
            "who                    man\n",
            "adult_male            True\n",
            "deck                   NaN\n",
            "embark_town    Southampton\n",
            "alive                   no\n",
            "alone                 True\n",
            "Name: 200, dtype: object\n"
          ]
        }
      ]
    },
    {
      "cell_type": "markdown",
      "metadata": {
        "id": "t6lXVs2aZuaM"
      },
      "source": [
        "<pre>\n",
        "survived                 0\n",
        "pclass                   3\n",
        "sex                   male\n",
        "age                   22.0\n",
        "sibsp                    1\n",
        "parch                    0\n",
        "fare                  7.25\n",
        "embarked                 S\n",
        "class                Third\n",
        "who                    man\n",
        "adult_male            True\n",
        "deck                   NaN\n",
        "embark_town    Southampton\n",
        "alive                   no\n",
        "alone                False\n",
        "Name: 0, dtype: object\n",
        "survived                 1\n",
        "pclass                   1\n",
        "sex                 female\n",
        "age                   35.0\n",
        "sibsp                    1\n",
        "parch                    0\n",
        "fare                  53.1\n",
        "embarked                 S\n",
        "class                First\n",
        "who                  woman\n",
        "adult_male           False\n",
        "deck                     C\n",
        "embark_town    Southampton\n",
        "alive                  yes\n",
        "alone                False\n",
        "Name: 3, dtype: object\n",
        "survived                 0\n",
        "pclass                   3\n",
        "sex                   male\n",
        "age                   28.0\n",
        "sibsp                    0\n",
        "parch                    0\n",
        "fare                   9.5\n",
        "embarked                 S\n",
        "class                Third\n",
        "who                    man\n",
        "adult_male            True\n",
        "deck                   NaN\n",
        "embark_town    Southampton\n",
        "alive                   no\n",
        "alone                 True\n",
        "Name: 200, dtype: object\n",
        "</pre>"
      ]
    },
    {
      "cell_type": "markdown",
      "metadata": {
        "id": "lbA7gc5MXoMZ"
      },
      "source": [
        "### Justificativa: ..."
      ]
    },
    {
      "cell_type": "markdown",
      "metadata": {
        "id": "vu5vYZLLGaRa"
      },
      "source": [
        "![image.png](data:image/png;base64,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)"
      ]
    },
    {
      "cell_type": "markdown",
      "metadata": {
        "id": "1oc5yojvGcoW"
      },
      "source": [
        "Distância euclidiana:\n",
        "*   Entre 0 e 3: 45.98067528864708\n",
        "*   Entre 0 e 200: 2.6575364531836625\n",
        "\n",
        "Similaridade do coseno:\n",
        "*   Entre 0 e 3: 0.8817154522100574\n",
        "*   Entre 0 e 200: 0.9826379798988352\n",
        "\n",
        "\n",
        "De acordo com a imagem acima comparativa entre os três objetos, observa-se que os objetos 0 e 200 aresentam muita simularidade entre si, e com isso, e distância entre eles deve ser pequena. Ambas as métricas foram bem representadas tanto pela similaridade do coseno como pela distância euclidiana.\n",
        "Contudo os objeto 0 e 3 apresentam pouquíssimas semelhanças e consequentemente muitas diferenças. A métrica da distância euclidiana resultou em um número grande conforme esperado, porém a similaridade do coseno apresentou um valor alto, indicando que há similaridade entre os mesmo, e como comparado e analisado anteriormente, isso não é coerente.\n"
      ]
    },
    {
      "cell_type": "markdown",
      "metadata": {
        "id": "Ahbg86ouXoMZ"
      },
      "source": [
        "## **Utilizando o dataset preprocessado na questão 2, faça:**\n",
        "\n",
        "* a) Utilize a técnica PCA para identificar os dois primeiros componenetes principais (ou seja, PC1 e PC2). Não se esqueça de ignorar a coluna Survived. <br>\n",
        "\n",
        "* b) Visualize os objetos nas dimensões representadas pelo PC1 e PC2. Utilize a coluna 'survided' para colorir os objetos.<br>\n",
        "\n",
        "\n",
        "* c) Normalize os dados utilizando a normalização min-max. \n",
        "\n",
        "* d) De posse desse novo conjunto normalizado, repita o passo 4b. A visualização mudou de forma significativa? Caso sim, o que pode ajudar a explicar essa diferença?"
      ]
    },
    {
      "cell_type": "markdown",
      "metadata": {
        "id": "gsupAGkERuNP"
      },
      "source": [
        "<font color=\"red\">*P.S. Coloquei o sexo feminino como 1 e o masculino como 0 por isso que houve variação nos resultados, porém os gráficos estão iguais, haja visto que a não há significativa diferença nos resultados éla simples troca dos valores binários.*</font>"
      ]
    },
    {
      "cell_type": "code",
      "metadata": {
        "colab": {
          "base_uri": "https://localhost:8080/"
        },
        "id": "CAuGZLUCPOZY",
        "outputId": "c64285f9-5ab5-4069-ee4d-6403842ba0ea"
      },
      "source": [
        "dfClasses = titanic_cleaned.iloc[:,0]\n",
        "dfClasses"
      ],
      "execution_count": 74,
      "outputs": [
        {
          "output_type": "execute_result",
          "data": {
            "text/plain": [
              "0      0\n",
              "1      1\n",
              "2      1\n",
              "3      1\n",
              "4      0\n",
              "      ..\n",
              "886    0\n",
              "887    1\n",
              "888    0\n",
              "889    1\n",
              "890    0\n",
              "Name: survived, Length: 891, dtype: int64"
            ]
          },
          "metadata": {},
          "execution_count": 74
        }
      ]
    },
    {
      "cell_type": "code",
      "metadata": {
        "id": "hVTePmzpXoMa"
      },
      "source": [
        "pca = PCA(n_components=2)\n",
        "X = pca.fit_transform(titanic_fitered)"
      ],
      "execution_count": 75,
      "outputs": []
    },
    {
      "cell_type": "code",
      "metadata": {
        "colab": {
          "base_uri": "https://localhost:8080/",
          "height": 402
        },
        "id": "1sPOR8O8Q0Tp",
        "outputId": "05757541-eaf0-4950-b841-1605626774f8"
      },
      "source": [
        "dfNoNorm = pd.DataFrame(X, columns = ['PC1','PC2'])\n",
        "dfNoNorm['Classes'] = dfClasses\n",
        "\n",
        "dfNoNorm"
      ],
      "execution_count": 76,
      "outputs": [
        {
          "output_type": "execute_result",
          "data": {
            "text/html": [
              "<div>\n",
              "<style scoped>\n",
              "    .dataframe tbody tr th:only-of-type {\n",
              "        vertical-align: middle;\n",
              "    }\n",
              "\n",
              "    .dataframe tbody tr th {\n",
              "        vertical-align: top;\n",
              "    }\n",
              "\n",
              "    .dataframe thead th {\n",
              "        text-align: right;\n",
              "    }\n",
              "</style>\n",
              "<table border=\"1\" class=\"dataframe\">\n",
              "  <thead>\n",
              "    <tr style=\"text-align: right;\">\n",
              "      <th></th>\n",
              "      <th>PC1</th>\n",
              "      <th>PC2</th>\n",
              "      <th>Classes</th>\n",
              "    </tr>\n",
              "  </thead>\n",
              "  <tbody>\n",
              "    <tr>\n",
              "      <th>0</th>\n",
              "      <td>-24.965485</td>\n",
              "      <td>0.422171</td>\n",
              "      <td>0</td>\n",
              "    </tr>\n",
              "    <tr>\n",
              "      <th>1</th>\n",
              "      <td>39.105678</td>\n",
              "      <td>0.051533</td>\n",
              "      <td>1</td>\n",
              "    </tr>\n",
              "    <tr>\n",
              "      <th>2</th>\n",
              "      <td>-24.288896</td>\n",
              "      <td>0.071749</td>\n",
              "      <td>1</td>\n",
              "    </tr>\n",
              "    <tr>\n",
              "      <th>3</th>\n",
              "      <td>20.924369</td>\n",
              "      <td>0.082190</td>\n",
              "      <td>1</td>\n",
              "    </tr>\n",
              "    <tr>\n",
              "      <th>4</th>\n",
              "      <td>-24.171795</td>\n",
              "      <td>-0.557826</td>\n",
              "      <td>0</td>\n",
              "    </tr>\n",
              "    <tr>\n",
              "      <th>...</th>\n",
              "      <td>...</td>\n",
              "      <td>...</td>\n",
              "      <td>...</td>\n",
              "    </tr>\n",
              "    <tr>\n",
              "      <th>886</th>\n",
              "      <td>-19.203843</td>\n",
              "      <td>-1.012193</td>\n",
              "      <td>0</td>\n",
              "    </tr>\n",
              "    <tr>\n",
              "      <th>887</th>\n",
              "      <td>-2.179324</td>\n",
              "      <td>-0.857512</td>\n",
              "      <td>1</td>\n",
              "    </tr>\n",
              "    <tr>\n",
              "      <th>888</th>\n",
              "      <td>-8.754877</td>\n",
              "      <td>1.811629</td>\n",
              "      <td>0</td>\n",
              "    </tr>\n",
              "    <tr>\n",
              "      <th>889</th>\n",
              "      <td>-2.184689</td>\n",
              "      <td>-1.469561</td>\n",
              "      <td>1</td>\n",
              "    </tr>\n",
              "    <tr>\n",
              "      <th>890</th>\n",
              "      <td>-24.471763</td>\n",
              "      <td>-0.557320</td>\n",
              "      <td>0</td>\n",
              "    </tr>\n",
              "  </tbody>\n",
              "</table>\n",
              "<p>891 rows × 3 columns</p>\n",
              "</div>"
            ],
            "text/plain": [
              "           PC1       PC2  Classes\n",
              "0   -24.965485  0.422171        0\n",
              "1    39.105678  0.051533        1\n",
              "2   -24.288896  0.071749        1\n",
              "3    20.924369  0.082190        1\n",
              "4   -24.171795 -0.557826        0\n",
              "..         ...       ...      ...\n",
              "886 -19.203843 -1.012193        0\n",
              "887  -2.179324 -0.857512        1\n",
              "888  -8.754877  1.811629        0\n",
              "889  -2.184689 -1.469561        1\n",
              "890 -24.471763 -0.557320        0\n",
              "\n",
              "[891 rows x 3 columns]"
            ]
          },
          "metadata": {},
          "execution_count": 76
        }
      ]
    },
    {
      "cell_type": "markdown",
      "metadata": {
        "id": "jwlZPvD3aF8n"
      },
      "source": [
        "<pre>\n",
        "[[-24.96496612   0.70375418]\n",
        " [ 39.10613779  -0.32898922]\n",
        " [-24.2884437   -0.26603364]\n",
        " ...\n",
        " [ -8.75442376   1.58690335]\n",
        " [ -2.18416738  -1.44217287]\n",
        " [-24.47124359  -0.31504644]]\n",
        "</pre>"
      ]
    },
    {
      "cell_type": "code",
      "metadata": {
        "id": "NV8nY8cyXoMa",
        "colab": {
          "base_uri": "https://localhost:8080/",
          "height": 279
        },
        "outputId": "1183bd72-2c19-4a06-9c27-199dff090189"
      },
      "source": [
        "sns.scatterplot(data=dfNoNorm, x=\"PC1\", y=\"PC2\", hue='Classes', palette='tab10');"
      ],
      "execution_count": 78,
      "outputs": [
        {
          "output_type": "display_data",
          "data": {
            "image/png": "[encoded data removed]",
            "text/plain": [
              "<Figure size 432x288 with 1 Axes>"
            ]
          },
          "metadata": {
            "needs_background": "light"
          }
        }
      ]
    },
    {
      "cell_type": "markdown",
      "metadata": {
        "id": "PZBwS8u2aLH_"
      },
      "source": [
        "![image.png](data:image/png;base64,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)"
      ]
    },
    {
      "cell_type": "code",
      "metadata": {
        "id": "TxyEo6vgXoMa"
      },
      "source": [
        "pca_norm = PCA(n_components=2)\n",
        "X_norm = pca_norm.fit_transform(dfMinmax)"
      ],
      "execution_count": 79,
      "outputs": []
    },
    {
      "cell_type": "code",
      "metadata": {
        "colab": {
          "base_uri": "https://localhost:8080/",
          "height": 402
        },
        "id": "elpH_IpeOCT0",
        "outputId": "36755a16-51fb-4999-f6eb-eaec2252712b"
      },
      "source": [
        "#Cria um dataframe com os dados com normalização do PCA\n",
        "dfWithNorm = pd.DataFrame(X_norm, columns = ['PC1','PC2'])\n",
        "dfWithNorm['Classes'] = dfClasses\n",
        "\n",
        "dfWithNorm"
      ],
      "execution_count": 81,
      "outputs": [
        {
          "output_type": "execute_result",
          "data": {
            "text/html": [
              "<div>\n",
              "<style scoped>\n",
              "    .dataframe tbody tr th:only-of-type {\n",
              "        vertical-align: middle;\n",
              "    }\n",
              "\n",
              "    .dataframe tbody tr th {\n",
              "        vertical-align: top;\n",
              "    }\n",
              "\n",
              "    .dataframe thead th {\n",
              "        text-align: right;\n",
              "    }\n",
              "</style>\n",
              "<table border=\"1\" class=\"dataframe\">\n",
              "  <thead>\n",
              "    <tr style=\"text-align: right;\">\n",
              "      <th></th>\n",
              "      <th>PC1</th>\n",
              "      <th>PC2</th>\n",
              "      <th>Classes</th>\n",
              "    </tr>\n",
              "  </thead>\n",
              "  <tbody>\n",
              "    <tr>\n",
              "      <th>0</th>\n",
              "      <td>-0.570709</td>\n",
              "      <td>-0.356409</td>\n",
              "      <td>0</td>\n",
              "    </tr>\n",
              "    <tr>\n",
              "      <th>1</th>\n",
              "      <td>1.419133</td>\n",
              "      <td>0.609024</td>\n",
              "      <td>1</td>\n",
              "    </tr>\n",
              "    <tr>\n",
              "      <th>2</th>\n",
              "      <td>0.740134</td>\n",
              "      <td>-0.616822</td>\n",
              "      <td>1</td>\n",
              "    </tr>\n",
              "    <tr>\n",
              "      <th>3</th>\n",
              "      <td>1.417720</td>\n",
              "      <td>0.606399</td>\n",
              "      <td>1</td>\n",
              "    </tr>\n",
              "    <tr>\n",
              "      <th>4</th>\n",
              "      <td>-0.890819</td>\n",
              "      <td>-0.279140</td>\n",
              "      <td>0</td>\n",
              "    </tr>\n",
              "    <tr>\n",
              "      <th>...</th>\n",
              "      <td>...</td>\n",
              "      <td>...</td>\n",
              "      <td>...</td>\n",
              "    </tr>\n",
              "    <tr>\n",
              "      <th>886</th>\n",
              "      <td>-0.713483</td>\n",
              "      <td>0.368501</td>\n",
              "      <td>0</td>\n",
              "    </tr>\n",
              "    <tr>\n",
              "      <th>887</th>\n",
              "      <td>1.095752</td>\n",
              "      <td>0.680218</td>\n",
              "      <td>1</td>\n",
              "    </tr>\n",
              "    <tr>\n",
              "      <th>888</th>\n",
              "      <td>0.654553</td>\n",
              "      <td>-0.871549</td>\n",
              "      <td>0</td>\n",
              "    </tr>\n",
              "    <tr>\n",
              "      <th>889</th>\n",
              "      <td>-0.108496</td>\n",
              "      <td>1.182784</td>\n",
              "      <td>1</td>\n",
              "    </tr>\n",
              "    <tr>\n",
              "      <th>890</th>\n",
              "      <td>-0.890843</td>\n",
              "      <td>-0.279184</td>\n",
              "      <td>0</td>\n",
              "    </tr>\n",
              "  </tbody>\n",
              "</table>\n",
              "<p>891 rows × 3 columns</p>\n",
              "</div>"
            ],
            "text/plain": [
              "          PC1       PC2  Classes\n",
              "0   -0.570709 -0.356409        0\n",
              "1    1.419133  0.609024        1\n",
              "2    0.740134 -0.616822        1\n",
              "3    1.417720  0.606399        1\n",
              "4   -0.890819 -0.279140        0\n",
              "..        ...       ...      ...\n",
              "886 -0.713483  0.368501        0\n",
              "887  1.095752  0.680218        1\n",
              "888  0.654553 -0.871549        0\n",
              "889 -0.108496  1.182784        1\n",
              "890 -0.890843 -0.279184        0\n",
              "\n",
              "[891 rows x 3 columns]"
            ]
          },
          "metadata": {},
          "execution_count": 81
        }
      ]
    },
    {
      "cell_type": "markdown",
      "metadata": {
        "id": "ysJe3fZdaPNX"
      },
      "source": [
        "<pre>\n",
        "   survived  pclass  sex  sibsp  parch     fare  class  who  adult_male  \\\n",
        "0           0       3    1      1      0   7.2500      2    1           1   \n",
        "1           1       1    0      1      0  71.2833      0    2           0   \n",
        "2           1       3    0      0      0   7.9250      2    2           0   \n",
        "3           1       1    0      1      0  53.1000      0    2           0   \n",
        "4           0       3    1      0      0   8.0500      2    1           1   \n",
        "..        ...     ...  ...    ...    ...      ...    ...  ...         ...   \n",
        "886         0       2    1      0      0  13.0000      1    1           1   \n",
        "887         1       1    0      0      0  30.0000      0    2           0   \n",
        "888         0       3    0      1      2  23.4500      2    2           0   \n",
        "889         1       1    1      0      0  30.0000      0    1           1   \n",
        "890         0       3    1      0      0   7.7500      2    1           1   \n",
        "\n",
        "     alive  alone  \n",
        "0        0      0  \n",
        "1        1      0  \n",
        "2        1      1  \n",
        "3        1      0  \n",
        "4        0      1  \n",
        "..     ...    ...  \n",
        "886      0      1  \n",
        "887      1      1  \n",
        "888      0      0  \n",
        "889      1      1  \n",
        "890      0      1  \n",
        "\n",
        "[891 rows x 11 columns]\n",
        "[[1.    1.    0.125 ... 1.    0.    0.   ]\n",
        " [0.    0.    0.125 ... 0.    1.    0.   ]\n",
        " [1.    0.    0.    ... 0.    1.    1.   ]\n",
        " ...\n",
        " [1.    0.    0.125 ... 0.    0.    0.   ]\n",
        " [0.    1.    0.    ... 1.    1.    1.   ]\n",
        " [1.    1.    0.    ... 1.    0.    1.   ]]\n",
        "</pre>"
      ]
    },
    {
      "cell_type": "code",
      "metadata": {
        "id": "FoP8p0LIXoMb",
        "colab": {
          "base_uri": "https://localhost:8080/",
          "height": 279
        },
        "outputId": "e837c7a1-b17e-426f-8e3e-def5442fecea"
      },
      "source": [
        "#Visualiza os dados - Note como a separação de classes fica melhor depois dos dados normalizados.\n",
        "sns.scatterplot(data=dfWithNorm, x=\"PC1\", y=\"PC2\", hue='Classes', palette='tab10');"
      ],
      "execution_count": 82,
      "outputs": [
        {
          "output_type": "display_data",
          "data": {
            "image/png": "[encoded data removed]",
            "text/plain": [
              "<Figure size 432x288 with 1 Axes>"
            ]
          },
          "metadata": {
            "needs_background": "light"
          }
        }
      ]
    },
    {
      "cell_type": "markdown",
      "metadata": {
        "id": "jmJot2D1aUIW"
      },
      "source": [
        "![image.png](data:image/png;base64,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)"
      ]
    },
    {
      "cell_type": "code",
      "metadata": {
        "id": "WEsiSnZUArDU"
      },
      "source": [
        ""
      ],
      "execution_count": null,
      "outputs": []
    }
  ]
}