{
  "nbformat": 4,
  "nbformat_minor": 0,
  "metadata": {
    "colab": {
      "name": "Nara - Exercício_de_Python_.ipynb",
      "provenance": []
    },
    "kernelspec": {
      "name": "python3",
      "display_name": "Python 3"
    },
    "language_info": {
      "name": "python"
    }
  },
  "cells": [
    {
      "cell_type": "markdown",
      "metadata": {
        "id": "MmqHxquUPFFa"
      },
      "source": [
        "# **Exercícios de Python**"
      ]
    },
    {
      "cell_type": "markdown",
      "metadata": {
        "id": "J0AlTVgePQEO"
      },
      "source": [
        "Esta é uma lista de exercícios sobre Listas e Dicionários em Python, a qual  visa ajudar-los a aprender e praticar operações de lista e dicionários para melhorar seu conhecimento Python. Todas as perguntas são testadas em Python 3. \n",
        "\n",
        "Os seguintes tópicos sobre listas são apresentados:\n",
        "\n",
        "* Operações e manipulações da lista Python\n",
        "* Funções de lista Python\n",
        "* Slicing da lista Python\n",
        "* Compreensão da lista Python\n",
        "* Operações e manipulações de dicionário Python\n",
        "* Funções de dicionário Python\n",
        "* Compreensão do dicionário Python \n",
        "\n",
        "Caso tenha algum dúvida, entrar em contato: souza.m.allan@gmail.com"
      ]
    },
    {
      "cell_type": "markdown",
      "metadata": {
        "id": "D-c4wcwVPxaY"
      },
      "source": [
        "# **Listas**"
      ]
    },
    {
      "cell_type": "markdown",
      "metadata": {
        "id": "ap75fua9P-K0"
      },
      "source": [
        "## **Inverta a sequência de um lista**\n"
      ]
    },
    {
      "cell_type": "code",
      "metadata": {
        "id": "pF3QHCuaO-nQ"
      },
      "source": [
        "lista_00 = [100, 200, 300, 400, 500]\n",
        "\n",
        "#########################################\n",
        "#         Escreva o código aqui - Soluções abaixo\n",
        "#########################################"
      ],
      "execution_count": 122,
      "outputs": []
    },
    {
      "cell_type": "code",
      "metadata": {
        "colab": {
          "base_uri": "https://localhost:8080/"
        },
        "id": "_DzUnqesUvKv",
        "outputId": "72c5fb92-d792-4e00-968c-6a838ca98b60"
      },
      "source": [
        "'''SOLUÇÃO 1'''\n",
        "\n",
        "lista_00_new = []\n",
        "for i in range(len(lista_00), 0, -1):\n",
        "  lista_00_new.append(lista_00[i-1])  \n",
        "\n",
        "print(lista_00_new)  "
      ],
      "execution_count": 123,
      "outputs": [
        {
          "output_type": "stream",
          "name": "stdout",
          "text": [
            "[500, 400, 300, 200, 100]\n"
          ]
        }
      ]
    },
    {
      "cell_type": "code",
      "metadata": {
        "colab": {
          "base_uri": "https://localhost:8080/"
        },
        "id": "8Y8Oe4_BugnO",
        "outputId": "68e179a2-6c8f-4be8-869c-97697bd27be7"
      },
      "source": [
        "'''SOLUÇÃO 2'''\n",
        "\n",
        "lista_00_new_lambda = map(lambda x: lista_00[x], range(len(lista_00)-1, -1, -1))\n",
        "\n",
        "list(lista_00_new_lambda)"
      ],
      "execution_count": 124,
      "outputs": [
        {
          "output_type": "execute_result",
          "data": {
            "text/plain": [
              "[500, 400, 300, 200, 100]"
            ]
          },
          "metadata": {},
          "execution_count": 124
        }
      ]
    },
    {
      "cell_type": "code",
      "metadata": {
        "colab": {
          "base_uri": "https://localhost:8080/"
        },
        "id": "S9KGGTrr4Kek",
        "outputId": "a9adb781-6c0f-486c-e103-e90dfe64763a"
      },
      "source": [
        "'''SOLUÇÃO 3'''\n",
        "\n",
        "sorted(lista_00, reverse=True)"
      ],
      "execution_count": 125,
      "outputs": [
        {
          "output_type": "execute_result",
          "data": {
            "text/plain": [
              "[500, 400, 300, 200, 100]"
            ]
          },
          "metadata": {},
          "execution_count": 125
        }
      ]
    },
    {
      "cell_type": "code",
      "metadata": {
        "colab": {
          "base_uri": "https://localhost:8080/"
        },
        "id": "ePuARhS74Vqv",
        "outputId": "6026fb90-1d45-40e1-e6b2-aee1b04691ff"
      },
      "source": [
        "'''SOLUÇÃO 4'''\n",
        "\n",
        "import numpy as np\n",
        "\n",
        "lista_00_np = np.array(lista_00)\n",
        "lista_00_np\n",
        "lista_00_np[::-1].sort()\n",
        "\n",
        "lista_00_np"
      ],
      "execution_count": 126,
      "outputs": [
        {
          "output_type": "execute_result",
          "data": {
            "text/plain": [
              "array([500, 400, 300, 200, 100])"
            ]
          },
          "metadata": {},
          "execution_count": 126
        }
      ]
    },
    {
      "cell_type": "markdown",
      "metadata": {
        "id": "HRhB9d_0QCls"
      },
      "source": [
        "##### Resultado esperado:\n",
        "<pre>\n",
        "[500, 400, 300, 200, 100]\n",
        "</pre>"
      ]
    },
    {
      "cell_type": "markdown",
      "metadata": {
        "id": "IORy8pI-QFPa"
      },
      "source": [
        "## **Concatene duas listas pelos índices**\n"
      ]
    },
    {
      "cell_type": "code",
      "metadata": {
        "id": "ScmL2qEPQD0F"
      },
      "source": [
        "lista_01 = ['E', 'm', 'cha', 'Jo']\n",
        "lista_02 = ['u', 'e', 'mo', 'ão']\n",
        "\n",
        "#########################################\n",
        "#         Escreva o código aqui - Soluções abaixo\n",
        "#########################################"
      ],
      "execution_count": 127,
      "outputs": []
    },
    {
      "cell_type": "code",
      "metadata": {
        "colab": {
          "base_uri": "https://localhost:8080/"
        },
        "id": "57VQTLGr6DZ8",
        "outputId": "3a562e05-196f-47ac-c45f-8989a41d27c6"
      },
      "source": [
        "'''SOLUÇÃO 1'''\n",
        "\n",
        "lista_sum = []\n",
        "for i in range(4):\n",
        "  val = lista_01[i] + lista_02[i]\n",
        "  lista_sum.append(val)\n",
        "lista_sum"
      ],
      "execution_count": 128,
      "outputs": [
        {
          "output_type": "execute_result",
          "data": {
            "text/plain": [
              "['Eu', 'me', 'chamo', 'João']"
            ]
          },
          "metadata": {},
          "execution_count": 128
        }
      ]
    },
    {
      "cell_type": "code",
      "metadata": {
        "colab": {
          "base_uri": "https://localhost:8080/"
        },
        "id": "vxRNSELE6zn6",
        "outputId": "47a9198b-d69e-4314-d3df-eccfcae33e40"
      },
      "source": [
        "'''SOLUÇÃO 2'''\n",
        "\n",
        "lista_sum_lambda = map(lambda x: lista_01[x] + lista_02[x], range(0, 4, 1))\n",
        "\n",
        "list(lista_sum_lambda)"
      ],
      "execution_count": 129,
      "outputs": [
        {
          "output_type": "execute_result",
          "data": {
            "text/plain": [
              "['Eu', 'me', 'chamo', 'João']"
            ]
          },
          "metadata": {},
          "execution_count": 129
        }
      ]
    },
    {
      "cell_type": "code",
      "metadata": {
        "colab": {
          "base_uri": "https://localhost:8080/"
        },
        "id": "lv2kjRpd9Ix6",
        "outputId": "c622215e-6ad9-4582-a87f-21904f1976b2"
      },
      "source": [
        "'''SOLUÇÃO 3'''\n",
        "\n",
        "c = 0\n",
        "lista_sum_while = []\n",
        "while c < 4:\n",
        "  lista_sum_while.append(lista_01[c] + lista_02[c])\n",
        "  c += 1\n",
        "\n",
        "lista_sum_while  "
      ],
      "execution_count": 130,
      "outputs": [
        {
          "output_type": "execute_result",
          "data": {
            "text/plain": [
              "['Eu', 'me', 'chamo', 'João']"
            ]
          },
          "metadata": {},
          "execution_count": 130
        }
      ]
    },
    {
      "cell_type": "markdown",
      "metadata": {
        "id": "uIzANZUxQNsk"
      },
      "source": [
        "##### Resultado esperado:\n",
        "<pre>\n",
        "['Eu', 'me', 'chamo', 'João']\n",
        "</pre>"
      ]
    },
    {
      "cell_type": "markdown",
      "metadata": {
        "id": "98pNbSRyQQcV"
      },
      "source": [
        "## **Dada uma lista de números. Transforme cada item da lista em seu quadrado**\n"
      ]
    },
    {
      "cell_type": "code",
      "metadata": {
        "id": "es7LCexUQOJE"
      },
      "source": [
        "lista_03 = [1, 2, 3, 4, 5, 6, 7, 8, 9, 10]\n",
        "\n",
        "#########################################\n",
        "#         Escreva o código aqui - Soluções abaixo\n",
        "#########################################"
      ],
      "execution_count": 131,
      "outputs": []
    },
    {
      "cell_type": "code",
      "metadata": {
        "colab": {
          "base_uri": "https://localhost:8080/"
        },
        "id": "p58EEXGL-cRu",
        "outputId": "2a064572-1848-4cff-a472-0232173f796b"
      },
      "source": [
        "'''SOLUÇÃO 1'''\n",
        "\n",
        "lista_sqrt = []\n",
        "for i in range(len(lista_03)):\n",
        "  lista_sqrt.append(lista_03[i]**2)\n",
        "lista_sqrt"
      ],
      "execution_count": 132,
      "outputs": [
        {
          "output_type": "execute_result",
          "data": {
            "text/plain": [
              "[1, 4, 9, 16, 25, 36, 49, 64, 81, 100]"
            ]
          },
          "metadata": {},
          "execution_count": 132
        }
      ]
    },
    {
      "cell_type": "code",
      "metadata": {
        "colab": {
          "base_uri": "https://localhost:8080/"
        },
        "id": "tx5gCYZa_B-5",
        "outputId": "9d3c4492-de6b-4dfe-80bf-05499b588e2b"
      },
      "source": [
        "'''SOLUÇÃO 2'''\n",
        "\n",
        "lista_sqrt_lambda = map(lambda x: lista_03[x]**2, range(len(lista_03)))\n",
        "\n",
        "list(lista_sqrt_lambda)"
      ],
      "execution_count": 133,
      "outputs": [
        {
          "output_type": "execute_result",
          "data": {
            "text/plain": [
              "[1, 4, 9, 16, 25, 36, 49, 64, 81, 100]"
            ]
          },
          "metadata": {},
          "execution_count": 133
        }
      ]
    },
    {
      "cell_type": "code",
      "metadata": {
        "colab": {
          "base_uri": "https://localhost:8080/"
        },
        "id": "IE313OmX_qpN",
        "outputId": "dd3a4d33-accf-4955-bac0-32a5a18df4c6"
      },
      "source": [
        "'''SOLUÇÃO 3'''\n",
        "\n",
        "import numpy as np\n",
        "\n",
        "lista_03_sqrt = np.array(lista_03)\n",
        "\n",
        "lista_03_sqrt_final = lista_03_sqrt**2\n",
        "\n",
        "lista_03_sqrt_final"
      ],
      "execution_count": 134,
      "outputs": [
        {
          "output_type": "execute_result",
          "data": {
            "text/plain": [
              "array([  1,   4,   9,  16,  25,  36,  49,  64,  81, 100])"
            ]
          },
          "metadata": {},
          "execution_count": 134
        }
      ]
    },
    {
      "cell_type": "code",
      "metadata": {
        "colab": {
          "base_uri": "https://localhost:8080/"
        },
        "id": "por8b7X2hhWg",
        "outputId": "3755501f-8242-40d3-8707-ec4dc102d331"
      },
      "source": [
        "'''SOLUÇÃO 4'''\n",
        "\n",
        "squared = map(lambda x: pow(x,2), lista_03)\n",
        "list(squared)"
      ],
      "execution_count": 135,
      "outputs": [
        {
          "output_type": "execute_result",
          "data": {
            "text/plain": [
              "[1, 4, 9, 16, 25, 36, 49, 64, 81, 100]"
            ]
          },
          "metadata": {},
          "execution_count": 135
        }
      ]
    },
    {
      "cell_type": "markdown",
      "metadata": {
        "id": "_2vTPWBlQU2T"
      },
      "source": [
        "##### Resultado esperado:\n",
        "<pre>\n",
        "[1, 4, 9, 16, 25, 36, 49, 64, 81, 100]\n",
        "</pre>"
      ]
    },
    {
      "cell_type": "markdown",
      "metadata": {
        "id": "x3AJl9uMQWwN"
      },
      "source": [
        "## **Dada duas listas. Itere sobre elas simultaneamente, de modo que a lista_04 exiba os itens na ordem original e a lista_05 na ordem inversa**"
      ]
    },
    {
      "cell_type": "code",
      "metadata": {
        "id": "ZEm-FYcvQVD7"
      },
      "source": [
        "lista_04 = [10, 20, 30, 40, 50]\n",
        "lista_05 = [100, 200, 300, 400, 500]\n",
        "\n",
        "#########################################\n",
        "#         Escreva o código aqui - Soluções abaixo\n",
        "#########################################"
      ],
      "execution_count": 136,
      "outputs": []
    },
    {
      "cell_type": "code",
      "metadata": {
        "colab": {
          "base_uri": "https://localhost:8080/"
        },
        "id": "S8z9sw1zo9gk",
        "outputId": "c10ceeb2-7bcb-4c91-cce4-585ae305e44b"
      },
      "source": [
        "'''SOLUÇÃO 1'''\n",
        "\n",
        "for x,y in zip(range(len(lista_04)), range(len(lista_05)-1, -1, -1)):\n",
        "  print(lista_04[x], lista_05[y])"
      ],
      "execution_count": 137,
      "outputs": [
        {
          "output_type": "stream",
          "name": "stdout",
          "text": [
            "10 500\n",
            "20 400\n",
            "30 300\n",
            "40 200\n",
            "50 100\n"
          ]
        }
      ]
    },
    {
      "cell_type": "code",
      "metadata": {
        "colab": {
          "base_uri": "https://localhost:8080/"
        },
        "id": "mDa-lWtpAsLM",
        "outputId": "f0e4e0f9-1fe9-41fc-e3bb-1e763d859720"
      },
      "source": [
        "'''SOLUÇÃO 2'''\n",
        "\n",
        "list_05_new = sorted(lista_05, reverse=True)\n",
        "\n",
        "lista_combo_lambda = lambda x,y : [(x[i], y[i]) for i in range(5)]\n",
        "\n",
        "final_value = lista_combo_lambda(lista_04, list_05_new)\n",
        "for i in range(len(final_value)):\n",
        "  print(final_value[i])"
      ],
      "execution_count": 138,
      "outputs": [
        {
          "output_type": "stream",
          "name": "stdout",
          "text": [
            "(10, 500)\n",
            "(20, 400)\n",
            "(30, 300)\n",
            "(40, 200)\n",
            "(50, 100)\n"
          ]
        }
      ]
    },
    {
      "cell_type": "markdown",
      "metadata": {
        "id": "2GAOsR4QQaqa"
      },
      "source": [
        "##### Resultado esperado:\n",
        "<pre>\n",
        "10 500\n",
        "20 400\n",
        "30 300\n",
        "40 200\n",
        "50 100\n",
        "</pre>"
      ]
    },
    {
      "cell_type": "markdown",
      "metadata": {
        "id": "MPqnRyg0Qe1z"
      },
      "source": [
        "## **Remova a string vazia da listas de strings**"
      ]
    },
    {
      "cell_type": "code",
      "metadata": {
        "id": "zvuZCJ-wQa_Q"
      },
      "source": [
        "lista_06 = ['José', 'Maria', 'Paulo', '', 'Pedro', '', 'Ana']\n",
        "\n",
        "#########################################\n",
        "#         Escreva o código aqui - Soluções abaixo\n",
        "#########################################"
      ],
      "execution_count": 141,
      "outputs": []
    },
    {
      "cell_type": "code",
      "metadata": {
        "colab": {
          "base_uri": "https://localhost:8080/"
        },
        "id": "HAjF-0mDLrcU",
        "outputId": "8b7e7713-45f4-4775-ae2d-dbcfc493e961"
      },
      "source": [
        "'''SOLUÇÃO 1'''\n",
        "space = []\n",
        "for i in range(len(lista_06)):\n",
        "  if lista_06[i] == '':\n",
        "    space.append(i)\n",
        "if len(space) > 1:\n",
        "  c = 0\n",
        "  for j in range(len(space)):\n",
        "    lista_06.pop(space[j] - c)\n",
        "    c += 1\n",
        "\n",
        "print(lista_06) "
      ],
      "execution_count": 140,
      "outputs": [
        {
          "output_type": "stream",
          "name": "stdout",
          "text": [
            "['José', 'Maria', 'Paulo', 'Pedro', 'Ana']\n"
          ]
        }
      ]
    },
    {
      "cell_type": "code",
      "metadata": {
        "colab": {
          "base_uri": "https://localhost:8080/"
        },
        "id": "5wHp3PASM-pR",
        "outputId": "46e132c7-0585-44b1-a2d2-2a8f9dec8fdc"
      },
      "source": [
        "'''SOLUÇÃO 2'''\n",
        "\n",
        "lista_06_new = filter(lambda x: x != '', lista_06)   \n",
        "\n",
        "print(list(lista_06_new))"
      ],
      "execution_count": 142,
      "outputs": [
        {
          "output_type": "stream",
          "name": "stdout",
          "text": [
            "['José', 'Maria', 'Paulo', 'Pedro', 'Ana']\n"
          ]
        }
      ]
    },
    {
      "cell_type": "markdown",
      "metadata": {
        "id": "tUoFX2gDQix6"
      },
      "source": [
        "##### Resultado esperado:\n",
        "<pre>\n",
        "['José', 'Maria', 'Paulo', 'Pedro', 'Ana']\n",
        "</pre>"
      ]
    },
    {
      "cell_type": "markdown",
      "metadata": {
        "id": "Sg9jYlQrQlZd"
      },
      "source": [
        "## **Adicione o número 7000 após o número 6000 na seguinte lista** "
      ]
    },
    {
      "cell_type": "code",
      "metadata": {
        "id": "gBFo9rDLQi_-"
      },
      "source": [
        "list_07 = [10, 20, [300, 400, [5000, 6000], 500], 30, 40]\n",
        "\n",
        "#########################################\n",
        "#         Escreva o código aqui - Soluções abaixo\n",
        "#########################################"
      ],
      "execution_count": 172,
      "outputs": []
    },
    {
      "cell_type": "code",
      "metadata": {
        "colab": {
          "base_uri": "https://localhost:8080/"
        },
        "id": "umq1zam0jKxo",
        "outputId": "d5fbdbb5-858a-46e1-bef4-47812f7695a6"
      },
      "source": [
        "'''SOLUÇÃO 1''' #ERRADA pois foi feito o flatten na list, primeira tentativa para compreensão do problema\n",
        "\n",
        "def flatten(list_of_lists):\n",
        "    if len(list_of_lists) == 0:\n",
        "        return list_of_lists\n",
        "    if isinstance(list_of_lists[0], list):\n",
        "        return flatten(list_of_lists[0]) + flatten(list_of_lists[1:])\n",
        "    return list_of_lists[:1] + flatten(list_of_lists[1:])\n",
        "\n",
        "list_07_flatten = flatten(list_07)\n",
        "for i in range(len(list_07_flatten)):\n",
        "  if list_07_flatten[i] == 6000:\n",
        "    list_07_flatten.insert(i+1, 7000)\n",
        "\n",
        "print(list_07_flatten)"
      ],
      "execution_count": 144,
      "outputs": [
        {
          "output_type": "stream",
          "name": "stdout",
          "text": [
            "[10, 20, 300, 400, 5000, 6000, 7000, 500, 30, 40]\n"
          ]
        }
      ]
    },
    {
      "cell_type": "code",
      "metadata": {
        "colab": {
          "base_uri": "https://localhost:8080/"
        },
        "id": "MYXsd1tNOFNd",
        "outputId": "5ef6dffc-6de0-4b25-914b-1e87c60afa99"
      },
      "source": [
        "'''SOLUÇÃO 2'''\n",
        "\n",
        "for i in range(len(list_07)):\n",
        "  if isinstance(list_07[i],list):\n",
        "    sub_list_07 = list_07[i]\n",
        "    for j in range(len(sub_list_07)):\n",
        "      if isinstance(sub_list_07[j], list):\n",
        "        sub_sub_lista_07 = sub_list_07[j]\n",
        "        for z in range(len(sub_sub_lista_07)):\n",
        "          if sub_sub_lista_07[z] == 6000:\n",
        "            sub_sub_lista_07.insert(z+1, 7000)\n",
        "      else:\n",
        "        if sub_list_07[j] == 6000:\n",
        "          sub_list_07.insert(j+1, 7000)\n",
        "  else:\n",
        "    if list_07[i] == 6000:\n",
        "      list_07.insert(i+1, 7000)\n",
        "\n",
        "print(list_07)"
      ],
      "execution_count": 145,
      "outputs": [
        {
          "output_type": "stream",
          "name": "stdout",
          "text": [
            "[10, 20, [300, 400, [5000, 6000, 7000], 500], 30, 40]\n"
          ]
        }
      ]
    },
    {
      "cell_type": "code",
      "metadata": {
        "colab": {
          "base_uri": "https://localhost:8080/"
        },
        "id": "fMiaB1HWqrX-",
        "outputId": "7b83555c-b80a-4564-9ff4-3d03799e14f0"
      },
      "source": [
        "'''SOLUÇÃO 3'''\n",
        "\n",
        "test = map(lambda x :  isinstance(x, list), list_07)\n",
        "test_0 = list(test)\n",
        "for i in range(len(test_0)):\n",
        "  if test_0[i] == True:\n",
        "    test_1 = map(lambda x :  isinstance(x, list), list_07[i])\n",
        "    test_1_0 = list(test_1)\n",
        "    for j in range(len(test_1_0)):\n",
        "      if test_1_0[j] == True:\n",
        "        test_2 = map(lambda x :  isinstance(x, list), list_07[i])\n",
        "        test_2_0 = list(test_2)\n",
        "        for k in range(len(test_2_0)):\n",
        "          if test_2_0[k] == True:\n",
        "            test_3 = map(lambda x :  isinstance(x, list), list_07[i][j])\n",
        "            test_3_0 = list(test_3) \n",
        "            list_07_01 = list_07[i][j]\n",
        "            for z in range(len(list_07_01)):\n",
        "              if list_07_01[z] == 6000:\n",
        "                list_07_01.insert(z+1, 7000)\n",
        "          else:\n",
        "            if test_2_0[k] == 6000:\n",
        "              test_2_0.insert(k+1, 7000)\n",
        "      else:\n",
        "        if test_1_0[j] == 6000:\n",
        "                  test_1_0.insert(j+1, 7000)\n",
        "  else:\n",
        "    if test_0[i] == 6000:\n",
        "                  test_0.insert(i+1, 7000)\n",
        "\n",
        "\n",
        "print(list_07)"
      ],
      "execution_count": 147,
      "outputs": [
        {
          "output_type": "stream",
          "name": "stdout",
          "text": [
            "[10, 20, [300, 400, [5000, 6000, 7000], 500], 30, 40]\n"
          ]
        }
      ]
    },
    {
      "cell_type": "code",
      "metadata": {
        "colab": {
          "base_uri": "https://localhost:8080/"
        },
        "id": "5gr4BpTq_z4d",
        "outputId": "83b343ce-06e7-48e5-d50c-79a0eb96bc2e"
      },
      "source": [
        "'''SOLUÇÃO 4'''\n",
        "\n",
        "list_07_final = list_07\n",
        "list_07_final[2][2].append(7000)\n",
        "print(list_07_final)"
      ],
      "execution_count": 173,
      "outputs": [
        {
          "output_type": "stream",
          "name": "stdout",
          "text": [
            "[10, 20, [300, 400, [5000, 6000, 7000], 500], 30, 40]\n"
          ]
        }
      ]
    },
    {
      "cell_type": "markdown",
      "metadata": {
        "id": "yjiVgiXTQpzp"
      },
      "source": [
        "##### Resultado esperado:\n",
        "<pre>\n",
        "[10, 20, [300, 400, [5000, 6000, 7000], 500], 30, 40]\n",
        "</pre>"
      ]
    },
    {
      "cell_type": "markdown",
      "metadata": {
        "id": "tdyd9izBQrl8"
      },
      "source": [
        "## **Dada uma lista aninhada, adicione a sub-lista [\"h\", \"i\", \"j\"] na posição correta**"
      ]
    },
    {
      "cell_type": "code",
      "metadata": {
        "id": "zUSxD4ERQqBE"
      },
      "source": [
        "lista_08  = ['a', 'b', ['c', ['d', 'e', ['f', 'g'], 'k'], 'l'], 'm', 'n']\n",
        "sub_lista = ['h', 'i', 'j']\n",
        "\n",
        "#########################################\n",
        "#         Escreva o código aqui - Soluções abaixo\n",
        "#########################################"
      ],
      "execution_count": 65,
      "outputs": []
    },
    {
      "cell_type": "code",
      "metadata": {
        "colab": {
          "base_uri": "https://localhost:8080/"
        },
        "id": "PDkcBs52LPSl",
        "outputId": "9d73e0aa-d4c9-4616-8e33-91df6fe6aa30"
      },
      "source": [
        "'''SOLUÇÃO 1'''\n",
        "\n",
        "lista_08_1 = lista_08.copy()\n",
        "for i in sub_lista:\n",
        "  lista_08_1[2][1][2].append(i)\n",
        "print(lista_08_1)"
      ],
      "execution_count": 44,
      "outputs": [
        {
          "output_type": "stream",
          "name": "stdout",
          "text": [
            "['a', 'b', ['c', ['d', 'e', ['f', 'g', 'h', 'i', 'j'], 'k'], 'l'], 'm', 'n']\n"
          ]
        }
      ]
    },
    {
      "cell_type": "code",
      "metadata": {
        "colab": {
          "base_uri": "https://localhost:8080/"
        },
        "id": "lh-kc01a0-E-",
        "outputId": "65340bc6-ba64-4cb3-eb23-0141ce0b3888"
      },
      "source": [
        "'''SOLUÇÃO 2'''\n",
        "\n",
        "lista_08_2 = lista_08.copy()\n",
        "for i in lista_08_2:\n",
        "  if len(i) > 1:\n",
        "    for j in i:\n",
        "      if len(j) >1:\n",
        "        for z in j:\n",
        "          if len(z) > 1:\n",
        "            for k in sub_lista:\n",
        "              z.append(k)\n",
        "\n",
        "print(lista_08_2)          "
      ],
      "execution_count": 70,
      "outputs": [
        {
          "output_type": "stream",
          "name": "stdout",
          "text": [
            "['a', 'b', ['c', ['d', 'e', ['f', 'g', 'h', 'i', 'j'], 'k'], 'l'], 'm', 'n']\n"
          ]
        }
      ]
    },
    {
      "cell_type": "markdown",
      "metadata": {
        "id": "VemENfICQvxa"
      },
      "source": [
        "##### Resultado esperado:\n",
        "<pre>\n",
        "['a', 'b', ['c', ['d', 'e', ['f', 'g', 'h', 'i', 'j'], 'k'], 'l'], 'm', 'n']\n",
        "</pre>"
      ]
    },
    {
      "cell_type": "markdown",
      "metadata": {
        "id": "OtByrNJHQyH-"
      },
      "source": [
        "## **Dada uma lista, encontre o valor 20 e, se estiver presente, substitua-o por 200. Atualize apenas a primeira ocorrência do valor**"
      ]
    },
    {
      "cell_type": "code",
      "metadata": {
        "id": "okBnK54fQv-W"
      },
      "source": [
        "lista_09 = [5, 10, 15, 20, 25, 50, 20]\n",
        "\n",
        "#########################################\n",
        "#         Escreva o código aqui - Soluções abaixo\n",
        "#########################################"
      ],
      "execution_count": 152,
      "outputs": []
    },
    {
      "cell_type": "code",
      "metadata": {
        "colab": {
          "base_uri": "https://localhost:8080/"
        },
        "id": "jpSvHSY-TKtp",
        "outputId": "f82fc6e8-cba9-4611-ab46-96d7d897eebe"
      },
      "source": [
        "'''SOLUÇÃO 1'''\n",
        "\n",
        "for i in range(len(lista_09)):\n",
        "  if lista_09[i] == 20:\n",
        "    lista_09[i] = 200\n",
        "    break\n",
        "print(lista_09)"
      ],
      "execution_count": 149,
      "outputs": [
        {
          "output_type": "stream",
          "name": "stdout",
          "text": [
            "[5, 10, 15, 200, 25, 50, 20]\n"
          ]
        }
      ]
    },
    {
      "cell_type": "code",
      "metadata": {
        "colab": {
          "base_uri": "https://localhost:8080/"
        },
        "id": "aVwnqUmoVjvZ",
        "outputId": "f262e7a5-f189-4728-cc4d-9cccba71ccc7"
      },
      "source": [
        "'''SOLUÇÃO 2'''\n",
        "\n",
        "c = 0\n",
        "for i in range(len(lista_09)):\n",
        "  if c == 0 and lista_09[i] == 20:\n",
        "    lista_09[i] = 200\n",
        "    c += 1\n",
        "print(lista_09)"
      ],
      "execution_count": 150,
      "outputs": [
        {
          "output_type": "stream",
          "name": "stdout",
          "text": [
            "[5, 10, 15, 200, 25, 50, 200]\n"
          ]
        }
      ]
    },
    {
      "cell_type": "code",
      "metadata": {
        "colab": {
          "base_uri": "https://localhost:8080/"
        },
        "id": "mHAx-BrrWEOk",
        "outputId": "4a862cef-dbaa-4cb4-ecc0-69e9fb63a05b"
      },
      "source": [
        "'''SOLUÇÃO 3'''\n",
        "\n",
        "first_index = [index for index, value in enumerate(lista_09) if value == 20][0]\n",
        "\n",
        "lista_09[first_index] = 200\n",
        "\n",
        "print(lista_09)"
      ],
      "execution_count": 153,
      "outputs": [
        {
          "output_type": "stream",
          "name": "stdout",
          "text": [
            "[5, 10, 15, 200, 25, 50, 20]\n"
          ]
        }
      ]
    },
    {
      "cell_type": "markdown",
      "metadata": {
        "id": "CuvJjnFIQ2gl"
      },
      "source": [
        "##### Resultado esperado:\n",
        "<pre>\n",
        "[5, 10, 15, 200, 25, 50, 20]\n",
        "</pre>"
      ]
    },
    {
      "cell_type": "markdown",
      "metadata": {
        "id": "oPQwr0i4Q3pl"
      },
      "source": [
        "# **Dicionários**"
      ]
    },
    {
      "cell_type": "markdown",
      "metadata": {
        "id": "QFJN02wkRCxi"
      },
      "source": [
        "## **Converta as seguintes listas para dicionários**"
      ]
    },
    {
      "cell_type": "code",
      "metadata": {
        "id": "49oumfKYQ5pl"
      },
      "source": [
        "chaves  = ['Dez', 'Vinte', 'Trinta']\n",
        "valores = [10, 20, 30]\n",
        "\n",
        "#########################################\n",
        "#         Escreva o código aqui - Soluções abaixo\n",
        "#########################################"
      ],
      "execution_count": 154,
      "outputs": []
    },
    {
      "cell_type": "code",
      "metadata": {
        "colab": {
          "base_uri": "https://localhost:8080/"
        },
        "id": "1_h02JsMGTDv",
        "outputId": "a081e90f-89ac-40ce-eb31-1ef2c815e058"
      },
      "source": [
        "'''SOLUÇÃO 1'''\n",
        "\n",
        "dict_final = {}\n",
        "list_final = []\n",
        "for i in range(3):\n",
        "  list_final.append((chaves[i], valores[i]))\n",
        "dict_final = dict(list_final)\n",
        "print(dict_final)  "
      ],
      "execution_count": 155,
      "outputs": [
        {
          "output_type": "stream",
          "name": "stdout",
          "text": [
            "{'Dez': 10, 'Vinte': 20, 'Trinta': 30}\n"
          ]
        }
      ]
    },
    {
      "cell_type": "code",
      "metadata": {
        "colab": {
          "base_uri": "https://localhost:8080/"
        },
        "id": "oC2OqUWejHwQ",
        "outputId": "476fbff2-f21c-4d2c-8ba2-1092c69666b8"
      },
      "source": [
        "'''SOLUÇÃO 2'''\n",
        "\n",
        "dict_final_1 = {}\n",
        "for i in range(3):\n",
        "  dict_final_1.update({chaves[i] : valores[i]})\n",
        "\n",
        "print(dict_final_1)  "
      ],
      "execution_count": 158,
      "outputs": [
        {
          "output_type": "stream",
          "name": "stdout",
          "text": [
            "{'Dez': 10, 'Vinte': 20, 'Trinta': 30}\n"
          ]
        }
      ]
    },
    {
      "cell_type": "markdown",
      "metadata": {
        "id": "_C5OzD3ZRIbJ"
      },
      "source": [
        "##### Resultado esperado:\n",
        "<pre>\n",
        "{'Dez': 10, 'Vinte': 20, 'Trinta': 30}\n",
        "</pre>"
      ]
    },
    {
      "cell_type": "markdown",
      "metadata": {
        "id": "VYb7iKCSRKZK"
      },
      "source": [
        "## **Junte os seguintes dois dicionários Python em um só**"
      ]
    },
    {
      "cell_type": "code",
      "metadata": {
        "id": "ht2aP-D7RIpA"
      },
      "source": [
        "dicionario_01 = {'Dez' : 10, 'Vinte' : 20, 'Trinta' : 30}\n",
        "dicionario_02 = {'Trinta' : 30 , 'Quarenta' : 40, 'Cinquenta' : 50}\n",
        "\n",
        "#########################################\n",
        "#         Escreva o código aqui - Soluções abaixo\n",
        "#########################################"
      ],
      "execution_count": 159,
      "outputs": []
    },
    {
      "cell_type": "code",
      "metadata": {
        "colab": {
          "base_uri": "https://localhost:8080/"
        },
        "id": "6nMjIXT8laN5",
        "outputId": "90a2d18f-0ac8-4ea8-909a-a130fd536ef6"
      },
      "source": [
        "'''SOLUÇÃO 1'''\n",
        "\n",
        "dict_combined = {**dicionario_01, **dicionario_02}\n",
        "print(dict_combined)"
      ],
      "execution_count": 161,
      "outputs": [
        {
          "output_type": "stream",
          "name": "stdout",
          "text": [
            "{'Dez': 10, 'Vinte': 20, 'Trinta': 30, 'Quarenta': 40, 'Cinquenta': 50}\n"
          ]
        }
      ]
    },
    {
      "cell_type": "code",
      "metadata": {
        "colab": {
          "base_uri": "https://localhost:8080/"
        },
        "id": "-CpTGYlDl3SO",
        "outputId": "7a5497cd-f5b0-4e4b-e750-1121bf0d2899"
      },
      "source": [
        "'''SOLUÇÃO 2'''\n",
        "\n",
        "dict_combined_1 = dicionario_01.copy() \n",
        "dict_combined_1.update(dicionario_02)\n",
        "print(dict_combined_1)"
      ],
      "execution_count": 163,
      "outputs": [
        {
          "output_type": "stream",
          "name": "stdout",
          "text": [
            "{'Dez': 10, 'Vinte': 20, 'Trinta': 30, 'Quarenta': 40, 'Cinquenta': 50}\n"
          ]
        }
      ]
    },
    {
      "cell_type": "code",
      "metadata": {
        "colab": {
          "base_uri": "https://localhost:8080/"
        },
        "id": "Sz8dTb_goBI5",
        "outputId": "92ab252f-a12b-4678-f53a-b1e7590d9f52"
      },
      "source": [
        "'''SOLUÇÃO 3'''\n",
        "\n",
        "dict_combined_2 = dicionario_01.copy() \n",
        "dict_combined_2.update(dicionario_02.items())\n",
        "print(dict_combined_2)"
      ],
      "execution_count": 165,
      "outputs": [
        {
          "output_type": "stream",
          "name": "stdout",
          "text": [
            "{'Dez': 10, 'Vinte': 20, 'Trinta': 30, 'Quarenta': 40, 'Cinquenta': 50}\n"
          ]
        }
      ]
    },
    {
      "cell_type": "markdown",
      "metadata": {
        "id": "Hsb51tHmRQIN"
      },
      "source": [
        "##### Resultado esperado:\n",
        "<pre>\n",
        "{'Dez': 10, 'Vinte': 20, 'Trinta': 30, 'Quarena': 40, 'Cinquenta': 50}\n",
        "</pre>"
      ]
    },
    {
      "cell_type": "markdown",
      "metadata": {
        "id": "76ERq8X6RSS9"
      },
      "source": [
        "## **Acesse o valor da chave \"história\" do dicionário abaixo**"
      ]
    },
    {
      "cell_type": "code",
      "metadata": {
        "id": "Qb3y0FWOROXw"
      },
      "source": [
        "dicionario_03 = { \n",
        "   \"Turma\":{ \n",
        "      \"Aluno\":{ \n",
        "         \"Nome\": \"João\",\n",
        "         \"Notas\": { \n",
        "            \"Física\"  : 70,\n",
        "            \"História\" : 80\n",
        "         }\n",
        "      }\n",
        "   }\n",
        "}\n",
        "\n",
        "#########################################\n",
        "#         Escreva o código aqui - Soluções abaixo\n",
        "#########################################"
      ],
      "execution_count": 72,
      "outputs": []
    },
    {
      "cell_type": "code",
      "metadata": {
        "colab": {
          "base_uri": "https://localhost:8080/"
        },
        "id": "_4FsMV0i5tW6",
        "outputId": "062d4303-185e-47e6-9ec0-785e194990d8"
      },
      "source": [
        "'''SOLUÇÃO 1'''\n",
        "\n",
        "chave = input(\"Qual valor você quer obter? \")\n",
        "print(dicionario_03[\"Turma\"][\"Aluno\"][\"Notas\"][chave])"
      ],
      "execution_count": 20,
      "outputs": [
        {
          "output_type": "stream",
          "name": "stdout",
          "text": [
            "Qual valor você quer obter? História\n",
            "80\n"
          ]
        }
      ]
    },
    {
      "cell_type": "code",
      "metadata": {
        "colab": {
          "base_uri": "https://localhost:8080/"
        },
        "id": "bfoN4t8w6clT",
        "outputId": "3852dfda-2b5c-4e14-f4d9-a114935e0fd4"
      },
      "source": [
        "'''SOLUÇÃO 2'''\n",
        "\n",
        "import collections\n",
        "\n",
        "def flatten(d, parent_key='', sep='_'):\n",
        "    items = []\n",
        "    for k, v in d.items():\n",
        "        new_key = parent_key + sep + k if parent_key else k\n",
        "        if isinstance(v, collections.MutableMapping):\n",
        "            items.extend(flatten(v, new_key, sep=sep).items())\n",
        "        else:\n",
        "            items.append((new_key, v))\n",
        "    return dict(items)\n",
        "\n",
        "\n",
        "if __name__ == '__main__':\n",
        "  func_flat = flatten(dicionario_03)\n",
        "  sub_key = 'História'\n",
        "  for k, v in func_flat.items():\n",
        "    if sub_key in k:\n",
        "      print(v)"
      ],
      "execution_count": 74,
      "outputs": [
        {
          "output_type": "stream",
          "name": "stdout",
          "text": [
            "80\n"
          ]
        }
      ]
    },
    {
      "cell_type": "code",
      "metadata": {
        "colab": {
          "base_uri": "https://localhost:8080/"
        },
        "id": "iRlX8A-mAoEG",
        "outputId": "7ebe600a-5e62-4205-81e7-d288e7ea3c24"
      },
      "source": [
        "'''SOLUÇÃO 3'''\n",
        "\n",
        "import collections\n",
        "\n",
        "def flatten(d, parent_key='', sep='_'):\n",
        "    items = []\n",
        "    for k, v in d.items():\n",
        "        new_key = parent_key + sep + k if parent_key else k\n",
        "        if isinstance(v, collections.MutableMapping):\n",
        "            items.extend(flatten(v, new_key, sep=sep).items())\n",
        "        else:\n",
        "            items.append((new_key, v))\n",
        "    return dict(items)\n",
        "\n",
        "subject = input(\"Qual valor você quer obter?\")\n",
        "dic_flat = flatten(dicionario_03)\n",
        "for k, v in dic_flat.items():\n",
        "  if subject in k:\n",
        "    print(f'Valor da Matéria {subject} é {v}')"
      ],
      "execution_count": 178,
      "outputs": [
        {
          "output_type": "stream",
          "name": "stdout",
          "text": [
            "Qual valor você quer obter?História\n",
            "Valor da Matéria História é 80\n"
          ]
        }
      ]
    },
    {
      "cell_type": "markdown",
      "metadata": {
        "id": "3KlHMIu6RXRk"
      },
      "source": [
        "##### Resultado esperado:\n",
        "<pre>\n",
        "80\n",
        "</pre>"
      ]
    },
    {
      "cell_type": "markdown",
      "metadata": {
        "id": "N__JqNZhRZXc"
      },
      "source": [
        "## **Inicializar dicionário com valores padrão**"
      ]
    },
    {
      "cell_type": "code",
      "metadata": {
        "id": "F2keIH99RXgF"
      },
      "source": [
        "empregados     = ['Ana', 'Maria', 'João']\n",
        "valores_padrao = {'Cargo' : 'Desenvolvedor', 'Salário' : 8_000}\n",
        "\n",
        "#########################################\n",
        "#         Escreva o código aqui - Soluções abaixo\n",
        "#########################################"
      ],
      "execution_count": 13,
      "outputs": []
    },
    {
      "cell_type": "code",
      "metadata": {
        "colab": {
          "base_uri": "https://localhost:8080/"
        },
        "id": "E1pDD4ULBgGF",
        "outputId": "d130e81f-756b-4e68-f6ab-82a724f42677"
      },
      "source": [
        "'''SOLUÇÃO 1'''\n",
        "\n",
        "result_list = []\n",
        "result_dict = {}\n",
        "for i in range(3):\n",
        "  result_list.append((empregados[i], valores_padrao))\n",
        "result_dict = dict(result_list) \n",
        "print(result_dict) "
      ],
      "execution_count": 11,
      "outputs": [
        {
          "output_type": "stream",
          "name": "stdout",
          "text": [
            "{'Ana': {'Cargo': 'Desenvolvedor', 'Salário': 8000}, 'Maria': {'Cargo': 'Desenvolvedor', 'Salário': 8000}, 'João': {'Cargo': 'Desenvolvedor', 'Salário': 8000}}\n"
          ]
        }
      ]
    },
    {
      "cell_type": "code",
      "metadata": {
        "colab": {
          "base_uri": "https://localhost:8080/"
        },
        "id": "8xBhJQ2eCglC",
        "outputId": "d81b5b8a-8a2f-462b-d9eb-243646bcdc8d"
      },
      "source": [
        "'''SOLUÇÃO 2'''\n",
        "\n",
        "data = {k: v for k, v in ((empregados[0], valores_padrao), (empregados[1],valores_padrao), (empregados[2],valores_padrao))}\n",
        "print(data)"
      ],
      "execution_count": 12,
      "outputs": [
        {
          "output_type": "stream",
          "name": "stdout",
          "text": [
            "{'Ana': {'Cargo': 'Desenvolvedor', 'Salário': 8000}, 'Maria': {'Cargo': 'Desenvolvedor', 'Salário': 8000}, 'João': {'Cargo': 'Desenvolvedor', 'Salário': 8000}}\n"
          ]
        }
      ]
    },
    {
      "cell_type": "code",
      "metadata": {
        "colab": {
          "base_uri": "https://localhost:8080/"
        },
        "id": "g8YYEOqXTOS2",
        "outputId": "afff4726-1884-4e3f-c280-9b132e670f75"
      },
      "source": [
        "'''SOLUÇÃO 3'''\n",
        "\n",
        "dictionary_final = {}\n",
        "for i in range(3):\n",
        "  dictionary_final[empregados[i]] = valores_padrao\n",
        "print(dictionary_final)"
      ],
      "execution_count": 15,
      "outputs": [
        {
          "output_type": "stream",
          "name": "stdout",
          "text": [
            "{'Ana': {'Cargo': 'Desenvolvedor', 'Salário': 8000}, 'Maria': {'Cargo': 'Desenvolvedor', 'Salário': 8000}, 'João': {'Cargo': 'Desenvolvedor', 'Salário': 8000}}\n"
          ]
        }
      ]
    },
    {
      "cell_type": "markdown",
      "metadata": {
        "id": "8Rjq_JLlRdDR"
      },
      "source": [
        "##### Resultado esperado:\n",
        "<pre>\n",
        "{ 'Ana': {'Cargo' : 'Desenvolvedor', 'Salário' : 8_000},\n",
        "  'Maria': {'Cargo' : 'Desenvolvedor', 'Salário' : 8_000},\n",
        "  'João': {'Cargo' : 'Desenvolvedor', 'Salário' : 8_000}\n",
        "}\n",
        "</pre>\n"
      ]
    },
    {
      "cell_type": "markdown",
      "metadata": {
        "id": "hEjjjpsgRfye"
      },
      "source": [
        "## **Crie um novo dicionário extraindo as seguintes chaves de um dicionário abaixo**"
      ]
    },
    {
      "cell_type": "code",
      "metadata": {
        "id": "vZ8lRo0fRdUx"
      },
      "source": [
        "dicionario_04 = {\n",
        "  \"Nome\"   : \"Maria\",\n",
        "  \"Idade\"  : 25,\n",
        "  \"Salário\": 8_000,\n",
        "  \"Cidade\" : \"São Paulo\"\n",
        "  \n",
        "}\n",
        "\n",
        "chaves_para_extrair = ['Nome', 'Salário']\n",
        "\n",
        "#########################################\n",
        "#         Escreva o código aqui - Soluções abaixo\n",
        "#########################################"
      ],
      "execution_count": 26,
      "outputs": []
    },
    {
      "cell_type": "code",
      "metadata": {
        "colab": {
          "base_uri": "https://localhost:8080/"
        },
        "id": "npYo8OU0U_uv",
        "outputId": "a4bd60bf-25c0-402f-c78c-cabaefe5f399"
      },
      "source": [
        "'''SOLUÇÃO 1'''\n",
        "\n",
        "sub_dict = {}\n",
        "for k, v in dicionario_04.items():\n",
        "  if k in chaves_para_extrair:\n",
        "    sub_dict[k] = v\n",
        "\n",
        "print(sub_dict)"
      ],
      "execution_count": 21,
      "outputs": [
        {
          "output_type": "stream",
          "name": "stdout",
          "text": [
            "{'Nome': 'Maria', 'Salário': 8000}\n"
          ]
        }
      ]
    },
    {
      "cell_type": "code",
      "metadata": {
        "colab": {
          "base_uri": "https://localhost:8080/"
        },
        "id": "rL_u_5LUVtMI",
        "outputId": "c6903a8e-c698-4c91-b59e-a4921cef57f1"
      },
      "source": [
        "'''SOLUÇÃO 2'''\n",
        "\n",
        "dict_2 = {}\n",
        "for i in range(2):\n",
        "  dict_2[chaves_para_extrair[i]] = dicionario_04[chaves_para_extrair[i]]\n",
        "print(dict_2)"
      ],
      "execution_count": 22,
      "outputs": [
        {
          "output_type": "stream",
          "name": "stdout",
          "text": [
            "{'Nome': 'Maria', 'Salário': 8000}\n"
          ]
        }
      ]
    },
    {
      "cell_type": "code",
      "metadata": {
        "colab": {
          "base_uri": "https://localhost:8080/"
        },
        "id": "32jqeEjfvn8J",
        "outputId": "83c33d02-3631-45c2-a4e2-b174f57c6c80"
      },
      "source": [
        "'''SOLUÇÃO 3'''\n",
        "\n",
        "dicionario_04_1 = dicionario_04.copy()\n",
        "dict_variable = {key:value for (key,value) in dicionario_04_1.items() if key in chaves_para_extrair}\n",
        "print(dict_variable)"
      ],
      "execution_count": 28,
      "outputs": [
        {
          "output_type": "stream",
          "name": "stdout",
          "text": [
            "{'Nome': 'Maria', 'Salário': 8000}\n"
          ]
        }
      ]
    },
    {
      "cell_type": "markdown",
      "metadata": {
        "id": "P0Sm1MKlRjwh"
      },
      "source": [
        "##### Resultado esperado:\n",
        "<pre>\n",
        "{'Nome': 'Maria', 'Salário': 8000}\n",
        "</pre>\n"
      ]
    },
    {
      "cell_type": "markdown",
      "metadata": {
        "id": "p1av1f_WRlco"
      },
      "source": [
        "## **Exclua um conjunto de chaves de um dicionário**"
      ]
    },
    {
      "cell_type": "code",
      "metadata": {
        "id": "t20AKOj6RkCj"
      },
      "source": [
        "dicionario_05 = {\n",
        "  \"Nome\"   : \"Maria\",\n",
        "  \"Idade\"  : 25,\n",
        "  \"Salário\": 8_000,\n",
        "  \"Cidade\" : \"São Paulo\"\n",
        "  \n",
        "}\n",
        "\n",
        "chaves_para_excluir = ['Nome', 'Salário']\n",
        "\n",
        "#########################################\n",
        "#         Escreva o código aqui - Soluções abaixo\n",
        "#########################################"
      ],
      "execution_count": 23,
      "outputs": []
    },
    {
      "cell_type": "code",
      "metadata": {
        "colab": {
          "base_uri": "https://localhost:8080/"
        },
        "id": "ABaEnW5NXTaj",
        "outputId": "747d5cef-f91d-4a65-fc27-10078e99e114"
      },
      "source": [
        "'''SOLUÇÃO 1'''\n",
        "\n",
        "dicionario_05_1 = dicionario_05.copy()\n",
        "for i in chaves_para_excluir:\n",
        "  del dicionario_05_1[i]\n",
        "\n",
        "print(dict(sorted(dicionario_05_1.items())))"
      ],
      "execution_count": 24,
      "outputs": [
        {
          "output_type": "stream",
          "name": "stdout",
          "text": [
            "{'Cidade': 'São Paulo', 'Idade': 25}\n"
          ]
        }
      ]
    },
    {
      "cell_type": "code",
      "metadata": {
        "colab": {
          "base_uri": "https://localhost:8080/"
        },
        "id": "Ic9ZTUFVYWJU",
        "outputId": "4fc32630-942b-45ff-88ed-c98ee9b1d729"
      },
      "source": [
        "'''SOLUÇÃO 2'''\n",
        "\n",
        "dicionario_05_new = dicionario_05.copy()\n",
        "\n",
        "for i in chaves_para_excluir:\n",
        "  dicionario_05_new.pop(i)\n",
        "\n",
        "print(dicionario_05_new)\n",
        "\n"
      ],
      "execution_count": 92,
      "outputs": [
        {
          "output_type": "stream",
          "name": "stdout",
          "text": [
            "{'Idade': 25, 'Cidade': 'São Paulo'}\n"
          ]
        }
      ]
    },
    {
      "cell_type": "code",
      "metadata": {
        "colab": {
          "base_uri": "https://localhost:8080/"
        },
        "id": "y0ZhrQxVamU-",
        "outputId": "e5f9f2f2-f0ce-434d-97a0-8fac2cff32a0"
      },
      "source": [
        "'''SOLUÇÃO 3'''\n",
        "\n",
        "def sorted(seq, lista):\n",
        "    decorated = [(k,v) for i, (k,v) in enumerate(seq.items()) if k not in lista]\n",
        "    # Sort using the normal tuple lexicographic comparisons\n",
        "    decorated.sort()\n",
        "    dict_decorated = dict(decorated)\n",
        "    return dict_decorated\n",
        "\n",
        "sorted(dicionario_05, chaves_para_excluir)    "
      ],
      "execution_count": 40,
      "outputs": [
        {
          "output_type": "execute_result",
          "data": {
            "text/plain": [
              "{'Cidade': 'São Paulo', 'Idade': 25}"
            ]
          },
          "metadata": {},
          "execution_count": 40
        }
      ]
    },
    {
      "cell_type": "code",
      "metadata": {
        "colab": {
          "base_uri": "https://localhost:8080/"
        },
        "id": "IAOFhMsHeTiD",
        "outputId": "8f75adac-66b4-4197-d3c1-2eac2d2b8a92"
      },
      "source": [
        "'''SOLUÇÃO 4'''\n",
        "\n",
        "from operator import itemgetter\n",
        "\n",
        "dicionario_05_3 = dicionario_05.copy()\n",
        "for i, (k, v) in enumerate(dicionario_05.items()):\n",
        "    if k in chaves_para_excluir:\n",
        "      del dicionario_05_3[k]\n",
        "\n",
        "print(dicionario_05_3)"
      ],
      "execution_count": 57,
      "outputs": [
        {
          "output_type": "stream",
          "name": "stdout",
          "text": [
            "{'Idade': 25, 'Cidade': 'São Paulo'}\n"
          ]
        }
      ]
    },
    {
      "cell_type": "markdown",
      "metadata": {
        "id": "lViwgAoBRp9f"
      },
      "source": [
        "##### Resultado esperado:\n",
        "<pre>\n",
        "{'Cidade': 'São Paulo', 'Idade': 25}\n",
        "</pre>\n"
      ]
    },
    {
      "cell_type": "markdown",
      "metadata": {
        "id": "nuPNVkaERrub"
      },
      "source": [
        "## **Verifique se o valor 200 existe no dicionário**"
      ]
    },
    {
      "cell_type": "code",
      "metadata": {
        "id": "2Ax9g4UgRqQJ"
      },
      "source": [
        "dicionario_06 = {'a' : 100, 'b' : 200, 'c' : 300}\n",
        "\n",
        "#########################################\n",
        "#         Escreva o código aqui - Soluções abaixo\n",
        "#########################################"
      ],
      "execution_count": 118,
      "outputs": []
    },
    {
      "cell_type": "code",
      "metadata": {
        "colab": {
          "base_uri": "https://localhost:8080/"
        },
        "id": "PEL6BHrhp70M",
        "outputId": "a0da7dc1-972f-4dce-b351-8fea2a3ca133"
      },
      "source": [
        "'''SOLUÇÃO 1'''\n",
        "\n",
        "if 200 in dicionario_06.values():\n",
        "  print(\"True\")"
      ],
      "execution_count": 94,
      "outputs": [
        {
          "output_type": "stream",
          "name": "stdout",
          "text": [
            "True\n"
          ]
        }
      ]
    },
    {
      "cell_type": "code",
      "metadata": {
        "colab": {
          "base_uri": "https://localhost:8080/"
        },
        "id": "H8D_TrKTsXxg",
        "outputId": "77dc94bc-e24a-4cc5-8301-63d175145c96"
      },
      "source": [
        "'''SOLUÇÃO 2'''\n",
        "\n",
        "valor = lambda x: True if 200 in x.values() else None\n",
        "print(valor(dicionario_06))\n"
      ],
      "execution_count": 102,
      "outputs": [
        {
          "output_type": "stream",
          "name": "stdout",
          "text": [
            "True\n"
          ]
        }
      ]
    },
    {
      "cell_type": "code",
      "metadata": {
        "colab": {
          "base_uri": "https://localhost:8080/"
        },
        "id": "bvwYbyNsu0iF",
        "outputId": "2cfd939e-8f88-4af8-f3ee-97fce1353a78"
      },
      "source": [
        "'''SOLUÇÃO 3'''\n",
        "\n",
        "valor = lambda x: x in dicionario_06.values()\n",
        "print(valor(200))"
      ],
      "execution_count": 125,
      "outputs": [
        {
          "output_type": "stream",
          "name": "stdout",
          "text": [
            "True\n"
          ]
        }
      ]
    },
    {
      "cell_type": "markdown",
      "metadata": {
        "id": "E-rYiFIkRvzm"
      },
      "source": [
        "##### Resultado esperado:\n",
        "<pre>\n",
        "True\n",
        "</pre>\n"
      ]
    },
    {
      "cell_type": "markdown",
      "metadata": {
        "id": "Kkr5OnAkRxyY"
      },
      "source": [
        "## **Renomeie a chave Cidade para localização no seguinte dicionário**"
      ]
    },
    {
      "cell_type": "code",
      "metadata": {
        "id": "VLE-5xE2Rv-l"
      },
      "source": [
        "dicionario_07 = {\n",
        "  \"Nome\"   : \"Maria\",\n",
        "  \"Idade\"  : 25,\n",
        "  \"Salário\": 8_000,\n",
        "  \"Cidade\" : \"São Paulo\"\n",
        "  \n",
        "}\n",
        "\n",
        "#########################################\n",
        "#         Escreva o código aqui - Soluções abaixo\n",
        "#########################################"
      ],
      "execution_count": 60,
      "outputs": []
    },
    {
      "cell_type": "code",
      "metadata": {
        "colab": {
          "base_uri": "https://localhost:8080/"
        },
        "id": "4H8GZ3mQiNMb",
        "outputId": "dbdd575e-1e0f-447a-f57a-6c615390c674"
      },
      "source": [
        "'''SOLUÇÃO 1'''\n",
        "\n",
        "dicionario_07_1 = dicionario_07.copy()\n",
        "dicionario_07_1['Localização'] = dicionario_07_1.pop('Cidade')\n",
        "dicionario_07_1"
      ],
      "execution_count": 2,
      "outputs": [
        {
          "output_type": "execute_result",
          "data": {
            "text/plain": [
              "{'Idade': 25, 'Localização': 'São Paulo', 'Nome': 'Maria', 'Salário': 8000}"
            ]
          },
          "metadata": {},
          "execution_count": 2
        }
      ]
    },
    {
      "cell_type": "code",
      "metadata": {
        "colab": {
          "base_uri": "https://localhost:8080/"
        },
        "id": "BJI4EVDKi8X_",
        "outputId": "9a8d4a6d-a234-4426-d95b-51ea63487e91"
      },
      "source": [
        "'''SOLUÇÃO 2'''\n",
        "\n",
        "dicionario_07_2 = dicionario_07.copy()\n",
        "for k in dicionario_07_2.keys():\n",
        "  if k == 'Cidade':\n",
        "    dicionario_07_2['Localização'] = dicionario_07_2.pop('Cidade')\n",
        "print(dicionario_07_2)"
      ],
      "execution_count": 6,
      "outputs": [
        {
          "output_type": "stream",
          "name": "stdout",
          "text": [
            "{'Nome': 'Maria', 'Idade': 25, 'Salário': 8000, 'Localização': 'São Paulo'}\n"
          ]
        }
      ]
    },
    {
      "cell_type": "code",
      "metadata": {
        "colab": {
          "base_uri": "https://localhost:8080/"
        },
        "id": "Vpo0TDAOSHk8",
        "outputId": "99bdeb56-e260-4dd2-f371-207e8b279752"
      },
      "source": [
        "'''SOLUÇÃO 3'''\n",
        "\n",
        "dicionario_07_3 = dicionario_07.copy()\n",
        "\n",
        "teste = {k:v for k,v in dicionario_07_3.items() if k != 'Cidade'}\n",
        "teste.update({'Localização':v for k,v in dicionario_07.items() if k == 'Cidade'})\n",
        "print(teste)"
      ],
      "execution_count": 64,
      "outputs": [
        {
          "output_type": "stream",
          "name": "stdout",
          "text": [
            "{'Nome': 'Maria', 'Idade': 25, 'Salário': 8000, 'Localização': 'São Paulo'}\n"
          ]
        }
      ]
    },
    {
      "cell_type": "markdown",
      "metadata": {
        "id": "fqwDlzq3R15R"
      },
      "source": [
        "##### Resultado esperado:\n",
        "<pre>\n",
        "{\n",
        "  \"Nome\": \"Maria\",\n",
        "  \"Idade\":25,\n",
        "  \"Salário\": 8000,\n",
        "  \"Localização\": \"São Paulo\"\n",
        "}\n",
        "</pre>"
      ]
    },
    {
      "cell_type": "markdown",
      "metadata": {
        "id": "Iy2wPk8LR4JS"
      },
      "source": [
        "## **Obtenha a chave de um valor mínimo do seguinte dicionário**"
      ]
    },
    {
      "cell_type": "code",
      "metadata": {
        "id": "10t3helER2GZ"
      },
      "source": [
        "dicionario_08 = {\n",
        "  'Física'    : 82,\n",
        "  'Matemática': 65,\n",
        "  'História'  : 75\n",
        "}\n",
        "\n",
        "#########################################\n",
        "#         Escreva o código aqui - Soluções abaixo\n",
        "#########################################"
      ],
      "execution_count": 8,
      "outputs": []
    },
    {
      "cell_type": "code",
      "metadata": {
        "colab": {
          "base_uri": "https://localhost:8080/"
        },
        "id": "dWDeb4mX41c9",
        "outputId": "22a006d3-9bd4-49eb-943b-4439f21f7adc"
      },
      "source": [
        "'''SOLUÇÃO 1'''\n",
        "\n",
        "dicionario_08_1 = dicionario_08.copy()\n",
        "min = 100\n",
        "chave = ''\n",
        "for k,v in dicionario_08.items():\n",
        "  if min > v :\n",
        "    min = v\n",
        "    chave = k\n",
        "\n",
        "print(chave)"
      ],
      "execution_count": 135,
      "outputs": [
        {
          "output_type": "stream",
          "name": "stdout",
          "text": [
            "Matemática\n"
          ]
        }
      ]
    },
    {
      "cell_type": "code",
      "metadata": {
        "colab": {
          "base_uri": "https://localhost:8080/"
        },
        "id": "gGz12hAp8G7i",
        "outputId": "5aea08de-9287-4dc1-9001-ad947f30cd46"
      },
      "source": [
        "'''SOLUÇÃO 2'''\n",
        "\n",
        "dicionario_08_2 = dicionario_08.copy()\n",
        "list_val = []\n",
        "for k,v in dicionario_08_2.items():\n",
        "  list_val.append((k,v))\n",
        "list_val.sort(key=lambda tup: tup[1])\n",
        "\n",
        "print(list_val[0][0])"
      ],
      "execution_count": 169,
      "outputs": [
        {
          "output_type": "stream",
          "name": "stdout",
          "text": [
            "Matemática\n"
          ]
        }
      ]
    },
    {
      "cell_type": "code",
      "metadata": {
        "colab": {
          "base_uri": "https://localhost:8080/"
        },
        "id": "Lsg6lhRGlsCl",
        "outputId": "704b6c93-b994-4722-c343-39f563bdce05"
      },
      "source": [
        "'''SOLUÇÃO 3'''\n",
        "\n",
        "dicionario_08_3 = list(dicionario_08.items())\n",
        "x = sorted(dicionario_08_3, key=lambda grade: grade[1])\n",
        "print(x[0][0])"
      ],
      "execution_count": 11,
      "outputs": [
        {
          "output_type": "stream",
          "name": "stdout",
          "text": [
            "Matemática\n"
          ]
        }
      ]
    },
    {
      "cell_type": "code",
      "metadata": {
        "colab": {
          "base_uri": "https://localhost:8080/"
        },
        "id": "A8afh4dZpujs",
        "outputId": "f8e68f18-b8c1-4cd7-d2e4-6aa27c71cabb"
      },
      "source": [
        "'''SOLUÇÃO 4'''\n",
        "\n",
        "dicionario_08_4 = dicionario_08.copy()\n",
        "dicionario_08_4_new = map(lambda x : x[0], (sorted(list(dicionario_08_4.items()), key=lambda grade: grade[1])))\n",
        "print(list(dicionario_08_4_new)[0])"
      ],
      "execution_count": 22,
      "outputs": [
        {
          "output_type": "stream",
          "name": "stdout",
          "text": [
            "Matemática\n"
          ]
        }
      ]
    },
    {
      "cell_type": "markdown",
      "metadata": {
        "id": "nyHuXnpFR73y"
      },
      "source": [
        "##### Resultado esperado:\n",
        "<pre>\n",
        "Matemática\n",
        "</pre>"
      ]
    },
    {
      "cell_type": "markdown",
      "metadata": {
        "id": "es6AMeELR-Fx"
      },
      "source": [
        "## **Alterar o salário de João para 8500 em um determinado dicionário Python**"
      ]
    },
    {
      "cell_type": "code",
      "metadata": {
        "id": "PiVTp6DkR8EL"
      },
      "source": [
        "dicionario_09 = {\n",
        "     'Empregado_1': {'Nome': 'Ana',   'Salário': 7500},\n",
        "     'Empregado_2': {'Nome': 'Maria', 'Salário': 8000},\n",
        "     'Empregado_3': {'Nome': 'João',  'Salário': 6500}\n",
        "}\n",
        "\n",
        "#########################################\n",
        "#         Escreva o código aqui - Soluções abaixo\n",
        "#########################################"
      ],
      "execution_count": 127,
      "outputs": []
    },
    {
      "cell_type": "code",
      "metadata": {
        "colab": {
          "base_uri": "https://localhost:8080/"
        },
        "id": "MCsfSW_N3TVX",
        "outputId": "89840d56-9c97-46ff-9fcf-24446471ec78"
      },
      "source": [
        "'''SOLUÇÃO 1'''\n",
        "\n",
        "dicionario_09_1 = dicionario_09.copy()\n",
        "dicionario_09_1['Empregado_3']['Salário'] = 8500\n",
        "print(dicionario_09_1)"
      ],
      "execution_count": 128,
      "outputs": [
        {
          "output_type": "stream",
          "name": "stdout",
          "text": [
            "{'Empregado_1': {'Nome': 'Ana', 'Salário': 7500}, 'Empregado_2': {'Nome': 'Maria', 'Salário': 8000}, 'Empregado_3': {'Nome': 'João', 'Salário': 8500}}\n"
          ]
        }
      ]
    },
    {
      "cell_type": "code",
      "metadata": {
        "colab": {
          "base_uri": "https://localhost:8080/"
        },
        "id": "wGnG_iKA2xdT",
        "outputId": "0d82eebe-8008-44c8-b841-fae0ec489b78"
      },
      "source": [
        "'''SOLUÇÃO 2'''\n",
        "\n",
        "dicionario_09_2 = dicionario_09.copy()\n",
        "for k_1,v_1 in dicionario_09_2.items():\n",
        "  for k_2,v_2 in v_1.items():\n",
        "    if v_2 == 'João':\n",
        "      dicionario_09_2[k_1]['Salário'] = 8500\n",
        "\n",
        "print(dicionario_09_2)"
      ],
      "execution_count": 131,
      "outputs": [
        {
          "output_type": "stream",
          "name": "stdout",
          "text": [
            "{'Empregado_1': {'Nome': 'Ana', 'Salário': 7500}, 'Empregado_2': {'Nome': 'Maria', 'Salário': 8000}, 'Empregado_3': {'Nome': 'João', 'Salário': 8500}}\n"
          ]
        }
      ]
    },
    {
      "cell_type": "markdown",
      "metadata": {
        "id": "WZ-I-GFgSCI1"
      },
      "source": [
        "##### Resultado esperado:\n",
        "<pre>\n",
        "'Empregado_1': {'Nome': 'Ana',   'Salário': 7500},\n",
        "'Empregado_2': {'Nome': 'Maria', 'Salário': 8000},\n",
        "'Empregado_3': {'Nome': 'João',  'Salário': 8500}\n",
        "</pre>"
      ]
    }
  ]
}