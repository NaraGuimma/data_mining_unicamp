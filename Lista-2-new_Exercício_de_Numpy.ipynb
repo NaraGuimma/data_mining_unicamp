{
  "nbformat": 4,
  "nbformat_minor": 0,
  "metadata": {
    "colab": {
      "name": "Nara - Exercício_de_Numpy.ipynb",
      "provenance": []
    },
    "kernelspec": {
      "name": "python3",
      "display_name": "Python 3"
    },
    "language_info": {
      "name": "python"
    }
  },
  "cells": [
    {
      "cell_type": "markdown",
      "metadata": {
        "id": "F8d0lbwpoJT1"
      },
      "source": [
        "# **Numpy**"
      ]
    },
    {
      "cell_type": "code",
      "metadata": {
        "id": "muMaQHaDuqAp"
      },
      "source": [
        "import numpy as np"
      ],
      "execution_count": 2,
      "outputs": []
    },
    {
      "cell_type": "markdown",
      "metadata": {
        "id": "4BjJmVploNCh"
      },
      "source": [
        "Essa lista contém questões práticas incluindo os seguintes tópicos com numpy.\n",
        "\n",
        "* Criação de array e seus atributos, intervalos numéricos em numPy\n",
        "* Slicing e indexação de NumPy Array.\n",
        "* Manipulação, pesquisa, classificação e divisão de arrays.\n",
        "* Funções matemáticas com arrays e broadcasting arrays NumPy. "
      ]
    },
    {
      "cell_type": "markdown",
      "metadata": {
        "id": "mMd7TMhpo3Sh"
      },
      "source": [
        "## **Crie um array inteiro 4x2 e mostre seus atributos**\n",
        "\n",
        "Os elementos deven ser um tipo de int16 sem sinal. E imprima os seguintes atributos: formato do array; dimensões; comprimento de cada elemento do array."
      ]
    },
    {
      "cell_type": "code",
      "metadata": {
        "id": "fUXqn29poD1_"
      },
      "source": [
        "#########################################\n",
        "#         Escreva o código aqui - Soluções Abaixo\n",
        "#########################################"
      ],
      "execution_count": null,
      "outputs": []
    },
    {
      "cell_type": "code",
      "metadata": {
        "colab": {
          "base_uri": "https://localhost:8080/"
        },
        "id": "iDziSwlBjEtn",
        "outputId": "25ce37c5-8ec9-447a-f8bc-bcb08a2540cd"
      },
      "source": [
        "'''SOLUÇÃO 1'''\n",
        "\n",
        "# Partindo de um array\n",
        "array1 = np.array([[1, 2], [3, 4], [5, 6], [7, 8]])\n",
        "print(f'Array formado: \\n \\n {array1}')\n",
        "print(f'\\n Formato do array: {array1.shape}')\n",
        "print(f'\\n Dimensões do array: {array1.ndim}')\n",
        "print(f'\\n Número total de elementos no array: {array1.size}')\n",
        "print(f'\\n Comprimento de cada elemento do array: {len(array1[0])}')"
      ],
      "execution_count": null,
      "outputs": [
        {
          "output_type": "stream",
          "name": "stdout",
          "text": [
            "Array formado: \n",
            " \n",
            " [[1 2]\n",
            " [3 4]\n",
            " [5 6]\n",
            " [7 8]]\n",
            "\n",
            " Formato do array: (4, 2)\n",
            "\n",
            " Dimensões do array: 2\n",
            "\n",
            " Número total de elementos no array: 8\n",
            "\n",
            " Comprimento de cada elemento do array: 2\n"
          ]
        }
      ]
    },
    {
      "cell_type": "code",
      "metadata": {
        "colab": {
          "base_uri": "https://localhost:8080/"
        },
        "id": "g9K3bdmVreXr",
        "outputId": "0b99bc64-1869-48e6-f421-8d0bdfe854c6"
      },
      "source": [
        "'''SOLUÇÃO 2'''\n",
        "# Usando o random de números inteiros\n",
        "\n",
        "from numpy import random\n",
        "array2 = random.randint(100, size=(4, 2))\n",
        "\n",
        "print(array2)\n",
        "\n",
        "print(f'\\n Formato do array: {array2.shape}')\n",
        "print(f'\\n Dimensões do array: {array2.ndim}')\n",
        "print(f'\\n Número total de elementos no array: {array2.size}')\n",
        "print(f'\\n Comprimento de cada elemento do array: {len(array2[0])}')"
      ],
      "execution_count": null,
      "outputs": [
        {
          "output_type": "stream",
          "name": "stdout",
          "text": [
            "[[64 79]\n",
            " [88 73]\n",
            " [17 93]\n",
            " [60  0]]\n",
            "\n",
            " Formato do array: (4, 2)\n",
            "\n",
            " Dimensões do array: 2\n",
            "\n",
            " Número total de elementos no array: 8\n",
            "\n",
            " Comprimento de cada elemento do array: 2\n"
          ]
        }
      ]
    },
    {
      "cell_type": "markdown",
      "metadata": {
        "id": "2vGPwePopaqA"
      },
      "source": [
        "##### Resultado esperado:\n",
        "<pre>\n",
        "Mostrando Array\n",
        "[[64392 31655]\n",
        " [32579     0]\n",
        " [49248   462]\n",
        " [    0     0]]\n",
        "\n",
        "Mostrando Attributos:\n",
        "\n",
        "Formato do array:  (4, 2)\n",
        "Número de dimensões:  2\n",
        "Comprimento de cada elemento do array:  2\n",
        "</pre>"
      ]
    },
    {
      "cell_type": "markdown",
      "metadata": {
        "id": "txYG24Btqofr"
      },
      "source": [
        "## **Crie uma array de inteiros 5X2 com um intervalo entre 100 e 200, de modo que a diferença entre cada elemento seja 10**"
      ]
    },
    {
      "cell_type": "code",
      "metadata": {
        "colab": {
          "base_uri": "https://localhost:8080/"
        },
        "id": "s8DYqnp41pOL",
        "outputId": "9c7f5857-53d0-41a5-d42a-a43ee9a7310b"
      },
      "source": [
        "array3 = np.arange(100, 200, 10).reshape((5, 2))\n",
        "print(array3)"
      ],
      "execution_count": null,
      "outputs": [
        {
          "output_type": "stream",
          "name": "stdout",
          "text": [
            "[[100 110]\n",
            " [120 130]\n",
            " [140 150]\n",
            " [160 170]\n",
            " [180 190]]\n"
          ]
        }
      ]
    },
    {
      "cell_type": "markdown",
      "metadata": {
        "id": "7K18_nlXq0ci"
      },
      "source": [
        "##### Resultado esperado:\n",
        "<pre>\n",
        "[[100 110]\n",
        " [120 130]\n",
        " [140 150]\n",
        " [160 170]\n",
        " [180 190]]\n",
        "</pre>"
      ]
    },
    {
      "cell_type": "markdown",
      "metadata": {
        "id": "m_C2-vWIuaR7"
      },
      "source": [
        "## **Baseado no array fornecido. Retorne um array de itens com a terceira coluna de todas as linhas**"
      ]
    },
    {
      "cell_type": "code",
      "metadata": {
        "id": "AL2jtmzfq7T3",
        "colab": {
          "base_uri": "https://localhost:8080/"
        },
        "outputId": "1e1f3e2a-7523-482f-8bba-36c24f365b5a"
      },
      "source": [
        "array_00 = np.array([[11 ,22, 33], [44, 55, 66], [77, 88, 99]])\n",
        "array_00"
      ],
      "execution_count": null,
      "outputs": [
        {
          "output_type": "execute_result",
          "data": {
            "text/plain": [
              "array([[11, 22, 33],\n",
              "       [44, 55, 66],\n",
              "       [77, 88, 99]])"
            ]
          },
          "metadata": {},
          "execution_count": 4
        }
      ]
    },
    {
      "cell_type": "code",
      "metadata": {
        "id": "JjZM3S46uyrX",
        "colab": {
          "base_uri": "https://localhost:8080/"
        },
        "outputId": "582764c0-99c0-4ad9-9ff8-a3e9a6ca03ec"
      },
      "source": [
        "'''SOLUÇÃO 1'''\n",
        "\n",
        "array_00_1 = []\n",
        "for i in range(len(array_00)):\n",
        "\n",
        "  array_00_1.append(array_00[i][-1])\n",
        "array_00_1  "
      ],
      "execution_count": null,
      "outputs": [
        {
          "output_type": "execute_result",
          "data": {
            "text/plain": [
              "[33, 66, 99]"
            ]
          },
          "metadata": {},
          "execution_count": 85
        }
      ]
    },
    {
      "cell_type": "code",
      "metadata": {
        "colab": {
          "base_uri": "https://localhost:8080/"
        },
        "id": "9NpKzkJj-Jjz",
        "outputId": "798c668d-8c51-43f5-b121-cd7969e4471b"
      },
      "source": [
        "'''SOLUÇÃO 2'''\n",
        "\n",
        "array_00_2 = map(lambda x: array_00[x][-1], range(len(array_00)))\n",
        "print(list(array_00_2))"
      ],
      "execution_count": null,
      "outputs": [
        {
          "output_type": "stream",
          "name": "stdout",
          "text": [
            "[33, 66, 99]\n"
          ]
        }
      ]
    },
    {
      "cell_type": "code",
      "metadata": {
        "colab": {
          "base_uri": "https://localhost:8080/"
        },
        "id": "qEgMnu1yDtcV",
        "outputId": "4f8db715-bd44-4a72-f305-cece3f115d0a"
      },
      "source": [
        "'''SOLUÇÃO 3'''\n",
        "\n",
        "array_00_3 = [val for rows in array_00 for val in rows if val == rows[-1]]\n",
        "array_00_3"
      ],
      "execution_count": null,
      "outputs": [
        {
          "output_type": "execute_result",
          "data": {
            "text/plain": [
              "[33, 66, 99]"
            ]
          },
          "metadata": {},
          "execution_count": 87
        }
      ]
    },
    {
      "cell_type": "code",
      "metadata": {
        "colab": {
          "base_uri": "https://localhost:8080/"
        },
        "id": "5NXwyX-N2Kwg",
        "outputId": "ef4fd061-6652-4532-d647-41867720a3a9"
      },
      "source": [
        "'''SOLUÇÃO 4'''\n",
        "array_00_4 = array_00[:,-1]\n",
        "print(array_00_4)"
      ],
      "execution_count": null,
      "outputs": [
        {
          "output_type": "stream",
          "name": "stdout",
          "text": [
            "[33 66 99]\n"
          ]
        }
      ]
    },
    {
      "cell_type": "markdown",
      "metadata": {
        "id": "L6CkwyBRuzRE"
      },
      "source": [
        "##### Resultado esperado:\n",
        "<pre>\n",
        "Mostrando array de entrada\n",
        "[[11 22 33]\n",
        " [44 55 66]\n",
        " [77 88 99]]\n",
        "\n",
        "Novo array com a terceira coluna de cada linha\n",
        "[33 66 99]\n",
        "</pre>"
      ]
    },
    {
      "cell_type": "markdown",
      "metadata": {
        "id": "x74A04QBvHI4"
      },
      "source": [
        "## **Retorne um array com os valores presentes nas linhas ímpares com colunas pares baseado no seguinte array**"
      ]
    },
    {
      "cell_type": "code",
      "metadata": {
        "id": "iePh-tw4vCnp",
        "colab": {
          "base_uri": "https://localhost:8080/"
        },
        "outputId": "0298aeb2-ff6c-408e-a84e-a476586dcc49"
      },
      "source": [
        "array_01 = np.array([[3 ,6, 9, 12], [15 ,18, 21, 24], \n",
        "[27 ,30, 33, 36], [39 ,42, 45, 48], [51 ,54, 57, 60]])\n",
        "array_01"
      ],
      "execution_count": 3,
      "outputs": [
        {
          "output_type": "execute_result",
          "data": {
            "text/plain": [
              "array([[ 3,  6,  9, 12],\n",
              "       [15, 18, 21, 24],\n",
              "       [27, 30, 33, 36],\n",
              "       [39, 42, 45, 48],\n",
              "       [51, 54, 57, 60]])"
            ]
          },
          "metadata": {},
          "execution_count": 3
        }
      ]
    },
    {
      "cell_type": "code",
      "metadata": {
        "colab": {
          "base_uri": "https://localhost:8080/"
        },
        "id": "1y0ytma0PVg0",
        "outputId": "0c72d38b-3ad9-437b-abf2-4d82fd4264ac"
      },
      "source": [
        "array_01.shape"
      ],
      "execution_count": null,
      "outputs": [
        {
          "output_type": "execute_result",
          "data": {
            "text/plain": [
              "(5, 4)"
            ]
          },
          "metadata": {},
          "execution_count": 89
        }
      ]
    },
    {
      "cell_type": "code",
      "metadata": {
        "id": "zCzutzu5w0dt"
      },
      "source": [
        "#########################################\n",
        "#         Escreva o código aqui - Soluções Abaixo\n",
        "#########################################"
      ],
      "execution_count": null,
      "outputs": []
    },
    {
      "cell_type": "code",
      "metadata": {
        "colab": {
          "base_uri": "https://localhost:8080/"
        },
        "id": "8tT8gCm3Jse5",
        "outputId": "157f2bda-4912-4eb1-b582-6d0a6de86e91"
      },
      "source": [
        "'''SOLUÇÃO 1'''\n",
        "\n",
        "array_01_1 = []\n",
        "for i in range(len(array_01)):\n",
        "  if i % 2 == 0:\n",
        "    array_01_2 = []\n",
        "    for j in range(len(array_01[0])):\n",
        "      if j % 2 != 0:\n",
        "        array_01_2.append(array_01[i][j])\n",
        "    array_01_1.append(array_01_2)        \n",
        "array_01_1  "
      ],
      "execution_count": null,
      "outputs": [
        {
          "output_type": "execute_result",
          "data": {
            "text/plain": [
              "[[6, 12], [30, 36], [54, 60]]"
            ]
          },
          "metadata": {},
          "execution_count": 91
        }
      ]
    },
    {
      "cell_type": "code",
      "metadata": {
        "colab": {
          "base_uri": "https://localhost:8080/"
        },
        "id": "xSbNvw6hRxMJ",
        "outputId": "7ba4dae8-f7e2-4e11-dcbd-fdcdd6c2114a"
      },
      "source": [
        "'''SOLUÇÃO 2'''\n",
        "\n",
        "array_01_3 = []\n",
        "for i in range(0, 5, 2):\n",
        "  v = array_01[[i],[1, 3]]\n",
        "  array_01_3.append(v)\n",
        "\n",
        "array_01_3  "
      ],
      "execution_count": null,
      "outputs": [
        {
          "output_type": "execute_result",
          "data": {
            "text/plain": [
              "[array([ 6, 12]), array([30, 36]), array([54, 60])]"
            ]
          },
          "metadata": {},
          "execution_count": 92
        }
      ]
    },
    {
      "cell_type": "code",
      "metadata": {
        "colab": {
          "base_uri": "https://localhost:8080/"
        },
        "id": "mKoPpfxbXcZe",
        "outputId": "985ceb03-adfe-4721-9ecb-e03347110ee1"
      },
      "source": [
        "'''SOLUÇÃO 3'''\n",
        "\n",
        "array_01_4 = array_01[::2,1::2]\n",
        "print(array_01_4)"
      ],
      "execution_count": 36,
      "outputs": [
        {
          "output_type": "stream",
          "name": "stdout",
          "text": [
            "[[ 6 12]\n",
            " [30 36]\n",
            " [54 60]]\n"
          ]
        }
      ]
    },
    {
      "cell_type": "markdown",
      "metadata": {
        "id": "M1hTKhUCvtZ0"
      },
      "source": [
        "##### Resultado esperado:\n",
        "<pre>\n",
        "Mostrando array de entrada\n",
        "[[ 3  6  9 12]\n",
        " [15 18 21 24]\n",
        " [27 30 33 36]\n",
        " [39 42 45 48]\n",
        " [51 54 57 60]]\n",
        "\n",
        "Array resultante (linha ímpar x coluna par)\n",
        "[[ 6 12]\n",
        " [30 36]\n",
        " [54 60]]\n",
        "</pre>"
      ]
    },
    {
      "cell_type": "markdown",
      "metadata": {
        "id": "BhK3jxRTwH50"
      },
      "source": [
        "## **Crie um array de resultado somando os seguintes arrays. Em seguida, modifique o array resultante calculando o quadrado de cada elemento**"
      ]
    },
    {
      "cell_type": "code",
      "metadata": {
        "id": "uF173c_WwATR"
      },
      "source": [
        "array_02 = np.array([[5, 6, 9], [21 ,18, 27]])\n",
        "array_03 = np.array([[15 ,33, 24], [4 ,7, 1]])"
      ],
      "execution_count": 25,
      "outputs": []
    },
    {
      "cell_type": "code",
      "metadata": {
        "id": "xBCCPW3vwz2c"
      },
      "source": [
        "#########################################\n",
        "#         Escreva o código aqui - Soluções Abaixo\n",
        "#########################################"
      ],
      "execution_count": null,
      "outputs": []
    },
    {
      "cell_type": "code",
      "metadata": {
        "colab": {
          "base_uri": "https://localhost:8080/"
        },
        "id": "NutgUEAOmKnp",
        "outputId": "4d3f1051-5d7a-49c3-8fc6-df1b9b821bdd"
      },
      "source": [
        "# SOMA ENTRE ARRAYS\n",
        "array_soma = array_02 + array_03\n",
        "print(array_soma)"
      ],
      "execution_count": 28,
      "outputs": [
        {
          "output_type": "stream",
          "name": "stdout",
          "text": [
            "[[20 39 33]\n",
            " [25 25 28]]\n"
          ]
        }
      ]
    },
    {
      "cell_type": "code",
      "metadata": {
        "colab": {
          "base_uri": "https://localhost:8080/"
        },
        "id": "Ycc-SHB8bLAH",
        "outputId": "5967dcec-932f-4787-f209-802d2966e4bf"
      },
      "source": [
        "array_sum = np.sum([array_02, array_03], axis=0)\n",
        "print(array_sum)"
      ],
      "execution_count": 29,
      "outputs": [
        {
          "output_type": "stream",
          "name": "stdout",
          "text": [
            "[[20 39 33]\n",
            " [25 25 28]]\n"
          ]
        }
      ]
    },
    {
      "cell_type": "code",
      "metadata": {
        "colab": {
          "base_uri": "https://localhost:8080/"
        },
        "id": "-fvVNoJYoGKN",
        "outputId": "9c376b37-eb03-41c3-df2a-927ecd32c2dd"
      },
      "source": [
        "# QUADRADO DOS ELEMENTOS\n",
        "array_quadrado = array_soma**2\n",
        "print(array_quadrado)"
      ],
      "execution_count": null,
      "outputs": [
        {
          "output_type": "stream",
          "name": "stdout",
          "text": [
            "[[ 400 1521 1089]\n",
            " [ 625  625  784]]\n"
          ]
        }
      ]
    },
    {
      "cell_type": "code",
      "metadata": {
        "colab": {
          "base_uri": "https://localhost:8080/"
        },
        "id": "WKIg5RcSbcPA",
        "outputId": "21ce581c-9fa2-4abe-a758-f34d6ba06a94"
      },
      "source": [
        "arrar_sqrt = np.square(array_sum)\n",
        "print(arrar_sqrt)"
      ],
      "execution_count": 30,
      "outputs": [
        {
          "output_type": "stream",
          "name": "stdout",
          "text": [
            "[[ 400 1521 1089]\n",
            " [ 625  625  784]]\n"
          ]
        }
      ]
    },
    {
      "cell_type": "markdown",
      "metadata": {
        "id": "wYHTtPWVwj4C"
      },
      "source": [
        "##### Resultado esperado:\n",
        "<pre>\n",
        "A soma dos arrays é: \n",
        "[[20 39 33]\n",
        " [25 25 28]]\n",
        "\n",
        "Resultado depois de calcular o quadrado de cada número:\n",
        "[[ 400 1521 1089]\n",
        " [ 625  625  784]]\n",
        "</pre>"
      ]
    },
    {
      "cell_type": "markdown",
      "metadata": {
        "id": "ORLtJ-Z00XCk"
      },
      "source": [
        "## **Faça a soma, subtração, multiplicação e divisão dos arrays**"
      ]
    },
    {
      "cell_type": "code",
      "metadata": {
        "id": "A8gdbosU0lzc"
      },
      "source": [
        "array_04 = np.array([1, 2, 3])\n",
        "array_05 = np.array([[1, 2, 3], [4, 5, 6]])"
      ],
      "execution_count": 44,
      "outputs": []
    },
    {
      "cell_type": "code",
      "metadata": {
        "id": "eQBJ6AgN0_zb"
      },
      "source": [
        "#########################################\n",
        "#         Escreva o código aqui - Solução abaixo\n",
        "#########################################"
      ],
      "execution_count": null,
      "outputs": []
    },
    {
      "cell_type": "code",
      "metadata": {
        "colab": {
          "base_uri": "https://localhost:8080/"
        },
        "id": "vq0eER61owfc",
        "outputId": "3aced022-6088-4ef5-8e70-701c2db5b464"
      },
      "source": [
        "# SOMA DOS ARRAYS\n",
        "'''SOLUÇÃO 1'''\n",
        "array_soma = array_04 + array_05\n",
        "print(array_soma)"
      ],
      "execution_count": null,
      "outputs": [
        {
          "output_type": "stream",
          "name": "stdout",
          "text": [
            "[[2 4 6]\n",
            " [5 7 9]]\n"
          ]
        }
      ]
    },
    {
      "cell_type": "code",
      "metadata": {
        "colab": {
          "base_uri": "https://localhost:8080/"
        },
        "id": "NjezZBoNhPUl",
        "outputId": "a3510046-0afd-4c67-bc8a-fd08f192a23e"
      },
      "source": [
        "array_04_new = np.array([array_04, array_04])\n",
        "array_04_new"
      ],
      "execution_count": 57,
      "outputs": [
        {
          "output_type": "execute_result",
          "data": {
            "text/plain": [
              "array([[1, 2, 3],\n",
              "       [1, 2, 3]])"
            ]
          },
          "metadata": {},
          "execution_count": 57
        }
      ]
    },
    {
      "cell_type": "code",
      "metadata": {
        "colab": {
          "base_uri": "https://localhost:8080/"
        },
        "id": "2i5xjJALgUr-",
        "outputId": "8f7ffcfb-cf2a-473f-8eef-e22858ad2d1c"
      },
      "source": [
        "'''SOLUÇÃO 2'''\n",
        "array_sum = np.sum([array_04_new,array_05], axis=0)\n",
        "print(array_sum)"
      ],
      "execution_count": 49,
      "outputs": [
        {
          "output_type": "stream",
          "name": "stdout",
          "text": [
            "[[2 4 6]\n",
            " [5 7 9]]\n"
          ]
        }
      ]
    },
    {
      "cell_type": "code",
      "metadata": {
        "colab": {
          "base_uri": "https://localhost:8080/"
        },
        "id": "RX6wpS8HhiAB",
        "outputId": "77aa78c3-b4bf-4014-9be8-4fb45a6b569c"
      },
      "source": [
        "'''SOLUÇÃO 3'''\n",
        "array_sum_2 = np.sum([[array_04, array_04], array_05], axis=0)\n",
        "print(array_sum_2)"
      ],
      "execution_count": 55,
      "outputs": [
        {
          "output_type": "stream",
          "name": "stdout",
          "text": [
            "[[2 4 6]\n",
            " [5 7 9]]\n"
          ]
        }
      ]
    },
    {
      "cell_type": "code",
      "metadata": {
        "colab": {
          "base_uri": "https://localhost:8080/"
        },
        "id": "jBlDtOPEinXy",
        "outputId": "6d3b3ef1-a3b4-4682-c207-d68afa90b889"
      },
      "source": [
        "'''SOLUÇÃO 4'''\n",
        "array_sum_3 = np.sum([np.array([array_04, array_04]), array_05], axis=0)\n",
        "print(array_sum_3)"
      ],
      "execution_count": 54,
      "outputs": [
        {
          "output_type": "stream",
          "name": "stdout",
          "text": [
            "[[2 4 6]\n",
            " [5 7 9]]\n"
          ]
        }
      ]
    },
    {
      "cell_type": "code",
      "metadata": {
        "colab": {
          "base_uri": "https://localhost:8080/"
        },
        "id": "NvXpAVsypA7n",
        "outputId": "a3372759-64c4-4922-a540-089ffa214281"
      },
      "source": [
        "# SUBTRAÇÃO DOS ARRAYS\n",
        "'''SOLUÇÃO 1'''\n",
        "array_diff = array_04 - array_05\n",
        "print(array_diff)"
      ],
      "execution_count": null,
      "outputs": [
        {
          "output_type": "stream",
          "name": "stdout",
          "text": [
            "[[ 0  0  0]\n",
            " [-3 -3 -3]]\n"
          ]
        }
      ]
    },
    {
      "cell_type": "code",
      "metadata": {
        "colab": {
          "base_uri": "https://localhost:8080/"
        },
        "id": "SjwF11wojBow",
        "outputId": "7fe00776-b6b2-4df0-f1a0-4af0c7737f9b"
      },
      "source": [
        "'''SOLUÇÃO 2'''\n",
        "array_diff_1= np.subtract(array_04_new, array_05)\n",
        "print(array_diff_1)"
      ],
      "execution_count": 62,
      "outputs": [
        {
          "output_type": "stream",
          "name": "stdout",
          "text": [
            "[[ 0  0  0]\n",
            " [-3 -3 -3]]\n"
          ]
        }
      ]
    },
    {
      "cell_type": "code",
      "metadata": {
        "colab": {
          "base_uri": "https://localhost:8080/"
        },
        "id": "le3vhSM-pKgh",
        "outputId": "6a49dfd8-82aa-45d2-ab74-563e5ebc2e0d"
      },
      "source": [
        "# MULTIPLICÃO DOS ARRAYS\n",
        "'''SOLUÇÃO 1'''\n",
        "array_mult = array_04 * array_05\n",
        "print(array_mult)"
      ],
      "execution_count": null,
      "outputs": [
        {
          "output_type": "stream",
          "name": "stdout",
          "text": [
            "[[ 1  4  9]\n",
            " [ 4 10 18]]\n"
          ]
        }
      ]
    },
    {
      "cell_type": "code",
      "metadata": {
        "colab": {
          "base_uri": "https://localhost:8080/"
        },
        "id": "imbtTwPZjaW_",
        "outputId": "fc825bb6-0a78-4ec9-ad41-5da86cd6a34f"
      },
      "source": [
        "'''SOLUÇÃO 2'''\n",
        "array_mult_1 = np.multiply(array_04_new, array_05)\n",
        "print(array_mult_1)"
      ],
      "execution_count": 63,
      "outputs": [
        {
          "output_type": "stream",
          "name": "stdout",
          "text": [
            "[[ 1  4  9]\n",
            " [ 4 10 18]]\n"
          ]
        }
      ]
    },
    {
      "cell_type": "code",
      "metadata": {
        "colab": {
          "base_uri": "https://localhost:8080/"
        },
        "id": "atscW0zhpV32",
        "outputId": "f2350327-33e7-4af6-e275-2b123f3fc26d"
      },
      "source": [
        "# DIVISÃO DOS ARRAYS\n",
        "'''SOLUÇÃO 1'''\n",
        "array_div = array_04 / array_05\n",
        "print(array_div)"
      ],
      "execution_count": null,
      "outputs": [
        {
          "output_type": "stream",
          "name": "stdout",
          "text": [
            "[[1.   1.   1.  ]\n",
            " [0.25 0.4  0.5 ]]\n"
          ]
        }
      ]
    },
    {
      "cell_type": "code",
      "metadata": {
        "colab": {
          "base_uri": "https://localhost:8080/"
        },
        "id": "lp3Z4PfDlLke",
        "outputId": "e2794153-ea05-43fc-df6b-bdad1491ed8e"
      },
      "source": [
        "'''SOLUÇÃO 2'''\n",
        "array_div_1 = np.divide(array_04_new, array_05)\n",
        "print(array_div_1)"
      ],
      "execution_count": 64,
      "outputs": [
        {
          "output_type": "stream",
          "name": "stdout",
          "text": [
            "[[1.   1.   1.  ]\n",
            " [0.25 0.4  0.5 ]]\n"
          ]
        }
      ]
    },
    {
      "cell_type": "markdown",
      "metadata": {
        "id": "A_4X6IgK1CSc"
      },
      "source": [
        "##### Resultado esperado:\n",
        "<pre>\n",
        "Soma: \n",
        "[[2 4 6]\n",
        " [5 7 9]]\n",
        "Subtração: \n",
        "[[ 0  0  0]\n",
        " [-3 -3 -3]]\n",
        "Multiplicação: \n",
        "[[ 1  4  9]\n",
        " [ 4 10 18]]\n",
        "divisão: \n",
        "[[1.   1.   1.  ]\n",
        " [0.25 0.4  0.5 ]]\n",
        "</pre>"
      ]
    },
    {
      "cell_type": "markdown",
      "metadata": {
        "id": "FiMoxttBw-vA"
      },
      "source": [
        "## **Divida o array em quatro sub-arrays de tamanhos iguais**\n",
        "\n",
        "Crie um array de inteiros 8X3 com um intervalo entre 10 e 34 de modo que a diferença entre cada elemento seja 1 e, em seguida, faça a subdivisão. "
      ]
    },
    {
      "cell_type": "code",
      "metadata": {
        "id": "A0Xvmeuswy90"
      },
      "source": [
        "#########################################\n",
        "#         Escreva o código aqui - Solução abaixo\n",
        "#########################################"
      ],
      "execution_count": null,
      "outputs": []
    },
    {
      "cell_type": "code",
      "metadata": {
        "colab": {
          "base_uri": "https://localhost:8080/"
        },
        "id": "ST0Q_FUhp0pN",
        "outputId": "20f48712-4238-42ce-b132-72192454f66c"
      },
      "source": [
        "# Criando o array\n",
        "array_completo = np.arange(10, 34, 1).reshape((8, 3))\n",
        "print(array_completo)"
      ],
      "execution_count": null,
      "outputs": [
        {
          "output_type": "stream",
          "name": "stdout",
          "text": [
            "[[10 11 12]\n",
            " [13 14 15]\n",
            " [16 17 18]\n",
            " [19 20 21]\n",
            " [22 23 24]\n",
            " [25 26 27]\n",
            " [28 29 30]\n",
            " [31 32 33]]\n"
          ]
        }
      ]
    },
    {
      "cell_type": "code",
      "metadata": {
        "colab": {
          "base_uri": "https://localhost:8080/"
        },
        "id": "iiV1X15WquGC",
        "outputId": "e0fd4865-aae8-4282-d262-b12c8cd9edb6"
      },
      "source": [
        "# Usando o split (só consegue fazer a divisão das matriz se esta divisão for exata):\n",
        "matriz_split = np.split(array_completo, 4)\n",
        "print(matriz_split)"
      ],
      "execution_count": null,
      "outputs": [
        {
          "output_type": "stream",
          "name": "stdout",
          "text": [
            "[array([[10, 11, 12],\n",
            "       [13, 14, 15]]), array([[16, 17, 18],\n",
            "       [19, 20, 21]]), array([[22, 23, 24],\n",
            "       [25, 26, 27]]), array([[28, 29, 30],\n",
            "       [31, 32, 33]])]\n"
          ]
        }
      ]
    },
    {
      "cell_type": "code",
      "metadata": {
        "colab": {
          "base_uri": "https://localhost:8080/"
        },
        "id": "mSCP3Q1hq5EX",
        "outputId": "9b86f07e-1374-4d96-9142-7117f46e1d41"
      },
      "source": [
        "# Usando o array_split (consegue fazer a divisão da matriz mesmo que esta não seja exata):\n",
        "\n",
        "matriz_array_split = np.array_split(array_completo, 4)\n",
        "print(matriz_array_split)"
      ],
      "execution_count": null,
      "outputs": [
        {
          "output_type": "stream",
          "name": "stdout",
          "text": [
            "[array([[10, 11, 12],\n",
            "       [13, 14, 15]]), array([[16, 17, 18],\n",
            "       [19, 20, 21]]), array([[22, 23, 24],\n",
            "       [25, 26, 27]]), array([[28, 29, 30],\n",
            "       [31, 32, 33]])]\n"
          ]
        }
      ]
    },
    {
      "cell_type": "markdown",
      "metadata": {
        "id": "_8WGf4C6xaql"
      },
      "source": [
        "##### Resultado esperado:\n",
        "<pre>\n",
        "Criando o array de 8X3 usando numpy.arange\n",
        "[[10 11 12]\n",
        " [13 14 15]\n",
        " [16 17 18]\n",
        " [19 20 21]\n",
        " [22 23 24]\n",
        " [25 26 27]\n",
        " [28 29 30]\n",
        " [31 32 33]]\n",
        "\n",
        "Dividindo o array em 4 sub-arrays\n",
        "\n",
        "[array([[10, 11, 12],[13, 14, 15]]), \n",
        "array([[16, 17, 18],[19, 20, 21]]), \n",
        "array([[22, 23, 24],[25, 26, 27]]), \n",
        "array([[28, 29, 30],[31, 32, 33]])]\n",
        "</pre>"
      ]
    },
    {
      "cell_type": "markdown",
      "metadata": {
        "id": "4HwWOrIvx-RJ"
      },
      "source": [
        "## **Ordenar o seguinte array da seguinte forma:**\n",
        "\n",
        "* Oredene pela segunda linha\n",
        "* Ordene pela terceira coluna"
      ]
    },
    {
      "cell_type": "code",
      "metadata": {
        "id": "MmbJJFF0xn-z"
      },
      "source": [
        "array_06 = np.array([[34,43,73],[82,22,12],[53,94,66]])"
      ],
      "execution_count": null,
      "outputs": []
    },
    {
      "cell_type": "code",
      "metadata": {
        "colab": {
          "base_uri": "https://localhost:8080/"
        },
        "id": "MbwdXHgBwGsw",
        "outputId": "4408241c-32b9-408b-ee41-5a76487122ca"
      },
      "source": [
        "print(array_06)"
      ],
      "execution_count": null,
      "outputs": [
        {
          "output_type": "stream",
          "name": "stdout",
          "text": [
            "[[34 43 73]\n",
            " [82 22 12]\n",
            " [53 94 66]]\n"
          ]
        }
      ]
    },
    {
      "cell_type": "code",
      "metadata": {
        "id": "JfSD8msFyQ8c"
      },
      "source": [
        "#########################################\n",
        "#         Escreva o código aqui - Soluções abaixo\n",
        "#########################################"
      ],
      "execution_count": null,
      "outputs": []
    },
    {
      "cell_type": "markdown",
      "metadata": {
        "id": "4OnkS7rCvxNX"
      },
      "source": [
        "### Ordenando pela segunda linha"
      ]
    },
    {
      "cell_type": "code",
      "metadata": {
        "colab": {
          "base_uri": "https://localhost:8080/"
        },
        "id": "xgwP5z45w5RC",
        "outputId": "1180ac26-4eac-4bf1-deab-2f7d83946bb8"
      },
      "source": [
        "sort_row = array_06 [ :, array_06[1].argsort()]\n",
        "print(sort_row)"
      ],
      "execution_count": null,
      "outputs": [
        {
          "output_type": "stream",
          "name": "stdout",
          "text": [
            "[[73 43 34]\n",
            " [12 22 82]\n",
            " [66 94 53]]\n"
          ]
        }
      ]
    },
    {
      "cell_type": "markdown",
      "metadata": {
        "id": "J2BOowMxCSIu"
      },
      "source": [
        "### Ordenando pela terceira coluna"
      ]
    },
    {
      "cell_type": "code",
      "metadata": {
        "colab": {
          "base_uri": "https://localhost:8080/"
        },
        "id": "qMyty8pPCiS7",
        "outputId": "c4fbe22b-171c-4c85-868e-257c6098929c"
      },
      "source": [
        "'''SOLUÇÃO 1'''\n",
        "sort_column = array_06[array_06[:, 2].argsort()]\n",
        "print(sort_column)"
      ],
      "execution_count": null,
      "outputs": [
        {
          "output_type": "stream",
          "name": "stdout",
          "text": [
            "[[82 22 12]\n",
            " [53 94 66]\n",
            " [34 43 73]]\n"
          ]
        }
      ]
    },
    {
      "cell_type": "code",
      "metadata": {
        "colab": {
          "base_uri": "https://localhost:8080/"
        },
        "id": "KTLktTBjFs3i",
        "outputId": "e0e9942e-5e9b-42d6-ad49-a773a0671452"
      },
      "source": [
        "'''SOLUÇÃO 2'''\n",
        "sort_1 = np.sort(array_06.view('i8,i8,i8'), order=['f2'], axis=0)\n",
        "print(sort_1)"
      ],
      "execution_count": null,
      "outputs": [
        {
          "output_type": "stream",
          "name": "stdout",
          "text": [
            "[[(82, 22, 12)]\n",
            " [(53, 94, 66)]\n",
            " [(34, 43, 73)]]\n"
          ]
        }
      ]
    },
    {
      "cell_type": "markdown",
      "metadata": {
        "id": "CO8qvypPySoK"
      },
      "source": [
        "##### Resultado esperado:\n",
        "<pre>\n",
        "Mostrando o array original\n",
        "[[34 43 73]\n",
        " [82 22 12]\n",
        " [53 94 66]]\n",
        "\n",
        "Ordenando o array pela segunda linha\n",
        "[[73 43 34]\n",
        " [12 22 82]\n",
        " [66 94 53]]\n",
        "\n",
        "Ordenando o array pela terceira coluna\n",
        "[[82 22 12]\n",
        " [34 43 73]\n",
        " [53 94 66]]\n",
        "</pre>"
      ]
    },
    {
      "cell_type": "markdown",
      "metadata": {
        "id": "ISgsT6m0ypH6"
      },
      "source": [
        "## **Imprima o máx. do eixo 0 e mín. Do eixo 1 do seguinte array**"
      ]
    },
    {
      "cell_type": "code",
      "metadata": {
        "id": "U_VF-l-bydjn",
        "colab": {
          "base_uri": "https://localhost:8080/"
        },
        "outputId": "263174d5-96a4-4659-e1dd-427b63f9d3b6"
      },
      "source": [
        "array_07 = np.array([[34,43,73],[82,22,12],[53,94,66]])\n",
        "array_07"
      ],
      "execution_count": null,
      "outputs": [
        {
          "output_type": "execute_result",
          "data": {
            "text/plain": [
              "array([[34, 43, 73],\n",
              "       [82, 22, 12],\n",
              "       [53, 94, 66]])"
            ]
          },
          "metadata": {},
          "execution_count": 115
        }
      ]
    },
    {
      "cell_type": "code",
      "metadata": {
        "id": "uiWVrzR8y3_5"
      },
      "source": [
        "#########################################\n",
        "#         Escreva o código aqui - Soluções abaixo\n",
        "#########################################"
      ],
      "execution_count": null,
      "outputs": []
    },
    {
      "cell_type": "code",
      "metadata": {
        "colab": {
          "base_uri": "https://localhost:8080/"
        },
        "id": "q6P-J4LgTqc6",
        "outputId": "9778d471-8ce6-4e79-9053-854910f70591"
      },
      "source": [
        "# Máximo no eixo 0\n",
        "np.amax(array_07, axis=0) "
      ],
      "execution_count": null,
      "outputs": [
        {
          "output_type": "execute_result",
          "data": {
            "text/plain": [
              "array([82, 94, 73])"
            ]
          },
          "metadata": {},
          "execution_count": 117
        }
      ]
    },
    {
      "cell_type": "code",
      "metadata": {
        "colab": {
          "base_uri": "https://localhost:8080/"
        },
        "id": "SnF82-ELUEVB",
        "outputId": "fef8ebd6-d1ac-438d-a802-4382248fd8f1"
      },
      "source": [
        "# Mínimo no eixo 1\n",
        "np.amin(array_07, axis=1) "
      ],
      "execution_count": null,
      "outputs": [
        {
          "output_type": "execute_result",
          "data": {
            "text/plain": [
              "array([34, 12, 53])"
            ]
          },
          "metadata": {},
          "execution_count": 118
        }
      ]
    },
    {
      "cell_type": "markdown",
      "metadata": {
        "id": "_h-QzYNLy6Ki"
      },
      "source": [
        "##### Resultado esperado:\n",
        "<pre>\n",
        "Mostrando array original\n",
        "[[34 43 73]\n",
        " [82 22 12]\n",
        " [53 94 66]]\n",
        "\n",
        "Mostando amin do eixo 1\n",
        "[34 12 53]\n",
        "\n",
        "Mostrando amax do eixo 0\n",
        "[82 94 73]\n",
        "</pre>"
      ]
    },
    {
      "cell_type": "markdown",
      "metadata": {
        "id": "mSFScmJyzKh7"
      },
      "source": [
        "## **Exclua a segunda coluna de um determinado array e insira a nova coluna seguinte em seu lugar**"
      ]
    },
    {
      "cell_type": "code",
      "metadata": {
        "id": "i47AbpNdzJmJ"
      },
      "source": [
        "array_08    = np.array([[34,43,73],[82,22,12],[53,94,66]]) \n",
        "nova_coluna = np.array([[10,10,10]])"
      ],
      "execution_count": null,
      "outputs": []
    },
    {
      "cell_type": "code",
      "metadata": {
        "colab": {
          "base_uri": "https://localhost:8080/"
        },
        "id": "d_XeqV1bVMC5",
        "outputId": "0fadab17-ce31-4e65-f539-6b0f6e1e09f7"
      },
      "source": [
        "array_08"
      ],
      "execution_count": null,
      "outputs": [
        {
          "output_type": "execute_result",
          "data": {
            "text/plain": [
              "array([[34, 43, 73],\n",
              "       [82, 22, 12],\n",
              "       [53, 94, 66]])"
            ]
          },
          "metadata": {},
          "execution_count": 120
        }
      ]
    },
    {
      "cell_type": "code",
      "metadata": {
        "id": "xUBbgLrmzZAL"
      },
      "source": [
        "#########################################\n",
        "#         Escreva o código aqui - Solução abaixo\n",
        "#########################################"
      ],
      "execution_count": null,
      "outputs": []
    },
    {
      "cell_type": "code",
      "metadata": {
        "colab": {
          "base_uri": "https://localhost:8080/"
        },
        "id": "gFOEDURoVgwX",
        "outputId": "ea726b29-665c-4112-b008-c532a63a35fc"
      },
      "source": [
        "# Excluindo a segunda coluna:\n",
        "array_08_del = np.delete(array_08, 1, 1)\n",
        "array_08_del"
      ],
      "execution_count": null,
      "outputs": [
        {
          "output_type": "execute_result",
          "data": {
            "text/plain": [
              "array([[34, 73],\n",
              "       [82, 12],\n",
              "       [53, 66]])"
            ]
          },
          "metadata": {},
          "execution_count": 122
        }
      ]
    },
    {
      "cell_type": "code",
      "metadata": {
        "colab": {
          "base_uri": "https://localhost:8080/"
        },
        "id": "9xD5qI6TWpy1",
        "outputId": "ef1a75d9-3429-4ddd-cd46-b432c8fb375f"
      },
      "source": [
        "# Inserindo a nova coluna no lugar\n",
        "array_08_new = np.insert(array_08_del, 1, nova_coluna, axis=1)\n",
        "array_08_new"
      ],
      "execution_count": null,
      "outputs": [
        {
          "output_type": "execute_result",
          "data": {
            "text/plain": [
              "array([[34, 10, 73],\n",
              "       [82, 10, 12],\n",
              "       [53, 10, 66]])"
            ]
          },
          "metadata": {},
          "execution_count": 123
        }
      ]
    },
    {
      "cell_type": "markdown",
      "metadata": {
        "id": "BWHYFrQnzcwx"
      },
      "source": [
        "##### Resultado esperado:\n",
        "<pre>\n",
        "Mostrando array original\n",
        "[[34 43 73]\n",
        " [82 22 12]\n",
        " [53 94 66]]\n",
        "\n",
        "Array depois de deletar a segunda coluna\n",
        "[[34 73]\n",
        " [82 12]\n",
        " [53 66]]\n",
        "\n",
        "Array depois de inserir a nova coluna no lugar da coluna excluída\n",
        "[[34 10 73]\n",
        " [82 10 12]\n",
        " [53 10 66]]\n",
        "</pre>"
      ]
    }
  ]
}