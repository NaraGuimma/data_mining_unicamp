{
 "cells": [
  {
   "cell_type": "code",
   "execution_count": 1,
   "metadata": {},
   "outputs": [
    {
     "name": "stdout",
     "output_type": "stream",
     "text": [
      "Collecting selenium\n",
      "  Downloading selenium-4.0.0-py3-none-any.whl (954 kB)\n",
      "     |████████████████████████████████| 954 kB 4.2 MB/s            \n",
      "\u001b[?25hCollecting urllib3[secure]~=1.26\n",
      "  Downloading urllib3-1.26.7-py2.py3-none-any.whl (138 kB)\n",
      "     |████████████████████████████████| 138 kB 8.4 MB/s            \n",
      "\u001b[?25hCollecting trio~=0.17\n",
      "  Downloading trio-0.19.0-py3-none-any.whl (356 kB)\n",
      "     |████████████████████████████████| 356 kB 12.8 MB/s            \n",
      "\u001b[?25hCollecting trio-websocket~=0.9\n",
      "  Downloading trio_websocket-0.9.2-py3-none-any.whl (16 kB)\n",
      "Requirement already satisfied: attrs>=19.2.0 in ./anaconda3/lib/python3.8/site-packages (from trio~=0.17->selenium) (20.3.0)\n",
      "Requirement already satisfied: idna in ./anaconda3/lib/python3.8/site-packages (from trio~=0.17->selenium) (2.10)\n",
      "Requirement already satisfied: sniffio in ./anaconda3/lib/python3.8/site-packages (from trio~=0.17->selenium) (1.2.0)\n",
      "Collecting outcome\n",
      "  Downloading outcome-1.1.0-py2.py3-none-any.whl (9.7 kB)\n",
      "Requirement already satisfied: sortedcontainers in ./anaconda3/lib/python3.8/site-packages (from trio~=0.17->selenium) (2.2.2)\n",
      "Requirement already satisfied: async-generator>=1.9 in ./anaconda3/lib/python3.8/site-packages (from trio~=0.17->selenium) (1.10)\n",
      "Collecting wsproto>=0.14\n",
      "  Downloading wsproto-1.0.0-py3-none-any.whl (24 kB)\n",
      "Requirement already satisfied: certifi in ./anaconda3/lib/python3.8/site-packages (from urllib3[secure]~=1.26->selenium) (2020.6.20)\n",
      "Requirement already satisfied: pyOpenSSL>=0.14 in ./anaconda3/lib/python3.8/site-packages (from urllib3[secure]~=1.26->selenium) (19.1.0)\n",
      "Requirement already satisfied: cryptography>=1.3.4 in ./anaconda3/lib/python3.8/site-packages (from urllib3[secure]~=1.26->selenium) (3.1.1)\n",
      "Requirement already satisfied: six>=1.4.1 in ./anaconda3/lib/python3.8/site-packages (from cryptography>=1.3.4->urllib3[secure]~=1.26->selenium) (1.15.0)\n",
      "Requirement already satisfied: cffi!=1.11.3,>=1.8 in ./anaconda3/lib/python3.8/site-packages (from cryptography>=1.3.4->urllib3[secure]~=1.26->selenium) (1.14.3)\n",
      "Requirement already satisfied: h11<1,>=0.9.0 in ./anaconda3/lib/python3.8/site-packages (from wsproto>=0.14->trio-websocket~=0.9->selenium) (0.12.0)\n",
      "Requirement already satisfied: pycparser in ./anaconda3/lib/python3.8/site-packages (from cffi!=1.11.3,>=1.8->cryptography>=1.3.4->urllib3[secure]~=1.26->selenium) (2.20)\n",
      "Installing collected packages: outcome, wsproto, urllib3, trio, trio-websocket, selenium\n",
      "  Attempting uninstall: urllib3\n",
      "    Found existing installation: urllib3 1.25.11\n",
      "    Uninstalling urllib3-1.25.11:\n",
      "      Successfully uninstalled urllib3-1.25.11\n",
      "\u001b[31mERROR: pip's dependency resolver does not currently take into account all the packages that are installed. This behaviour is the source of the following dependency conflicts.\n",
      "conda 4.10.3 requires ruamel_yaml_conda>=0.11.14, which is not installed.\n",
      "requests 2.24.0 requires urllib3!=1.25.0,!=1.25.1,<1.26,>=1.21.1, but you have urllib3 1.26.7 which is incompatible.\u001b[0m\n",
      "Successfully installed outcome-1.1.0 selenium-4.0.0 trio-0.19.0 trio-websocket-0.9.2 urllib3-1.26.7 wsproto-1.0.0\n",
      "Lendo listas de pacotes... Pronto\n",
      "E: Não foi possível abrir arquivo de trava /var/lib/apt/lists/lock - open (13: Permissão negada)\n",
      "E: Impossível criar acesso exclusivo ao directório /var/lib/apt/lists/\n",
      "W: Problema ao remover o link do ficheiro /var/cache/apt/pkgcache.bin - RemoveCaches (13: Permissão negada)\n",
      "W: Problema ao remover o link do ficheiro /var/cache/apt/srcpkgcache.bin - RemoveCaches (13: Permissão negada)\n",
      "\u001b[1;31mE: \u001b[0mNão foi possível abrir arquivo de trava /var/lib/dpkg/lock-frontend - open (13: Permissão negada)\u001b[0m\n",
      "\u001b[1;31mE: \u001b[0mUnable to acquire the dpkg frontend lock (/var/lib/dpkg/lock-frontend), are you root?\u001b[0m\n",
      "Requirement already satisfied: selenium in ./anaconda3/lib/python3.8/site-packages (4.0.0)\n",
      "Requirement already satisfied: trio-websocket~=0.9 in ./anaconda3/lib/python3.8/site-packages (from selenium) (0.9.2)\n",
      "Requirement already satisfied: trio~=0.17 in ./anaconda3/lib/python3.8/site-packages (from selenium) (0.19.0)\n",
      "Requirement already satisfied: urllib3[secure]~=1.26 in ./anaconda3/lib/python3.8/site-packages (from selenium) (1.26.7)\n",
      "Requirement already satisfied: attrs>=19.2.0 in ./anaconda3/lib/python3.8/site-packages (from trio~=0.17->selenium) (20.3.0)\n",
      "Requirement already satisfied: idna in ./anaconda3/lib/python3.8/site-packages (from trio~=0.17->selenium) (2.10)\n",
      "Requirement already satisfied: sniffio in ./anaconda3/lib/python3.8/site-packages (from trio~=0.17->selenium) (1.2.0)\n",
      "Requirement already satisfied: outcome in ./anaconda3/lib/python3.8/site-packages (from trio~=0.17->selenium) (1.1.0)\n",
      "Requirement already satisfied: sortedcontainers in ./anaconda3/lib/python3.8/site-packages (from trio~=0.17->selenium) (2.2.2)\n",
      "Requirement already satisfied: async-generator>=1.9 in ./anaconda3/lib/python3.8/site-packages (from trio~=0.17->selenium) (1.10)\n",
      "Requirement already satisfied: wsproto>=0.14 in ./anaconda3/lib/python3.8/site-packages (from trio-websocket~=0.9->selenium) (1.0.0)\n",
      "Requirement already satisfied: pyOpenSSL>=0.14 in ./anaconda3/lib/python3.8/site-packages (from urllib3[secure]~=1.26->selenium) (19.1.0)\n",
      "Requirement already satisfied: cryptography>=1.3.4 in ./anaconda3/lib/python3.8/site-packages (from urllib3[secure]~=1.26->selenium) (3.1.1)\n",
      "Requirement already satisfied: certifi in ./anaconda3/lib/python3.8/site-packages (from urllib3[secure]~=1.26->selenium) (2020.6.20)\n",
      "Requirement already satisfied: cffi!=1.11.3,>=1.8 in ./anaconda3/lib/python3.8/site-packages (from cryptography>=1.3.4->urllib3[secure]~=1.26->selenium) (1.14.3)\n",
      "Requirement already satisfied: six>=1.4.1 in ./anaconda3/lib/python3.8/site-packages (from cryptography>=1.3.4->urllib3[secure]~=1.26->selenium) (1.15.0)\n",
      "Requirement already satisfied: h11<1,>=0.9.0 in ./anaconda3/lib/python3.8/site-packages (from wsproto>=0.14->trio-websocket~=0.9->selenium) (0.12.0)\n",
      "Requirement already satisfied: pycparser in ./anaconda3/lib/python3.8/site-packages (from cffi!=1.11.3,>=1.8->cryptography>=1.3.4->urllib3[secure]~=1.26->selenium) (2.20)\n",
      "Collecting webdriver-manager\n",
      "  Downloading webdriver_manager-3.5.2-py2.py3-none-any.whl (17 kB)\n",
      "Collecting crayons\n",
      "  Downloading crayons-0.4.0-py2.py3-none-any.whl (4.6 kB)\n",
      "Requirement already satisfied: requests in ./anaconda3/lib/python3.8/site-packages (from webdriver-manager) (2.24.0)\n",
      "Collecting configparser\n",
      "  Downloading configparser-5.0.2-py3-none-any.whl (19 kB)\n",
      "Requirement already satisfied: colorama in ./anaconda3/lib/python3.8/site-packages (from crayons->webdriver-manager) (0.4.4)\n",
      "Collecting urllib3!=1.25.0,!=1.25.1,<1.26,>=1.21.1\n",
      "  Using cached urllib3-1.25.11-py2.py3-none-any.whl (127 kB)\n",
      "Requirement already satisfied: idna<3,>=2.5 in ./anaconda3/lib/python3.8/site-packages (from requests->webdriver-manager) (2.10)\n",
      "Requirement already satisfied: certifi>=2017.4.17 in ./anaconda3/lib/python3.8/site-packages (from requests->webdriver-manager) (2020.6.20)\n",
      "Requirement already satisfied: chardet<4,>=3.0.2 in ./anaconda3/lib/python3.8/site-packages (from requests->webdriver-manager) (3.0.4)\n",
      "Installing collected packages: urllib3, crayons, configparser, webdriver-manager\n",
      "  Attempting uninstall: urllib3\n",
      "    Found existing installation: urllib3 1.26.7\n",
      "    Uninstalling urllib3-1.26.7:\n",
      "      Successfully uninstalled urllib3-1.26.7\n",
      "\u001b[31mERROR: pip's dependency resolver does not currently take into account all the packages that are installed. This behaviour is the source of the following dependency conflicts.\n",
      "conda 4.10.3 requires ruamel_yaml_conda>=0.11.14, which is not installed.\n",
      "selenium 4.0.0 requires urllib3[secure]~=1.26, but you have urllib3 1.25.11 which is incompatible.\u001b[0m\n",
      "Successfully installed configparser-5.0.2 crayons-0.4.0 urllib3-1.25.11 webdriver-manager-3.5.2\n"
     ]
    }
   ],
   "source": [
    "!pip install selenium\n",
    "!apt-get update \n",
    "!apt install chromium-chromedriver\n",
    "!pip install selenium\n",
    "!pip install webdriver-manager"
   ]
  },
  {
   "cell_type": "code",
   "execution_count": 6,
   "metadata": {},
   "outputs": [],
   "source": [
    "from selenium import webdriver\n",
    "from selenium.webdriver.chrome.service import Service\n",
    "from webdriver_manager.chrome import ChromeDriverManager"
   ]
  },
  {
   "cell_type": "code",
   "execution_count": 7,
   "metadata": {},
   "outputs": [
    {
     "name": "stderr",
     "output_type": "stream",
     "text": [
      "\n",
      "\n",
      "====== WebDriver manager ======\n",
      "Current google-chrome version is 89.0.4389\n",
      "Get LATEST chromedriver version for 89.0.4389 google-chrome\n",
      "Driver [/home/nara/.wdm/drivers/chromedriver/linux64/89.0.4389.23/chromedriver] found in cache\n"
     ]
    }
   ],
   "source": [
    "s=Service(ChromeDriverManager().install())\n",
    "driver = webdriver.Chrome(service=s)\n",
    "driver.maximize_window()\n",
    "driver.get('https://www.uol.com.br/')"
   ]
  },
  {
   "cell_type": "code",
   "execution_count": null,
   "metadata": {},
   "outputs": [],
   "source": [
    "driver.close()"
   ]
  }
 ],
 "metadata": {
  "kernelspec": {
   "display_name": "Python 3",
   "language": "python",
   "name": "python3"
  },
  "language_info": {
   "codemirror_mode": {
    "name": "ipython",
    "version": 3
   },
   "file_extension": ".py",
   "mimetype": "text/x-python",
   "name": "python",
   "nbconvert_exporter": "python",
   "pygments_lexer": "ipython3",
   "version": "3.8.5"
  }
 },
 "nbformat": 4,
 "nbformat_minor": 4
}
