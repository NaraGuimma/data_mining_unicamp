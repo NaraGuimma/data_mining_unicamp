{
  "nbformat": 4,
  "nbformat_minor": 0,
  "metadata": {
    "kernelspec": {
      "display_name": "dmclass",
      "language": "python",
      "name": "dmclass"
    },
    "language_info": {
      "codemirror_mode": {
        "name": "ipython",
        "version": 3
      },
      "file_extension": ".py",
      "mimetype": "text/x-python",
      "name": "python",
      "nbconvert_exporter": "python",
      "pygments_lexer": "ipython3",
      "version": "3.8.3"
    },
    "colab": {
      "name": "Nara - Exercício de regressão linear.ipynb",
      "provenance": []
    }
  },
  "cells": [
    {
      "cell_type": "markdown",
      "metadata": {
        "id": "VqeCi0G6A4Su"
      },
      "source": [
        "## Exercício prático de regressão linear"
      ]
    },
    {
      "cell_type": "markdown",
      "metadata": {
        "id": "eH6JOntHA4Sy"
      },
      "source": [
        "Instruções: se o dataset 'datasetCarros.csv' em todos os exercícios."
      ]
    },
    {
      "cell_type": "code",
      "metadata": {
        "id": "FcpdUtuuvP9Q"
      },
      "source": [
        "import pandas as pd\n",
        "import numpy as np\n",
        "from sklearn.linear_model import LinearRegression\n",
        "import statsmodels.api as sm\n",
        "from sklearn.linear_model import LinearRegression\n",
        "from sklearn.metrics import mean_squared_error, r2_score\n",
        "from sklearn.model_selection import train_test_split\n",
        "import matplotlib.pyplot as plt\n",
        "%matplotlib inline"
      ],
      "execution_count": 50,
      "outputs": []
    },
    {
      "cell_type": "markdown",
      "metadata": {
        "id": "pPquDhihA4Sz"
      },
      "source": [
        "# 1\n",
        "a) Faça um modelo de regressão linear simples utilizando a variável 'KmRodado' para prever a 'PrecoVenda'.<br>\n",
        "\n",
        "b) Calcule o R2 para o modelo criado."
      ]
    },
    {
      "cell_type": "code",
      "metadata": {
        "colab": {
          "base_uri": "https://localhost:8080/",
          "height": 407
        },
        "id": "U7m9ugb-vf5n",
        "outputId": "c5ff08d6-afcd-4507-bf11-4b226941a157"
      },
      "source": [
        "carros_df = pd.read_csv('datasetCarros.csv', sep=',')\n",
        "carros_df"
      ],
      "execution_count": 2,
      "outputs": [
        {
          "output_type": "execute_result",
          "data": {
            "text/html": [
              "<div>\n",
              "<style scoped>\n",
              "    .dataframe tbody tr th:only-of-type {\n",
              "        vertical-align: middle;\n",
              "    }\n",
              "\n",
              "    .dataframe tbody tr th {\n",
              "        vertical-align: top;\n",
              "    }\n",
              "\n",
              "    .dataframe thead th {\n",
              "        text-align: right;\n",
              "    }\n",
              "</style>\n",
              "<table border=\"1\" class=\"dataframe\">\n",
              "  <thead>\n",
              "    <tr style=\"text-align: right;\">\n",
              "      <th></th>\n",
              "      <th>Nome</th>\n",
              "      <th>Ano</th>\n",
              "      <th>PrecoVenda</th>\n",
              "      <th>PrecoAtual</th>\n",
              "      <th>KmRodado</th>\n",
              "      <th>TipoCombustivel</th>\n",
              "      <th>Trasmissao</th>\n",
              "      <th>Owner</th>\n",
              "    </tr>\n",
              "  </thead>\n",
              "  <tbody>\n",
              "    <tr>\n",
              "      <th>0</th>\n",
              "      <td>ritz</td>\n",
              "      <td>2014</td>\n",
              "      <td>3.35</td>\n",
              "      <td>5.59</td>\n",
              "      <td>27000</td>\n",
              "      <td>Petrol</td>\n",
              "      <td>Manual</td>\n",
              "      <td>0</td>\n",
              "    </tr>\n",
              "    <tr>\n",
              "      <th>1</th>\n",
              "      <td>sx4</td>\n",
              "      <td>2013</td>\n",
              "      <td>4.75</td>\n",
              "      <td>9.54</td>\n",
              "      <td>43000</td>\n",
              "      <td>Diesel</td>\n",
              "      <td>Manual</td>\n",
              "      <td>0</td>\n",
              "    </tr>\n",
              "    <tr>\n",
              "      <th>2</th>\n",
              "      <td>ciaz</td>\n",
              "      <td>2017</td>\n",
              "      <td>7.25</td>\n",
              "      <td>9.85</td>\n",
              "      <td>6900</td>\n",
              "      <td>Petrol</td>\n",
              "      <td>Manual</td>\n",
              "      <td>0</td>\n",
              "    </tr>\n",
              "    <tr>\n",
              "      <th>3</th>\n",
              "      <td>wagon r</td>\n",
              "      <td>2011</td>\n",
              "      <td>2.85</td>\n",
              "      <td>4.15</td>\n",
              "      <td>5200</td>\n",
              "      <td>Petrol</td>\n",
              "      <td>Manual</td>\n",
              "      <td>0</td>\n",
              "    </tr>\n",
              "    <tr>\n",
              "      <th>4</th>\n",
              "      <td>swift</td>\n",
              "      <td>2014</td>\n",
              "      <td>4.60</td>\n",
              "      <td>6.87</td>\n",
              "      <td>42450</td>\n",
              "      <td>Diesel</td>\n",
              "      <td>Manual</td>\n",
              "      <td>0</td>\n",
              "    </tr>\n",
              "    <tr>\n",
              "      <th>...</th>\n",
              "      <td>...</td>\n",
              "      <td>...</td>\n",
              "      <td>...</td>\n",
              "      <td>...</td>\n",
              "      <td>...</td>\n",
              "      <td>...</td>\n",
              "      <td>...</td>\n",
              "      <td>...</td>\n",
              "    </tr>\n",
              "    <tr>\n",
              "      <th>296</th>\n",
              "      <td>city</td>\n",
              "      <td>2016</td>\n",
              "      <td>9.50</td>\n",
              "      <td>11.60</td>\n",
              "      <td>33988</td>\n",
              "      <td>Diesel</td>\n",
              "      <td>Manual</td>\n",
              "      <td>0</td>\n",
              "    </tr>\n",
              "    <tr>\n",
              "      <th>297</th>\n",
              "      <td>brio</td>\n",
              "      <td>2015</td>\n",
              "      <td>4.00</td>\n",
              "      <td>5.90</td>\n",
              "      <td>60000</td>\n",
              "      <td>Petrol</td>\n",
              "      <td>Manual</td>\n",
              "      <td>0</td>\n",
              "    </tr>\n",
              "    <tr>\n",
              "      <th>298</th>\n",
              "      <td>city</td>\n",
              "      <td>2009</td>\n",
              "      <td>3.35</td>\n",
              "      <td>11.00</td>\n",
              "      <td>87934</td>\n",
              "      <td>Petrol</td>\n",
              "      <td>Manual</td>\n",
              "      <td>0</td>\n",
              "    </tr>\n",
              "    <tr>\n",
              "      <th>299</th>\n",
              "      <td>city</td>\n",
              "      <td>2017</td>\n",
              "      <td>11.50</td>\n",
              "      <td>12.50</td>\n",
              "      <td>9000</td>\n",
              "      <td>Diesel</td>\n",
              "      <td>Manual</td>\n",
              "      <td>0</td>\n",
              "    </tr>\n",
              "    <tr>\n",
              "      <th>300</th>\n",
              "      <td>brio</td>\n",
              "      <td>2016</td>\n",
              "      <td>5.30</td>\n",
              "      <td>5.90</td>\n",
              "      <td>5464</td>\n",
              "      <td>Petrol</td>\n",
              "      <td>Manual</td>\n",
              "      <td>0</td>\n",
              "    </tr>\n",
              "  </tbody>\n",
              "</table>\n",
              "<p>301 rows × 8 columns</p>\n",
              "</div>"
            ],
            "text/plain": [
              "        Nome   Ano  PrecoVenda  ...  TipoCombustivel  Trasmissao Owner\n",
              "0       ritz  2014        3.35  ...           Petrol      Manual     0\n",
              "1        sx4  2013        4.75  ...           Diesel      Manual     0\n",
              "2       ciaz  2017        7.25  ...           Petrol      Manual     0\n",
              "3    wagon r  2011        2.85  ...           Petrol      Manual     0\n",
              "4      swift  2014        4.60  ...           Diesel      Manual     0\n",
              "..       ...   ...         ...  ...              ...         ...   ...\n",
              "296     city  2016        9.50  ...           Diesel      Manual     0\n",
              "297     brio  2015        4.00  ...           Petrol      Manual     0\n",
              "298     city  2009        3.35  ...           Petrol      Manual     0\n",
              "299     city  2017       11.50  ...           Diesel      Manual     0\n",
              "300     brio  2016        5.30  ...           Petrol      Manual     0\n",
              "\n",
              "[301 rows x 8 columns]"
            ]
          },
          "metadata": {},
          "execution_count": 2
        }
      ]
    },
    {
      "cell_type": "code",
      "metadata": {
        "id": "SNQ1J6GlvzFv"
      },
      "source": [
        "X = carros_df[['KmRodado']]\n",
        "y = carros_df['PrecoVenda']"
      ],
      "execution_count": 9,
      "outputs": []
    },
    {
      "cell_type": "code",
      "metadata": {
        "colab": {
          "base_uri": "https://localhost:8080/"
        },
        "id": "tOgmgYdywDUV",
        "outputId": "baee438e-fa6e-497d-dbd3-b3d6ccaa6b93"
      },
      "source": [
        "#com sklearn\n",
        "\n",
        "lm=LinearRegression()\n",
        "lm.fit(X,y)\n",
        "\n",
        "print(lm.intercept_,' - ',lm.coef_)\n",
        "\n",
        "print(round(lm.intercept_,3),' - ', round(lm.coef_[0],3))"
      ],
      "execution_count": 18,
      "outputs": [
        {
          "output_type": "stream",
          "name": "stdout",
          "text": [
            "4.520343021594408  -  [3.81497479e-06]\n",
            "4.52  -  0.0\n"
          ]
        }
      ]
    },
    {
      "cell_type": "code",
      "metadata": {
        "colab": {
          "base_uri": "https://localhost:8080/"
        },
        "id": "BlYNi-6DxNjC",
        "outputId": "8595be5d-7608-4bca-c038-0d187b81677a"
      },
      "source": [
        "#cálculo do R2 com sklearn\n",
        "r_sq = lm.score(X, y)\n",
        "\n",
        "print('R2:', r_sq)\n",
        "print('R2 - round value:', round(r_sq, 3))"
      ],
      "execution_count": 14,
      "outputs": [
        {
          "output_type": "stream",
          "name": "stdout",
          "text": [
            "R2: 0.0008518862620293666\n",
            "R2 - round value: 0.001\n"
          ]
        }
      ]
    },
    {
      "cell_type": "code",
      "metadata": {
        "colab": {
          "base_uri": "https://localhost:8080/"
        },
        "id": "4Jilt3LGwkI4",
        "outputId": "fed7d665-5e6f-40dc-93a9-a86787959ec6"
      },
      "source": [
        "#com statsmodel\n",
        "\n",
        "X_intercept = sm.add_constant(X) \n",
        "model = sm.OLS(y, X_intercept).fit()\n",
        " \n",
        "print_model = model.summary()\n",
        "print(print_model)"
      ],
      "execution_count": 11,
      "outputs": [
        {
          "output_type": "stream",
          "name": "stdout",
          "text": [
            "                            OLS Regression Results                            \n",
            "==============================================================================\n",
            "Dep. Variable:             PrecoVenda   R-squared:                       0.001\n",
            "Model:                            OLS   Adj. R-squared:                 -0.002\n",
            "Method:                 Least Squares   F-statistic:                    0.2549\n",
            "Date:                Sun, 14 Nov 2021   Prob (F-statistic):              0.614\n",
            "Time:                        00:05:38   Log-Likelihood:                -915.86\n",
            "No. Observations:                 301   AIC:                             1836.\n",
            "Df Residuals:                     299   BIC:                             1843.\n",
            "Df Model:                           1                                         \n",
            "Covariance Type:            nonrobust                                         \n",
            "==============================================================================\n",
            "                 coef    std err          t      P>|t|      [0.025      0.975]\n",
            "------------------------------------------------------------------------------\n",
            "const          4.5203      0.405     11.163      0.000       3.723       5.317\n",
            "KmRodado    3.815e-06   7.56e-06      0.505      0.614   -1.11e-05    1.87e-05\n",
            "==============================================================================\n",
            "Omnibus:                      181.357   Durbin-Watson:                   1.061\n",
            "Prob(Omnibus):                  0.000   Jarque-Bera (JB):             1261.766\n",
            "Skew:                           2.478   Prob(JB):                    1.03e-274\n",
            "Kurtosis:                      11.720   Cond. No.                     7.40e+04\n",
            "==============================================================================\n",
            "\n",
            "Warnings:\n",
            "[1] Standard Errors assume that the covariance matrix of the errors is correctly specified.\n",
            "[2] The condition number is large, 7.4e+04. This might indicate that there are\n",
            "strong multicollinearity or other numerical problems.\n"
          ]
        }
      ]
    },
    {
      "cell_type": "markdown",
      "metadata": {
        "id": "tnltRZvHA4S0"
      },
      "source": [
        "# 2\n",
        "a) Separe o dataset em teste (5%) e treino (95%). Use o método 'train_test_split' do sklearn; configure o parâmetro random_state=10. <br>\n",
        "\n",
        "b) Treine um modelo de regressão linear múltipla no dataset de treino utilizando todas as variáveis (exceto 'Nome') para prever a 'PrecoVenda' e exiba os coeficientes do modelo.<br>\n",
        "\n",
        "c) Avalie o modelo encontrado utilizando o dataset de teste. Calcule o R2 e MSE."
      ]
    },
    {
      "cell_type": "code",
      "metadata": {
        "colab": {
          "base_uri": "https://localhost:8080/"
        },
        "id": "cTv-N6sLyR52",
        "outputId": "16c204bf-ce5b-4868-826e-4bc7c6c313c7"
      },
      "source": [
        "carros_df['TipoCombustivel'].unique()"
      ],
      "execution_count": 35,
      "outputs": [
        {
          "output_type": "execute_result",
          "data": {
            "text/plain": [
              "['Petrol', 'Diesel', 'CNG']\n",
              "Categories (3, object): ['Petrol', 'Diesel', 'CNG']"
            ]
          },
          "metadata": {},
          "execution_count": 35
        }
      ]
    },
    {
      "cell_type": "code",
      "metadata": {
        "colab": {
          "base_uri": "https://localhost:8080/"
        },
        "id": "MtlL-KXXyVef",
        "outputId": "2b6a26fe-9ca2-418c-f9c6-ddcbdd42a8b3"
      },
      "source": [
        "carros_df['Trasmissao'].unique()"
      ],
      "execution_count": 36,
      "outputs": [
        {
          "output_type": "execute_result",
          "data": {
            "text/plain": [
              "['Manual', 'Automatic']\n",
              "Categories (2, object): ['Manual', 'Automatic']"
            ]
          },
          "metadata": {},
          "execution_count": 36
        }
      ]
    },
    {
      "cell_type": "code",
      "metadata": {
        "colab": {
          "base_uri": "https://localhost:8080/",
          "height": 407
        },
        "id": "eMM8z_T8zf3W",
        "outputId": "3c2ac0b5-86aa-4e75-8834-d2bbb413758c"
      },
      "source": [
        "carrosNew_df = carros_df.copy()\n",
        "carrosNew_df"
      ],
      "execution_count": 37,
      "outputs": [
        {
          "output_type": "execute_result",
          "data": {
            "text/html": [
              "<div>\n",
              "<style scoped>\n",
              "    .dataframe tbody tr th:only-of-type {\n",
              "        vertical-align: middle;\n",
              "    }\n",
              "\n",
              "    .dataframe tbody tr th {\n",
              "        vertical-align: top;\n",
              "    }\n",
              "\n",
              "    .dataframe thead th {\n",
              "        text-align: right;\n",
              "    }\n",
              "</style>\n",
              "<table border=\"1\" class=\"dataframe\">\n",
              "  <thead>\n",
              "    <tr style=\"text-align: right;\">\n",
              "      <th></th>\n",
              "      <th>Nome</th>\n",
              "      <th>Ano</th>\n",
              "      <th>PrecoVenda</th>\n",
              "      <th>PrecoAtual</th>\n",
              "      <th>KmRodado</th>\n",
              "      <th>TipoCombustivel</th>\n",
              "      <th>Trasmissao</th>\n",
              "      <th>Owner</th>\n",
              "    </tr>\n",
              "  </thead>\n",
              "  <tbody>\n",
              "    <tr>\n",
              "      <th>0</th>\n",
              "      <td>ritz</td>\n",
              "      <td>2014</td>\n",
              "      <td>3.35</td>\n",
              "      <td>5.59</td>\n",
              "      <td>27000</td>\n",
              "      <td>Petrol</td>\n",
              "      <td>Manual</td>\n",
              "      <td>0</td>\n",
              "    </tr>\n",
              "    <tr>\n",
              "      <th>1</th>\n",
              "      <td>sx4</td>\n",
              "      <td>2013</td>\n",
              "      <td>4.75</td>\n",
              "      <td>9.54</td>\n",
              "      <td>43000</td>\n",
              "      <td>Diesel</td>\n",
              "      <td>Manual</td>\n",
              "      <td>0</td>\n",
              "    </tr>\n",
              "    <tr>\n",
              "      <th>2</th>\n",
              "      <td>ciaz</td>\n",
              "      <td>2017</td>\n",
              "      <td>7.25</td>\n",
              "      <td>9.85</td>\n",
              "      <td>6900</td>\n",
              "      <td>Petrol</td>\n",
              "      <td>Manual</td>\n",
              "      <td>0</td>\n",
              "    </tr>\n",
              "    <tr>\n",
              "      <th>3</th>\n",
              "      <td>wagon r</td>\n",
              "      <td>2011</td>\n",
              "      <td>2.85</td>\n",
              "      <td>4.15</td>\n",
              "      <td>5200</td>\n",
              "      <td>Petrol</td>\n",
              "      <td>Manual</td>\n",
              "      <td>0</td>\n",
              "    </tr>\n",
              "    <tr>\n",
              "      <th>4</th>\n",
              "      <td>swift</td>\n",
              "      <td>2014</td>\n",
              "      <td>4.60</td>\n",
              "      <td>6.87</td>\n",
              "      <td>42450</td>\n",
              "      <td>Diesel</td>\n",
              "      <td>Manual</td>\n",
              "      <td>0</td>\n",
              "    </tr>\n",
              "    <tr>\n",
              "      <th>...</th>\n",
              "      <td>...</td>\n",
              "      <td>...</td>\n",
              "      <td>...</td>\n",
              "      <td>...</td>\n",
              "      <td>...</td>\n",
              "      <td>...</td>\n",
              "      <td>...</td>\n",
              "      <td>...</td>\n",
              "    </tr>\n",
              "    <tr>\n",
              "      <th>296</th>\n",
              "      <td>city</td>\n",
              "      <td>2016</td>\n",
              "      <td>9.50</td>\n",
              "      <td>11.60</td>\n",
              "      <td>33988</td>\n",
              "      <td>Diesel</td>\n",
              "      <td>Manual</td>\n",
              "      <td>0</td>\n",
              "    </tr>\n",
              "    <tr>\n",
              "      <th>297</th>\n",
              "      <td>brio</td>\n",
              "      <td>2015</td>\n",
              "      <td>4.00</td>\n",
              "      <td>5.90</td>\n",
              "      <td>60000</td>\n",
              "      <td>Petrol</td>\n",
              "      <td>Manual</td>\n",
              "      <td>0</td>\n",
              "    </tr>\n",
              "    <tr>\n",
              "      <th>298</th>\n",
              "      <td>city</td>\n",
              "      <td>2009</td>\n",
              "      <td>3.35</td>\n",
              "      <td>11.00</td>\n",
              "      <td>87934</td>\n",
              "      <td>Petrol</td>\n",
              "      <td>Manual</td>\n",
              "      <td>0</td>\n",
              "    </tr>\n",
              "    <tr>\n",
              "      <th>299</th>\n",
              "      <td>city</td>\n",
              "      <td>2017</td>\n",
              "      <td>11.50</td>\n",
              "      <td>12.50</td>\n",
              "      <td>9000</td>\n",
              "      <td>Diesel</td>\n",
              "      <td>Manual</td>\n",
              "      <td>0</td>\n",
              "    </tr>\n",
              "    <tr>\n",
              "      <th>300</th>\n",
              "      <td>brio</td>\n",
              "      <td>2016</td>\n",
              "      <td>5.30</td>\n",
              "      <td>5.90</td>\n",
              "      <td>5464</td>\n",
              "      <td>Petrol</td>\n",
              "      <td>Manual</td>\n",
              "      <td>0</td>\n",
              "    </tr>\n",
              "  </tbody>\n",
              "</table>\n",
              "<p>301 rows × 8 columns</p>\n",
              "</div>"
            ],
            "text/plain": [
              "        Nome   Ano  PrecoVenda  ...  TipoCombustivel  Trasmissao Owner\n",
              "0       ritz  2014        3.35  ...           Petrol      Manual     0\n",
              "1        sx4  2013        4.75  ...           Diesel      Manual     0\n",
              "2       ciaz  2017        7.25  ...           Petrol      Manual     0\n",
              "3    wagon r  2011        2.85  ...           Petrol      Manual     0\n",
              "4      swift  2014        4.60  ...           Diesel      Manual     0\n",
              "..       ...   ...         ...  ...              ...         ...   ...\n",
              "296     city  2016        9.50  ...           Diesel      Manual     0\n",
              "297     brio  2015        4.00  ...           Petrol      Manual     0\n",
              "298     city  2009        3.35  ...           Petrol      Manual     0\n",
              "299     city  2017       11.50  ...           Diesel      Manual     0\n",
              "300     brio  2016        5.30  ...           Petrol      Manual     0\n",
              "\n",
              "[301 rows x 8 columns]"
            ]
          },
          "metadata": {},
          "execution_count": 37
        }
      ]
    },
    {
      "cell_type": "code",
      "metadata": {
        "id": "kOOwyFFIyz9x"
      },
      "source": [
        "carrosNew_df['Trasmissao'] = carrosNew_df['Trasmissao'].astype('category') \n",
        "carrosNew_df['TipoCombustivel'] = carrosNew_df['TipoCombustivel'].astype('category')"
      ],
      "execution_count": 38,
      "outputs": []
    },
    {
      "cell_type": "code",
      "metadata": {
        "colab": {
          "base_uri": "https://localhost:8080/",
          "height": 407
        },
        "id": "aGvrjqj8yaVi",
        "outputId": "f174100c-72f9-4fa1-d1fb-fc442419e4d4"
      },
      "source": [
        "carrosNew_df['Trasmissao'] = carrosNew_df['Trasmissao'].cat.codes\n",
        "carrosNew_df['TipoCombustivel'] = carrosNew_df['TipoCombustivel'].cat.codes\n",
        "carrosNew_df"
      ],
      "execution_count": 39,
      "outputs": [
        {
          "output_type": "execute_result",
          "data": {
            "text/html": [
              "<div>\n",
              "<style scoped>\n",
              "    .dataframe tbody tr th:only-of-type {\n",
              "        vertical-align: middle;\n",
              "    }\n",
              "\n",
              "    .dataframe tbody tr th {\n",
              "        vertical-align: top;\n",
              "    }\n",
              "\n",
              "    .dataframe thead th {\n",
              "        text-align: right;\n",
              "    }\n",
              "</style>\n",
              "<table border=\"1\" class=\"dataframe\">\n",
              "  <thead>\n",
              "    <tr style=\"text-align: right;\">\n",
              "      <th></th>\n",
              "      <th>Nome</th>\n",
              "      <th>Ano</th>\n",
              "      <th>PrecoVenda</th>\n",
              "      <th>PrecoAtual</th>\n",
              "      <th>KmRodado</th>\n",
              "      <th>TipoCombustivel</th>\n",
              "      <th>Trasmissao</th>\n",
              "      <th>Owner</th>\n",
              "    </tr>\n",
              "  </thead>\n",
              "  <tbody>\n",
              "    <tr>\n",
              "      <th>0</th>\n",
              "      <td>ritz</td>\n",
              "      <td>2014</td>\n",
              "      <td>3.35</td>\n",
              "      <td>5.59</td>\n",
              "      <td>27000</td>\n",
              "      <td>2</td>\n",
              "      <td>1</td>\n",
              "      <td>0</td>\n",
              "    </tr>\n",
              "    <tr>\n",
              "      <th>1</th>\n",
              "      <td>sx4</td>\n",
              "      <td>2013</td>\n",
              "      <td>4.75</td>\n",
              "      <td>9.54</td>\n",
              "      <td>43000</td>\n",
              "      <td>1</td>\n",
              "      <td>1</td>\n",
              "      <td>0</td>\n",
              "    </tr>\n",
              "    <tr>\n",
              "      <th>2</th>\n",
              "      <td>ciaz</td>\n",
              "      <td>2017</td>\n",
              "      <td>7.25</td>\n",
              "      <td>9.85</td>\n",
              "      <td>6900</td>\n",
              "      <td>2</td>\n",
              "      <td>1</td>\n",
              "      <td>0</td>\n",
              "    </tr>\n",
              "    <tr>\n",
              "      <th>3</th>\n",
              "      <td>wagon r</td>\n",
              "      <td>2011</td>\n",
              "      <td>2.85</td>\n",
              "      <td>4.15</td>\n",
              "      <td>5200</td>\n",
              "      <td>2</td>\n",
              "      <td>1</td>\n",
              "      <td>0</td>\n",
              "    </tr>\n",
              "    <tr>\n",
              "      <th>4</th>\n",
              "      <td>swift</td>\n",
              "      <td>2014</td>\n",
              "      <td>4.60</td>\n",
              "      <td>6.87</td>\n",
              "      <td>42450</td>\n",
              "      <td>1</td>\n",
              "      <td>1</td>\n",
              "      <td>0</td>\n",
              "    </tr>\n",
              "    <tr>\n",
              "      <th>...</th>\n",
              "      <td>...</td>\n",
              "      <td>...</td>\n",
              "      <td>...</td>\n",
              "      <td>...</td>\n",
              "      <td>...</td>\n",
              "      <td>...</td>\n",
              "      <td>...</td>\n",
              "      <td>...</td>\n",
              "    </tr>\n",
              "    <tr>\n",
              "      <th>296</th>\n",
              "      <td>city</td>\n",
              "      <td>2016</td>\n",
              "      <td>9.50</td>\n",
              "      <td>11.60</td>\n",
              "      <td>33988</td>\n",
              "      <td>1</td>\n",
              "      <td>1</td>\n",
              "      <td>0</td>\n",
              "    </tr>\n",
              "    <tr>\n",
              "      <th>297</th>\n",
              "      <td>brio</td>\n",
              "      <td>2015</td>\n",
              "      <td>4.00</td>\n",
              "      <td>5.90</td>\n",
              "      <td>60000</td>\n",
              "      <td>2</td>\n",
              "      <td>1</td>\n",
              "      <td>0</td>\n",
              "    </tr>\n",
              "    <tr>\n",
              "      <th>298</th>\n",
              "      <td>city</td>\n",
              "      <td>2009</td>\n",
              "      <td>3.35</td>\n",
              "      <td>11.00</td>\n",
              "      <td>87934</td>\n",
              "      <td>2</td>\n",
              "      <td>1</td>\n",
              "      <td>0</td>\n",
              "    </tr>\n",
              "    <tr>\n",
              "      <th>299</th>\n",
              "      <td>city</td>\n",
              "      <td>2017</td>\n",
              "      <td>11.50</td>\n",
              "      <td>12.50</td>\n",
              "      <td>9000</td>\n",
              "      <td>1</td>\n",
              "      <td>1</td>\n",
              "      <td>0</td>\n",
              "    </tr>\n",
              "    <tr>\n",
              "      <th>300</th>\n",
              "      <td>brio</td>\n",
              "      <td>2016</td>\n",
              "      <td>5.30</td>\n",
              "      <td>5.90</td>\n",
              "      <td>5464</td>\n",
              "      <td>2</td>\n",
              "      <td>1</td>\n",
              "      <td>0</td>\n",
              "    </tr>\n",
              "  </tbody>\n",
              "</table>\n",
              "<p>301 rows × 8 columns</p>\n",
              "</div>"
            ],
            "text/plain": [
              "        Nome   Ano  PrecoVenda  ...  TipoCombustivel  Trasmissao  Owner\n",
              "0       ritz  2014        3.35  ...                2           1      0\n",
              "1        sx4  2013        4.75  ...                1           1      0\n",
              "2       ciaz  2017        7.25  ...                2           1      0\n",
              "3    wagon r  2011        2.85  ...                2           1      0\n",
              "4      swift  2014        4.60  ...                1           1      0\n",
              "..       ...   ...         ...  ...              ...         ...    ...\n",
              "296     city  2016        9.50  ...                1           1      0\n",
              "297     brio  2015        4.00  ...                2           1      0\n",
              "298     city  2009        3.35  ...                2           1      0\n",
              "299     city  2017       11.50  ...                1           1      0\n",
              "300     brio  2016        5.30  ...                2           1      0\n",
              "\n",
              "[301 rows x 8 columns]"
            ]
          },
          "metadata": {},
          "execution_count": 39
        }
      ]
    },
    {
      "cell_type": "code",
      "metadata": {
        "colab": {
          "base_uri": "https://localhost:8080/",
          "height": 407
        },
        "id": "PF7lDPvSzxlu",
        "outputId": "2d3f834d-1091-4dc0-fa09-c18cd13ef919"
      },
      "source": [
        "carrosNew_df.drop('Nome', axis='columns', inplace=True)\n",
        "carrosNew_df"
      ],
      "execution_count": 40,
      "outputs": [
        {
          "output_type": "execute_result",
          "data": {
            "text/html": [
              "<div>\n",
              "<style scoped>\n",
              "    .dataframe tbody tr th:only-of-type {\n",
              "        vertical-align: middle;\n",
              "    }\n",
              "\n",
              "    .dataframe tbody tr th {\n",
              "        vertical-align: top;\n",
              "    }\n",
              "\n",
              "    .dataframe thead th {\n",
              "        text-align: right;\n",
              "    }\n",
              "</style>\n",
              "<table border=\"1\" class=\"dataframe\">\n",
              "  <thead>\n",
              "    <tr style=\"text-align: right;\">\n",
              "      <th></th>\n",
              "      <th>Ano</th>\n",
              "      <th>PrecoVenda</th>\n",
              "      <th>PrecoAtual</th>\n",
              "      <th>KmRodado</th>\n",
              "      <th>TipoCombustivel</th>\n",
              "      <th>Trasmissao</th>\n",
              "      <th>Owner</th>\n",
              "    </tr>\n",
              "  </thead>\n",
              "  <tbody>\n",
              "    <tr>\n",
              "      <th>0</th>\n",
              "      <td>2014</td>\n",
              "      <td>3.35</td>\n",
              "      <td>5.59</td>\n",
              "      <td>27000</td>\n",
              "      <td>2</td>\n",
              "      <td>1</td>\n",
              "      <td>0</td>\n",
              "    </tr>\n",
              "    <tr>\n",
              "      <th>1</th>\n",
              "      <td>2013</td>\n",
              "      <td>4.75</td>\n",
              "      <td>9.54</td>\n",
              "      <td>43000</td>\n",
              "      <td>1</td>\n",
              "      <td>1</td>\n",
              "      <td>0</td>\n",
              "    </tr>\n",
              "    <tr>\n",
              "      <th>2</th>\n",
              "      <td>2017</td>\n",
              "      <td>7.25</td>\n",
              "      <td>9.85</td>\n",
              "      <td>6900</td>\n",
              "      <td>2</td>\n",
              "      <td>1</td>\n",
              "      <td>0</td>\n",
              "    </tr>\n",
              "    <tr>\n",
              "      <th>3</th>\n",
              "      <td>2011</td>\n",
              "      <td>2.85</td>\n",
              "      <td>4.15</td>\n",
              "      <td>5200</td>\n",
              "      <td>2</td>\n",
              "      <td>1</td>\n",
              "      <td>0</td>\n",
              "    </tr>\n",
              "    <tr>\n",
              "      <th>4</th>\n",
              "      <td>2014</td>\n",
              "      <td>4.60</td>\n",
              "      <td>6.87</td>\n",
              "      <td>42450</td>\n",
              "      <td>1</td>\n",
              "      <td>1</td>\n",
              "      <td>0</td>\n",
              "    </tr>\n",
              "    <tr>\n",
              "      <th>...</th>\n",
              "      <td>...</td>\n",
              "      <td>...</td>\n",
              "      <td>...</td>\n",
              "      <td>...</td>\n",
              "      <td>...</td>\n",
              "      <td>...</td>\n",
              "      <td>...</td>\n",
              "    </tr>\n",
              "    <tr>\n",
              "      <th>296</th>\n",
              "      <td>2016</td>\n",
              "      <td>9.50</td>\n",
              "      <td>11.60</td>\n",
              "      <td>33988</td>\n",
              "      <td>1</td>\n",
              "      <td>1</td>\n",
              "      <td>0</td>\n",
              "    </tr>\n",
              "    <tr>\n",
              "      <th>297</th>\n",
              "      <td>2015</td>\n",
              "      <td>4.00</td>\n",
              "      <td>5.90</td>\n",
              "      <td>60000</td>\n",
              "      <td>2</td>\n",
              "      <td>1</td>\n",
              "      <td>0</td>\n",
              "    </tr>\n",
              "    <tr>\n",
              "      <th>298</th>\n",
              "      <td>2009</td>\n",
              "      <td>3.35</td>\n",
              "      <td>11.00</td>\n",
              "      <td>87934</td>\n",
              "      <td>2</td>\n",
              "      <td>1</td>\n",
              "      <td>0</td>\n",
              "    </tr>\n",
              "    <tr>\n",
              "      <th>299</th>\n",
              "      <td>2017</td>\n",
              "      <td>11.50</td>\n",
              "      <td>12.50</td>\n",
              "      <td>9000</td>\n",
              "      <td>1</td>\n",
              "      <td>1</td>\n",
              "      <td>0</td>\n",
              "    </tr>\n",
              "    <tr>\n",
              "      <th>300</th>\n",
              "      <td>2016</td>\n",
              "      <td>5.30</td>\n",
              "      <td>5.90</td>\n",
              "      <td>5464</td>\n",
              "      <td>2</td>\n",
              "      <td>1</td>\n",
              "      <td>0</td>\n",
              "    </tr>\n",
              "  </tbody>\n",
              "</table>\n",
              "<p>301 rows × 7 columns</p>\n",
              "</div>"
            ],
            "text/plain": [
              "      Ano  PrecoVenda  PrecoAtual  KmRodado  TipoCombustivel  Trasmissao  Owner\n",
              "0    2014        3.35        5.59     27000                2           1      0\n",
              "1    2013        4.75        9.54     43000                1           1      0\n",
              "2    2017        7.25        9.85      6900                2           1      0\n",
              "3    2011        2.85        4.15      5200                2           1      0\n",
              "4    2014        4.60        6.87     42450                1           1      0\n",
              "..    ...         ...         ...       ...              ...         ...    ...\n",
              "296  2016        9.50       11.60     33988                1           1      0\n",
              "297  2015        4.00        5.90     60000                2           1      0\n",
              "298  2009        3.35       11.00     87934                2           1      0\n",
              "299  2017       11.50       12.50      9000                1           1      0\n",
              "300  2016        5.30        5.90      5464                2           1      0\n",
              "\n",
              "[301 rows x 7 columns]"
            ]
          },
          "metadata": {},
          "execution_count": 40
        }
      ]
    },
    {
      "cell_type": "code",
      "metadata": {
        "id": "5kVdkTPIA_lr",
        "colab": {
          "base_uri": "https://localhost:8080/"
        },
        "outputId": "c9638ae3-b01b-45b7-8a1e-16d1ec8c768b"
      },
      "source": [
        "carrosNew_df.columns"
      ],
      "execution_count": 41,
      "outputs": [
        {
          "output_type": "execute_result",
          "data": {
            "text/plain": [
              "Index(['Ano', 'PrecoVenda', 'PrecoAtual', 'KmRodado', 'TipoCombustivel',\n",
              "       'Trasmissao', 'Owner'],\n",
              "      dtype='object')"
            ]
          },
          "metadata": {},
          "execution_count": 41
        }
      ]
    },
    {
      "cell_type": "code",
      "metadata": {
        "id": "ndZ_SZ8D0Z2l"
      },
      "source": [
        "X = carrosNew_df[['Ano', 'PrecoAtual', 'KmRodado', 'TipoCombustivel',\n",
        "       'Trasmissao', 'Owner']]\n",
        "y = carrosNew_df['PrecoVenda']"
      ],
      "execution_count": 42,
      "outputs": []
    },
    {
      "cell_type": "code",
      "metadata": {
        "colab": {
          "base_uri": "https://localhost:8080/",
          "height": 228
        },
        "id": "-mHCF9oW37vx",
        "outputId": "46d14fb7-2808-451f-a669-591853286a28"
      },
      "source": [
        "X.corr()"
      ],
      "execution_count": 53,
      "outputs": [
        {
          "output_type": "execute_result",
          "data": {
            "text/html": [
              "<div>\n",
              "<style scoped>\n",
              "    .dataframe tbody tr th:only-of-type {\n",
              "        vertical-align: middle;\n",
              "    }\n",
              "\n",
              "    .dataframe tbody tr th {\n",
              "        vertical-align: top;\n",
              "    }\n",
              "\n",
              "    .dataframe thead th {\n",
              "        text-align: right;\n",
              "    }\n",
              "</style>\n",
              "<table border=\"1\" class=\"dataframe\">\n",
              "  <thead>\n",
              "    <tr style=\"text-align: right;\">\n",
              "      <th></th>\n",
              "      <th>Ano</th>\n",
              "      <th>PrecoAtual</th>\n",
              "      <th>KmRodado</th>\n",
              "      <th>TipoCombustivel</th>\n",
              "      <th>Trasmissao</th>\n",
              "      <th>Owner</th>\n",
              "    </tr>\n",
              "  </thead>\n",
              "  <tbody>\n",
              "    <tr>\n",
              "      <th>Ano</th>\n",
              "      <td>1.000000</td>\n",
              "      <td>-0.092304</td>\n",
              "      <td>-0.524342</td>\n",
              "      <td>-0.053643</td>\n",
              "      <td>0.000394</td>\n",
              "      <td>-0.182104</td>\n",
              "    </tr>\n",
              "    <tr>\n",
              "      <th>PrecoAtual</th>\n",
              "      <td>-0.092304</td>\n",
              "      <td>1.000000</td>\n",
              "      <td>-0.007744</td>\n",
              "      <td>0.037515</td>\n",
              "      <td>0.029050</td>\n",
              "      <td>-0.024398</td>\n",
              "    </tr>\n",
              "    <tr>\n",
              "      <th>KmRodado</th>\n",
              "      <td>-0.524342</td>\n",
              "      <td>-0.007744</td>\n",
              "      <td>1.000000</td>\n",
              "      <td>-0.166801</td>\n",
              "      <td>-0.162510</td>\n",
              "      <td>0.089216</td>\n",
              "    </tr>\n",
              "    <tr>\n",
              "      <th>TipoCombustivel</th>\n",
              "      <td>-0.053643</td>\n",
              "      <td>0.037515</td>\n",
              "      <td>-0.166801</td>\n",
              "      <td>1.000000</td>\n",
              "      <td>0.080466</td>\n",
              "      <td>0.055705</td>\n",
              "    </tr>\n",
              "    <tr>\n",
              "      <th>Trasmissao</th>\n",
              "      <td>0.000394</td>\n",
              "      <td>0.029050</td>\n",
              "      <td>-0.162510</td>\n",
              "      <td>0.080466</td>\n",
              "      <td>1.000000</td>\n",
              "      <td>-0.050316</td>\n",
              "    </tr>\n",
              "    <tr>\n",
              "      <th>Owner</th>\n",
              "      <td>-0.182104</td>\n",
              "      <td>-0.024398</td>\n",
              "      <td>0.089216</td>\n",
              "      <td>0.055705</td>\n",
              "      <td>-0.050316</td>\n",
              "      <td>1.000000</td>\n",
              "    </tr>\n",
              "  </tbody>\n",
              "</table>\n",
              "</div>"
            ],
            "text/plain": [
              "                      Ano  PrecoAtual  ...  Trasmissao     Owner\n",
              "Ano              1.000000   -0.092304  ...    0.000394 -0.182104\n",
              "PrecoAtual      -0.092304    1.000000  ...    0.029050 -0.024398\n",
              "KmRodado        -0.524342   -0.007744  ...   -0.162510  0.089216\n",
              "TipoCombustivel -0.053643    0.037515  ...    0.080466  0.055705\n",
              "Trasmissao       0.000394    0.029050  ...    1.000000 -0.050316\n",
              "Owner           -0.182104   -0.024398  ...   -0.050316  1.000000\n",
              "\n",
              "[6 rows x 6 columns]"
            ]
          },
          "metadata": {},
          "execution_count": 53
        }
      ]
    },
    {
      "cell_type": "code",
      "metadata": {
        "colab": {
          "base_uri": "https://localhost:8080/"
        },
        "id": "SpQO3YzJ1AYX",
        "outputId": "f92085da-104b-41b0-c6de-c85872be7434"
      },
      "source": [
        "#Utilizando o sklearn\n",
        "\n",
        "lm=LinearRegression()\n",
        "lm.fit(X,y)\n",
        "\n",
        "print(lm.intercept_,lm.coef_)"
      ],
      "execution_count": 43,
      "outputs": [
        {
          "output_type": "stream",
          "name": "stdout",
          "text": [
            "-719.9206975127279 [ 3.66909966e-01 -2.34722687e-04  1.40878835e-06 -5.57940865e+00\n",
            " -4.93018022e+00 -8.60647022e-01]\n"
          ]
        }
      ]
    },
    {
      "cell_type": "code",
      "metadata": {
        "colab": {
          "base_uri": "https://localhost:8080/"
        },
        "id": "7cfZz8341HHc",
        "outputId": "0012d272-ee9c-4a89-8777-ec6c5fcdb0e8"
      },
      "source": [
        "#cálculo de R2 com sklearn\n",
        "r_sq = lm.score(X, y)\n",
        "\n",
        "print('R2:', r_sq)\n",
        "print('R2 - round value:', round(r_sq, 3))"
      ],
      "execution_count": 44,
      "outputs": [
        {
          "output_type": "stream",
          "name": "stdout",
          "text": [
            "R2: 0.4127820381997316\n",
            "R2 - round value: 0.413\n"
          ]
        }
      ]
    },
    {
      "cell_type": "code",
      "metadata": {
        "colab": {
          "base_uri": "https://localhost:8080/"
        },
        "id": "VHhZjMZp1RbC",
        "outputId": "8ef0b584-bed6-48cd-f169-279a0861df0b"
      },
      "source": [
        "#Usando o statsmodels\n",
        "#Essa linha adiciona o intercept (isso vai representar o valor das vendas quando todos os investimentos são 0)\n",
        "X_intercept = sm.add_constant(X) \n",
        "model = sm.OLS(y, X_intercept).fit()\n",
        " \n",
        "print_model = model.summary()\n",
        "print(print_model)"
      ],
      "execution_count": 45,
      "outputs": [
        {
          "output_type": "stream",
          "name": "stdout",
          "text": [
            "                            OLS Regression Results                            \n",
            "==============================================================================\n",
            "Dep. Variable:             PrecoVenda   R-squared:                       0.413\n",
            "Model:                            OLS   Adj. R-squared:                  0.401\n",
            "Method:                 Least Squares   F-statistic:                     34.44\n",
            "Date:                Sun, 14 Nov 2021   Prob (F-statistic):           1.98e-31\n",
            "Time:                        00:25:27   Log-Likelihood:                -835.86\n",
            "No. Observations:                 301   AIC:                             1686.\n",
            "Df Residuals:                     294   BIC:                             1712.\n",
            "Df Model:                           6                                         \n",
            "Covariance Type:            nonrobust                                         \n",
            "===================================================================================\n",
            "                      coef    std err          t      P>|t|      [0.025      0.975]\n",
            "-----------------------------------------------------------------------------------\n",
            "const            -719.9207    193.162     -3.727      0.000   -1100.076    -339.766\n",
            "Ano                 0.3669      0.096      3.832      0.000       0.178       0.555\n",
            "PrecoAtual         -0.0002      0.002     -0.114      0.909      -0.004       0.004\n",
            "KmRodado         1.409e-06   7.17e-06      0.196      0.844   -1.27e-05    1.55e-05\n",
            "TipoCombustivel    -5.5794      0.550    -10.144      0.000      -6.662      -4.497\n",
            "Trasmissao         -4.9302      0.682     -7.227      0.000      -6.273      -3.588\n",
            "Owner              -0.8606      0.935     -0.920      0.358      -2.701       0.980\n",
            "==============================================================================\n",
            "Omnibus:                      146.867   Durbin-Watson:                   1.301\n",
            "Prob(Omnibus):                  0.000   Jarque-Bera (JB):             1395.252\n",
            "Skew:                           1.756   Prob(JB):                    1.06e-303\n",
            "Kurtosis:                      12.946   Cond. No.                     4.57e+07\n",
            "==============================================================================\n",
            "\n",
            "Warnings:\n",
            "[1] Standard Errors assume that the covariance matrix of the errors is correctly specified.\n",
            "[2] The condition number is large, 4.57e+07. This might indicate that there are\n",
            "strong multicollinearity or other numerical problems.\n"
          ]
        }
      ]
    },
    {
      "cell_type": "code",
      "metadata": {
        "id": "rQYFGX2B1aiM"
      },
      "source": [
        "#utilizando o train_test_split\n",
        "X_train, X_test, y_train, y_test = train_test_split(X, y, test_size=0.05, random_state=42)"
      ],
      "execution_count": 47,
      "outputs": []
    },
    {
      "cell_type": "code",
      "metadata": {
        "id": "J8Jc0d7d2gns"
      },
      "source": [
        "# Cria um objeto de regressão linear \n",
        "regr = LinearRegression()\n",
        "\n",
        "# Treina o modelo usando o conjunto de treino\n",
        "regr.fit(X_train, y_train)\n",
        "\n",
        "# Faz predições usando o conjunto de teste \n",
        "y_pred = regr.predict(X_test)\n"
      ],
      "execution_count": 48,
      "outputs": []
    },
    {
      "cell_type": "code",
      "metadata": {
        "colab": {
          "base_uri": "https://localhost:8080/"
        },
        "id": "Hx27UhDo2rMK",
        "outputId": "2a761f46-c211-4d97-96aa-5d3fbefa8795"
      },
      "source": [
        "# Coeficientes\n",
        "print(\"Coeficientes:\", regr.coef_)\n",
        "\n",
        "# Mean squared error (MSE)\n",
        "print(\"Mean squared error: %.2f\" % mean_squared_error(y_test, y_pred))\n",
        "\n",
        "# O coeficiente de determinação (ou R2)\n",
        "print(\"R2 (ou coeficiente de determinação): %.2f\" % r2_score(y_test, y_pred))"
      ],
      "execution_count": 49,
      "outputs": [
        {
          "output_type": "stream",
          "name": "stdout",
          "text": [
            "Coeficientes: [ 3.76680482e-01 -3.61300597e-04  1.47155395e-07 -5.64018314e+00\n",
            " -5.37847804e+00 -8.69143981e-01]\n",
            "Mean squared error: 16.90\n",
            "R2 (ou coeficiente de determinação): -0.41\n"
          ]
        }
      ]
    },
    {
      "cell_type": "code",
      "metadata": {
        "colab": {
          "base_uri": "https://localhost:8080/",
          "height": 280
        },
        "id": "VJZ37qWk2zCV",
        "outputId": "f85e30dd-17fd-4f0d-b1f9-ce56f20fa7fa"
      },
      "source": [
        "#scatter plot\n",
        "plt.scatter(y_test,y_pred)\n",
        "plt.xlabel('y_test')\n",
        "plt.ylabel('y_pred')\n",
        "plt.show()"
      ],
      "execution_count": 52,
      "outputs": [
        {
          "output_type": "display_data",
          "data": {
            "image/png": "[encoded data removed]",
            "text/plain": [
              "<Figure size 432x288 with 1 Axes>"
            ]
          },
          "metadata": {
            "needs_background": "light"
          }
        }
      ]
    },
    {
      "cell_type": "markdown",
      "metadata": {
        "id": "M5_yLDM444mC"
      },
      "source": [
        "Conclusão:\n",
        "\n",
        "\n",
        "O modelo não conseguiu predizer de maneira satisfatória os dados de teste"
      ]
    },
    {
      "cell_type": "code",
      "metadata": {
        "id": "0OJl7X2h4-VN"
      },
      "source": [
        ""
      ],
      "execution_count": null,
      "outputs": []
    }
  ]
}