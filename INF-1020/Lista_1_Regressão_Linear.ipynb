{
  "nbformat": 4,
  "nbformat_minor": 0,
  "metadata": {
    "colab": {
      "name": "Lista_1-Regressão_Linear.ipynb",
      "provenance": []
    },
    "kernelspec": {
      "name": "python3",
      "display_name": "Python 3"
    },
    "language_info": {
      "name": "python"
    }
  },
  "cells": [
    {
      "cell_type": "code",
      "metadata": {
        "id": "YMrBl3M7Uca_"
      },
      "source": [
        "import pandas as pd\n",
        "import numpy as np\n",
        "import matplotlib.pyplot as plt"
      ],
      "execution_count": 1,
      "outputs": []
    },
    {
      "cell_type": "markdown",
      "metadata": {
        "id": "u7aEYI_Xosmh"
      },
      "source": [
        "#Exercício 1"
      ]
    },
    {
      "cell_type": "code",
      "metadata": {
        "colab": {
          "base_uri": "https://localhost:8080/",
          "height": 195
        },
        "id": "TZEOYHUxorw3",
        "outputId": "a9cf4ad7-6ee1-41da-9722-3f2bf6cc23b4"
      },
      "source": [
        "numpy_array = np.array([[3, 1.19], [5, 1.73], [7, 2.53], [9, 2.89], [10, 3.26]])\n",
        "\n",
        "df = pd.DataFrame(numpy_array, columns=[\"x\", \"y\"])\n",
        "df"
      ],
      "execution_count": 2,
      "outputs": [
        {
          "output_type": "execute_result",
          "data": {
            "text/html": [
              "<div>\n",
              "<style scoped>\n",
              "    .dataframe tbody tr th:only-of-type {\n",
              "        vertical-align: middle;\n",
              "    }\n",
              "\n",
              "    .dataframe tbody tr th {\n",
              "        vertical-align: top;\n",
              "    }\n",
              "\n",
              "    .dataframe thead th {\n",
              "        text-align: right;\n",
              "    }\n",
              "</style>\n",
              "<table border=\"1\" class=\"dataframe\">\n",
              "  <thead>\n",
              "    <tr style=\"text-align: right;\">\n",
              "      <th></th>\n",
              "      <th>x</th>\n",
              "      <th>y</th>\n",
              "    </tr>\n",
              "  </thead>\n",
              "  <tbody>\n",
              "    <tr>\n",
              "      <th>0</th>\n",
              "      <td>3.0</td>\n",
              "      <td>1.19</td>\n",
              "    </tr>\n",
              "    <tr>\n",
              "      <th>1</th>\n",
              "      <td>5.0</td>\n",
              "      <td>1.73</td>\n",
              "    </tr>\n",
              "    <tr>\n",
              "      <th>2</th>\n",
              "      <td>7.0</td>\n",
              "      <td>2.53</td>\n",
              "    </tr>\n",
              "    <tr>\n",
              "      <th>3</th>\n",
              "      <td>9.0</td>\n",
              "      <td>2.89</td>\n",
              "    </tr>\n",
              "    <tr>\n",
              "      <th>4</th>\n",
              "      <td>10.0</td>\n",
              "      <td>3.26</td>\n",
              "    </tr>\n",
              "  </tbody>\n",
              "</table>\n",
              "</div>"
            ],
            "text/plain": [
              "      x     y\n",
              "0   3.0  1.19\n",
              "1   5.0  1.73\n",
              "2   7.0  2.53\n",
              "3   9.0  2.89\n",
              "4  10.0  3.26"
            ]
          },
          "metadata": {},
          "execution_count": 2
        }
      ]
    },
    {
      "cell_type": "code",
      "metadata": {
        "colab": {
          "base_uri": "https://localhost:8080/"
        },
        "id": "QzezfpRRqcoW",
        "outputId": "76321c4b-f22f-4639-93b7-6ecaa5ea6abd"
      },
      "source": [
        "X = df['x']\n",
        "y = df['y']\n",
        "print(X.shape, y.shape)"
      ],
      "execution_count": 6,
      "outputs": [
        {
          "output_type": "stream",
          "name": "stdout",
          "text": [
            "(5,) (5,)\n"
          ]
        }
      ]
    },
    {
      "cell_type": "code",
      "metadata": {
        "colab": {
          "base_uri": "https://localhost:8080/",
          "height": 479
        },
        "id": "OqRztNFdqkoW",
        "outputId": "eba78277-63c3-400a-fb93-dbe437f95f4b"
      },
      "source": [
        "#Usando o statsmodels\n",
        "import statsmodels.api as sm\n",
        "\n",
        "x = sm.add_constant(X) \n",
        "model = sm.OLS(y, x).fit()\n",
        "model.summary()"
      ],
      "execution_count": 5,
      "outputs": [
        {
          "output_type": "stream",
          "name": "stderr",
          "text": [
            "/usr/local/lib/python3.7/dist-packages/statsmodels/stats/stattools.py:71: ValueWarning: omni_normtest is not valid with less than 8 observations; 5 samples were given.\n",
            "  \"samples were given.\" % int(n), ValueWarning)\n"
          ]
        },
        {
          "output_type": "execute_result",
          "data": {
            "text/html": [
              "<table class=\"simpletable\">\n",
              "<caption>OLS Regression Results</caption>\n",
              "<tr>\n",
              "  <th>Dep. Variable:</th>            <td>y</td>        <th>  R-squared:         </th> <td>   0.989</td>\n",
              "</tr>\n",
              "<tr>\n",
              "  <th>Model:</th>                   <td>OLS</td>       <th>  Adj. R-squared:    </th> <td>   0.985</td>\n",
              "</tr>\n",
              "<tr>\n",
              "  <th>Method:</th>             <td>Least Squares</td>  <th>  F-statistic:       </th> <td>   261.7</td>\n",
              "</tr>\n",
              "<tr>\n",
              "  <th>Date:</th>             <td>Tue, 09 Nov 2021</td> <th>  Prob (F-statistic):</th> <td>0.000514</td>\n",
              "</tr>\n",
              "<tr>\n",
              "  <th>Time:</th>                 <td>12:29:00</td>     <th>  Log-Likelihood:    </th> <td>  5.4866</td>\n",
              "</tr>\n",
              "<tr>\n",
              "  <th>No. Observations:</th>      <td>     5</td>      <th>  AIC:               </th> <td>  -6.973</td>\n",
              "</tr>\n",
              "<tr>\n",
              "  <th>Df Residuals:</th>          <td>     3</td>      <th>  BIC:               </th> <td>  -7.754</td>\n",
              "</tr>\n",
              "<tr>\n",
              "  <th>Df Model:</th>              <td>     1</td>      <th>                     </th>     <td> </td>   \n",
              "</tr>\n",
              "<tr>\n",
              "  <th>Covariance Type:</th>      <td>nonrobust</td>    <th>                     </th>     <td> </td>   \n",
              "</tr>\n",
              "</table>\n",
              "<table class=\"simpletable\">\n",
              "<tr>\n",
              "    <td></td>       <th>coef</th>     <th>std err</th>      <th>t</th>      <th>P>|t|</th>  <th>[0.025</th>    <th>0.975]</th>  \n",
              "</tr>\n",
              "<tr>\n",
              "  <th>const</th> <td>    0.3173</td> <td>    0.132</td> <td>    2.399</td> <td> 0.096</td> <td>   -0.104</td> <td>    0.738</td>\n",
              "</tr>\n",
              "<tr>\n",
              "  <th>x</th>     <td>    0.2945</td> <td>    0.018</td> <td>   16.177</td> <td> 0.001</td> <td>    0.237</td> <td>    0.352</td>\n",
              "</tr>\n",
              "</table>\n",
              "<table class=\"simpletable\">\n",
              "<tr>\n",
              "  <th>Omnibus:</th>       <td>   nan</td> <th>  Durbin-Watson:     </th> <td>   3.222</td>\n",
              "</tr>\n",
              "<tr>\n",
              "  <th>Prob(Omnibus):</th> <td>   nan</td> <th>  Jarque-Bera (JB):  </th> <td>   0.936</td>\n",
              "</tr>\n",
              "<tr>\n",
              "  <th>Skew:</th>          <td> 1.048</td> <th>  Prob(JB):          </th> <td>   0.626</td>\n",
              "</tr>\n",
              "<tr>\n",
              "  <th>Kurtosis:</th>      <td> 2.684</td> <th>  Cond. No.          </th> <td>    21.0</td>\n",
              "</tr>\n",
              "</table><br/><br/>Warnings:<br/>[1] Standard Errors assume that the covariance matrix of the errors is correctly specified."
            ],
            "text/plain": [
              "<class 'statsmodels.iolib.summary.Summary'>\n",
              "\"\"\"\n",
              "                            OLS Regression Results                            \n",
              "==============================================================================\n",
              "Dep. Variable:                      y   R-squared:                       0.989\n",
              "Model:                            OLS   Adj. R-squared:                  0.985\n",
              "Method:                 Least Squares   F-statistic:                     261.7\n",
              "Date:                Tue, 09 Nov 2021   Prob (F-statistic):           0.000514\n",
              "Time:                        12:29:00   Log-Likelihood:                 5.4866\n",
              "No. Observations:                   5   AIC:                            -6.973\n",
              "Df Residuals:                       3   BIC:                            -7.754\n",
              "Df Model:                           1                                         \n",
              "Covariance Type:            nonrobust                                         \n",
              "==============================================================================\n",
              "                 coef    std err          t      P>|t|      [0.025      0.975]\n",
              "------------------------------------------------------------------------------\n",
              "const          0.3173      0.132      2.399      0.096      -0.104       0.738\n",
              "x              0.2945      0.018     16.177      0.001       0.237       0.352\n",
              "==============================================================================\n",
              "Omnibus:                          nan   Durbin-Watson:                   3.222\n",
              "Prob(Omnibus):                    nan   Jarque-Bera (JB):                0.936\n",
              "Skew:                           1.048   Prob(JB):                        0.626\n",
              "Kurtosis:                       2.684   Cond. No.                         21.0\n",
              "==============================================================================\n",
              "\n",
              "Warnings:\n",
              "[1] Standard Errors assume that the covariance matrix of the errors is correctly specified.\n",
              "\"\"\""
            ]
          },
          "metadata": {},
          "execution_count": 5
        }
      ]
    },
    {
      "cell_type": "code",
      "metadata": {
        "colab": {
          "base_uri": "https://localhost:8080/"
        },
        "id": "sYQDKgAnrOWU",
        "outputId": "b642adde-5560-46df-c592-699851c8ea17"
      },
      "source": [
        "#com sklearn\n",
        "from sklearn import linear_model\n",
        "\n",
        "regrLin = linear_model.LinearRegression()\n",
        "\n",
        "X = np.array(X).reshape((-1, 1))\n",
        "\n",
        "regrLin.fit(X, y)\n",
        "\n",
        "r_sq = regrLin.score(X, y)\n",
        "\n",
        "print('R2:', round(r_sq, 3))\n",
        "\n",
        "print('Intercept:', round(regrLin.intercept_,3))\n",
        "\n",
        "print('Slope:', round(regrLin.coef_[0], 3)) "
      ],
      "execution_count": 14,
      "outputs": [
        {
          "output_type": "stream",
          "name": "stdout",
          "text": [
            "R2: 0.989\n",
            "Intercept: 0.317\n",
            "Slope: 0.295\n"
          ]
        }
      ]
    },
    {
      "cell_type": "code",
      "metadata": {
        "colab": {
          "base_uri": "https://localhost:8080/"
        },
        "id": "hMoyakzxtAaU",
        "outputId": "f5a63b45-207e-4626-ba52-aadc62b63e7b"
      },
      "source": [
        "y_prev = []\n",
        "for i in range(len(X)):\n",
        "  val = regrLin.intercept_ + X[i]*regrLin.coef_[0]\n",
        "  y_prev.append(val)\n",
        "y_pred = np.array(y_prev)\n",
        "y_pred"
      ],
      "execution_count": 18,
      "outputs": [
        {
          "output_type": "execute_result",
          "data": {
            "text/plain": [
              "array([[1.20085366],\n",
              "       [1.78987805],\n",
              "       [2.37890244],\n",
              "       [2.96792683],\n",
              "       [3.26243902]])"
            ]
          },
          "metadata": {},
          "execution_count": 18
        }
      ]
    },
    {
      "cell_type": "code",
      "metadata": {
        "colab": {
          "base_uri": "https://localhost:8080/",
          "height": 278
        },
        "id": "ygW_4bp6t0BR",
        "outputId": "08ebfd54-59f5-4fc5-f75d-3366e8d4efc7"
      },
      "source": [
        "# Plot\n",
        "plt.scatter(X, y, color=\"black\")\n",
        "plt.plot(X, y_pred, color=\"blue\", linewidth=3)\n",
        "\n",
        "plt.xticks(())\n",
        "plt.yticks(())\n",
        "\n",
        "plt.title(\"x versus y\")\n",
        "plt.xlabel(\"x\")\n",
        "plt.ylabel(\"y\")\n",
        "plt.show();"
      ],
      "execution_count": 22,
      "outputs": [
        {
          "output_type": "display_data",
          "data": {
            "image/png": "[encoded data removed]",
            "text/plain": [
              "<Figure size 432x288 with 1 Axes>"
            ]
          },
          "metadata": {}
        }
      ]
    },
    {
      "cell_type": "markdown",
      "metadata": {
        "id": "EKDn_sOSvDem"
      },
      "source": [
        "#Exercício 2"
      ]
    },
    {
      "cell_type": "code",
      "metadata": {
        "colab": {
          "base_uri": "https://localhost:8080/",
          "height": 225
        },
        "id": "Dj_RgFX_pkyd",
        "outputId": "60ba7443-daab-4db3-80d0-fd8349152137"
      },
      "source": [
        "numpy_array = np.array([[1, 0.65], [2, 0.79], [4, 1.36], [8, 2.26], [16, 3.59], [25, 5.39]])\n",
        "\n",
        "df = pd.DataFrame(numpy_array, columns=[\"x\", \"y\"])\n",
        "df"
      ],
      "execution_count": 26,
      "outputs": [
        {
          "output_type": "execute_result",
          "data": {
            "text/html": [
              "<div>\n",
              "<style scoped>\n",
              "    .dataframe tbody tr th:only-of-type {\n",
              "        vertical-align: middle;\n",
              "    }\n",
              "\n",
              "    .dataframe tbody tr th {\n",
              "        vertical-align: top;\n",
              "    }\n",
              "\n",
              "    .dataframe thead th {\n",
              "        text-align: right;\n",
              "    }\n",
              "</style>\n",
              "<table border=\"1\" class=\"dataframe\">\n",
              "  <thead>\n",
              "    <tr style=\"text-align: right;\">\n",
              "      <th></th>\n",
              "      <th>x</th>\n",
              "      <th>y</th>\n",
              "    </tr>\n",
              "  </thead>\n",
              "  <tbody>\n",
              "    <tr>\n",
              "      <th>0</th>\n",
              "      <td>1.0</td>\n",
              "      <td>0.65</td>\n",
              "    </tr>\n",
              "    <tr>\n",
              "      <th>1</th>\n",
              "      <td>2.0</td>\n",
              "      <td>0.79</td>\n",
              "    </tr>\n",
              "    <tr>\n",
              "      <th>2</th>\n",
              "      <td>4.0</td>\n",
              "      <td>1.36</td>\n",
              "    </tr>\n",
              "    <tr>\n",
              "      <th>3</th>\n",
              "      <td>8.0</td>\n",
              "      <td>2.26</td>\n",
              "    </tr>\n",
              "    <tr>\n",
              "      <th>4</th>\n",
              "      <td>16.0</td>\n",
              "      <td>3.59</td>\n",
              "    </tr>\n",
              "    <tr>\n",
              "      <th>5</th>\n",
              "      <td>25.0</td>\n",
              "      <td>5.39</td>\n",
              "    </tr>\n",
              "  </tbody>\n",
              "</table>\n",
              "</div>"
            ],
            "text/plain": [
              "      x     y\n",
              "0   1.0  0.65\n",
              "1   2.0  0.79\n",
              "2   4.0  1.36\n",
              "3   8.0  2.26\n",
              "4  16.0  3.59\n",
              "5  25.0  5.39"
            ]
          },
          "metadata": {},
          "execution_count": 26
        }
      ]
    },
    {
      "cell_type": "code",
      "metadata": {
        "colab": {
          "base_uri": "https://localhost:8080/"
        },
        "id": "VunVtS34_COY",
        "outputId": "bd022b4d-13a6-49c9-969a-f6bd19efb571"
      },
      "source": [
        "X = df['x']\n",
        "y = df['y']\n",
        "print(X.shape, y.shape)"
      ],
      "execution_count": 27,
      "outputs": [
        {
          "output_type": "stream",
          "name": "stdout",
          "text": [
            "(6,) (6,)\n"
          ]
        }
      ]
    },
    {
      "cell_type": "code",
      "metadata": {
        "colab": {
          "base_uri": "https://localhost:8080/",
          "height": 479
        },
        "id": "thaly_e5-Qyy",
        "outputId": "ae2fd083-8960-4961-e2e2-f0a6104bf4e4"
      },
      "source": [
        "#Usando o statsmodels\n",
        "import statsmodels.api as sm\n",
        "\n",
        "x = sm.add_constant(X) \n",
        "model = sm.OLS(y, x).fit()\n",
        "model.summary()"
      ],
      "execution_count": 28,
      "outputs": [
        {
          "output_type": "stream",
          "name": "stderr",
          "text": [
            "/usr/local/lib/python3.7/dist-packages/statsmodels/stats/stattools.py:71: ValueWarning: omni_normtest is not valid with less than 8 observations; 6 samples were given.\n",
            "  \"samples were given.\" % int(n), ValueWarning)\n"
          ]
        },
        {
          "output_type": "execute_result",
          "data": {
            "text/html": [
              "<table class=\"simpletable\">\n",
              "<caption>OLS Regression Results</caption>\n",
              "<tr>\n",
              "  <th>Dep. Variable:</th>            <td>y</td>        <th>  R-squared:         </th> <td>   0.997</td>\n",
              "</tr>\n",
              "<tr>\n",
              "  <th>Model:</th>                   <td>OLS</td>       <th>  Adj. R-squared:    </th> <td>   0.996</td>\n",
              "</tr>\n",
              "<tr>\n",
              "  <th>Method:</th>             <td>Least Squares</td>  <th>  F-statistic:       </th> <td>   1202.</td>\n",
              "</tr>\n",
              "<tr>\n",
              "  <th>Date:</th>             <td>Tue, 09 Nov 2021</td> <th>  Prob (F-statistic):</th> <td>4.13e-06</td>\n",
              "</tr>\n",
              "<tr>\n",
              "  <th>Time:</th>                 <td>13:56:18</td>     <th>  Log-Likelihood:    </th> <td>  5.4719</td>\n",
              "</tr>\n",
              "<tr>\n",
              "  <th>No. Observations:</th>      <td>     6</td>      <th>  AIC:               </th> <td>  -6.944</td>\n",
              "</tr>\n",
              "<tr>\n",
              "  <th>Df Residuals:</th>          <td>     4</td>      <th>  BIC:               </th> <td>  -7.360</td>\n",
              "</tr>\n",
              "<tr>\n",
              "  <th>Df Model:</th>              <td>     1</td>      <th>                     </th>     <td> </td>   \n",
              "</tr>\n",
              "<tr>\n",
              "  <th>Covariance Type:</th>      <td>nonrobust</td>    <th>                     </th>     <td> </td>   \n",
              "</tr>\n",
              "</table>\n",
              "<table class=\"simpletable\">\n",
              "<tr>\n",
              "    <td></td>       <th>coef</th>     <th>std err</th>      <th>t</th>      <th>P>|t|</th>  <th>[0.025</th>    <th>0.975]</th>  \n",
              "</tr>\n",
              "<tr>\n",
              "  <th>const</th> <td>    0.5105</td> <td>    0.072</td> <td>    7.116</td> <td> 0.002</td> <td>    0.311</td> <td>    0.710</td>\n",
              "</tr>\n",
              "<tr>\n",
              "  <th>x</th>     <td>    0.1960</td> <td>    0.006</td> <td>   34.667</td> <td> 0.000</td> <td>    0.180</td> <td>    0.212</td>\n",
              "</tr>\n",
              "</table>\n",
              "<table class=\"simpletable\">\n",
              "<tr>\n",
              "  <th>Omnibus:</th>       <td>   nan</td> <th>  Durbin-Watson:     </th> <td>   1.874</td>\n",
              "</tr>\n",
              "<tr>\n",
              "  <th>Prob(Omnibus):</th> <td>   nan</td> <th>  Jarque-Bera (JB):  </th> <td>   0.743</td>\n",
              "</tr>\n",
              "<tr>\n",
              "  <th>Skew:</th>          <td> 0.807</td> <th>  Prob(JB):          </th> <td>   0.690</td>\n",
              "</tr>\n",
              "<tr>\n",
              "  <th>Kurtosis:</th>      <td> 2.392</td> <th>  Cond. No.          </th> <td>    18.8</td>\n",
              "</tr>\n",
              "</table><br/><br/>Warnings:<br/>[1] Standard Errors assume that the covariance matrix of the errors is correctly specified."
            ],
            "text/plain": [
              "<class 'statsmodels.iolib.summary.Summary'>\n",
              "\"\"\"\n",
              "                            OLS Regression Results                            \n",
              "==============================================================================\n",
              "Dep. Variable:                      y   R-squared:                       0.997\n",
              "Model:                            OLS   Adj. R-squared:                  0.996\n",
              "Method:                 Least Squares   F-statistic:                     1202.\n",
              "Date:                Tue, 09 Nov 2021   Prob (F-statistic):           4.13e-06\n",
              "Time:                        13:56:18   Log-Likelihood:                 5.4719\n",
              "No. Observations:                   6   AIC:                            -6.944\n",
              "Df Residuals:                       4   BIC:                            -7.360\n",
              "Df Model:                           1                                         \n",
              "Covariance Type:            nonrobust                                         \n",
              "==============================================================================\n",
              "                 coef    std err          t      P>|t|      [0.025      0.975]\n",
              "------------------------------------------------------------------------------\n",
              "const          0.5105      0.072      7.116      0.002       0.311       0.710\n",
              "x              0.1960      0.006     34.667      0.000       0.180       0.212\n",
              "==============================================================================\n",
              "Omnibus:                          nan   Durbin-Watson:                   1.874\n",
              "Prob(Omnibus):                    nan   Jarque-Bera (JB):                0.743\n",
              "Skew:                           0.807   Prob(JB):                        0.690\n",
              "Kurtosis:                       2.392   Cond. No.                         18.8\n",
              "==============================================================================\n",
              "\n",
              "Warnings:\n",
              "[1] Standard Errors assume that the covariance matrix of the errors is correctly specified.\n",
              "\"\"\""
            ]
          },
          "metadata": {},
          "execution_count": 28
        }
      ]
    },
    {
      "cell_type": "code",
      "metadata": {
        "colab": {
          "base_uri": "https://localhost:8080/"
        },
        "id": "PbFDg6cn-Rfu",
        "outputId": "3bdcab00-5316-45ef-aeb0-441b18db70fb"
      },
      "source": [
        "#com sklearn\n",
        "from sklearn import linear_model\n",
        "\n",
        "regrLin = linear_model.LinearRegression()\n",
        "\n",
        "X = np.array(X).reshape((-1, 1))\n",
        "\n",
        "regrLin.fit(X, y)\n",
        "\n",
        "r_sq = regrLin.score(X, y)\n",
        "\n",
        "print('R2:', round(r_sq, 3))\n",
        "\n",
        "print('Intercept:', round(regrLin.intercept_,3))\n",
        "\n",
        "print('Slope:', round(regrLin.coef_[0], 3)) "
      ],
      "execution_count": 29,
      "outputs": [
        {
          "output_type": "stream",
          "name": "stdout",
          "text": [
            "R2: 0.997\n",
            "Intercept: 0.511\n",
            "Slope: 0.196\n"
          ]
        }
      ]
    },
    {
      "cell_type": "code",
      "metadata": {
        "colab": {
          "base_uri": "https://localhost:8080/"
        },
        "id": "UwQzbeDI-35N",
        "outputId": "0adbf364-076c-464e-9ec4-39dc37ac7d21"
      },
      "source": [
        "y_prev = []\n",
        "for i in range(len(X)):\n",
        "  val = regrLin.intercept_ + X[i]*regrLin.coef_[0]\n",
        "  y_prev.append(val)\n",
        "y_pred = np.array(y_prev)\n",
        "y_pred"
      ],
      "execution_count": 30,
      "outputs": [
        {
          "output_type": "execute_result",
          "data": {
            "text/plain": [
              "array([[0.70654135],\n",
              "       [0.90255639],\n",
              "       [1.29458647],\n",
              "       [2.07864662],\n",
              "       [3.64676692],\n",
              "       [5.41090226]])"
            ]
          },
          "metadata": {},
          "execution_count": 30
        }
      ]
    },
    {
      "cell_type": "code",
      "metadata": {
        "colab": {
          "base_uri": "https://localhost:8080/",
          "height": 278
        },
        "id": "7v2b-V3h_KkQ",
        "outputId": "bb3cdfe9-2335-4fa0-9d70-b36acdbf8d81"
      },
      "source": [
        "# Plot\n",
        "plt.scatter(X, y, color=\"black\")\n",
        "plt.plot(X, y_pred, color=\"blue\", linewidth=3)\n",
        "\n",
        "plt.xticks(())\n",
        "plt.yticks(())\n",
        "\n",
        "plt.title(\"Dia versus Tempo\")\n",
        "plt.xlabel(\"Dia\")\n",
        "plt.ylabel(\"Tempo\")\n",
        "plt.show();"
      ],
      "execution_count": 32,
      "outputs": [
        {
          "output_type": "display_data",
          "data": {
            "image/png": "[encoded data removed]",
            "text/plain": [
              "<Figure size 432x288 with 1 Axes>"
            ]
          },
          "metadata": {}
        }
      ]
    }
  ]
}