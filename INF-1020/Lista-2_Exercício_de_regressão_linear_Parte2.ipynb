{
  "nbformat": 4,
  "nbformat_minor": 0,
  "metadata": {
    "kernelspec": {
      "display_name": "dmclass",
      "language": "python",
      "name": "dmclass"
    },
    "language_info": {
      "codemirror_mode": {
        "name": "ipython",
        "version": 3
      },
      "file_extension": ".py",
      "mimetype": "text/x-python",
      "name": "python",
      "nbconvert_exporter": "python",
      "pygments_lexer": "ipython3",
      "version": "3.8.3"
    },
    "colab": {
      "name": "Nara - Exercício de regressão linear.ipynb",
      "provenance": [],
      "collapsed_sections": []
    }
  },
  "cells": [
    {
      "cell_type": "markdown",
      "metadata": {
        "id": "VqeCi0G6A4Su"
      },
      "source": [
        "## Exercício prático de regressão linear"
      ]
    },
    {
      "cell_type": "markdown",
      "metadata": {
        "id": "eH6JOntHA4Sy"
      },
      "source": [
        "Instruções: se o dataset 'datasetCarros.csv' em todos os exercícios."
      ]
    },
    {
      "cell_type": "code",
      "metadata": {
        "id": "FcpdUtuuvP9Q"
      },
      "source": [
        "import pandas as pd\n",
        "import numpy as np\n",
        "from sklearn.linear_model import LinearRegression\n",
        "import statsmodels.api as sm\n",
        "from sklearn.linear_model import LinearRegression\n",
        "from sklearn.metrics import mean_squared_error, r2_score\n",
        "from sklearn.model_selection import train_test_split\n",
        "import matplotlib.pyplot as plt\n",
        "%matplotlib inline\n",
        "from sklearn import preprocessing"
      ],
      "execution_count": 47,
      "outputs": []
    },
    {
      "cell_type": "markdown",
      "metadata": {
        "id": "pPquDhihA4Sz"
      },
      "source": [
        "# 1\n",
        "a) Faça um modelo de regressão linear simples utilizando a variável 'KmRodado' para prever a 'PrecoVenda'.<br>\n",
        "\n",
        "b) Calcule o R2 para o modelo criado."
      ]
    },
    {
      "cell_type": "code",
      "metadata": {
        "colab": {
          "base_uri": "https://localhost:8080/",
          "height": 407
        },
        "id": "U7m9ugb-vf5n",
        "outputId": "16271432-1c99-4ffc-f098-72428ba9aa7f"
      },
      "source": [
        "carros_df = pd.read_csv('datasetCarros.csv', sep=',')\n",
        "carros_df"
      ],
      "execution_count": 25,
      "outputs": [
        {
          "output_type": "execute_result",
          "data": {
            "text/html": [
              "<div>\n",
              "<style scoped>\n",
              "    .dataframe tbody tr th:only-of-type {\n",
              "        vertical-align: middle;\n",
              "    }\n",
              "\n",
              "    .dataframe tbody tr th {\n",
              "        vertical-align: top;\n",
              "    }\n",
              "\n",
              "    .dataframe thead th {\n",
              "        text-align: right;\n",
              "    }\n",
              "</style>\n",
              "<table border=\"1\" class=\"dataframe\">\n",
              "  <thead>\n",
              "    <tr style=\"text-align: right;\">\n",
              "      <th></th>\n",
              "      <th>Nome</th>\n",
              "      <th>Ano</th>\n",
              "      <th>PrecoVenda</th>\n",
              "      <th>PrecoAtual</th>\n",
              "      <th>KmRodado</th>\n",
              "      <th>TipoCombustivel</th>\n",
              "      <th>Trasmissao</th>\n",
              "      <th>Owner</th>\n",
              "    </tr>\n",
              "  </thead>\n",
              "  <tbody>\n",
              "    <tr>\n",
              "      <th>0</th>\n",
              "      <td>ritz</td>\n",
              "      <td>2014</td>\n",
              "      <td>3.35</td>\n",
              "      <td>5.59</td>\n",
              "      <td>27000</td>\n",
              "      <td>Petrol</td>\n",
              "      <td>Manual</td>\n",
              "      <td>0</td>\n",
              "    </tr>\n",
              "    <tr>\n",
              "      <th>1</th>\n",
              "      <td>sx4</td>\n",
              "      <td>2013</td>\n",
              "      <td>4.75</td>\n",
              "      <td>9.54</td>\n",
              "      <td>43000</td>\n",
              "      <td>Diesel</td>\n",
              "      <td>Manual</td>\n",
              "      <td>0</td>\n",
              "    </tr>\n",
              "    <tr>\n",
              "      <th>2</th>\n",
              "      <td>ciaz</td>\n",
              "      <td>2017</td>\n",
              "      <td>7.25</td>\n",
              "      <td>9.85</td>\n",
              "      <td>6900</td>\n",
              "      <td>Petrol</td>\n",
              "      <td>Manual</td>\n",
              "      <td>0</td>\n",
              "    </tr>\n",
              "    <tr>\n",
              "      <th>3</th>\n",
              "      <td>wagon r</td>\n",
              "      <td>2011</td>\n",
              "      <td>2.85</td>\n",
              "      <td>4.15</td>\n",
              "      <td>5200</td>\n",
              "      <td>Petrol</td>\n",
              "      <td>Manual</td>\n",
              "      <td>0</td>\n",
              "    </tr>\n",
              "    <tr>\n",
              "      <th>4</th>\n",
              "      <td>swift</td>\n",
              "      <td>2014</td>\n",
              "      <td>4.60</td>\n",
              "      <td>6.87</td>\n",
              "      <td>42450</td>\n",
              "      <td>Diesel</td>\n",
              "      <td>Manual</td>\n",
              "      <td>0</td>\n",
              "    </tr>\n",
              "    <tr>\n",
              "      <th>...</th>\n",
              "      <td>...</td>\n",
              "      <td>...</td>\n",
              "      <td>...</td>\n",
              "      <td>...</td>\n",
              "      <td>...</td>\n",
              "      <td>...</td>\n",
              "      <td>...</td>\n",
              "      <td>...</td>\n",
              "    </tr>\n",
              "    <tr>\n",
              "      <th>296</th>\n",
              "      <td>city</td>\n",
              "      <td>2016</td>\n",
              "      <td>9.50</td>\n",
              "      <td>11.60</td>\n",
              "      <td>33988</td>\n",
              "      <td>Diesel</td>\n",
              "      <td>Manual</td>\n",
              "      <td>0</td>\n",
              "    </tr>\n",
              "    <tr>\n",
              "      <th>297</th>\n",
              "      <td>brio</td>\n",
              "      <td>2015</td>\n",
              "      <td>4.00</td>\n",
              "      <td>5.90</td>\n",
              "      <td>60000</td>\n",
              "      <td>Petrol</td>\n",
              "      <td>Manual</td>\n",
              "      <td>0</td>\n",
              "    </tr>\n",
              "    <tr>\n",
              "      <th>298</th>\n",
              "      <td>city</td>\n",
              "      <td>2009</td>\n",
              "      <td>3.35</td>\n",
              "      <td>11.00</td>\n",
              "      <td>87934</td>\n",
              "      <td>Petrol</td>\n",
              "      <td>Manual</td>\n",
              "      <td>0</td>\n",
              "    </tr>\n",
              "    <tr>\n",
              "      <th>299</th>\n",
              "      <td>city</td>\n",
              "      <td>2017</td>\n",
              "      <td>11.50</td>\n",
              "      <td>12.50</td>\n",
              "      <td>9000</td>\n",
              "      <td>Diesel</td>\n",
              "      <td>Manual</td>\n",
              "      <td>0</td>\n",
              "    </tr>\n",
              "    <tr>\n",
              "      <th>300</th>\n",
              "      <td>brio</td>\n",
              "      <td>2016</td>\n",
              "      <td>5.30</td>\n",
              "      <td>5.90</td>\n",
              "      <td>5464</td>\n",
              "      <td>Petrol</td>\n",
              "      <td>Manual</td>\n",
              "      <td>0</td>\n",
              "    </tr>\n",
              "  </tbody>\n",
              "</table>\n",
              "<p>301 rows × 8 columns</p>\n",
              "</div>"
            ],
            "text/plain": [
              "        Nome   Ano  PrecoVenda  ...  TipoCombustivel  Trasmissao Owner\n",
              "0       ritz  2014        3.35  ...           Petrol      Manual     0\n",
              "1        sx4  2013        4.75  ...           Diesel      Manual     0\n",
              "2       ciaz  2017        7.25  ...           Petrol      Manual     0\n",
              "3    wagon r  2011        2.85  ...           Petrol      Manual     0\n",
              "4      swift  2014        4.60  ...           Diesel      Manual     0\n",
              "..       ...   ...         ...  ...              ...         ...   ...\n",
              "296     city  2016        9.50  ...           Diesel      Manual     0\n",
              "297     brio  2015        4.00  ...           Petrol      Manual     0\n",
              "298     city  2009        3.35  ...           Petrol      Manual     0\n",
              "299     city  2017       11.50  ...           Diesel      Manual     0\n",
              "300     brio  2016        5.30  ...           Petrol      Manual     0\n",
              "\n",
              "[301 rows x 8 columns]"
            ]
          },
          "metadata": {},
          "execution_count": 25
        }
      ]
    },
    {
      "cell_type": "code",
      "metadata": {
        "id": "SNQ1J6GlvzFv"
      },
      "source": [
        "X = carros_df[['KmRodado']]\n",
        "y = carros_df['PrecoVenda']"
      ],
      "execution_count": 26,
      "outputs": []
    },
    {
      "cell_type": "code",
      "metadata": {
        "colab": {
          "base_uri": "https://localhost:8080/"
        },
        "id": "tOgmgYdywDUV",
        "outputId": "8a329505-824f-46b4-87ff-7fa2de152d76"
      },
      "source": [
        "#com sklearn\n",
        "\n",
        "lm=LinearRegression()\n",
        "lm.fit(X,y)\n",
        "\n",
        "print(lm.intercept_,' - ',lm.coef_)\n",
        "\n",
        "print(round(lm.intercept_,3),' - ', round(lm.coef_[0],3))"
      ],
      "execution_count": 27,
      "outputs": [
        {
          "output_type": "stream",
          "name": "stdout",
          "text": [
            "4.520343021594408  -  [3.81497479e-06]\n",
            "4.52  -  0.0\n"
          ]
        }
      ]
    },
    {
      "cell_type": "code",
      "metadata": {
        "colab": {
          "base_uri": "https://localhost:8080/"
        },
        "id": "BlYNi-6DxNjC",
        "outputId": "b25f46ce-2be7-4383-e19d-60158ce146e5"
      },
      "source": [
        "#cálculo do R2 com sklearn\n",
        "r_sq = lm.score(X, y)\n",
        "\n",
        "print('R2:', r_sq)\n",
        "print('R2 - round value:', round(r_sq, 3))"
      ],
      "execution_count": 28,
      "outputs": [
        {
          "output_type": "stream",
          "name": "stdout",
          "text": [
            "R2: 0.0008518862620293666\n",
            "R2 - round value: 0.001\n"
          ]
        }
      ]
    },
    {
      "cell_type": "code",
      "metadata": {
        "colab": {
          "base_uri": "https://localhost:8080/"
        },
        "id": "4Jilt3LGwkI4",
        "outputId": "f02a1286-594c-4c51-9ad3-c565c92aa7aa"
      },
      "source": [
        "#com statsmodel\n",
        "\n",
        "X_intercept = sm.add_constant(X) \n",
        "model = sm.OLS(y, X_intercept).fit()\n",
        " \n",
        "print_model = model.summary()\n",
        "print(print_model)"
      ],
      "execution_count": 29,
      "outputs": [
        {
          "output_type": "stream",
          "name": "stdout",
          "text": [
            "                            OLS Regression Results                            \n",
            "==============================================================================\n",
            "Dep. Variable:             PrecoVenda   R-squared:                       0.001\n",
            "Model:                            OLS   Adj. R-squared:                 -0.002\n",
            "Method:                 Least Squares   F-statistic:                    0.2549\n",
            "Date:                Tue, 16 Nov 2021   Prob (F-statistic):              0.614\n",
            "Time:                        18:12:01   Log-Likelihood:                -915.86\n",
            "No. Observations:                 301   AIC:                             1836.\n",
            "Df Residuals:                     299   BIC:                             1843.\n",
            "Df Model:                           1                                         \n",
            "Covariance Type:            nonrobust                                         \n",
            "==============================================================================\n",
            "                 coef    std err          t      P>|t|      [0.025      0.975]\n",
            "------------------------------------------------------------------------------\n",
            "const          4.5203      0.405     11.163      0.000       3.723       5.317\n",
            "KmRodado    3.815e-06   7.56e-06      0.505      0.614   -1.11e-05    1.87e-05\n",
            "==============================================================================\n",
            "Omnibus:                      181.357   Durbin-Watson:                   1.061\n",
            "Prob(Omnibus):                  0.000   Jarque-Bera (JB):             1261.766\n",
            "Skew:                           2.478   Prob(JB):                    1.03e-274\n",
            "Kurtosis:                      11.720   Cond. No.                     7.40e+04\n",
            "==============================================================================\n",
            "\n",
            "Warnings:\n",
            "[1] Standard Errors assume that the covariance matrix of the errors is correctly specified.\n",
            "[2] The condition number is large, 7.4e+04. This might indicate that there are\n",
            "strong multicollinearity or other numerical problems.\n"
          ]
        }
      ]
    },
    {
      "cell_type": "markdown",
      "metadata": {
        "id": "tnltRZvHA4S0"
      },
      "source": [
        "# 2\n",
        "a) Separe o dataset em teste (5%) e treino (95%). Use o método 'train_test_split' do sklearn; configure o parâmetro random_state=10. <br>\n",
        "\n",
        "b) Treine um modelo de regressão linear múltipla no dataset de treino utilizando todas as variáveis (exceto 'Nome') para prever a 'PrecoVenda' e exiba os coeficientes do modelo.<br>\n",
        "\n",
        "c) Avalie o modelo encontrado utilizando o dataset de teste. Calcule o R2 e MSE."
      ]
    },
    {
      "cell_type": "code",
      "metadata": {
        "colab": {
          "base_uri": "https://localhost:8080/"
        },
        "id": "cTv-N6sLyR52",
        "outputId": "b191ef45-1923-4f70-99aa-e2d9b7912d1d"
      },
      "source": [
        "carros_df['TipoCombustivel'].unique()"
      ],
      "execution_count": 30,
      "outputs": [
        {
          "output_type": "execute_result",
          "data": {
            "text/plain": [
              "array(['Petrol', 'Diesel', 'CNG'], dtype=object)"
            ]
          },
          "metadata": {},
          "execution_count": 30
        }
      ]
    },
    {
      "cell_type": "code",
      "metadata": {
        "colab": {
          "base_uri": "https://localhost:8080/"
        },
        "id": "MtlL-KXXyVef",
        "outputId": "a067f429-a08f-4c9e-88b4-99fe3cb85dce"
      },
      "source": [
        "carros_df['Trasmissao'].unique()"
      ],
      "execution_count": 31,
      "outputs": [
        {
          "output_type": "execute_result",
          "data": {
            "text/plain": [
              "array(['Manual', 'Automatic'], dtype=object)"
            ]
          },
          "metadata": {},
          "execution_count": 31
        }
      ]
    },
    {
      "cell_type": "code",
      "metadata": {
        "colab": {
          "base_uri": "https://localhost:8080/",
          "height": 407
        },
        "id": "eMM8z_T8zf3W",
        "outputId": "7de5b50b-7807-49c4-dfeb-4987f5cca455"
      },
      "source": [
        "carrosNew_df = carros_df.copy()\n",
        "carrosNew_df"
      ],
      "execution_count": 32,
      "outputs": [
        {
          "output_type": "execute_result",
          "data": {
            "text/html": [
              "<div>\n",
              "<style scoped>\n",
              "    .dataframe tbody tr th:only-of-type {\n",
              "        vertical-align: middle;\n",
              "    }\n",
              "\n",
              "    .dataframe tbody tr th {\n",
              "        vertical-align: top;\n",
              "    }\n",
              "\n",
              "    .dataframe thead th {\n",
              "        text-align: right;\n",
              "    }\n",
              "</style>\n",
              "<table border=\"1\" class=\"dataframe\">\n",
              "  <thead>\n",
              "    <tr style=\"text-align: right;\">\n",
              "      <th></th>\n",
              "      <th>Nome</th>\n",
              "      <th>Ano</th>\n",
              "      <th>PrecoVenda</th>\n",
              "      <th>PrecoAtual</th>\n",
              "      <th>KmRodado</th>\n",
              "      <th>TipoCombustivel</th>\n",
              "      <th>Trasmissao</th>\n",
              "      <th>Owner</th>\n",
              "    </tr>\n",
              "  </thead>\n",
              "  <tbody>\n",
              "    <tr>\n",
              "      <th>0</th>\n",
              "      <td>ritz</td>\n",
              "      <td>2014</td>\n",
              "      <td>3.35</td>\n",
              "      <td>5.59</td>\n",
              "      <td>27000</td>\n",
              "      <td>Petrol</td>\n",
              "      <td>Manual</td>\n",
              "      <td>0</td>\n",
              "    </tr>\n",
              "    <tr>\n",
              "      <th>1</th>\n",
              "      <td>sx4</td>\n",
              "      <td>2013</td>\n",
              "      <td>4.75</td>\n",
              "      <td>9.54</td>\n",
              "      <td>43000</td>\n",
              "      <td>Diesel</td>\n",
              "      <td>Manual</td>\n",
              "      <td>0</td>\n",
              "    </tr>\n",
              "    <tr>\n",
              "      <th>2</th>\n",
              "      <td>ciaz</td>\n",
              "      <td>2017</td>\n",
              "      <td>7.25</td>\n",
              "      <td>9.85</td>\n",
              "      <td>6900</td>\n",
              "      <td>Petrol</td>\n",
              "      <td>Manual</td>\n",
              "      <td>0</td>\n",
              "    </tr>\n",
              "    <tr>\n",
              "      <th>3</th>\n",
              "      <td>wagon r</td>\n",
              "      <td>2011</td>\n",
              "      <td>2.85</td>\n",
              "      <td>4.15</td>\n",
              "      <td>5200</td>\n",
              "      <td>Petrol</td>\n",
              "      <td>Manual</td>\n",
              "      <td>0</td>\n",
              "    </tr>\n",
              "    <tr>\n",
              "      <th>4</th>\n",
              "      <td>swift</td>\n",
              "      <td>2014</td>\n",
              "      <td>4.60</td>\n",
              "      <td>6.87</td>\n",
              "      <td>42450</td>\n",
              "      <td>Diesel</td>\n",
              "      <td>Manual</td>\n",
              "      <td>0</td>\n",
              "    </tr>\n",
              "    <tr>\n",
              "      <th>...</th>\n",
              "      <td>...</td>\n",
              "      <td>...</td>\n",
              "      <td>...</td>\n",
              "      <td>...</td>\n",
              "      <td>...</td>\n",
              "      <td>...</td>\n",
              "      <td>...</td>\n",
              "      <td>...</td>\n",
              "    </tr>\n",
              "    <tr>\n",
              "      <th>296</th>\n",
              "      <td>city</td>\n",
              "      <td>2016</td>\n",
              "      <td>9.50</td>\n",
              "      <td>11.60</td>\n",
              "      <td>33988</td>\n",
              "      <td>Diesel</td>\n",
              "      <td>Manual</td>\n",
              "      <td>0</td>\n",
              "    </tr>\n",
              "    <tr>\n",
              "      <th>297</th>\n",
              "      <td>brio</td>\n",
              "      <td>2015</td>\n",
              "      <td>4.00</td>\n",
              "      <td>5.90</td>\n",
              "      <td>60000</td>\n",
              "      <td>Petrol</td>\n",
              "      <td>Manual</td>\n",
              "      <td>0</td>\n",
              "    </tr>\n",
              "    <tr>\n",
              "      <th>298</th>\n",
              "      <td>city</td>\n",
              "      <td>2009</td>\n",
              "      <td>3.35</td>\n",
              "      <td>11.00</td>\n",
              "      <td>87934</td>\n",
              "      <td>Petrol</td>\n",
              "      <td>Manual</td>\n",
              "      <td>0</td>\n",
              "    </tr>\n",
              "    <tr>\n",
              "      <th>299</th>\n",
              "      <td>city</td>\n",
              "      <td>2017</td>\n",
              "      <td>11.50</td>\n",
              "      <td>12.50</td>\n",
              "      <td>9000</td>\n",
              "      <td>Diesel</td>\n",
              "      <td>Manual</td>\n",
              "      <td>0</td>\n",
              "    </tr>\n",
              "    <tr>\n",
              "      <th>300</th>\n",
              "      <td>brio</td>\n",
              "      <td>2016</td>\n",
              "      <td>5.30</td>\n",
              "      <td>5.90</td>\n",
              "      <td>5464</td>\n",
              "      <td>Petrol</td>\n",
              "      <td>Manual</td>\n",
              "      <td>0</td>\n",
              "    </tr>\n",
              "  </tbody>\n",
              "</table>\n",
              "<p>301 rows × 8 columns</p>\n",
              "</div>"
            ],
            "text/plain": [
              "        Nome   Ano  PrecoVenda  ...  TipoCombustivel  Trasmissao Owner\n",
              "0       ritz  2014        3.35  ...           Petrol      Manual     0\n",
              "1        sx4  2013        4.75  ...           Diesel      Manual     0\n",
              "2       ciaz  2017        7.25  ...           Petrol      Manual     0\n",
              "3    wagon r  2011        2.85  ...           Petrol      Manual     0\n",
              "4      swift  2014        4.60  ...           Diesel      Manual     0\n",
              "..       ...   ...         ...  ...              ...         ...   ...\n",
              "296     city  2016        9.50  ...           Diesel      Manual     0\n",
              "297     brio  2015        4.00  ...           Petrol      Manual     0\n",
              "298     city  2009        3.35  ...           Petrol      Manual     0\n",
              "299     city  2017       11.50  ...           Diesel      Manual     0\n",
              "300     brio  2016        5.30  ...           Petrol      Manual     0\n",
              "\n",
              "[301 rows x 8 columns]"
            ]
          },
          "metadata": {},
          "execution_count": 32
        }
      ]
    },
    {
      "cell_type": "code",
      "metadata": {
        "id": "kOOwyFFIyz9x"
      },
      "source": [
        "carrosNew_df['Trasmissao'] = carrosNew_df['Trasmissao'].astype('category') \n",
        "carrosNew_df['TipoCombustivel'] = carrosNew_df['TipoCombustivel'].astype('category')"
      ],
      "execution_count": 33,
      "outputs": []
    },
    {
      "cell_type": "code",
      "metadata": {
        "colab": {
          "base_uri": "https://localhost:8080/",
          "height": 407
        },
        "id": "aGvrjqj8yaVi",
        "outputId": "fd0c8c7c-dc1c-44be-f1f8-2f0c72e13617"
      },
      "source": [
        "carrosNew_df['Trasmissao'] = carrosNew_df['Trasmissao'].cat.codes\n",
        "carrosNew_df['TipoCombustivel'] = carrosNew_df['TipoCombustivel'].cat.codes\n",
        "carrosNew_df"
      ],
      "execution_count": 34,
      "outputs": [
        {
          "output_type": "execute_result",
          "data": {
            "text/html": [
              "<div>\n",
              "<style scoped>\n",
              "    .dataframe tbody tr th:only-of-type {\n",
              "        vertical-align: middle;\n",
              "    }\n",
              "\n",
              "    .dataframe tbody tr th {\n",
              "        vertical-align: top;\n",
              "    }\n",
              "\n",
              "    .dataframe thead th {\n",
              "        text-align: right;\n",
              "    }\n",
              "</style>\n",
              "<table border=\"1\" class=\"dataframe\">\n",
              "  <thead>\n",
              "    <tr style=\"text-align: right;\">\n",
              "      <th></th>\n",
              "      <th>Nome</th>\n",
              "      <th>Ano</th>\n",
              "      <th>PrecoVenda</th>\n",
              "      <th>PrecoAtual</th>\n",
              "      <th>KmRodado</th>\n",
              "      <th>TipoCombustivel</th>\n",
              "      <th>Trasmissao</th>\n",
              "      <th>Owner</th>\n",
              "    </tr>\n",
              "  </thead>\n",
              "  <tbody>\n",
              "    <tr>\n",
              "      <th>0</th>\n",
              "      <td>ritz</td>\n",
              "      <td>2014</td>\n",
              "      <td>3.35</td>\n",
              "      <td>5.59</td>\n",
              "      <td>27000</td>\n",
              "      <td>2</td>\n",
              "      <td>1</td>\n",
              "      <td>0</td>\n",
              "    </tr>\n",
              "    <tr>\n",
              "      <th>1</th>\n",
              "      <td>sx4</td>\n",
              "      <td>2013</td>\n",
              "      <td>4.75</td>\n",
              "      <td>9.54</td>\n",
              "      <td>43000</td>\n",
              "      <td>1</td>\n",
              "      <td>1</td>\n",
              "      <td>0</td>\n",
              "    </tr>\n",
              "    <tr>\n",
              "      <th>2</th>\n",
              "      <td>ciaz</td>\n",
              "      <td>2017</td>\n",
              "      <td>7.25</td>\n",
              "      <td>9.85</td>\n",
              "      <td>6900</td>\n",
              "      <td>2</td>\n",
              "      <td>1</td>\n",
              "      <td>0</td>\n",
              "    </tr>\n",
              "    <tr>\n",
              "      <th>3</th>\n",
              "      <td>wagon r</td>\n",
              "      <td>2011</td>\n",
              "      <td>2.85</td>\n",
              "      <td>4.15</td>\n",
              "      <td>5200</td>\n",
              "      <td>2</td>\n",
              "      <td>1</td>\n",
              "      <td>0</td>\n",
              "    </tr>\n",
              "    <tr>\n",
              "      <th>4</th>\n",
              "      <td>swift</td>\n",
              "      <td>2014</td>\n",
              "      <td>4.60</td>\n",
              "      <td>6.87</td>\n",
              "      <td>42450</td>\n",
              "      <td>1</td>\n",
              "      <td>1</td>\n",
              "      <td>0</td>\n",
              "    </tr>\n",
              "    <tr>\n",
              "      <th>...</th>\n",
              "      <td>...</td>\n",
              "      <td>...</td>\n",
              "      <td>...</td>\n",
              "      <td>...</td>\n",
              "      <td>...</td>\n",
              "      <td>...</td>\n",
              "      <td>...</td>\n",
              "      <td>...</td>\n",
              "    </tr>\n",
              "    <tr>\n",
              "      <th>296</th>\n",
              "      <td>city</td>\n",
              "      <td>2016</td>\n",
              "      <td>9.50</td>\n",
              "      <td>11.60</td>\n",
              "      <td>33988</td>\n",
              "      <td>1</td>\n",
              "      <td>1</td>\n",
              "      <td>0</td>\n",
              "    </tr>\n",
              "    <tr>\n",
              "      <th>297</th>\n",
              "      <td>brio</td>\n",
              "      <td>2015</td>\n",
              "      <td>4.00</td>\n",
              "      <td>5.90</td>\n",
              "      <td>60000</td>\n",
              "      <td>2</td>\n",
              "      <td>1</td>\n",
              "      <td>0</td>\n",
              "    </tr>\n",
              "    <tr>\n",
              "      <th>298</th>\n",
              "      <td>city</td>\n",
              "      <td>2009</td>\n",
              "      <td>3.35</td>\n",
              "      <td>11.00</td>\n",
              "      <td>87934</td>\n",
              "      <td>2</td>\n",
              "      <td>1</td>\n",
              "      <td>0</td>\n",
              "    </tr>\n",
              "    <tr>\n",
              "      <th>299</th>\n",
              "      <td>city</td>\n",
              "      <td>2017</td>\n",
              "      <td>11.50</td>\n",
              "      <td>12.50</td>\n",
              "      <td>9000</td>\n",
              "      <td>1</td>\n",
              "      <td>1</td>\n",
              "      <td>0</td>\n",
              "    </tr>\n",
              "    <tr>\n",
              "      <th>300</th>\n",
              "      <td>brio</td>\n",
              "      <td>2016</td>\n",
              "      <td>5.30</td>\n",
              "      <td>5.90</td>\n",
              "      <td>5464</td>\n",
              "      <td>2</td>\n",
              "      <td>1</td>\n",
              "      <td>0</td>\n",
              "    </tr>\n",
              "  </tbody>\n",
              "</table>\n",
              "<p>301 rows × 8 columns</p>\n",
              "</div>"
            ],
            "text/plain": [
              "        Nome   Ano  PrecoVenda  ...  TipoCombustivel  Trasmissao  Owner\n",
              "0       ritz  2014        3.35  ...                2           1      0\n",
              "1        sx4  2013        4.75  ...                1           1      0\n",
              "2       ciaz  2017        7.25  ...                2           1      0\n",
              "3    wagon r  2011        2.85  ...                2           1      0\n",
              "4      swift  2014        4.60  ...                1           1      0\n",
              "..       ...   ...         ...  ...              ...         ...    ...\n",
              "296     city  2016        9.50  ...                1           1      0\n",
              "297     brio  2015        4.00  ...                2           1      0\n",
              "298     city  2009        3.35  ...                2           1      0\n",
              "299     city  2017       11.50  ...                1           1      0\n",
              "300     brio  2016        5.30  ...                2           1      0\n",
              "\n",
              "[301 rows x 8 columns]"
            ]
          },
          "metadata": {},
          "execution_count": 34
        }
      ]
    },
    {
      "cell_type": "code",
      "metadata": {
        "colab": {
          "base_uri": "https://localhost:8080/",
          "height": 407
        },
        "id": "PF7lDPvSzxlu",
        "outputId": "23d442ca-6c28-43a1-b3ff-f07e74d059cc"
      },
      "source": [
        "carrosNew_df.drop('Nome', axis='columns', inplace=True)\n",
        "carrosNew_df"
      ],
      "execution_count": 35,
      "outputs": [
        {
          "output_type": "execute_result",
          "data": {
            "text/html": [
              "<div>\n",
              "<style scoped>\n",
              "    .dataframe tbody tr th:only-of-type {\n",
              "        vertical-align: middle;\n",
              "    }\n",
              "\n",
              "    .dataframe tbody tr th {\n",
              "        vertical-align: top;\n",
              "    }\n",
              "\n",
              "    .dataframe thead th {\n",
              "        text-align: right;\n",
              "    }\n",
              "</style>\n",
              "<table border=\"1\" class=\"dataframe\">\n",
              "  <thead>\n",
              "    <tr style=\"text-align: right;\">\n",
              "      <th></th>\n",
              "      <th>Ano</th>\n",
              "      <th>PrecoVenda</th>\n",
              "      <th>PrecoAtual</th>\n",
              "      <th>KmRodado</th>\n",
              "      <th>TipoCombustivel</th>\n",
              "      <th>Trasmissao</th>\n",
              "      <th>Owner</th>\n",
              "    </tr>\n",
              "  </thead>\n",
              "  <tbody>\n",
              "    <tr>\n",
              "      <th>0</th>\n",
              "      <td>2014</td>\n",
              "      <td>3.35</td>\n",
              "      <td>5.59</td>\n",
              "      <td>27000</td>\n",
              "      <td>2</td>\n",
              "      <td>1</td>\n",
              "      <td>0</td>\n",
              "    </tr>\n",
              "    <tr>\n",
              "      <th>1</th>\n",
              "      <td>2013</td>\n",
              "      <td>4.75</td>\n",
              "      <td>9.54</td>\n",
              "      <td>43000</td>\n",
              "      <td>1</td>\n",
              "      <td>1</td>\n",
              "      <td>0</td>\n",
              "    </tr>\n",
              "    <tr>\n",
              "      <th>2</th>\n",
              "      <td>2017</td>\n",
              "      <td>7.25</td>\n",
              "      <td>9.85</td>\n",
              "      <td>6900</td>\n",
              "      <td>2</td>\n",
              "      <td>1</td>\n",
              "      <td>0</td>\n",
              "    </tr>\n",
              "    <tr>\n",
              "      <th>3</th>\n",
              "      <td>2011</td>\n",
              "      <td>2.85</td>\n",
              "      <td>4.15</td>\n",
              "      <td>5200</td>\n",
              "      <td>2</td>\n",
              "      <td>1</td>\n",
              "      <td>0</td>\n",
              "    </tr>\n",
              "    <tr>\n",
              "      <th>4</th>\n",
              "      <td>2014</td>\n",
              "      <td>4.60</td>\n",
              "      <td>6.87</td>\n",
              "      <td>42450</td>\n",
              "      <td>1</td>\n",
              "      <td>1</td>\n",
              "      <td>0</td>\n",
              "    </tr>\n",
              "    <tr>\n",
              "      <th>...</th>\n",
              "      <td>...</td>\n",
              "      <td>...</td>\n",
              "      <td>...</td>\n",
              "      <td>...</td>\n",
              "      <td>...</td>\n",
              "      <td>...</td>\n",
              "      <td>...</td>\n",
              "    </tr>\n",
              "    <tr>\n",
              "      <th>296</th>\n",
              "      <td>2016</td>\n",
              "      <td>9.50</td>\n",
              "      <td>11.60</td>\n",
              "      <td>33988</td>\n",
              "      <td>1</td>\n",
              "      <td>1</td>\n",
              "      <td>0</td>\n",
              "    </tr>\n",
              "    <tr>\n",
              "      <th>297</th>\n",
              "      <td>2015</td>\n",
              "      <td>4.00</td>\n",
              "      <td>5.90</td>\n",
              "      <td>60000</td>\n",
              "      <td>2</td>\n",
              "      <td>1</td>\n",
              "      <td>0</td>\n",
              "    </tr>\n",
              "    <tr>\n",
              "      <th>298</th>\n",
              "      <td>2009</td>\n",
              "      <td>3.35</td>\n",
              "      <td>11.00</td>\n",
              "      <td>87934</td>\n",
              "      <td>2</td>\n",
              "      <td>1</td>\n",
              "      <td>0</td>\n",
              "    </tr>\n",
              "    <tr>\n",
              "      <th>299</th>\n",
              "      <td>2017</td>\n",
              "      <td>11.50</td>\n",
              "      <td>12.50</td>\n",
              "      <td>9000</td>\n",
              "      <td>1</td>\n",
              "      <td>1</td>\n",
              "      <td>0</td>\n",
              "    </tr>\n",
              "    <tr>\n",
              "      <th>300</th>\n",
              "      <td>2016</td>\n",
              "      <td>5.30</td>\n",
              "      <td>5.90</td>\n",
              "      <td>5464</td>\n",
              "      <td>2</td>\n",
              "      <td>1</td>\n",
              "      <td>0</td>\n",
              "    </tr>\n",
              "  </tbody>\n",
              "</table>\n",
              "<p>301 rows × 7 columns</p>\n",
              "</div>"
            ],
            "text/plain": [
              "      Ano  PrecoVenda  PrecoAtual  KmRodado  TipoCombustivel  Trasmissao  Owner\n",
              "0    2014        3.35        5.59     27000                2           1      0\n",
              "1    2013        4.75        9.54     43000                1           1      0\n",
              "2    2017        7.25        9.85      6900                2           1      0\n",
              "3    2011        2.85        4.15      5200                2           1      0\n",
              "4    2014        4.60        6.87     42450                1           1      0\n",
              "..    ...         ...         ...       ...              ...         ...    ...\n",
              "296  2016        9.50       11.60     33988                1           1      0\n",
              "297  2015        4.00        5.90     60000                2           1      0\n",
              "298  2009        3.35       11.00     87934                2           1      0\n",
              "299  2017       11.50       12.50      9000                1           1      0\n",
              "300  2016        5.30        5.90      5464                2           1      0\n",
              "\n",
              "[301 rows x 7 columns]"
            ]
          },
          "metadata": {},
          "execution_count": 35
        }
      ]
    },
    {
      "cell_type": "code",
      "metadata": {
        "id": "5kVdkTPIA_lr",
        "colab": {
          "base_uri": "https://localhost:8080/"
        },
        "outputId": "6c30a7bd-6035-44f8-a8ed-bb3b6de9bb6f"
      },
      "source": [
        "carrosNew_df.columns"
      ],
      "execution_count": 36,
      "outputs": [
        {
          "output_type": "execute_result",
          "data": {
            "text/plain": [
              "Index(['Ano', 'PrecoVenda', 'PrecoAtual', 'KmRodado', 'TipoCombustivel',\n",
              "       'Trasmissao', 'Owner'],\n",
              "      dtype='object')"
            ]
          },
          "metadata": {},
          "execution_count": 36
        }
      ]
    },
    {
      "cell_type": "code",
      "metadata": {
        "id": "ndZ_SZ8D0Z2l"
      },
      "source": [
        "X = carrosNew_df[['Ano', 'PrecoAtual', 'KmRodado', 'TipoCombustivel',\n",
        "       'Trasmissao', 'Owner']]\n",
        "y = carrosNew_df['PrecoVenda']"
      ],
      "execution_count": 37,
      "outputs": []
    },
    {
      "cell_type": "code",
      "metadata": {
        "colab": {
          "base_uri": "https://localhost:8080/",
          "height": 228
        },
        "id": "-mHCF9oW37vx",
        "outputId": "75ba8916-c15c-4670-cce6-310d14738b61"
      },
      "source": [
        "X.corr()"
      ],
      "execution_count": 38,
      "outputs": [
        {
          "output_type": "execute_result",
          "data": {
            "text/html": [
              "<div>\n",
              "<style scoped>\n",
              "    .dataframe tbody tr th:only-of-type {\n",
              "        vertical-align: middle;\n",
              "    }\n",
              "\n",
              "    .dataframe tbody tr th {\n",
              "        vertical-align: top;\n",
              "    }\n",
              "\n",
              "    .dataframe thead th {\n",
              "        text-align: right;\n",
              "    }\n",
              "</style>\n",
              "<table border=\"1\" class=\"dataframe\">\n",
              "  <thead>\n",
              "    <tr style=\"text-align: right;\">\n",
              "      <th></th>\n",
              "      <th>Ano</th>\n",
              "      <th>PrecoAtual</th>\n",
              "      <th>KmRodado</th>\n",
              "      <th>TipoCombustivel</th>\n",
              "      <th>Trasmissao</th>\n",
              "      <th>Owner</th>\n",
              "    </tr>\n",
              "  </thead>\n",
              "  <tbody>\n",
              "    <tr>\n",
              "      <th>Ano</th>\n",
              "      <td>1.000000</td>\n",
              "      <td>-0.092304</td>\n",
              "      <td>-0.524342</td>\n",
              "      <td>-0.053643</td>\n",
              "      <td>0.000394</td>\n",
              "      <td>-0.182104</td>\n",
              "    </tr>\n",
              "    <tr>\n",
              "      <th>PrecoAtual</th>\n",
              "      <td>-0.092304</td>\n",
              "      <td>1.000000</td>\n",
              "      <td>-0.007744</td>\n",
              "      <td>0.037515</td>\n",
              "      <td>0.029050</td>\n",
              "      <td>-0.024398</td>\n",
              "    </tr>\n",
              "    <tr>\n",
              "      <th>KmRodado</th>\n",
              "      <td>-0.524342</td>\n",
              "      <td>-0.007744</td>\n",
              "      <td>1.000000</td>\n",
              "      <td>-0.166801</td>\n",
              "      <td>-0.162510</td>\n",
              "      <td>0.089216</td>\n",
              "    </tr>\n",
              "    <tr>\n",
              "      <th>TipoCombustivel</th>\n",
              "      <td>-0.053643</td>\n",
              "      <td>0.037515</td>\n",
              "      <td>-0.166801</td>\n",
              "      <td>1.000000</td>\n",
              "      <td>0.080466</td>\n",
              "      <td>0.055705</td>\n",
              "    </tr>\n",
              "    <tr>\n",
              "      <th>Trasmissao</th>\n",
              "      <td>0.000394</td>\n",
              "      <td>0.029050</td>\n",
              "      <td>-0.162510</td>\n",
              "      <td>0.080466</td>\n",
              "      <td>1.000000</td>\n",
              "      <td>-0.050316</td>\n",
              "    </tr>\n",
              "    <tr>\n",
              "      <th>Owner</th>\n",
              "      <td>-0.182104</td>\n",
              "      <td>-0.024398</td>\n",
              "      <td>0.089216</td>\n",
              "      <td>0.055705</td>\n",
              "      <td>-0.050316</td>\n",
              "      <td>1.000000</td>\n",
              "    </tr>\n",
              "  </tbody>\n",
              "</table>\n",
              "</div>"
            ],
            "text/plain": [
              "                      Ano  PrecoAtual  ...  Trasmissao     Owner\n",
              "Ano              1.000000   -0.092304  ...    0.000394 -0.182104\n",
              "PrecoAtual      -0.092304    1.000000  ...    0.029050 -0.024398\n",
              "KmRodado        -0.524342   -0.007744  ...   -0.162510  0.089216\n",
              "TipoCombustivel -0.053643    0.037515  ...    0.080466  0.055705\n",
              "Trasmissao       0.000394    0.029050  ...    1.000000 -0.050316\n",
              "Owner           -0.182104   -0.024398  ...   -0.050316  1.000000\n",
              "\n",
              "[6 rows x 6 columns]"
            ]
          },
          "metadata": {},
          "execution_count": 38
        }
      ]
    },
    {
      "cell_type": "code",
      "metadata": {
        "colab": {
          "base_uri": "https://localhost:8080/"
        },
        "id": "SpQO3YzJ1AYX",
        "outputId": "723ccacc-d9b6-4715-ad51-ed5cf9d556b5"
      },
      "source": [
        "#Utilizando o sklearn\n",
        "\n",
        "lm=LinearRegression()\n",
        "lm.fit(X,y)\n",
        "\n",
        "print(lm.intercept_,lm.coef_)"
      ],
      "execution_count": 39,
      "outputs": [
        {
          "output_type": "stream",
          "name": "stdout",
          "text": [
            "-719.9206975127279 [ 3.66909966e-01 -2.34722687e-04  1.40878835e-06 -5.57940865e+00\n",
            " -4.93018022e+00 -8.60647022e-01]\n"
          ]
        }
      ]
    },
    {
      "cell_type": "code",
      "metadata": {
        "colab": {
          "base_uri": "https://localhost:8080/"
        },
        "id": "7cfZz8341HHc",
        "outputId": "8a0287b6-9e67-42a9-b927-d32a341d3337"
      },
      "source": [
        "#cálculo de R2 com sklearn\n",
        "r_sq = lm.score(X, y)\n",
        "\n",
        "print('R2:', r_sq)\n",
        "print('R2 - round value:', round(r_sq, 3))"
      ],
      "execution_count": 40,
      "outputs": [
        {
          "output_type": "stream",
          "name": "stdout",
          "text": [
            "R2: 0.4127820381997316\n",
            "R2 - round value: 0.413\n"
          ]
        }
      ]
    },
    {
      "cell_type": "code",
      "metadata": {
        "colab": {
          "base_uri": "https://localhost:8080/"
        },
        "id": "VHhZjMZp1RbC",
        "outputId": "73a87d85-5654-4e4c-9783-d713d6c2560c"
      },
      "source": [
        "#Usando o statsmodels\n",
        "#Essa linha adiciona o intercept (isso vai representar o valor das vendas quando todos os investimentos são 0)\n",
        "X_intercept = sm.add_constant(X) \n",
        "model = sm.OLS(y, X_intercept).fit()\n",
        " \n",
        "print_model = model.summary()\n",
        "print(print_model)"
      ],
      "execution_count": 41,
      "outputs": [
        {
          "output_type": "stream",
          "name": "stdout",
          "text": [
            "                            OLS Regression Results                            \n",
            "==============================================================================\n",
            "Dep. Variable:             PrecoVenda   R-squared:                       0.413\n",
            "Model:                            OLS   Adj. R-squared:                  0.401\n",
            "Method:                 Least Squares   F-statistic:                     34.44\n",
            "Date:                Tue, 16 Nov 2021   Prob (F-statistic):           1.98e-31\n",
            "Time:                        18:12:02   Log-Likelihood:                -835.86\n",
            "No. Observations:                 301   AIC:                             1686.\n",
            "Df Residuals:                     294   BIC:                             1712.\n",
            "Df Model:                           6                                         \n",
            "Covariance Type:            nonrobust                                         \n",
            "===================================================================================\n",
            "                      coef    std err          t      P>|t|      [0.025      0.975]\n",
            "-----------------------------------------------------------------------------------\n",
            "const            -719.9207    193.162     -3.727      0.000   -1100.076    -339.766\n",
            "Ano                 0.3669      0.096      3.832      0.000       0.178       0.555\n",
            "PrecoAtual         -0.0002      0.002     -0.114      0.909      -0.004       0.004\n",
            "KmRodado         1.409e-06   7.17e-06      0.196      0.844   -1.27e-05    1.55e-05\n",
            "TipoCombustivel    -5.5794      0.550    -10.144      0.000      -6.662      -4.497\n",
            "Trasmissao         -4.9302      0.682     -7.227      0.000      -6.273      -3.588\n",
            "Owner              -0.8606      0.935     -0.920      0.358      -2.701       0.980\n",
            "==============================================================================\n",
            "Omnibus:                      146.867   Durbin-Watson:                   1.301\n",
            "Prob(Omnibus):                  0.000   Jarque-Bera (JB):             1395.252\n",
            "Skew:                           1.756   Prob(JB):                    1.06e-303\n",
            "Kurtosis:                      12.946   Cond. No.                     4.57e+07\n",
            "==============================================================================\n",
            "\n",
            "Warnings:\n",
            "[1] Standard Errors assume that the covariance matrix of the errors is correctly specified.\n",
            "[2] The condition number is large, 4.57e+07. This might indicate that there are\n",
            "strong multicollinearity or other numerical problems.\n"
          ]
        }
      ]
    },
    {
      "cell_type": "code",
      "metadata": {
        "id": "rQYFGX2B1aiM"
      },
      "source": [
        "#utilizando o train_test_split\n",
        "X_train, X_test, y_train, y_test = train_test_split(X, y, test_size=0.05, random_state=10)"
      ],
      "execution_count": 42,
      "outputs": []
    },
    {
      "cell_type": "code",
      "metadata": {
        "id": "J8Jc0d7d2gns"
      },
      "source": [
        "# Cria um objeto de regressão linear \n",
        "regr = LinearRegression()\n",
        "\n",
        "# Treina o modelo usando o conjunto de treino\n",
        "regr.fit(X_train, y_train)\n",
        "\n",
        "# Faz predições usando o conjunto de teste \n",
        "y_pred = regr.predict(X_test)\n"
      ],
      "execution_count": 43,
      "outputs": []
    },
    {
      "cell_type": "code",
      "metadata": {
        "colab": {
          "base_uri": "https://localhost:8080/"
        },
        "id": "Hx27UhDo2rMK",
        "outputId": "5382ddc5-ab9a-4543-8683-eafdf37f9f0f"
      },
      "source": [
        "# Coeficientes\n",
        "print(\"Coeficientes:\", regr.coef_)\n",
        "\n",
        "# Mean squared error (MSE)\n",
        "print(\"Mean squared error: %.2f\" % mean_squared_error(y_test, y_pred))\n",
        "\n",
        "# O coeficiente de determinação (ou R2)\n",
        "print(\"R2 (ou coeficiente de determinação): %.2f\" % r2_score(y_test, y_pred))"
      ],
      "execution_count": 44,
      "outputs": [
        {
          "output_type": "stream",
          "name": "stdout",
          "text": [
            "Coeficientes: [ 3.82457823e-01 -2.86702234e-04  1.64623728e-06 -5.58625742e+00\n",
            " -4.73812925e+00 -8.51402501e-01]\n",
            "Mean squared error: 8.38\n",
            "R2 (ou coeficiente de determinação): 0.64\n"
          ]
        }
      ]
    },
    {
      "cell_type": "code",
      "metadata": {
        "colab": {
          "base_uri": "https://localhost:8080/",
          "height": 283
        },
        "id": "VJZ37qWk2zCV",
        "outputId": "cc29bc3c-d5b0-4286-c333-771248d823c1"
      },
      "source": [
        "#scatter plot\n",
        "plt.scatter(y_test,y_pred)\n",
        "plt.xlabel('y_test')\n",
        "plt.ylabel('y_pred')\n",
        "plt.show()"
      ],
      "execution_count": 45,
      "outputs": [
        {
          "output_type": "display_data",
          "data": {
            "image/png": "[encoded data removed]",
            "text/plain": [
              "<Figure size 432x288 with 1 Axes>"
            ]
          },
          "metadata": {
            "needs_background": "light"
          }
        }
      ]
    },
    {
      "cell_type": "markdown",
      "metadata": {
        "id": "M5_yLDM444mC"
      },
      "source": [
        "Conclusão:\n",
        "\n",
        "\n",
        "O modelo não conseguiu predizer de maneira satisfatória os dados de teste"
      ]
    },
    {
      "cell_type": "markdown",
      "metadata": {
        "id": "Q291DDAit3NO"
      },
      "source": [
        "**Aplicando a normalização**\n",
        "\n",
        "\n"
      ]
    },
    {
      "cell_type": "code",
      "metadata": {
        "colab": {
          "base_uri": "https://localhost:8080/",
          "height": 138
        },
        "id": "FwmBndHTt2i8",
        "outputId": "20f5f852-2dd0-4312-d16b-05b939499c39"
      },
      "source": [
        "carrosNorm_df = carrosNew_df.copy()\n",
        "carrosNorm_df.head(3)"
      ],
      "execution_count": 46,
      "outputs": [
        {
          "output_type": "execute_result",
          "data": {
            "text/html": [
              "<div>\n",
              "<style scoped>\n",
              "    .dataframe tbody tr th:only-of-type {\n",
              "        vertical-align: middle;\n",
              "    }\n",
              "\n",
              "    .dataframe tbody tr th {\n",
              "        vertical-align: top;\n",
              "    }\n",
              "\n",
              "    .dataframe thead th {\n",
              "        text-align: right;\n",
              "    }\n",
              "</style>\n",
              "<table border=\"1\" class=\"dataframe\">\n",
              "  <thead>\n",
              "    <tr style=\"text-align: right;\">\n",
              "      <th></th>\n",
              "      <th>Ano</th>\n",
              "      <th>PrecoVenda</th>\n",
              "      <th>PrecoAtual</th>\n",
              "      <th>KmRodado</th>\n",
              "      <th>TipoCombustivel</th>\n",
              "      <th>Trasmissao</th>\n",
              "      <th>Owner</th>\n",
              "    </tr>\n",
              "  </thead>\n",
              "  <tbody>\n",
              "    <tr>\n",
              "      <th>0</th>\n",
              "      <td>2014</td>\n",
              "      <td>3.35</td>\n",
              "      <td>5.59</td>\n",
              "      <td>27000</td>\n",
              "      <td>2</td>\n",
              "      <td>1</td>\n",
              "      <td>0</td>\n",
              "    </tr>\n",
              "    <tr>\n",
              "      <th>1</th>\n",
              "      <td>2013</td>\n",
              "      <td>4.75</td>\n",
              "      <td>9.54</td>\n",
              "      <td>43000</td>\n",
              "      <td>1</td>\n",
              "      <td>1</td>\n",
              "      <td>0</td>\n",
              "    </tr>\n",
              "    <tr>\n",
              "      <th>2</th>\n",
              "      <td>2017</td>\n",
              "      <td>7.25</td>\n",
              "      <td>9.85</td>\n",
              "      <td>6900</td>\n",
              "      <td>2</td>\n",
              "      <td>1</td>\n",
              "      <td>0</td>\n",
              "    </tr>\n",
              "  </tbody>\n",
              "</table>\n",
              "</div>"
            ],
            "text/plain": [
              "    Ano  PrecoVenda  PrecoAtual  KmRodado  TipoCombustivel  Trasmissao  Owner\n",
              "0  2014        3.35        5.59     27000                2           1      0\n",
              "1  2013        4.75        9.54     43000                1           1      0\n",
              "2  2017        7.25        9.85      6900                2           1      0"
            ]
          },
          "metadata": {},
          "execution_count": 46
        }
      ]
    },
    {
      "cell_type": "code",
      "metadata": {
        "colab": {
          "base_uri": "https://localhost:8080/"
        },
        "id": "jAMOCmkf9Lm-",
        "outputId": "a03ea200-323f-45c4-d844-0ad41c38ff36"
      },
      "source": [
        "carrosNorm_df.columns"
      ],
      "execution_count": 48,
      "outputs": [
        {
          "output_type": "execute_result",
          "data": {
            "text/plain": [
              "Index(['Ano', 'PrecoVenda', 'PrecoAtual', 'KmRodado', 'TipoCombustivel',\n",
              "       'Trasmissao', 'Owner'],\n",
              "      dtype='object')"
            ]
          },
          "metadata": {},
          "execution_count": 48
        }
      ]
    },
    {
      "cell_type": "code",
      "metadata": {
        "id": "0OJl7X2h4-VN",
        "colab": {
          "base_uri": "https://localhost:8080/",
          "height": 407
        },
        "outputId": "22b55e7c-3cef-4511-fd4e-17125aeeaeab"
      },
      "source": [
        "std_scaler = preprocessing.StandardScaler()\n",
        "\n",
        "dfAllFeatures_norm = std_scaler.fit_transform(carrosNorm_df)\n",
        "\n",
        "dfStandScaler = pd.DataFrame(dfAllFeatures_norm, columns = ['Ano', 'PrecoVenda', 'PrecoAtual', 'KmRodado', 'TipoCombustivel', 'Trasmissao', 'Owner'])\n",
        "\n",
        "dfStandScaler"
      ],
      "execution_count": 49,
      "outputs": [
        {
          "output_type": "execute_result",
          "data": {
            "text/html": [
              "<div>\n",
              "<style scoped>\n",
              "    .dataframe tbody tr th:only-of-type {\n",
              "        vertical-align: middle;\n",
              "    }\n",
              "\n",
              "    .dataframe tbody tr th {\n",
              "        vertical-align: top;\n",
              "    }\n",
              "\n",
              "    .dataframe thead th {\n",
              "        text-align: right;\n",
              "    }\n",
              "</style>\n",
              "<table border=\"1\" class=\"dataframe\">\n",
              "  <thead>\n",
              "    <tr style=\"text-align: right;\">\n",
              "      <th></th>\n",
              "      <th>Ano</th>\n",
              "      <th>PrecoVenda</th>\n",
              "      <th>PrecoAtual</th>\n",
              "      <th>KmRodado</th>\n",
              "      <th>TipoCombustivel</th>\n",
              "      <th>Trasmissao</th>\n",
              "      <th>Owner</th>\n",
              "    </tr>\n",
              "  </thead>\n",
              "  <tbody>\n",
              "    <tr>\n",
              "      <th>0</th>\n",
              "      <td>0.128897</td>\n",
              "      <td>-0.258416</td>\n",
              "      <td>-0.161750</td>\n",
              "      <td>-0.256224</td>\n",
              "      <td>0.500183</td>\n",
              "      <td>0.39148</td>\n",
              "      <td>-0.174501</td>\n",
              "    </tr>\n",
              "    <tr>\n",
              "      <th>1</th>\n",
              "      <td>-0.217514</td>\n",
              "      <td>0.017481</td>\n",
              "      <td>-0.126194</td>\n",
              "      <td>0.155911</td>\n",
              "      <td>-1.852241</td>\n",
              "      <td>0.39148</td>\n",
              "      <td>-0.174501</td>\n",
              "    </tr>\n",
              "    <tr>\n",
              "      <th>2</th>\n",
              "      <td>1.168129</td>\n",
              "      <td>0.510154</td>\n",
              "      <td>-0.123404</td>\n",
              "      <td>-0.773969</td>\n",
              "      <td>0.500183</td>\n",
              "      <td>0.39148</td>\n",
              "      <td>-0.174501</td>\n",
              "    </tr>\n",
              "    <tr>\n",
              "      <th>3</th>\n",
              "      <td>-0.910335</td>\n",
              "      <td>-0.356950</td>\n",
              "      <td>-0.174712</td>\n",
              "      <td>-0.817758</td>\n",
              "      <td>0.500183</td>\n",
              "      <td>0.39148</td>\n",
              "      <td>-0.174501</td>\n",
              "    </tr>\n",
              "    <tr>\n",
              "      <th>4</th>\n",
              "      <td>0.128897</td>\n",
              "      <td>-0.012079</td>\n",
              "      <td>-0.150228</td>\n",
              "      <td>0.141743</td>\n",
              "      <td>-1.852241</td>\n",
              "      <td>0.39148</td>\n",
              "      <td>-0.174501</td>\n",
              "    </tr>\n",
              "    <tr>\n",
              "      <th>...</th>\n",
              "      <td>...</td>\n",
              "      <td>...</td>\n",
              "      <td>...</td>\n",
              "      <td>...</td>\n",
              "      <td>...</td>\n",
              "      <td>...</td>\n",
              "      <td>...</td>\n",
              "    </tr>\n",
              "    <tr>\n",
              "      <th>296</th>\n",
              "      <td>0.821718</td>\n",
              "      <td>0.953559</td>\n",
              "      <td>-0.107651</td>\n",
              "      <td>-0.076225</td>\n",
              "      <td>-1.852241</td>\n",
              "      <td>0.39148</td>\n",
              "      <td>-0.174501</td>\n",
              "    </tr>\n",
              "    <tr>\n",
              "      <th>297</th>\n",
              "      <td>0.475308</td>\n",
              "      <td>-0.130321</td>\n",
              "      <td>-0.158959</td>\n",
              "      <td>0.593804</td>\n",
              "      <td>0.500183</td>\n",
              "      <td>0.39148</td>\n",
              "      <td>-0.174501</td>\n",
              "    </tr>\n",
              "    <tr>\n",
              "      <th>298</th>\n",
              "      <td>-1.603156</td>\n",
              "      <td>-0.258416</td>\n",
              "      <td>-0.113052</td>\n",
              "      <td>1.313340</td>\n",
              "      <td>0.500183</td>\n",
              "      <td>0.39148</td>\n",
              "      <td>-0.174501</td>\n",
              "    </tr>\n",
              "    <tr>\n",
              "      <th>299</th>\n",
              "      <td>1.168129</td>\n",
              "      <td>1.347698</td>\n",
              "      <td>-0.099550</td>\n",
              "      <td>-0.719876</td>\n",
              "      <td>-1.852241</td>\n",
              "      <td>0.39148</td>\n",
              "      <td>-0.174501</td>\n",
              "    </tr>\n",
              "    <tr>\n",
              "      <th>300</th>\n",
              "      <td>0.821718</td>\n",
              "      <td>0.125869</td>\n",
              "      <td>-0.158959</td>\n",
              "      <td>-0.810958</td>\n",
              "      <td>0.500183</td>\n",
              "      <td>0.39148</td>\n",
              "      <td>-0.174501</td>\n",
              "    </tr>\n",
              "  </tbody>\n",
              "</table>\n",
              "<p>301 rows × 7 columns</p>\n",
              "</div>"
            ],
            "text/plain": [
              "          Ano  PrecoVenda  PrecoAtual  ...  TipoCombustivel  Trasmissao     Owner\n",
              "0    0.128897   -0.258416   -0.161750  ...         0.500183     0.39148 -0.174501\n",
              "1   -0.217514    0.017481   -0.126194  ...        -1.852241     0.39148 -0.174501\n",
              "2    1.168129    0.510154   -0.123404  ...         0.500183     0.39148 -0.174501\n",
              "3   -0.910335   -0.356950   -0.174712  ...         0.500183     0.39148 -0.174501\n",
              "4    0.128897   -0.012079   -0.150228  ...        -1.852241     0.39148 -0.174501\n",
              "..        ...         ...         ...  ...              ...         ...       ...\n",
              "296  0.821718    0.953559   -0.107651  ...        -1.852241     0.39148 -0.174501\n",
              "297  0.475308   -0.130321   -0.158959  ...         0.500183     0.39148 -0.174501\n",
              "298 -1.603156   -0.258416   -0.113052  ...         0.500183     0.39148 -0.174501\n",
              "299  1.168129    1.347698   -0.099550  ...        -1.852241     0.39148 -0.174501\n",
              "300  0.821718    0.125869   -0.158959  ...         0.500183     0.39148 -0.174501\n",
              "\n",
              "[301 rows x 7 columns]"
            ]
          },
          "metadata": {},
          "execution_count": 49
        }
      ]
    },
    {
      "cell_type": "code",
      "metadata": {
        "id": "zBeVaqUz9T5K"
      },
      "source": [
        "X = dfStandScaler[['Ano', 'PrecoAtual', 'KmRodado', 'TipoCombustivel', 'Trasmissao', 'Owner']]\n",
        "y = dfStandScaler['PrecoVenda']"
      ],
      "execution_count": 50,
      "outputs": []
    },
    {
      "cell_type": "code",
      "metadata": {
        "id": "Jqb1b4fA9hOM"
      },
      "source": [
        "#utilizando o train_test_split\n",
        "X_train, X_test, y_train, y_test = train_test_split(X, y, test_size=0.05, random_state=10)"
      ],
      "execution_count": 51,
      "outputs": []
    },
    {
      "cell_type": "code",
      "metadata": {
        "id": "B2Ad4b9t9kpb"
      },
      "source": [
        "# Cria um objeto de regressão linear \n",
        "regr = LinearRegression()\n",
        "\n",
        "# Treina o modelo usando o conjunto de treino\n",
        "regr.fit(X_train, y_train)\n",
        "\n",
        "# Faz predições usando o conjunto de teste \n",
        "y_pred = regr.predict(X_test)"
      ],
      "execution_count": 52,
      "outputs": []
    },
    {
      "cell_type": "code",
      "metadata": {
        "colab": {
          "base_uri": "https://localhost:8080/"
        },
        "id": "cAPQjLw69rfF",
        "outputId": "023a16f2-1bb8-41e7-fb46-cfe8938d500d"
      },
      "source": [
        "# Coeficientes\n",
        "print(\"Coeficientes:\", regr.coef_)\n",
        "\n",
        "# Mean squared error (MSE)\n",
        "print(\"Mean squared error: %.2f\" % mean_squared_error(y_test, y_pred))\n",
        "\n",
        "# O coeficiente de determinação (ou R2)\n",
        "print(\"R2 (ou coeficiente de determinação): %.2f\" % r2_score(y_test, y_pred))"
      ],
      "execution_count": 53,
      "outputs": [
        {
          "output_type": "stream",
          "name": "stdout",
          "text": [
            "Coeficientes: [ 0.21757594 -0.00627682  0.01259481 -0.46797637 -0.31696351 -0.04152728]\n",
            "Mean squared error: 0.33\n",
            "R2 (ou coeficiente de determinação): 0.64\n"
          ]
        }
      ]
    },
    {
      "cell_type": "code",
      "metadata": {
        "colab": {
          "base_uri": "https://localhost:8080/",
          "height": 280
        },
        "id": "dcgFcOIm9uji",
        "outputId": "f013d8a5-1b7f-40d5-f1ff-8ac05c25f3ad"
      },
      "source": [
        "#scatter plot\n",
        "plt.scatter(y_test,y_pred)\n",
        "plt.xlabel('y_test')\n",
        "plt.ylabel('y_pred')\n",
        "plt.show()"
      ],
      "execution_count": 54,
      "outputs": [
        {
          "output_type": "display_data",
          "data": {
            "image/png": "[encoded data removed]",
            "text/plain": [
              "<Figure size 432x288 with 1 Axes>"
            ]
          },
          "metadata": {
            "needs_background": "light"
          }
        }
      ]
    },
    {
      "cell_type": "markdown",
      "metadata": {
        "id": "IqCLguGJ96fI"
      },
      "source": [
        "Mesmo usando a normalização, os dados preditivos não batem com os dados de teste."
      ]
    },
    {
      "cell_type": "code",
      "metadata": {
        "id": "V20OT5yV-POp"
      },
      "source": [
        ""
      ],
      "execution_count": null,
      "outputs": []
    }
  ]
}